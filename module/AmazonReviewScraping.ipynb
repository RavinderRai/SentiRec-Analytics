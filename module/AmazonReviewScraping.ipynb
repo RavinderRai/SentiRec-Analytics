{
 "cells": [
  {
   "cell_type": "code",
   "execution_count": 1,
   "id": "1f0f0893-eea3-46dc-9e7c-b9c80fc1dcc9",
   "metadata": {
    "tags": []
   },
   "outputs": [],
   "source": [
    "from requests_html import HTMLSession\n",
    "from bs4 import BeautifulSoup\n"
   ]
  },
  {
   "cell_type": "code",
   "execution_count": 2,
   "id": "8f987e25-988d-4c30-bbce-fa1515e0f0a1",
   "metadata": {
    "tags": []
   },
   "outputs": [],
   "source": [
    "url = 'https://www.amazon.ca/Sony-WF-1000XM4-Industry-Canceling-Headphones/dp/B094C4VDJZ/ref=sr_1_11?crid=1CROZAL88QEUV&keywords=sony%2Bwh-1000xm4&qid=1702519772&sprefix=sony%2Caps%2C107&sr=8-11&th=1'"
   ]
  },
  {
   "cell_type": "code",
   "execution_count": 4,
   "id": "d07150ff-4cce-4c4c-a68b-0a1a1dfb4cd4",
   "metadata": {
    "tags": []
   },
   "outputs": [
    {
     "data": {
      "text/plain": [
       "'https://www.amazon.ca/Sony-LinkBuds-Wireless-Cancelling-Headphones/product-reviews/B09YL76VSR/ref=cm_cr_getr_d_paging_btm_next_3?ie=UTF8&reviewerType=all_reviews&sortBy=recent&pageNumber=3'"
      ]
     },
     "execution_count": 4,
     "metadata": {},
     "output_type": "execute_result"
    }
   ],
   "source": [
    "'https://www.amazon.ca/Sony-LinkBuds-Wireless-Cancelling-Headphones/product-reviews/B09YL76VSR/ref=cm_cr_arp_d_viewopt_srt?ie=UTF8&reviewerType=all_reviews&sortBy=recent&pageNumber=1'\n",
    "'https://www.amazon.ca/Sony-LinkBuds-Wireless-Cancelling-Headphones/product-reviews/B09YL76VSR/ref=cm_cr_getr_d_paging_btm_next_1?ie=UTF8&reviewerType=all_reviews&sortBy=recent&pageNumber=1'\n",
    "\n",
    "'https://www.amazon.ca/Sony-LinkBuds-Wireless-Cancelling-Headphones/product-reviews/B09YL76VSR/ref=cm_cr_getr_d_paging_btm_next_2?ie=UTF8&reviewerType=all_reviews&sortBy=recent&pageNumber=2'\n",
    "'https://www.amazon.ca/Sony-LinkBuds-Wireless-Cancelling-Headphones/product-reviews/B09YL76VSR/ref=cm_cr_getr_d_paging_btm_next_3?ie=UTF8&reviewerType=all_reviews&sortBy=recent&pageNumber=3'"
   ]
  },
  {
   "cell_type": "code",
   "execution_count": 7,
   "id": "3760d2af-4dbc-4116-9f33-e0daa8892eea",
   "metadata": {},
   "outputs": [
    {
     "data": {
      "text/plain": [
       "\"    \\nif __name__ = '__main__':\\n    amz = Reviews('B09YL76VSR')\\n    reviews = amz.pagination(1)\\n    print(parse(reviews))\\n\""
      ]
     },
     "execution_count": 7,
     "metadata": {},
     "output_type": "execute_result"
    }
   ],
   "source": [
    "class Reviews:\n",
    "    def __init__(self, asin) -> None:\n",
    "        self.asin = asin\n",
    "        self.session = HTMLSession()\n",
    "        self.headers = {'User-Agent': 'Mozilla/5.0 (Windows NT 10.0; Win64; x64) AppleWebKit/537.36 (KHTML, like Gecko) Chrome/119.0.0.0 Safari/537.36 OPR/105.0.0.0'}\n",
    "        self.url = f'https://www.amazon.ca/Sony-LinkBuds-Wireless-Cancelling-Headphones/product-reviews/{self.asin}/ref=cm_cr_getr_d_paging_btm_next_1?ie=UTF8&reviewerType=all_reviews&sortBy=recent&pageNumber=1'\n",
    "\n",
    "    def pagination(self, page):\n",
    "        r = self.session.get(self.url + str(page))\n",
    "        if not r.html.find('div[data-hook=review]'):\n",
    "            return False\n",
    "        else:\n",
    "            return r.html.find('div[data-hook=review]')\n",
    "    \n",
    "    def parse(self, reviews):\n",
    "        total = []\n",
    "        for review in reviews:\n",
    "            title = review.find('a[data-hook=review-title]', first=True).text\n",
    "            rating = review.find('i[data-hook=review-star-rating] span', first=True).text\n",
    "            body = review.find('span[data-hook=review-body] span', first=True).text.replace('\\n').strip()\n",
    "            \n",
    "            data = {\n",
    "                'title': title,\n",
    "                'rating': rating,\n",
    "                'body': body\n",
    "            }\n",
    "            total.append(data)\n",
    "        return total\n",
    "        \n",
    "\"\"\"    \n",
    "if __name__ = '__main__':\n",
    "    amz = Reviews('B09YL76VSR')\n",
    "    reviews = amz.pagination(1)\n",
    "    print(parse(reviews))\n",
    "\"\"\""
   ]
  },
  {
   "cell_type": "code",
   "execution_count": 12,
   "id": "c89485a0-ff22-42e3-92b4-14ceb8b016bb",
   "metadata": {
    "tags": []
   },
   "outputs": [],
   "source": [
    "asin = 'B09YL76VSR'\n",
    "session = HTMLSession()\n",
    "headers = {'User-Agent': 'Mozilla/5.0 (Windows NT 10.0; Win64; x64) AppleWebKit/537.36 (KHTML, like Gecko) Chrome/119.0.0.0 Safari/537.36 OPR/105.0.0.0'}\n",
    "url = f'https://www.amazon.ca/Sony-LinkBuds-Wireless-Cancelling-Headphones/product-reviews/{asin}/ref=cm_cr_getr_d_paging_btm_next_1?ie=UTF8&reviewerType=all_reviews&sortBy=recent&pageNumber='\n"
   ]
  },
  {
   "cell_type": "code",
   "execution_count": null,
   "id": "c51eda1b-54a7-4405-b7f7-6eab54f3de34",
   "metadata": {},
   "outputs": [],
   "source": []
  },
  {
   "cell_type": "code",
   "execution_count": 48,
   "id": "287dd07c-7f82-4656-b282-278c3f6727cc",
   "metadata": {
    "tags": []
   },
   "outputs": [],
   "source": [
    "#'https://www.amazon.ca/Sony-WF-1000XM4-Industry-Canceling-Headphones/product-reviews/B094C4VDJZ/ref=cm_cr_getr_d_paging_btm_next_{}?ie=UTF8&reviewerType=all_reviews&sortBy=recent&pageNumber={}'.format(str(page), str(page))"
   ]
  },
  {
   "cell_type": "code",
   "execution_count": 46,
   "id": "172af24f-36d6-45ac-9d23-ee247f70dc05",
   "metadata": {
    "tags": []
   },
   "outputs": [],
   "source": [
    "import requests\n",
    "from bs4 import BeautifulSoup\n",
    "\n",
    "def pagination(page):\n",
    "    headers = {'User-Agent': 'Mozilla/5.0 (Windows NT 10.0; Win64; x64) AppleWebKit/537.36 (KHTML, like Gecko) Chrome/119.0.0.0 Safari/537.36 OPR/105.0.0.0'}\n",
    "    url = 'https://www.amazon.ca/Sony-WF-1000XM4-Industry-Canceling-Headphones/product-reviews/B094C4VDJZ/ref=cm_cr_getr_d_paging_btm_next_{}?ie=UTF8&reviewerType=all_reviews&sortBy=recent&pageNumber={}'.format(str(page), str(page))\n",
    "    print(url)\n",
    "    response = requests.get(url, headers=headers)\n",
    "\n",
    "    if response.status_code != 200:\n",
    "        print(f\"Failed to retrieve page {page}. Status code: {response.status_code}\")\n",
    "        return False\n",
    "\n",
    "    soup = BeautifulSoup(response.content, 'html.parser')\n",
    "\n",
    "    # Use BeautifulSoup to find div elements with data-hook=\"review\"\n",
    "    review_divs = soup.find_all('div', {'data-hook': 'review'})\n",
    "\n",
    "    if not review_divs:\n",
    "        return False\n",
    "    else:\n",
    "        return review_divs"
   ]
  },
  {
   "cell_type": "code",
   "execution_count": 52,
   "id": "f7a4a7e3-2a63-4be7-8331-8d58f1e162dc",
   "metadata": {
    "tags": []
   },
   "outputs": [
    {
     "name": "stdout",
     "output_type": "stream",
     "text": [
      "https://www.amazon.ca/Sony-WF-1000XM4-Industry-Canceling-Headphones/product-reviews/B094C4VDJZ/ref=cm_cr_getr_d_paging_btm_next_2?ie=UTF8&reviewerType=all_reviews&sortBy=recent&pageNumber=2\n"
     ]
    }
   ],
   "source": [
    "page = 2\n",
    "headers = {'User-Agent': 'Mozilla/5.0 (Windows NT 10.0; Win64; x64) AppleWebKit/537.36 (KHTML, like Gecko) Chrome/119.0.0.0 Safari/537.36 OPR/105.0.0.0'}\n",
    "url = 'https://www.amazon.ca/Sony-WF-1000XM4-Industry-Canceling-Headphones/product-reviews/B094C4VDJZ/ref=cm_cr_getr_d_paging_btm_next_{}?ie=UTF8&reviewerType=all_reviews&sortBy=recent&pageNumber={}'.format(str(page), str(page))\n",
    "print(url)\n",
    "response = requests.get(url, headers=headers)\n",
    "\n",
    "if response.status_code != 200:\n",
    "    print(f\"Failed to retrieve page {page}. Status code: {response.status_code}\")"
   ]
  },
  {
   "cell_type": "code",
   "execution_count": 53,
   "id": "c9ae4d7f-1353-4386-bf14-8871716d6e94",
   "metadata": {
    "tags": []
   },
   "outputs": [],
   "source": [
    "soup = BeautifulSoup(response.content, 'html.parser')"
   ]
  },
  {
   "cell_type": "code",
   "execution_count": 74,
   "id": "360d1423-6648-4659-866a-9dc5b84ca68c",
   "metadata": {
    "tags": []
   },
   "outputs": [
    {
     "data": {
      "text/plain": [
       "[<div class=\"a-container a-padding-double-large\" style=\"min-width:350px;padding:44px 0 !important\">\n",
       " <div class=\"a-row a-spacing-double-large\" style=\"width: 350px; margin: 0 auto\">\n",
       " <div class=\"a-row a-spacing-medium a-text-center\"><i class=\"a-icon a-logo\"></i></div>\n",
       " <div class=\"a-box a-alert a-alert-info a-spacing-base\">\n",
       " <div class=\"a-box-inner\">\n",
       " <i class=\"a-icon a-icon-alert\"></i>\n",
       " <h4>Enter the characters you see below</h4>\n",
       " <p class=\"a-last\">Sorry, we just need to make sure you're not a robot. For best results, please make sure your browser is accepting cookies.</p>\n",
       " </div>\n",
       " </div>\n",
       " <div class=\"a-section\">\n",
       " <div class=\"a-box a-color-offset-background\">\n",
       " <div class=\"a-box-inner a-padding-extra-large\">\n",
       " <form action=\"/errors/validateCaptcha\" method=\"get\" name=\"\">\n",
       " <input name=\"amzn\" type=\"hidden\" value=\"7dJqshijvi1+siHGGQ8ItA==\"/><input name=\"amzn-r\" type=\"hidden\" value=\"/Sony-WF-1000XM4-Industry-Canceling-Headphones/product-reviews/B094C4VDJZ/ref=cm_cr_getr_d_paging_btm_next_2?ie=UTF8&amp;reviewerType=all_reviews&amp;sortBy=recent&amp;pageNumber=2\"/>\n",
       " <div class=\"a-row a-spacing-large\">\n",
       " <div class=\"a-box\">\n",
       " <div class=\"a-box-inner\">\n",
       " <h4>Type the characters you see in this image:</h4>\n",
       " <div class=\"a-row a-text-center\">\n",
       " <img src=\"https://images-na.ssl-images-amazon.com/captcha/xzqdsmvh/Captcha_yxzqckreup.jpg\"/>\n",
       " </div>\n",
       " <div class=\"a-row a-spacing-base\">\n",
       " <div class=\"a-row\">\n",
       " <div class=\"a-column a-span6\">\n",
       " </div>\n",
       " <div class=\"a-column a-span6 a-span-last a-text-right\">\n",
       " <a onclick=\"window.location.reload()\">Try different image</a>\n",
       " </div>\n",
       " </div>\n",
       " <input autocapitalize=\"off\" autocomplete=\"off\" autocorrect=\"off\" class=\"a-span12\" id=\"captchacharacters\" name=\"field-keywords\" placeholder=\"Type characters\" spellcheck=\"false\" type=\"text\"/>\n",
       " </div>\n",
       " </div>\n",
       " </div>\n",
       " </div>\n",
       " <div class=\"a-section a-spacing-extra-large\">\n",
       " <div class=\"a-row\">\n",
       " <span class=\"a-button a-button-primary a-span12\">\n",
       " <span class=\"a-button-inner\">\n",
       " <button class=\"a-button-text\" type=\"submit\">Continue shopping</button>\n",
       " </span>\n",
       " </span>\n",
       " </div>\n",
       " </div>\n",
       " </form>\n",
       " </div>\n",
       " </div>\n",
       " </div>\n",
       " </div>\n",
       " <div class=\"a-divider a-divider-section\"><div class=\"a-divider-inner\"></div></div>\n",
       " <div class=\"a-text-center a-spacing-small a-size-mini\">\n",
       " <a href=\"https://www.amazon.ca/gp/help/customer/display.html/ref=footer_cou?ie=UTF8&amp;nodeId=1040616\">Conditions of Use &amp; Sale</a>\n",
       " <span class=\"a-letter-space\"></span>\n",
       " <span class=\"a-letter-space\"></span>\n",
       " <span class=\"a-letter-space\"></span>\n",
       " <span class=\"a-letter-space\"></span>\n",
       " <a href=\"https://www.amazon.ca/gp/help/customer/display.html/ref=footer_privacy?ie=UTF8&amp;nodeId=502584\">Privacy Notice</a>\n",
       " </div>\n",
       " <div class=\"a-text-center a-size-mini a-color-secondary\">\n",
       "           © 1996-2015, Amazon.com, Inc. or its affiliates\n",
       "           <script>\n",
       "            if (true === true) {\n",
       "              document.write('<img src=\"https://fls-na.amaz'+'on.ca/'+'1/oc-csi/1/OP/requestId=B23WGCTBXMNQ8MSZCD93&js=1\" />');\n",
       "            };\n",
       "           </script>\n",
       " <noscript>\n",
       " <img src=\"https://fls-na.amazon.ca/1/oc-csi/1/OP/requestId=B23WGCTBXMNQ8MSZCD93&amp;js=0\">\n",
       " </img></noscript>\n",
       " </div>\n",
       " </div>,\n",
       " <div class=\"a-row a-spacing-double-large\" style=\"width: 350px; margin: 0 auto\">\n",
       " <div class=\"a-row a-spacing-medium a-text-center\"><i class=\"a-icon a-logo\"></i></div>\n",
       " <div class=\"a-box a-alert a-alert-info a-spacing-base\">\n",
       " <div class=\"a-box-inner\">\n",
       " <i class=\"a-icon a-icon-alert\"></i>\n",
       " <h4>Enter the characters you see below</h4>\n",
       " <p class=\"a-last\">Sorry, we just need to make sure you're not a robot. For best results, please make sure your browser is accepting cookies.</p>\n",
       " </div>\n",
       " </div>\n",
       " <div class=\"a-section\">\n",
       " <div class=\"a-box a-color-offset-background\">\n",
       " <div class=\"a-box-inner a-padding-extra-large\">\n",
       " <form action=\"/errors/validateCaptcha\" method=\"get\" name=\"\">\n",
       " <input name=\"amzn\" type=\"hidden\" value=\"7dJqshijvi1+siHGGQ8ItA==\"/><input name=\"amzn-r\" type=\"hidden\" value=\"/Sony-WF-1000XM4-Industry-Canceling-Headphones/product-reviews/B094C4VDJZ/ref=cm_cr_getr_d_paging_btm_next_2?ie=UTF8&amp;reviewerType=all_reviews&amp;sortBy=recent&amp;pageNumber=2\"/>\n",
       " <div class=\"a-row a-spacing-large\">\n",
       " <div class=\"a-box\">\n",
       " <div class=\"a-box-inner\">\n",
       " <h4>Type the characters you see in this image:</h4>\n",
       " <div class=\"a-row a-text-center\">\n",
       " <img src=\"https://images-na.ssl-images-amazon.com/captcha/xzqdsmvh/Captcha_yxzqckreup.jpg\"/>\n",
       " </div>\n",
       " <div class=\"a-row a-spacing-base\">\n",
       " <div class=\"a-row\">\n",
       " <div class=\"a-column a-span6\">\n",
       " </div>\n",
       " <div class=\"a-column a-span6 a-span-last a-text-right\">\n",
       " <a onclick=\"window.location.reload()\">Try different image</a>\n",
       " </div>\n",
       " </div>\n",
       " <input autocapitalize=\"off\" autocomplete=\"off\" autocorrect=\"off\" class=\"a-span12\" id=\"captchacharacters\" name=\"field-keywords\" placeholder=\"Type characters\" spellcheck=\"false\" type=\"text\"/>\n",
       " </div>\n",
       " </div>\n",
       " </div>\n",
       " </div>\n",
       " <div class=\"a-section a-spacing-extra-large\">\n",
       " <div class=\"a-row\">\n",
       " <span class=\"a-button a-button-primary a-span12\">\n",
       " <span class=\"a-button-inner\">\n",
       " <button class=\"a-button-text\" type=\"submit\">Continue shopping</button>\n",
       " </span>\n",
       " </span>\n",
       " </div>\n",
       " </div>\n",
       " </form>\n",
       " </div>\n",
       " </div>\n",
       " </div>\n",
       " </div>,\n",
       " <div class=\"a-row a-spacing-medium a-text-center\"><i class=\"a-icon a-logo\"></i></div>,\n",
       " <div class=\"a-box a-alert a-alert-info a-spacing-base\">\n",
       " <div class=\"a-box-inner\">\n",
       " <i class=\"a-icon a-icon-alert\"></i>\n",
       " <h4>Enter the characters you see below</h4>\n",
       " <p class=\"a-last\">Sorry, we just need to make sure you're not a robot. For best results, please make sure your browser is accepting cookies.</p>\n",
       " </div>\n",
       " </div>,\n",
       " <div class=\"a-box-inner\">\n",
       " <i class=\"a-icon a-icon-alert\"></i>\n",
       " <h4>Enter the characters you see below</h4>\n",
       " <p class=\"a-last\">Sorry, we just need to make sure you're not a robot. For best results, please make sure your browser is accepting cookies.</p>\n",
       " </div>,\n",
       " <div class=\"a-section\">\n",
       " <div class=\"a-box a-color-offset-background\">\n",
       " <div class=\"a-box-inner a-padding-extra-large\">\n",
       " <form action=\"/errors/validateCaptcha\" method=\"get\" name=\"\">\n",
       " <input name=\"amzn\" type=\"hidden\" value=\"7dJqshijvi1+siHGGQ8ItA==\"/><input name=\"amzn-r\" type=\"hidden\" value=\"/Sony-WF-1000XM4-Industry-Canceling-Headphones/product-reviews/B094C4VDJZ/ref=cm_cr_getr_d_paging_btm_next_2?ie=UTF8&amp;reviewerType=all_reviews&amp;sortBy=recent&amp;pageNumber=2\"/>\n",
       " <div class=\"a-row a-spacing-large\">\n",
       " <div class=\"a-box\">\n",
       " <div class=\"a-box-inner\">\n",
       " <h4>Type the characters you see in this image:</h4>\n",
       " <div class=\"a-row a-text-center\">\n",
       " <img src=\"https://images-na.ssl-images-amazon.com/captcha/xzqdsmvh/Captcha_yxzqckreup.jpg\"/>\n",
       " </div>\n",
       " <div class=\"a-row a-spacing-base\">\n",
       " <div class=\"a-row\">\n",
       " <div class=\"a-column a-span6\">\n",
       " </div>\n",
       " <div class=\"a-column a-span6 a-span-last a-text-right\">\n",
       " <a onclick=\"window.location.reload()\">Try different image</a>\n",
       " </div>\n",
       " </div>\n",
       " <input autocapitalize=\"off\" autocomplete=\"off\" autocorrect=\"off\" class=\"a-span12\" id=\"captchacharacters\" name=\"field-keywords\" placeholder=\"Type characters\" spellcheck=\"false\" type=\"text\"/>\n",
       " </div>\n",
       " </div>\n",
       " </div>\n",
       " </div>\n",
       " <div class=\"a-section a-spacing-extra-large\">\n",
       " <div class=\"a-row\">\n",
       " <span class=\"a-button a-button-primary a-span12\">\n",
       " <span class=\"a-button-inner\">\n",
       " <button class=\"a-button-text\" type=\"submit\">Continue shopping</button>\n",
       " </span>\n",
       " </span>\n",
       " </div>\n",
       " </div>\n",
       " </form>\n",
       " </div>\n",
       " </div>\n",
       " </div>,\n",
       " <div class=\"a-box a-color-offset-background\">\n",
       " <div class=\"a-box-inner a-padding-extra-large\">\n",
       " <form action=\"/errors/validateCaptcha\" method=\"get\" name=\"\">\n",
       " <input name=\"amzn\" type=\"hidden\" value=\"7dJqshijvi1+siHGGQ8ItA==\"/><input name=\"amzn-r\" type=\"hidden\" value=\"/Sony-WF-1000XM4-Industry-Canceling-Headphones/product-reviews/B094C4VDJZ/ref=cm_cr_getr_d_paging_btm_next_2?ie=UTF8&amp;reviewerType=all_reviews&amp;sortBy=recent&amp;pageNumber=2\"/>\n",
       " <div class=\"a-row a-spacing-large\">\n",
       " <div class=\"a-box\">\n",
       " <div class=\"a-box-inner\">\n",
       " <h4>Type the characters you see in this image:</h4>\n",
       " <div class=\"a-row a-text-center\">\n",
       " <img src=\"https://images-na.ssl-images-amazon.com/captcha/xzqdsmvh/Captcha_yxzqckreup.jpg\"/>\n",
       " </div>\n",
       " <div class=\"a-row a-spacing-base\">\n",
       " <div class=\"a-row\">\n",
       " <div class=\"a-column a-span6\">\n",
       " </div>\n",
       " <div class=\"a-column a-span6 a-span-last a-text-right\">\n",
       " <a onclick=\"window.location.reload()\">Try different image</a>\n",
       " </div>\n",
       " </div>\n",
       " <input autocapitalize=\"off\" autocomplete=\"off\" autocorrect=\"off\" class=\"a-span12\" id=\"captchacharacters\" name=\"field-keywords\" placeholder=\"Type characters\" spellcheck=\"false\" type=\"text\"/>\n",
       " </div>\n",
       " </div>\n",
       " </div>\n",
       " </div>\n",
       " <div class=\"a-section a-spacing-extra-large\">\n",
       " <div class=\"a-row\">\n",
       " <span class=\"a-button a-button-primary a-span12\">\n",
       " <span class=\"a-button-inner\">\n",
       " <button class=\"a-button-text\" type=\"submit\">Continue shopping</button>\n",
       " </span>\n",
       " </span>\n",
       " </div>\n",
       " </div>\n",
       " </form>\n",
       " </div>\n",
       " </div>,\n",
       " <div class=\"a-box-inner a-padding-extra-large\">\n",
       " <form action=\"/errors/validateCaptcha\" method=\"get\" name=\"\">\n",
       " <input name=\"amzn\" type=\"hidden\" value=\"7dJqshijvi1+siHGGQ8ItA==\"/><input name=\"amzn-r\" type=\"hidden\" value=\"/Sony-WF-1000XM4-Industry-Canceling-Headphones/product-reviews/B094C4VDJZ/ref=cm_cr_getr_d_paging_btm_next_2?ie=UTF8&amp;reviewerType=all_reviews&amp;sortBy=recent&amp;pageNumber=2\"/>\n",
       " <div class=\"a-row a-spacing-large\">\n",
       " <div class=\"a-box\">\n",
       " <div class=\"a-box-inner\">\n",
       " <h4>Type the characters you see in this image:</h4>\n",
       " <div class=\"a-row a-text-center\">\n",
       " <img src=\"https://images-na.ssl-images-amazon.com/captcha/xzqdsmvh/Captcha_yxzqckreup.jpg\"/>\n",
       " </div>\n",
       " <div class=\"a-row a-spacing-base\">\n",
       " <div class=\"a-row\">\n",
       " <div class=\"a-column a-span6\">\n",
       " </div>\n",
       " <div class=\"a-column a-span6 a-span-last a-text-right\">\n",
       " <a onclick=\"window.location.reload()\">Try different image</a>\n",
       " </div>\n",
       " </div>\n",
       " <input autocapitalize=\"off\" autocomplete=\"off\" autocorrect=\"off\" class=\"a-span12\" id=\"captchacharacters\" name=\"field-keywords\" placeholder=\"Type characters\" spellcheck=\"false\" type=\"text\"/>\n",
       " </div>\n",
       " </div>\n",
       " </div>\n",
       " </div>\n",
       " <div class=\"a-section a-spacing-extra-large\">\n",
       " <div class=\"a-row\">\n",
       " <span class=\"a-button a-button-primary a-span12\">\n",
       " <span class=\"a-button-inner\">\n",
       " <button class=\"a-button-text\" type=\"submit\">Continue shopping</button>\n",
       " </span>\n",
       " </span>\n",
       " </div>\n",
       " </div>\n",
       " </form>\n",
       " </div>,\n",
       " <div class=\"a-row a-spacing-large\">\n",
       " <div class=\"a-box\">\n",
       " <div class=\"a-box-inner\">\n",
       " <h4>Type the characters you see in this image:</h4>\n",
       " <div class=\"a-row a-text-center\">\n",
       " <img src=\"https://images-na.ssl-images-amazon.com/captcha/xzqdsmvh/Captcha_yxzqckreup.jpg\"/>\n",
       " </div>\n",
       " <div class=\"a-row a-spacing-base\">\n",
       " <div class=\"a-row\">\n",
       " <div class=\"a-column a-span6\">\n",
       " </div>\n",
       " <div class=\"a-column a-span6 a-span-last a-text-right\">\n",
       " <a onclick=\"window.location.reload()\">Try different image</a>\n",
       " </div>\n",
       " </div>\n",
       " <input autocapitalize=\"off\" autocomplete=\"off\" autocorrect=\"off\" class=\"a-span12\" id=\"captchacharacters\" name=\"field-keywords\" placeholder=\"Type characters\" spellcheck=\"false\" type=\"text\"/>\n",
       " </div>\n",
       " </div>\n",
       " </div>\n",
       " </div>,\n",
       " <div class=\"a-box\">\n",
       " <div class=\"a-box-inner\">\n",
       " <h4>Type the characters you see in this image:</h4>\n",
       " <div class=\"a-row a-text-center\">\n",
       " <img src=\"https://images-na.ssl-images-amazon.com/captcha/xzqdsmvh/Captcha_yxzqckreup.jpg\"/>\n",
       " </div>\n",
       " <div class=\"a-row a-spacing-base\">\n",
       " <div class=\"a-row\">\n",
       " <div class=\"a-column a-span6\">\n",
       " </div>\n",
       " <div class=\"a-column a-span6 a-span-last a-text-right\">\n",
       " <a onclick=\"window.location.reload()\">Try different image</a>\n",
       " </div>\n",
       " </div>\n",
       " <input autocapitalize=\"off\" autocomplete=\"off\" autocorrect=\"off\" class=\"a-span12\" id=\"captchacharacters\" name=\"field-keywords\" placeholder=\"Type characters\" spellcheck=\"false\" type=\"text\"/>\n",
       " </div>\n",
       " </div>\n",
       " </div>,\n",
       " <div class=\"a-box-inner\">\n",
       " <h4>Type the characters you see in this image:</h4>\n",
       " <div class=\"a-row a-text-center\">\n",
       " <img src=\"https://images-na.ssl-images-amazon.com/captcha/xzqdsmvh/Captcha_yxzqckreup.jpg\"/>\n",
       " </div>\n",
       " <div class=\"a-row a-spacing-base\">\n",
       " <div class=\"a-row\">\n",
       " <div class=\"a-column a-span6\">\n",
       " </div>\n",
       " <div class=\"a-column a-span6 a-span-last a-text-right\">\n",
       " <a onclick=\"window.location.reload()\">Try different image</a>\n",
       " </div>\n",
       " </div>\n",
       " <input autocapitalize=\"off\" autocomplete=\"off\" autocorrect=\"off\" class=\"a-span12\" id=\"captchacharacters\" name=\"field-keywords\" placeholder=\"Type characters\" spellcheck=\"false\" type=\"text\"/>\n",
       " </div>\n",
       " </div>,\n",
       " <div class=\"a-row a-text-center\">\n",
       " <img src=\"https://images-na.ssl-images-amazon.com/captcha/xzqdsmvh/Captcha_yxzqckreup.jpg\"/>\n",
       " </div>,\n",
       " <div class=\"a-row a-spacing-base\">\n",
       " <div class=\"a-row\">\n",
       " <div class=\"a-column a-span6\">\n",
       " </div>\n",
       " <div class=\"a-column a-span6 a-span-last a-text-right\">\n",
       " <a onclick=\"window.location.reload()\">Try different image</a>\n",
       " </div>\n",
       " </div>\n",
       " <input autocapitalize=\"off\" autocomplete=\"off\" autocorrect=\"off\" class=\"a-span12\" id=\"captchacharacters\" name=\"field-keywords\" placeholder=\"Type characters\" spellcheck=\"false\" type=\"text\"/>\n",
       " </div>,\n",
       " <div class=\"a-row\">\n",
       " <div class=\"a-column a-span6\">\n",
       " </div>\n",
       " <div class=\"a-column a-span6 a-span-last a-text-right\">\n",
       " <a onclick=\"window.location.reload()\">Try different image</a>\n",
       " </div>\n",
       " </div>,\n",
       " <div class=\"a-column a-span6\">\n",
       " </div>,\n",
       " <div class=\"a-column a-span6 a-span-last a-text-right\">\n",
       " <a onclick=\"window.location.reload()\">Try different image</a>\n",
       " </div>,\n",
       " <div class=\"a-section a-spacing-extra-large\">\n",
       " <div class=\"a-row\">\n",
       " <span class=\"a-button a-button-primary a-span12\">\n",
       " <span class=\"a-button-inner\">\n",
       " <button class=\"a-button-text\" type=\"submit\">Continue shopping</button>\n",
       " </span>\n",
       " </span>\n",
       " </div>\n",
       " </div>,\n",
       " <div class=\"a-row\">\n",
       " <span class=\"a-button a-button-primary a-span12\">\n",
       " <span class=\"a-button-inner\">\n",
       " <button class=\"a-button-text\" type=\"submit\">Continue shopping</button>\n",
       " </span>\n",
       " </span>\n",
       " </div>,\n",
       " <div class=\"a-divider a-divider-section\"><div class=\"a-divider-inner\"></div></div>,\n",
       " <div class=\"a-divider-inner\"></div>,\n",
       " <div class=\"a-text-center a-spacing-small a-size-mini\">\n",
       " <a href=\"https://www.amazon.ca/gp/help/customer/display.html/ref=footer_cou?ie=UTF8&amp;nodeId=1040616\">Conditions of Use &amp; Sale</a>\n",
       " <span class=\"a-letter-space\"></span>\n",
       " <span class=\"a-letter-space\"></span>\n",
       " <span class=\"a-letter-space\"></span>\n",
       " <span class=\"a-letter-space\"></span>\n",
       " <a href=\"https://www.amazon.ca/gp/help/customer/display.html/ref=footer_privacy?ie=UTF8&amp;nodeId=502584\">Privacy Notice</a>\n",
       " </div>,\n",
       " <div class=\"a-text-center a-size-mini a-color-secondary\">\n",
       "           © 1996-2015, Amazon.com, Inc. or its affiliates\n",
       "           <script>\n",
       "            if (true === true) {\n",
       "              document.write('<img src=\"https://fls-na.amaz'+'on.ca/'+'1/oc-csi/1/OP/requestId=B23WGCTBXMNQ8MSZCD93&js=1\" />');\n",
       "            };\n",
       "           </script>\n",
       " <noscript>\n",
       " <img src=\"https://fls-na.amazon.ca/1/oc-csi/1/OP/requestId=B23WGCTBXMNQ8MSZCD93&amp;js=0\">\n",
       " </img></noscript>\n",
       " </div>]"
      ]
     },
     "execution_count": 74,
     "metadata": {},
     "output_type": "execute_result"
    }
   ],
   "source": [
    "soup.select('div')"
   ]
  },
  {
   "cell_type": "code",
   "execution_count": null,
   "id": "4dedc6a9-4c5f-42f8-8f26-f432a13ec7c8",
   "metadata": {},
   "outputs": [],
   "source": [
    "# Use BeautifulSoup to find div elements with data-hook=\"review\"\n",
    "review_divs = soup.find_all('div', {'data-hook': 'review'})\n",
    "\n",
    "if not review_divs:\n",
    "    return False\n",
    "else:\n",
    "    return review_divs"
   ]
  },
  {
   "cell_type": "code",
   "execution_count": 49,
   "id": "1a9bdb5c-dea5-45f2-86a6-280f70964048",
   "metadata": {
    "tags": []
   },
   "outputs": [],
   "source": [
    "#ex_page = pagination(3)"
   ]
  },
  {
   "cell_type": "code",
   "execution_count": 45,
   "id": "75cae18f-4846-413b-855b-ce4c47f062ac",
   "metadata": {
    "tags": []
   },
   "outputs": [
    {
     "data": {
      "text/plain": [
       "False"
      ]
     },
     "execution_count": 45,
     "metadata": {},
     "output_type": "execute_result"
    }
   ],
   "source": [
    "ex_page"
   ]
  },
  {
   "cell_type": "code",
   "execution_count": 44,
   "id": "10679776-6046-48ad-8228-ea33f84f01ec",
   "metadata": {
    "tags": []
   },
   "outputs": [
    {
     "ename": "TypeError",
     "evalue": "'bool' object is not subscriptable",
     "output_type": "error",
     "traceback": [
      "\u001b[1;31m---------------------------------------------------------------------------\u001b[0m",
      "\u001b[1;31mTypeError\u001b[0m                                 Traceback (most recent call last)",
      "Cell \u001b[1;32mIn[44], line 1\u001b[0m\n\u001b[1;32m----> 1\u001b[0m \u001b[43mex_page\u001b[49m\u001b[43m[\u001b[49m\u001b[38;5;241;43m0\u001b[39;49m\u001b[43m]\u001b[49m\u001b[38;5;241m.\u001b[39mfind(\u001b[38;5;124m'\u001b[39m\u001b[38;5;124mi\u001b[39m\u001b[38;5;124m'\u001b[39m, {\u001b[38;5;124m'\u001b[39m\u001b[38;5;124mdata-hook\u001b[39m\u001b[38;5;124m'\u001b[39m: \u001b[38;5;124m'\u001b[39m\u001b[38;5;124mreview-star-rating\u001b[39m\u001b[38;5;124m'\u001b[39m})\u001b[38;5;241m.\u001b[39mtext\n",
      "\u001b[1;31mTypeError\u001b[0m: 'bool' object is not subscriptable"
     ]
    }
   ],
   "source": [
    "ex_page[0].find('i', {'data-hook': 'review-star-rating'}).text"
   ]
  },
  {
   "cell_type": "code",
   "execution_count": 43,
   "id": "477f74bc-21f5-4549-85f7-f59190512870",
   "metadata": {
    "tags": []
   },
   "outputs": [
    {
     "ename": "TypeError",
     "evalue": "'bool' object is not subscriptable",
     "output_type": "error",
     "traceback": [
      "\u001b[1;31m---------------------------------------------------------------------------\u001b[0m",
      "\u001b[1;31mTypeError\u001b[0m                                 Traceback (most recent call last)",
      "Cell \u001b[1;32mIn[43], line 1\u001b[0m\n\u001b[1;32m----> 1\u001b[0m elements \u001b[38;5;241m=\u001b[39m \u001b[43mex_page\u001b[49m\u001b[43m[\u001b[49m\u001b[38;5;241;43m1\u001b[39;49m\u001b[43m]\u001b[49m\u001b[38;5;241m.\u001b[39mfind_all(attrs\u001b[38;5;241m=\u001b[39m{\u001b[38;5;124m\"\u001b[39m\u001b[38;5;124mdata-hook\u001b[39m\u001b[38;5;124m\"\u001b[39m: \u001b[38;5;28;01mTrue\u001b[39;00m})\n\u001b[0;32m      2\u001b[0m unique_data_hooks \u001b[38;5;241m=\u001b[39m \u001b[38;5;28mset\u001b[39m(element\u001b[38;5;241m.\u001b[39mget(\u001b[38;5;124m\"\u001b[39m\u001b[38;5;124mdata-hook\u001b[39m\u001b[38;5;124m\"\u001b[39m) \u001b[38;5;28;01mfor\u001b[39;00m element \u001b[38;5;129;01min\u001b[39;00m elements)\n\u001b[0;32m      3\u001b[0m unique_data_hooks\n",
      "\u001b[1;31mTypeError\u001b[0m: 'bool' object is not subscriptable"
     ]
    }
   ],
   "source": [
    "elements = ex_page[1].find_all(attrs={\"data-hook\": True})\n",
    "unique_data_hooks = set(element.get(\"data-hook\") for element in elements)\n",
    "unique_data_hooks"
   ]
  },
  {
   "cell_type": "code",
   "execution_count": 29,
   "id": "1e61583f-0172-4edd-a10f-b2bd9f74fa67",
   "metadata": {
    "tags": []
   },
   "outputs": [
    {
     "data": {
      "text/plain": [
       "{'avp-badge-linkless',\n",
       " 'cmps-review-image-tile',\n",
       " 'cmps-review-star-rating',\n",
       " 'cr-translate-this-review-link',\n",
       " 'expand-collapse-read-more-less',\n",
       " 'format-strip-linkless',\n",
       " 'genome-widget',\n",
       " 'helpful-vote-statement',\n",
       " 'image-popover',\n",
       " 'review-body',\n",
       " 'review-collapsed',\n",
       " 'review-comments',\n",
       " 'review-date',\n",
       " 'review-title',\n",
       " 'review-voting-widget'}"
      ]
     },
     "execution_count": 29,
     "metadata": {},
     "output_type": "execute_result"
    }
   ],
   "source": [
    "elements = ex_page[2].find_all(attrs={\"data-hook\": True})\n",
    "unique_data_hooks = set(element.get(\"data-hook\") for element in elements)\n",
    "unique_data_hooks"
   ]
  },
  {
   "cell_type": "code",
   "execution_count": 22,
   "id": "456d0267-0ce6-496c-9c1c-6643516b9c7e",
   "metadata": {
    "tags": []
   },
   "outputs": [
    {
     "name": "stdout",
     "output_type": "stream",
     "text": [
      "5.0 out of 5 stars\n",
      "5.0 out of 5 stars\n",
      "5.0 out of 5 stars\n",
      "1.0 out of 5 stars\n",
      "5.0 out of 5 stars\n",
      "5.0 out of 5 stars\n",
      "5.0 out of 5 stars\n"
     ]
    }
   ],
   "source": [
    "for i in range(len(ex_page)):\n",
    "    try:\n",
    "        rating = ex_page[i].find('i', {'data-hook': 'review-star-rating'}).text\n",
    "        print(rating)\n",
    "    except AttributeError:\n",
    "        try:\n",
    "            # If the first attempt fails, try the alternative data-hook\n",
    "            rating = ex_page[i].find('i', {'data-hook': 'cmps-review-star-rating'}).text\n",
    "            print(rating)\n",
    "        except AttributeError as e:\n",
    "            print(f\"Error accessing review star rating for item {i}: {e}\")\n"
   ]
  },
  {
   "cell_type": "code",
   "execution_count": null,
   "id": "92c7dd5f-6c8a-442b-acaa-65e507818df4",
   "metadata": {},
   "outputs": [],
   "source": [
    "# Example usage\n",
    "for page_number in range(1, 6):  # Replace 6 with the total number of pages you want to scrape\n",
    "    result = pagination(page_number)\n",
    "    if result:\n",
    "        for review_div in result:\n",
    "            print(review_div)\n",
    "    else:\n",
    "        print(f\"No reviews found on page {page_number}.\")"
   ]
  },
  {
   "cell_type": "markdown",
   "id": "ab6bd7d7-31ef-4cd2-aa88-fcfa58ac7635",
   "metadata": {},
   "source": [
    "## APIFY API"
   ]
  },
  {
   "cell_type": "code",
   "execution_count": 2,
   "id": "66eb418d-813a-40d9-970f-9193200826b1",
   "metadata": {
    "tags": []
   },
   "outputs": [],
   "source": [
    "#!pip install apify_client\n",
    "from apify_client import ApifyClient\n",
    "client = ApifyClient(\"apify_api_9sJGcqj2xjBtQxqpWEchCwmz8sbwLN0HZzkG\")"
   ]
  },
  {
   "cell_type": "code",
   "execution_count": null,
   "id": "6cca4048-b86e-410b-85c7-b141b1b85cf1",
   "metadata": {},
   "outputs": [],
   "source": []
  },
  {
   "cell_type": "code",
   "execution_count": 4,
   "id": "7f5cbb40-cd02-4e21-be41-91fb125ccf0b",
   "metadata": {
    "tags": []
   },
   "outputs": [
    {
     "name": "stdout",
     "output_type": "stream",
     "text": [
      "{'title': 'Sony WF-1000XM4 Industry Leading Noise Canceling Truly Wireless Earbud Headphones with Alexa Built-in, Black', 'url': 'https://www.amazon.ca/dp/B094C4VDJZ', 'asin': 'B094C4VDJZ', 'inStock': False, 'inStockText': 'In Stock', 'brand': 'Sony', 'author': None, 'price': None, 'listPrice': None, 'shippingPrice': None, 'stars': 4.1, 'starsBreakdown': {'5star': 0.61, '4star': 0.16, '3star': 0.08, '2star': 0.05, '1star': 0.11}, 'reviewsCount': 23335, 'answeredQuestions': None, 'breadCrumbs': 'Electronics › Headphones, Earbuds & Accessories › Headphones', 'thumbnailImage': 'https://m.media-amazon.com/images/I/61G9yF+ZbEL._AC_SX300_SY300_.jpg', 'galleryThumbnails': ['https://m.media-amazon.com/images/I/214Ck7MfbRL._AC_US.jpg', 'https://m.media-amazon.com/images/I/41tJ1XeWPNL._AC_US.jpg', 'https://m.media-amazon.com/images/I/213iHAGcq2L._AC_US.jpg', 'https://m.media-amazon.com/images/I/51mflBhoxgL._AC_US.jpg', 'https://m.media-amazon.com/images/I/51jpyxLGXJL._AC_US.jpg', 'https://m.media-amazon.com/images/I/21K057LsLjL._AC_US.jpg', 'https://m.media-amazon.com/images/I/41AQNiJNCEL._AC_US.jpg'], 'highResolutionImages': ['https://m.media-amazon.com/images/I/61G9yF+ZbEL._AC_SL1500_.jpg', 'https://m.media-amazon.com/images/I/81KzxXSxYfL._AC_SL1500_.jpg', 'https://m.media-amazon.com/images/I/51d-gdDTTGL._AC_SL1500_.jpg', 'https://m.media-amazon.com/images/I/813comVLjmL._AC_SL1500_.jpg', 'https://m.media-amazon.com/images/I/81I9dMSoZgL._AC_SL1500_.jpg', 'https://m.media-amazon.com/images/I/61bTTsP0v-L._AC_SL1500_.jpg', 'https://m.media-amazon.com/images/I/81reO+aRAbL._AC_SL1500_.jpg', 'https://m.media-amazon.com/images/I/51HC8JCsy+L._AC_SL1500_.jpg', 'https://m.media-amazon.com/images/I/717U03zY78L._AC_SL1500_.jpg', 'https://m.media-amazon.com/images/I/61-af8gPOxL._AC_SL1500_.jpg', 'https://m.media-amazon.com/images/I/81OXTNa8T8L._AC_SL1500_.jpg'], 'description': 'TRUE WIRELESS EARBUDS, NOISE-CANCELING, ALEXA BUILTIN, IPX42', 'features': ['Industry-leading noise canceling bluetooth earbuds with the new Integrated Processor V1', 'Note:If you face issue in Bluetooth connectivity please turn off the Bluetooth function for a couple of minutes, then turn it back on', 'Exceptional sound quality with new Integrated Processor V1 and supporting LDAC codec. High power neodymium magnets', 'Crystal-clear call quality, beamforming microphone and a bone-conduction sensor provide clear voice detection even in noisy environments', 'Speak-to-chat technology automatically reduces volume during conversations', '8 hours long battery with Noise Canceling. Frequency Response(Bluetooth Communication)-20Hz - 20,000Hz(44.1kHz sampling) / 20Hz - 40,000Hz(LDAC 96kHz sampling, 990kbps). Bluetooth Profile A2DP, AVRCP, HFP, HSP'], 'attributes': [{'key': 'Brand', 'value': ''}, {'key': 'Manufacturer', 'value': ''}, {'key': 'Place of Business', 'value': ''}, {'key': 'Model', 'value': ''}, {'key': 'Model Name', 'value': ''}, {'key': 'Model year', 'value': ''}, {'key': 'Part Number', 'value': ''}, {'key': 'Special features', 'value': ''}, {'key': 'Mounting Hardware', 'value': ''}, {'key': 'Number of Items', 'value': ''}, {'key': 'Microphone format', 'value': ''}, {'key': 'Headphones Form Factor', 'value': ''}, {'key': 'Charging Time', 'value': ''}, {'key': 'Batteries included', 'value': ''}, {'key': 'Batteries Required', 'value': ''}, {'key': 'Battery Cell Composition', 'value': ''}, {'key': 'Cable Feature', 'value': ''}, {'key': 'Connector Type', 'value': ''}, {'key': 'Material Type', 'value': ''}, {'key': 'Form Factor', 'value': ''}, {'key': 'Does it contain liquid?', 'value': ''}, {'key': 'Includes rechargable battery', 'value': ''}, {'key': 'Manufacturer', 'value': ''}, {'key': 'Item model number', 'value': ''}, {'key': 'Product Dimensions', 'value': ''}, {'key': 'ASIN', 'value': ''}, {'key': 'Batteries', 'value': '1 Lithium Ion batteries required. (included)'}, {'key': 'Date First Available', 'value': 'May 13 2021'}, {'key': 'Is discontinued by manufacturer', 'value': 'No'}], 'productOverview': [{'key': 'Brand', 'value': 'Sony'}, {'key': 'Model name', 'value': 'WF1000XM4/B'}, {'key': 'Colour', 'value': 'Black'}, {'key': 'Form factor', 'value': 'In Ear'}, {'key': 'Connectivity technology', 'value': 'Bluetooth 5.2'}], 'variantAsins': ['B094C4VDJZ', 'B094CLC7WK'], 'variantDetails': [{'asin': 'B094CLC7WK', 'name': 'Silver', 'thumbnail': 'https://m.media-amazon.com/images/I/21v4igWo-UL._AC_US.jpg', 'images': ['https://m.media-amazon.com/images/I/61isQLjYt1L._AC_SL1500_.jpg', 'https://m.media-amazon.com/images/I/51HImFQVkDL._AC_SL1500_.jpg', 'https://m.media-amazon.com/images/I/612kWSBIJlL._AC_SL1500_.jpg', 'https://m.media-amazon.com/images/I/51h1jwGHMYL._AC_SL1500_.jpg', 'https://m.media-amazon.com/images/I/61dpDQwpkqL._AC_SL1500_.jpg', 'https://m.media-amazon.com/images/I/51cykjWjNsL._AC_SL1500_.jpg'], 'price': None}, {'asin': 'B094C4VDJZ', 'name': 'Black', 'thumbnail': 'https://m.media-amazon.com/images/I/214Ck7MfbRL._AC_US.jpg', 'images': ['https://m.media-amazon.com/images/I/61G9yF+ZbEL._AC_SL1500_.jpg', 'https://m.media-amazon.com/images/I/81KzxXSxYfL._AC_SL1500_.jpg', 'https://m.media-amazon.com/images/I/51d-gdDTTGL._AC_SL1500_.jpg', 'https://m.media-amazon.com/images/I/813comVLjmL._AC_SL1500_.jpg', 'https://m.media-amazon.com/images/I/81I9dMSoZgL._AC_SL1500_.jpg', 'https://m.media-amazon.com/images/I/61bTTsP0v-L._AC_SL1500_.jpg', 'https://m.media-amazon.com/images/I/81reO+aRAbL._AC_SL1500_.jpg', 'https://m.media-amazon.com/images/I/51HC8JCsy+L._AC_SL1500_.jpg', 'https://m.media-amazon.com/images/I/717U03zY78L._AC_SL1500_.jpg', 'https://m.media-amazon.com/images/I/61-af8gPOxL._AC_SL1500_.jpg', 'https://m.media-amazon.com/images/I/81OXTNa8T8L._AC_SL1500_.jpg'], 'price': None}], 'reviewsLink': '/Sony-WF-1000XM4-Industry-Canceling-Headphones/product-reviews/B094C4VDJZ/ref=cm_cr_dp_d_show_all_btm?ie=UTF8&reviewerType=all_reviews', 'hasReviews': True, 'delivery': 'Saturday, December 23', 'fastestDelivery': 'Tomorrow, December 20', 'returnPolicy': None, 'support': None, 'variantAttributes': [{'key': 'Colour Name', 'value': 'Black'}], 'manufacturerAttributes': [{'key': 'Digital Noise Cancellation', 'value': 'Everything in the WF-1000XM4 headphones has been redesigned. Our new Integrated Processor V1, specially developed by Sony, that cancels more noise than ever, a new driver with more performance, newly designed noise sensing microphones, & innovative Noise Isolation Earbud Tips with a more stable fit'}, {'key': 'New Integrated Processor V1 devoloped by Sony', 'value': 'Our new Integrated Processor V1 takes the noise cancelling performance of our acclaimed QN1e chip and goes even further. Improved noise cancelling performance and Bluetooth ‘System on Chip’ technology delivers the industry’s highest level of noise cancelling yet uses less power.'}, {'key': 'Crystal-clear call quality', 'value': 'Precise Voice Pickup Technology implemented in WF-1000XM4 controls the four microphones built into the headphones optimally and performs advanced audio signal processing to pick up your voice clearly and precisely for hands-free calls and Speak-to-Chat detection'}, {'key': 'Exceptional sound quality', 'value': 'Thanks to specially designed 6mm drivers, they reproduce a dynamic sound despite their small size, and the high compliance diaphragm reproduce a rich bass range. The Integrated Processor V1 also enhances sound quality and reduces distortion and enables LDAC code processing and DSEE Extreme.'}, {'key': 'Listen all day, charge in minutes', 'value': 'You can enjoy a full working day of charge – 8 hours – from your headphones and store another 16 hours in the case. That means a full 24 hours of listening time every time you leave the house. In a hurry? Just a 5-minute quick charge gives you up to 60 minutes of play time.'}, {'key': 'Water resistant for everyday use', 'value': 'With an IPX4 water resistance rating, splashes and sweat won’t stop these headphones – so you can keep on moving to the music.'}, {'key': 'Easy wireless charging', 'value': 'No cables necessary – the WF-1000XM4 features Qi technology for easy wireless charging.'}, {'key': 'Customize sound', 'value': '“Sony | Headphones Connect” App for Android /iOS. Smart Listening technology to control your ambient sound settings and adjust the sound levels.'}, {'key': 'Ergonomic surface design', 'value': 'A shape that matches the ear cavity with a new ergonomic surface design for a more stable fit.'}, {'key': 'Stable Bluetooth connection', 'value': 'A higher, clearer, and more stable Bluetooth signal strength than ever before.'}], 'seller': None, 'bestsellerRanks': [{'rank': 10380, 'category': 'Electronics', 'url': 'https://www.amazon.ca/gp/bestsellers/electronics/ref=pd_zg_ts_electronics'}, {'rank': 1011, 'category': 'Stereo Headphones', 'url': 'https://www.amazon.ca/gp/bestsellers/electronics/680468011/ref=pd_zg_hrsr_electronics'}], 'isAmazonChoice': False, 'amazonChoiceText': None, 'bookDescription': None, 'locationText': 'Update location', 'loadedCountryCode': 'CA', 'unNormalizedProductUrl': 'https://www.amazon.ca/Sony-WF-1000XM4-Industry-Canceling-Headphones/dp/B094C4VDJZ/ref=cm_cr_arp_d_product_top?ie=UTF8&th=1&language=en'}\n"
     ]
    }
   ],
   "source": [
    "\n",
    "url = 'https://www.amazon.ca/Sony-WF-1000XM4-Industry-Canceling-Headphones/dp/B094C4VDJZ/ref=cm_cr_arp_d_product_top?ie=UTF8&th=1'\n",
    "# Prepare the Actor input\n",
    "run_input = {\n",
    "    \"categoryOrProductUrls\": [{ \"url\": url}],\n",
    "    \"maxItemsPerStartUrl\": 10,\n",
    "    \"useCaptchaSolver\": False,\n",
    "    \"proxyConfiguration\": {\n",
    "        \"useApifyProxy\": True,\n",
    "        \"apifyProxyGroups\": [\"RESIDENTIAL\"],\n",
    "    },\n",
    "}\n",
    "\n",
    "# Run the Actor and wait for it to finish\n",
    "run = client.actor(\"BG3WDrGdteHgZgbPK\").call(run_input=run_input)\n",
    "\n",
    "# Fetch and print Actor results from the run's dataset (if there are any)\n",
    "for item in client.dataset(run[\"defaultDatasetId\"]).iterate_items():\n",
    "    print(item)"
   ]
  },
  {
   "cell_type": "code",
   "execution_count": 9,
   "id": "392151d7-0ed8-4412-8f6d-0bce7f8b4119",
   "metadata": {},
   "outputs": [
    {
     "ename": "AttributeError",
     "evalue": "'DatasetClient' object has no attribute 'items'",
     "output_type": "error",
     "traceback": [
      "\u001b[1;31m---------------------------------------------------------------------------\u001b[0m",
      "\u001b[1;31mAttributeError\u001b[0m                            Traceback (most recent call last)",
      "Cell \u001b[1;32mIn[9], line 1\u001b[0m\n\u001b[1;32m----> 1\u001b[0m \u001b[43mclient\u001b[49m\u001b[38;5;241;43m.\u001b[39;49m\u001b[43mdataset\u001b[49m\u001b[43m(\u001b[49m\u001b[43mrun\u001b[49m\u001b[43m[\u001b[49m\u001b[38;5;124;43m\"\u001b[39;49m\u001b[38;5;124;43mdefaultDatasetId\u001b[39;49m\u001b[38;5;124;43m\"\u001b[39;49m\u001b[43m]\u001b[49m\u001b[43m)\u001b[49m\u001b[38;5;241;43m.\u001b[39;49m\u001b[43mitems\u001b[49m()\n",
      "\u001b[1;31mAttributeError\u001b[0m: 'DatasetClient' object has no attribute 'items'"
     ]
    }
   ],
   "source": [
    "client.dataset(run[\"defaultDatasetId\"])"
   ]
  },
  {
   "cell_type": "code",
   "execution_count": null,
   "id": "f0dc2520-1c8f-4359-8d6d-a5f8a3a4a1e1",
   "metadata": {},
   "outputs": [],
   "source": []
  }
 ],
 "metadata": {
  "kernelspec": {
   "display_name": "Python 3 (ipykernel)",
   "language": "python",
   "name": "python3"
  },
  "language_info": {
   "codemirror_mode": {
    "name": "ipython",
    "version": 3
   },
   "file_extension": ".py",
   "mimetype": "text/x-python",
   "name": "python",
   "nbconvert_exporter": "python",
   "pygments_lexer": "ipython3",
   "version": "3.9.18"
  }
 },
 "nbformat": 4,
 "nbformat_minor": 5
}
