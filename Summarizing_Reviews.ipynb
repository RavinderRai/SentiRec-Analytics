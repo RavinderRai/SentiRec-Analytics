{
 "cells": [
  {
   "cell_type": "markdown",
   "id": "323ea7fa-3199-4c3e-8be3-ac1dbf634fc3",
   "metadata": {},
   "source": [
    "# Summarizing Review Texts\n",
    "\n",
    "This notebook looks at fine-tuning a pre-trained model to get summaries of the review CC texts."
   ]
  },
  {
   "cell_type": "code",
   "execution_count": 1,
   "id": "b5e0d8e3-8e25-4584-87b7-57db92f0bd3f",
   "metadata": {},
   "outputs": [],
   "source": [
    "import numpy as np\n",
    "import pandas as pd\n",
    "\n",
    "import re\n",
    "import string\n",
    "from nltk.corpus import stopwords\n",
    "from nltk.tokenize import word_tokenize\n",
    "from nltk.stem import PorterStemmer\n",
    "\n",
    "import nltk\n",
    "#nltk.download('stopwords')"
   ]
  },
  {
   "cell_type": "markdown",
   "id": "b17d9f74-f288-4f06-a037-0fddf42c15f5",
   "metadata": {
    "tags": []
   },
   "source": [
    "## Text Cleaning if Needed\n",
    "\n",
    "Text cleaning follows here."
   ]
  },
  {
   "cell_type": "code",
   "execution_count": 3,
   "id": "34524b1e-0c30-46ff-81ab-d588b381b30c",
   "metadata": {},
   "outputs": [
    {
     "data": {
      "text/html": [
       "<div>\n",
       "<style scoped>\n",
       "    .dataframe tbody tr th:only-of-type {\n",
       "        vertical-align: middle;\n",
       "    }\n",
       "\n",
       "    .dataframe tbody tr th {\n",
       "        vertical-align: top;\n",
       "    }\n",
       "\n",
       "    .dataframe thead th {\n",
       "        text-align: right;\n",
       "    }\n",
       "</style>\n",
       "<table border=\"1\" class=\"dataframe\">\n",
       "  <thead>\n",
       "    <tr style=\"text-align: right;\">\n",
       "      <th></th>\n",
       "      <th>Headphone_Name</th>\n",
       "      <th>Sony_Review_Text</th>\n",
       "    </tr>\n",
       "  </thead>\n",
       "  <tbody>\n",
       "    <tr>\n",
       "      <th>0</th>\n",
       "      <td>sony xm4 earbuds</td>\n",
       "      <td>The Sony WF-1000XM4 earbuds, which is a mouth...</td>\n",
       "    </tr>\n",
       "    <tr>\n",
       "      <th>1</th>\n",
       "      <td>sony xm4 earbuds</td>\n",
       "      <td>(wind rushing)\\n(slow music) - As much as I l...</td>\n",
       "    </tr>\n",
       "    <tr>\n",
       "      <th>2</th>\n",
       "      <td>sony xm4 earbuds</td>\n",
       "      <td>[Music] what's going on guys it's your averag...</td>\n",
       "    </tr>\n",
       "  </tbody>\n",
       "</table>\n",
       "</div>"
      ],
      "text/plain": [
       "     Headphone_Name                                   Sony_Review_Text\n",
       "0  sony xm4 earbuds   The Sony WF-1000XM4 earbuds, which is a mouth...\n",
       "1  sony xm4 earbuds   (wind rushing)\\n(slow music) - As much as I l...\n",
       "2  sony xm4 earbuds   [Music] what's going on guys it's your averag..."
      ]
     },
     "execution_count": 3,
     "metadata": {},
     "output_type": "execute_result"
    }
   ],
   "source": [
    "YT_df = pd.read_csv('youtube_reviews.csv')\n",
    "YT_df.head(3)"
   ]
  },
  {
   "cell_type": "code",
   "execution_count": 14,
   "id": "6c45eb6c-4d2c-47fb-8f15-f6f4f3e29044",
   "metadata": {},
   "outputs": [],
   "source": [
    "YT_df.rename(columns={'Sony_Review_Text': 'Review_Text'}, inplace=True)\n",
    "\n",
    "YT_df = YT_df.dropna()"
   ]
  },
  {
   "cell_type": "code",
   "execution_count": 17,
   "id": "d3952323-3864-47c9-ae67-df207b71b1a9",
   "metadata": {},
   "outputs": [],
   "source": [
    "stop_words = set(stopwords.words('english'))\n",
    "\n",
    "stemmer = PorterStemmer()\n",
    "\n",
    "emoji_pattern = re.compile(\"[\"\n",
    "                           u\"\\U0001F600-\\U0001F64F\"  # Emoticons\n",
    "                           u\"\\U0001F300-\\U0001F5FF\"  # Symbols & Pictographs\n",
    "                           u\"\\U0001F680-\\U0001F6FF\"  # Transport & Map Symbols\n",
    "                           u\"\\U0001F700-\\U0001F77F\"  # Alchemical Symbols\n",
    "                           u\"\\U0001F780-\\U0001F7FF\"  # Geometric Shapes Extended\n",
    "                           u\"\\U0001F800-\\U0001F8FF\"  # Supplemental Arrows-C\n",
    "                           u\"\\U0001F900-\\U0001F9FF\"  # Supplemental Symbols and Pictographs\n",
    "                           u\"\\U0001FA00-\\U0001FA6F\"  # Chess Symbols\n",
    "                           u\"\\U0001FA70-\\U0001FAFF\"  # Symbols and Pictographs Extended-A\n",
    "                           u\"\\U0001FB00-\\U0001FBFF\"  # Symbols for Legacy Computing\"\n",
    "                           u\"\\U0001FC00-\\U0001FCFF\"  # St. George's Flag\n",
    "                           u\"\\U0001F004-\\U0001F0CF\"  # CJK Compatibility Ideographs\n",
    "                           u\"\\U0001F170-\\U0001F251\"  # Enclosed Ideographic Supplement\n",
    "                           \"]+\", flags=re.UNICODE)"
   ]
  },
  {
   "cell_type": "code",
   "execution_count": 18,
   "id": "c4bd5e9c-0645-4288-b7f0-4f245e715a67",
   "metadata": {},
   "outputs": [],
   "source": [
    "def preprocess_text(text):\n",
    "    # Convert to lowercase\n",
    "    text = text.lower()\n",
    "    #remove emoji's\n",
    "    text = emoji_pattern.sub(r'', text)\n",
    "    # Remove special characters, numbers, and punctuation\n",
    "    text = re.sub(r'\\d+', '', text)\n",
    "    text = text.translate(str.maketrans('', '', string.punctuation))\n",
    "    # Tokenize the text\n",
    "    words = word_tokenize(text)\n",
    "    # Remove stopwords and apply stemming\n",
    "    words = [stemmer.stem(word) for word in words if word not in stop_words]\n",
    "    # Join the words back into a string\n",
    "    preprocessed_text = ' '.join(words)\n",
    "    return preprocessed_text\n",
    "\n",
    "YT_df['Review_Text'] = YT_df['Review_Text'].apply(lambda x: preprocess_text(x))"
   ]
  },
  {
   "cell_type": "code",
   "execution_count": 19,
   "id": "bdcacd93-4047-412b-9c63-f449fc9f5d5b",
   "metadata": {},
   "outputs": [
    {
     "data": {
      "text/html": [
       "<div>\n",
       "<style scoped>\n",
       "    .dataframe tbody tr th:only-of-type {\n",
       "        vertical-align: middle;\n",
       "    }\n",
       "\n",
       "    .dataframe tbody tr th {\n",
       "        vertical-align: top;\n",
       "    }\n",
       "\n",
       "    .dataframe thead th {\n",
       "        text-align: right;\n",
       "    }\n",
       "</style>\n",
       "<table border=\"1\" class=\"dataframe\">\n",
       "  <thead>\n",
       "    <tr style=\"text-align: right;\">\n",
       "      <th></th>\n",
       "      <th>Headphone_Name</th>\n",
       "      <th>Review_Text</th>\n",
       "    </tr>\n",
       "  </thead>\n",
       "  <tbody>\n",
       "    <tr>\n",
       "      <th>0</th>\n",
       "      <td>sony xm4 earbuds</td>\n",
       "      <td>soni wfxm earbud mouth name sit toward top ear...</td>\n",
       "    </tr>\n",
       "    <tr>\n",
       "      <th>1</th>\n",
       "      <td>sony xm4 earbuds</td>\n",
       "      <td>wind rush slow music much love airpod pro admi...</td>\n",
       "    </tr>\n",
       "    <tr>\n",
       "      <th>2</th>\n",
       "      <td>sony xm4 earbuds</td>\n",
       "      <td>music what go guy averag consum today final go...</td>\n",
       "    </tr>\n",
       "  </tbody>\n",
       "</table>\n",
       "</div>"
      ],
      "text/plain": [
       "     Headphone_Name                                        Review_Text\n",
       "0  sony xm4 earbuds  soni wfxm earbud mouth name sit toward top ear...\n",
       "1  sony xm4 earbuds  wind rush slow music much love airpod pro admi...\n",
       "2  sony xm4 earbuds  music what go guy averag consum today final go..."
      ]
     },
     "execution_count": 19,
     "metadata": {},
     "output_type": "execute_result"
    }
   ],
   "source": [
    "YT_df.head(3)"
   ]
  },
  {
   "cell_type": "code",
   "execution_count": 21,
   "id": "9babf29b-a0ef-4264-bf2b-d9857b60aa5a",
   "metadata": {},
   "outputs": [
    {
     "data": {
      "text/plain": [
       "array(['sony xm4 earbuds', 'Galaxy Buds2 Pro', 'Sennheiser MTW3',\n",
       "       'Bose Quietcomfort Earbuds 2', 'Bose Quietcomfort Earbuds',\n",
       "       'Beats Fit Pro Earbuds', 'AirPods Pro 2 Earbuds',\n",
       "       'Sony Linkbuds S', 'Sony Linkbuds original', 'Pixel Buds Pro',\n",
       "       'Soundcore Liberty 3', 'AirPods 3', 'Jabra Elite 7 Pro',\n",
       "       'Sony WF-1000XM5', '1MORE Evo', 'Buy LG TONE TF8'], dtype=object)"
      ]
     },
     "execution_count": 21,
     "metadata": {},
     "output_type": "execute_result"
    }
   ],
   "source": [
    "YT_df['Headphone_Name'].unique()"
   ]
  },
  {
   "cell_type": "code",
   "execution_count": 31,
   "id": "0aa1734e-7f7e-4ca7-aafb-9321037d762a",
   "metadata": {},
   "outputs": [
    {
     "data": {
      "text/html": [
       "<div>\n",
       "<style scoped>\n",
       "    .dataframe tbody tr th:only-of-type {\n",
       "        vertical-align: middle;\n",
       "    }\n",
       "\n",
       "    .dataframe tbody tr th {\n",
       "        vertical-align: top;\n",
       "    }\n",
       "\n",
       "    .dataframe thead th {\n",
       "        text-align: right;\n",
       "    }\n",
       "</style>\n",
       "<table border=\"1\" class=\"dataframe\">\n",
       "  <thead>\n",
       "    <tr style=\"text-align: right;\">\n",
       "      <th></th>\n",
       "      <th>Headphone_Name</th>\n",
       "      <th>Review_Text</th>\n",
       "    </tr>\n",
       "  </thead>\n",
       "  <tbody>\n",
       "    <tr>\n",
       "      <th>0</th>\n",
       "      <td>1MORE Evo</td>\n",
       "      <td>video sponsor theyv got us check evo earbud to...</td>\n",
       "    </tr>\n",
       "    <tr>\n",
       "      <th>1</th>\n",
       "      <td>AirPods 3</td>\n",
       "      <td>music hey what mkbhd okay im last stage macboo...</td>\n",
       "    </tr>\n",
       "    <tr>\n",
       "      <th>2</th>\n",
       "      <td>AirPods Pro 2 Earbuds</td>\n",
       "      <td>music right ill honest wasnt even plan review ...</td>\n",
       "    </tr>\n",
       "    <tr>\n",
       "      <th>3</th>\n",
       "      <td>Beats Fit Pro Earbuds</td>\n",
       "      <td>hey got airpod third gener last week turn appl...</td>\n",
       "    </tr>\n",
       "    <tr>\n",
       "      <th>4</th>\n",
       "      <td>Bose Quietcomfort Earbuds</td>\n",
       "      <td>final bose new dollar nois cancel quietcomfort...</td>\n",
       "    </tr>\n",
       "    <tr>\n",
       "      <th>5</th>\n",
       "      <td>Bose Quietcomfort Earbuds 2</td>\n",
       "      <td>bose quietcomfort earbud frustrat product grea...</td>\n",
       "    </tr>\n",
       "    <tr>\n",
       "      <th>6</th>\n",
       "      <td>Buy LG TONE TF8</td>\n",
       "      <td>hi everyon welcom channel lg quit busi late an...</td>\n",
       "    </tr>\n",
       "    <tr>\n",
       "      <th>7</th>\n",
       "      <td>Galaxy Buds2 Pro</td>\n",
       "      <td>six month sinc bought pair samsung galaxi bud ...</td>\n",
       "    </tr>\n",
       "    <tr>\n",
       "      <th>8</th>\n",
       "      <td>Jabra Elite 7 Pro</td>\n",
       "      <td>jabra claim reinvent true wireless earbud new ...</td>\n",
       "    </tr>\n",
       "    <tr>\n",
       "      <th>9</th>\n",
       "      <td>Pixel Buds Pro</td>\n",
       "      <td>music pixel bud seri cheapest one right cost n...</td>\n",
       "    </tr>\n",
       "    <tr>\n",
       "      <th>10</th>\n",
       "      <td>Sennheiser MTW3</td>\n",
       "      <td>hey everyon welcom channel name mike video tal...</td>\n",
       "    </tr>\n",
       "    <tr>\n",
       "      <th>11</th>\n",
       "      <td>Sony Linkbuds S</td>\n",
       "      <td>im littl confus box thump video soni linkbud w...</td>\n",
       "    </tr>\n",
       "    <tr>\n",
       "      <th>12</th>\n",
       "      <td>Sony Linkbuds original</td>\n",
       "      <td>hey soni new link bud got ta say bit surpris f...</td>\n",
       "    </tr>\n",
       "    <tr>\n",
       "      <th>13</th>\n",
       "      <td>Sony WF-1000XM5</td>\n",
       "      <td>foreign folk im product lot peopl look forward...</td>\n",
       "    </tr>\n",
       "    <tr>\n",
       "      <th>14</th>\n",
       "      <td>Soundcore Liberty 3</td>\n",
       "      <td>sponsor soundcor anker weve got unbox liberti ...</td>\n",
       "    </tr>\n",
       "    <tr>\n",
       "      <th>15</th>\n",
       "      <td>sony xm4 earbuds</td>\n",
       "      <td>soni wfxm earbud mouth name sit toward top ear...</td>\n",
       "    </tr>\n",
       "  </tbody>\n",
       "</table>\n",
       "</div>"
      ],
      "text/plain": [
       "                 Headphone_Name  \\\n",
       "0                     1MORE Evo   \n",
       "1                     AirPods 3   \n",
       "2         AirPods Pro 2 Earbuds   \n",
       "3         Beats Fit Pro Earbuds   \n",
       "4     Bose Quietcomfort Earbuds   \n",
       "5   Bose Quietcomfort Earbuds 2   \n",
       "6               Buy LG TONE TF8   \n",
       "7              Galaxy Buds2 Pro   \n",
       "8             Jabra Elite 7 Pro   \n",
       "9                Pixel Buds Pro   \n",
       "10              Sennheiser MTW3   \n",
       "11              Sony Linkbuds S   \n",
       "12       Sony Linkbuds original   \n",
       "13              Sony WF-1000XM5   \n",
       "14          Soundcore Liberty 3   \n",
       "15             sony xm4 earbuds   \n",
       "\n",
       "                                          Review_Text  \n",
       "0   video sponsor theyv got us check evo earbud to...  \n",
       "1   music hey what mkbhd okay im last stage macboo...  \n",
       "2   music right ill honest wasnt even plan review ...  \n",
       "3   hey got airpod third gener last week turn appl...  \n",
       "4   final bose new dollar nois cancel quietcomfort...  \n",
       "5   bose quietcomfort earbud frustrat product grea...  \n",
       "6   hi everyon welcom channel lg quit busi late an...  \n",
       "7   six month sinc bought pair samsung galaxi bud ...  \n",
       "8   jabra claim reinvent true wireless earbud new ...  \n",
       "9   music pixel bud seri cheapest one right cost n...  \n",
       "10  hey everyon welcom channel name mike video tal...  \n",
       "11  im littl confus box thump video soni linkbud w...  \n",
       "12  hey soni new link bud got ta say bit surpris f...  \n",
       "13  foreign folk im product lot peopl look forward...  \n",
       "14  sponsor soundcor anker weve got unbox liberti ...  \n",
       "15  soni wfxm earbud mouth name sit toward top ear...  "
      ]
     },
     "execution_count": 31,
     "metadata": {},
     "output_type": "execute_result"
    }
   ],
   "source": [
    "YT_df.groupby(by = 'Headphone_Name').agg(lambda x: ' '.join(x)).reset_index()"
   ]
  },
  {
   "cell_type": "code",
   "execution_count": null,
   "id": "a3a52b57-dc92-4751-b7f5-06f78ea5b3f9",
   "metadata": {},
   "outputs": [],
   "source": []
  },
  {
   "cell_type": "code",
   "execution_count": null,
   "id": "2a8262ea-4772-41e2-a2dc-bb85b506d868",
   "metadata": {},
   "outputs": [],
   "source": []
  },
  {
   "cell_type": "code",
   "execution_count": null,
   "id": "a6a89505-24bd-482d-9b7b-53fb809b0ba4",
   "metadata": {},
   "outputs": [],
   "source": []
  },
  {
   "cell_type": "markdown",
   "id": "241ea2d0-030b-4a3e-95af-1147a40ae2a3",
   "metadata": {},
   "source": [
    "## Manually gathering summaries for headphones. "
   ]
  },
  {
   "cell_type": "code",
   "execution_count": 2,
   "id": "fbe35a89-b33d-4704-af55-83cf9cdc5a11",
   "metadata": {},
   "outputs": [
    {
     "data": {
      "text/plain": [
       "0                sony xm4 earbuds\n",
       "1                Galaxy Buds2 Pro\n",
       "2                 Sennheiser MTW3\n",
       "3     Bose Quietcomfort Earbuds 2\n",
       "4       Bose Quietcomfort Earbuds\n",
       "5           Beats Fit Pro Earbuds\n",
       "6           AirPods Pro 2 Earbuds\n",
       "7                 Sony Linkbuds S\n",
       "8          Sony Linkbuds original\n",
       "9                  Pixel Buds Pro\n",
       "10            Soundcore Liberty 3\n",
       "11                      AirPods 3\n",
       "12              Jabra Elite 7 Pro\n",
       "13                Sony WF-1000XM5\n",
       "14                      1MORE Evo\n",
       "15                Buy LG TONE TF8\n",
       "dtype: object"
      ]
     },
     "execution_count": 2,
     "metadata": {},
     "output_type": "execute_result"
    }
   ],
   "source": [
    "orig_df = pd.read_csv(\"youtube_reviews.csv\")\n",
    "\n",
    "headphone_names = pd.Series(orig_df['Headphone_Name'].unique())\n",
    "headphone_names"
   ]
  },
  {
   "cell_type": "markdown",
   "id": "73f02f6b-5278-4b11-bb47-4fea08e94a0e",
   "metadata": {},
   "source": [
    "Let's get review summaries from blogs and put them in a list in the same order. First, focus on reviews from engadget. \n",
    "\n",
    "Here are the links used to get the text: \n",
    "https://www.engadget.com/sony-wf-1000xm4-review-160006474.html\n",
    "\n",
    "https://www.engadget.com/samsung-galaxy-buds-2-pro-review-160057740.html\n",
    "\n",
    "No review for Sennheiser MTW3\n",
    "\n",
    "https://www.engadget.com/bose-quietcomfort-earbuds-2-review-130026306.html\n",
    "\n",
    "https://www.engadget.com/bose-quietcomfort-earbuds-review-144502194.html\n",
    "\n",
    "https://www.engadget.com/beats-fit-pro-review-140004462.html\n",
    "\n",
    "https://www.engadget.com/airpods-pro-review-second-generation-130048218.html\n",
    "\n",
    "https://www.engadget.com/sony-linkbuds-review-170020552.html\n",
    "\n",
    "No review for original linkbuds\n",
    "\n",
    "https://www.engadget.com/google-pixel-buds-review-170044941.html\n",
    "\n",
    "No review for Soundcore Liberty 3\n",
    "\n",
    "No review for AirPods 3\n",
    "\n",
    "No review for Jabra Elite 7 Pro\n",
    "\n",
    "https://www.engadget.com/sony-wf-1000xm5-earbuds-review-striving-for-perfection-160023581.html#:~:text=Wrap-up,riddles%20Sony%20needed%20to%20solve.\n",
    "\n",
    "No review for 1MORE Evo\n",
    "\n",
    "No review for Buy LG TONE TF8"
   ]
  },
  {
   "cell_type": "code",
   "execution_count": 3,
   "id": "498768b4-e048-4e0c-8ac4-dc4a35ea9fc4",
   "metadata": {},
   "outputs": [],
   "source": [
    "engadget = ['Sony nearly did it again. The company has dominated both over-ear and true wireless product categories for the last few years. It has a knack for creating a compelling combination of sound quality, noise cancelling performance, customization and features. None of the competition comes close to what the WF-1000XM4 offers in terms of what the earbuds can do for you automatically with features like Adaptive Sound Control and Speak-to-Chat. These are almost the complete package, if only the new ear tips offered a better fit. Even the best of the three pairs included in the box never felt truly comfortable. I only found relief when I grabbed the silicone tips from the M3 instead, and most people won’t have access to those. It seems so simple, but if you mess it up, a basic thing like ear tips can nearly ruin otherwise stellar earbuds. The WF-1000XM4 is available now in black and silver color options for $280.',\n",
    "            'I’ve said a set of Samsung’s Galaxy Buds are its best yet before – more than once. That’s because the company continues to improve its formula with each subsequent release, whether that’s the regular Buds or the Buds Pro. And now I have to declare it again. The Buds 2 Pro are a huge leap from the 2021 Pro model, with massive improvements to the audio, notable gains in noise cancellation and the introduction of several new features. Samsung lets its loyal customers unlock the best of the Buds 2 Pro, the same way Apple and Google have done. That’s not likely to change, but Samsung is making a strong case for owners of its phones to invest in its audio products too.',\n",
    "            '',\n",
    "            'If it’s supreme noise blocking you’re looking for in your next set of true wireless earbuds, the QCE II is the choice. With the updates Bose delivers here with the help of CustomTune, not only is the ANC noticeably better than the previous model, but overall audio quality and ambient sound mode are also improved. Sure, I’d like more than six hours of battery life and conveniences like multipoint connectivity and wireless charging should be standard fare at this point. For $299, I’d expect some of those basics to be included and Bose passed on them.',\n",
    "            'Bose has come a long way since the SoundSport Free. The company had years to perfect its next set(s) of true wireless earbuds, and it’s created a tempting package. The QuietComfort Earbuds have powerful ANC and great overall sound quality, plus premium features like wireless charging. The limited customization and touch controls could be a headache for some, and the large-sized buds create a look some may not want. And when you factor in price, Sony’s WF-1000XM3 is an attractive alternative despite its age. Bose and Sony have done battle over noise-cancelling headphones during the last few years, now they’re doing the same for true wireless earbuds. And Bose finally has a product that can give Sony a run for its money.',\n",
    "            'If you’re looking for the best of what AirPods has to offer in earbuds that don’t have the polarizing stick apparatus, the Beats Fit Pro should do the trick. They offer a nice blend of features, sound and noise-cancelling performance for the price. Sure, there are better options but they also cost significantly more, especially if you’re looking for the absolute best audio quality. For now, Beats is giving the masses an AirPods alternative that’s actually still packed with Apple tech. And that’s an interesting proposition for iPhone owners.',\n",
    "            'Apple’s noise-canceling earbuds were way overdue for an update. While the company didn’t see the need to change the overall design, it did extensive upgrades on the inside, introducing new features and improving performance along the way. Importantly, it made all of these changes while keeping the price at $249. Things like improved audio, more powerful ANC, Adaptive Transparency and even the upgrades to the charging case make the new AirPods Pro a worthwhile update to a familiar formula. Let’s just hope we don’t have to wait another three years for a full redesign.',\n",
    "            'Sony largely succeeded at what it set out to do: It built a set of true wireless earbuds that offers transparent audio by design rather than relying on microphones to pipe in ambient sound. Indeed, the LinkBuds blend your music, podcasts or videos with whatever is going on around you. There are certainly benefits for this, whether it be the ability to be less of a jerk in the office or to stay safe outdoors. Even with all of the handy tech Sony packs in, earbuds need to be comfortable enough to wear for long periods of time, and the area around the unique ring-shaped drivers is simply too hard to be accommodating. Consistent audio performance would make a big difference, too. For now, the LinkBuds are an interesting product that could be more compelling with some refinements. Hopefully Sony will do just that, because I’m very much looking forward to version 2.0. The LinkBuds are available to order today from Amazon and Best Buy in grey and white color options for $180.',\n",
    "            '',\n",
    "            'Google’s best earbuds yet are also its most complete package thus far. All of the features that made 2020’s redesigned Pixel Buds and the A-Series follow-up such compelling options for Android users, especially Pixel owners, are back. And while the Pixel Buds Pro are $20 more than what we got two years ago, the 2022 version is much improved. Active noise cancellation and the refined sound quality are equally impressive, and well worth the extra money. As long as Google can deliver spatial audio quickly and it works well, the only thing lacking is call quality, which may not be a dealbreaker for you.',\n",
    "            '',\n",
    "            '',\n",
    "            '',\n",
    "            'With the WF-1000XM5, Sony improves its already formidable mix of great sound, effective ANC and handy features. These earbuds are undoubtedly the company’s best and most comfortable design in its premium model so far, which was one of the few remaining riddles Sony needed to solve. For all of the company’s ability to add so many features, many of them still need fine-tuning, but that doesn’t make them any less useful in their current state. The WF-1000XM5 are more expensive too, which means the competition has one key area it can beat Sony. As is typically the case, there aren’t many flaws with the company’s latest model and its rivals still have their work cut out for them. The WF-1000XM5 are available for pre-order now in black and silver color options for $300. According to Amazon, the earbuds will ship on August 4th.',\n",
    "            '',\n",
    "            '']"
   ]
  },
  {
   "cell_type": "code",
   "execution_count": 4,
   "id": "cc493e86-daa3-44d9-ae70-6b79ba7b3914",
   "metadata": {},
   "outputs": [
    {
     "data": {
      "text/html": [
       "<div>\n",
       "<style scoped>\n",
       "    .dataframe tbody tr th:only-of-type {\n",
       "        vertical-align: middle;\n",
       "    }\n",
       "\n",
       "    .dataframe tbody tr th {\n",
       "        vertical-align: top;\n",
       "    }\n",
       "\n",
       "    .dataframe thead th {\n",
       "        text-align: right;\n",
       "    }\n",
       "</style>\n",
       "<table border=\"1\" class=\"dataframe\">\n",
       "  <thead>\n",
       "    <tr style=\"text-align: right;\">\n",
       "      <th></th>\n",
       "      <th>Summary</th>\n",
       "    </tr>\n",
       "    <tr>\n",
       "      <th>Headphone_Name</th>\n",
       "      <th></th>\n",
       "    </tr>\n",
       "  </thead>\n",
       "  <tbody>\n",
       "    <tr>\n",
       "      <th>sony xm4 earbuds</th>\n",
       "      <td>Sony nearly did it again. The company has domi...</td>\n",
       "    </tr>\n",
       "    <tr>\n",
       "      <th>Galaxy Buds2 Pro</th>\n",
       "      <td>I’ve said a set of Samsung’s Galaxy Buds are i...</td>\n",
       "    </tr>\n",
       "    <tr>\n",
       "      <th>Sennheiser MTW3</th>\n",
       "      <td></td>\n",
       "    </tr>\n",
       "    <tr>\n",
       "      <th>Bose Quietcomfort Earbuds 2</th>\n",
       "      <td>If it’s supreme noise blocking you’re looking ...</td>\n",
       "    </tr>\n",
       "    <tr>\n",
       "      <th>Bose Quietcomfort Earbuds</th>\n",
       "      <td>Bose has come a long way since the SoundSport ...</td>\n",
       "    </tr>\n",
       "    <tr>\n",
       "      <th>Beats Fit Pro Earbuds</th>\n",
       "      <td>If you’re looking for the best of what AirPods...</td>\n",
       "    </tr>\n",
       "    <tr>\n",
       "      <th>AirPods Pro 2 Earbuds</th>\n",
       "      <td>Apple’s noise-canceling earbuds were way overd...</td>\n",
       "    </tr>\n",
       "    <tr>\n",
       "      <th>Sony Linkbuds S</th>\n",
       "      <td>Sony largely succeeded at what it set out to d...</td>\n",
       "    </tr>\n",
       "    <tr>\n",
       "      <th>Sony Linkbuds original</th>\n",
       "      <td></td>\n",
       "    </tr>\n",
       "    <tr>\n",
       "      <th>Pixel Buds Pro</th>\n",
       "      <td>Google’s best earbuds yet are also its most co...</td>\n",
       "    </tr>\n",
       "    <tr>\n",
       "      <th>Soundcore Liberty 3</th>\n",
       "      <td></td>\n",
       "    </tr>\n",
       "    <tr>\n",
       "      <th>AirPods 3</th>\n",
       "      <td></td>\n",
       "    </tr>\n",
       "    <tr>\n",
       "      <th>Jabra Elite 7 Pro</th>\n",
       "      <td></td>\n",
       "    </tr>\n",
       "    <tr>\n",
       "      <th>Sony WF-1000XM5</th>\n",
       "      <td>With the WF-1000XM5, Sony improves its already...</td>\n",
       "    </tr>\n",
       "    <tr>\n",
       "      <th>1MORE Evo</th>\n",
       "      <td></td>\n",
       "    </tr>\n",
       "    <tr>\n",
       "      <th>Buy LG TONE TF8</th>\n",
       "      <td></td>\n",
       "    </tr>\n",
       "  </tbody>\n",
       "</table>\n",
       "</div>"
      ],
      "text/plain": [
       "                                                                       Summary\n",
       "Headphone_Name                                                                \n",
       "sony xm4 earbuds             Sony nearly did it again. The company has domi...\n",
       "Galaxy Buds2 Pro             I’ve said a set of Samsung’s Galaxy Buds are i...\n",
       "Sennheiser MTW3                                                               \n",
       "Bose Quietcomfort Earbuds 2  If it’s supreme noise blocking you’re looking ...\n",
       "Bose Quietcomfort Earbuds    Bose has come a long way since the SoundSport ...\n",
       "Beats Fit Pro Earbuds        If you’re looking for the best of what AirPods...\n",
       "AirPods Pro 2 Earbuds        Apple’s noise-canceling earbuds were way overd...\n",
       "Sony Linkbuds S              Sony largely succeeded at what it set out to d...\n",
       "Sony Linkbuds original                                                        \n",
       "Pixel Buds Pro               Google’s best earbuds yet are also its most co...\n",
       "Soundcore Liberty 3                                                           \n",
       "AirPods 3                                                                     \n",
       "Jabra Elite 7 Pro                                                             \n",
       "Sony WF-1000XM5              With the WF-1000XM5, Sony improves its already...\n",
       "1MORE Evo                                                                     \n",
       "Buy LG TONE TF8                                                               "
      ]
     },
     "execution_count": 4,
     "metadata": {},
     "output_type": "execute_result"
    }
   ],
   "source": [
    "summaries_df = pd.concat([headphone_names, pd.Series(engadget)], axis = 1)\n",
    "\n",
    "summaries_df = summaries_df.rename(columns={0: 'Headphone_Name', 1: 'Summary'})\n",
    "\n",
    "summaries_df = summaries_df.set_index('Headphone_Name')\n",
    "\n",
    "summaries_df"
   ]
  },
  {
   "cell_type": "markdown",
   "id": "9a45833b-6962-4178-9fcc-0fecaabb197f",
   "metadata": {},
   "source": [
    "## Grouping Reviews per headphone to get training dataset."
   ]
  },
  {
   "cell_type": "code",
   "execution_count": 5,
   "id": "44b679e6-c1ab-4c80-98da-7d7bc8b44602",
   "metadata": {},
   "outputs": [],
   "source": [
    "orig_df['Sony_Review_Text'] = orig_df['Sony_Review_Text'].astype(str)\n",
    "\n",
    "#concatenating all review texts for each headphone so we have one row per headphone\n",
    "grouped_orig_df  = orig_df.groupby(by = 'Headphone_Name')['Sony_Review_Text'].apply(''.join)"
   ]
  },
  {
   "cell_type": "code",
   "execution_count": 6,
   "id": "c3a32000-786c-44ca-aea3-72cd359c9a2b",
   "metadata": {},
   "outputs": [
    {
     "data": {
      "text/html": [
       "<div>\n",
       "<style scoped>\n",
       "    .dataframe tbody tr th:only-of-type {\n",
       "        vertical-align: middle;\n",
       "    }\n",
       "\n",
       "    .dataframe tbody tr th {\n",
       "        vertical-align: top;\n",
       "    }\n",
       "\n",
       "    .dataframe thead th {\n",
       "        text-align: right;\n",
       "    }\n",
       "</style>\n",
       "<table border=\"1\" class=\"dataframe\">\n",
       "  <thead>\n",
       "    <tr style=\"text-align: right;\">\n",
       "      <th></th>\n",
       "      <th>Review_Text</th>\n",
       "      <th>Summary</th>\n",
       "    </tr>\n",
       "    <tr>\n",
       "      <th>Headphone_Name</th>\n",
       "      <th></th>\n",
       "      <th></th>\n",
       "    </tr>\n",
       "  </thead>\n",
       "  <tbody>\n",
       "    <tr>\n",
       "      <th>1MORE Evo</th>\n",
       "      <td>- This video was sponsored by 1MORE. And they...</td>\n",
       "      <td></td>\n",
       "    </tr>\n",
       "    <tr>\n",
       "      <th>AirPods 3</th>\n",
       "      <td>[Music] hey what's up mkbhd here okay so i'm ...</td>\n",
       "      <td></td>\n",
       "    </tr>\n",
       "    <tr>\n",
       "      <th>AirPods Pro 2 Earbuds</th>\n",
       "      <td>[Music] all right I'll be honest I wasn't eve...</td>\n",
       "      <td>Apple’s noise-canceling earbuds were way overd...</td>\n",
       "    </tr>\n",
       "    <tr>\n",
       "      <th>Beats Fit Pro Earbuds</th>\n",
       "      <td>hey there so we got the airpods third generat...</td>\n",
       "      <td>If you’re looking for the best of what AirPods...</td>\n",
       "    </tr>\n",
       "    <tr>\n",
       "      <th>Bose Quietcomfort Earbuds</th>\n",
       "      <td>finally bose's new 280 dollar noise canceling...</td>\n",
       "      <td>Bose has come a long way since the SoundSport ...</td>\n",
       "    </tr>\n",
       "    <tr>\n",
       "      <th>Bose Quietcomfort Earbuds 2</th>\n",
       "      <td>The Bose QuietComfort Earbuds are a \\nfrustra...</td>\n",
       "      <td>If it’s supreme noise blocking you’re looking ...</td>\n",
       "    </tr>\n",
       "    <tr>\n",
       "      <th>Buy LG TONE TF8</th>\n",
       "      <td>hi everyone and welcome to the channel lg hav...</td>\n",
       "      <td></td>\n",
       "    </tr>\n",
       "    <tr>\n",
       "      <th>Galaxy Buds2 Pro</th>\n",
       "      <td>It's been six months since I bought \\na pair ...</td>\n",
       "      <td>I’ve said a set of Samsung’s Galaxy Buds are i...</td>\n",
       "    </tr>\n",
       "    <tr>\n",
       "      <th>Jabra Elite 7 Pro</th>\n",
       "      <td>jabra claims to have reinvented true wireless...</td>\n",
       "      <td></td>\n",
       "    </tr>\n",
       "    <tr>\n",
       "      <th>Pixel Buds Pro</th>\n",
       "      <td>[Music] so the pixel buds a series the cheape...</td>\n",
       "      <td>Google’s best earbuds yet are also its most co...</td>\n",
       "    </tr>\n",
       "    <tr>\n",
       "      <th>Sennheiser MTW3</th>\n",
       "      <td>hey everyone welcome to the channel my name i...</td>\n",
       "      <td></td>\n",
       "    </tr>\n",
       "    <tr>\n",
       "      <th>Sony Linkbuds S</th>\n",
       "      <td>- I'm a little confused. (box thumping) We ju...</td>\n",
       "      <td>Sony largely succeeded at what it set out to d...</td>\n",
       "    </tr>\n",
       "    <tr>\n",
       "      <th>Sony Linkbuds original</th>\n",
       "      <td>hey there these are sony's new link buds and ...</td>\n",
       "      <td></td>\n",
       "    </tr>\n",
       "    <tr>\n",
       "      <th>Sony WF-1000XM5</th>\n",
       "      <td>foreign folks I'm here with a product that a ...</td>\n",
       "      <td>With the WF-1000XM5, Sony improves its already...</td>\n",
       "    </tr>\n",
       "    <tr>\n",
       "      <th>Soundcore Liberty 3</th>\n",
       "      <td>- Sponsored by Soundcore by Anker, we've got ...</td>\n",
       "      <td></td>\n",
       "    </tr>\n",
       "    <tr>\n",
       "      <th>sony xm4 earbuds</th>\n",
       "      <td>The Sony WF-1000XM4 earbuds, which is a mouth...</td>\n",
       "      <td>Sony nearly did it again. The company has domi...</td>\n",
       "    </tr>\n",
       "  </tbody>\n",
       "</table>\n",
       "</div>"
      ],
      "text/plain": [
       "                                                                   Review_Text  \\\n",
       "Headphone_Name                                                                   \n",
       "1MORE Evo                     - This video was sponsored by 1MORE. And they...   \n",
       "AirPods 3                     [Music] hey what's up mkbhd here okay so i'm ...   \n",
       "AirPods Pro 2 Earbuds         [Music] all right I'll be honest I wasn't eve...   \n",
       "Beats Fit Pro Earbuds         hey there so we got the airpods third generat...   \n",
       "Bose Quietcomfort Earbuds     finally bose's new 280 dollar noise canceling...   \n",
       "Bose Quietcomfort Earbuds 2   The Bose QuietComfort Earbuds are a \\nfrustra...   \n",
       "Buy LG TONE TF8               hi everyone and welcome to the channel lg hav...   \n",
       "Galaxy Buds2 Pro              It's been six months since I bought \\na pair ...   \n",
       "Jabra Elite 7 Pro             jabra claims to have reinvented true wireless...   \n",
       "Pixel Buds Pro                [Music] so the pixel buds a series the cheape...   \n",
       "Sennheiser MTW3               hey everyone welcome to the channel my name i...   \n",
       "Sony Linkbuds S               - I'm a little confused. (box thumping) We ju...   \n",
       "Sony Linkbuds original        hey there these are sony's new link buds and ...   \n",
       "Sony WF-1000XM5               foreign folks I'm here with a product that a ...   \n",
       "Soundcore Liberty 3           - Sponsored by Soundcore by Anker, we've got ...   \n",
       "sony xm4 earbuds              The Sony WF-1000XM4 earbuds, which is a mouth...   \n",
       "\n",
       "                                                                       Summary  \n",
       "Headphone_Name                                                                  \n",
       "1MORE Evo                                                                       \n",
       "AirPods 3                                                                       \n",
       "AirPods Pro 2 Earbuds        Apple’s noise-canceling earbuds were way overd...  \n",
       "Beats Fit Pro Earbuds        If you’re looking for the best of what AirPods...  \n",
       "Bose Quietcomfort Earbuds    Bose has come a long way since the SoundSport ...  \n",
       "Bose Quietcomfort Earbuds 2  If it’s supreme noise blocking you’re looking ...  \n",
       "Buy LG TONE TF8                                                                 \n",
       "Galaxy Buds2 Pro             I’ve said a set of Samsung’s Galaxy Buds are i...  \n",
       "Jabra Elite 7 Pro                                                               \n",
       "Pixel Buds Pro               Google’s best earbuds yet are also its most co...  \n",
       "Sennheiser MTW3                                                                 \n",
       "Sony Linkbuds S              Sony largely succeeded at what it set out to d...  \n",
       "Sony Linkbuds original                                                          \n",
       "Sony WF-1000XM5              With the WF-1000XM5, Sony improves its already...  \n",
       "Soundcore Liberty 3                                                             \n",
       "sony xm4 earbuds             Sony nearly did it again. The company has domi...  "
      ]
     },
     "execution_count": 6,
     "metadata": {},
     "output_type": "execute_result"
    }
   ],
   "source": [
    "reviews_summaries_df = pd.concat([grouped_orig_df, summaries_df], axis=1)\n",
    "reviews_summaries_df = reviews_summaries_df.rename(columns = {'Sony_Review_Text':'Review_Text'})\n",
    "reviews_summaries_df"
   ]
  },
  {
   "cell_type": "code",
   "execution_count": 7,
   "id": "b51df1bf-f937-496a-b16d-7c1df58add29",
   "metadata": {},
   "outputs": [
    {
     "data": {
      "text/plain": [
       "95035"
      ]
     },
     "execution_count": 7,
     "metadata": {},
     "output_type": "execute_result"
    }
   ],
   "source": [
    "len(reviews_summaries_df.loc['1MORE Evo', 'Review_Text'])"
   ]
  },
  {
   "cell_type": "code",
   "execution_count": 8,
   "id": "fe9a9396-bb75-4e61-b242-ff3dd1f3272f",
   "metadata": {},
   "outputs": [
    {
     "data": {
      "text/plain": [
       "10576"
      ]
     },
     "execution_count": 8,
     "metadata": {},
     "output_type": "execute_result"
    }
   ],
   "source": [
    "len(orig_df.iloc[0, 1])"
   ]
  },
  {
   "cell_type": "markdown",
   "id": "6214edcf-c8dd-4ea5-887a-34710d88921a",
   "metadata": {},
   "source": [
    "## BERT Fine-Tuning\n",
    "\n",
    "Testing out BERT pre-trained models.\n",
    "\n",
    "Burrowed some code from https://github.com/rohan-paul/MachineLearning-DeepLearning-Code-for-my-YouTube-Channel/blob/master/NLP/Fine_Tuning_Pegasus_for_Text_Summarization.ipynb\n",
    "\n",
    "This is also useful, and where the code from above seemingly came from:\n",
    "https://huggingface.co/learn/nlp-course/chapter7/5?fw=pt"
   ]
  },
  {
   "cell_type": "code",
   "execution_count": 9,
   "id": "cc2f5555-f00e-4b6c-a0a4-9e727a2745cf",
   "metadata": {},
   "outputs": [],
   "source": [
    "#!pip install tokenizers==0.13.2\n",
    "#!pip install transformers[sentencepiece] datasets sacrebleu rouge_score py7zr -q\n",
    "#!pip install bert-extractive-summarizer\n",
    "#!pip install transformers\n",
    "#!pip install --upgrade huggingface-hub\n",
    "#!pip install rouge_score\n",
    "#!conda install -c pytorch pytorch"
   ]
  },
  {
   "cell_type": "code",
   "execution_count": 10,
   "id": "04510f9b-8764-4343-abbf-29aa4fab41ed",
   "metadata": {},
   "outputs": [],
   "source": [
    "from transformers import set_seed, pipeline, AutoTokenizer, AutoModelForSeq2SeqLM, BertTokenizer\n",
    "from nltk.tokenize import sent_tokenize\n",
    "import torch\n",
    "\n",
    "from transformers import DataCollatorForSeq2Seq, Seq2SeqTrainer, Seq2SeqTrainingArguments\n",
    "\n",
    "from datasets import Dataset, DatasetDict"
   ]
  },
  {
   "cell_type": "code",
   "execution_count": 18,
   "id": "e1fffdf8-e065-4890-985f-f4c804038d19",
   "metadata": {},
   "outputs": [
    {
     "name": "stderr",
     "output_type": "stream",
     "text": [
      "Some weights of PegasusForConditionalGeneration were not initialized from the model checkpoint at google/pegasus-cnn_dailymail and are newly initialized: ['model.decoder.embed_positions.weight', 'model.encoder.embed_positions.weight']\n",
      "You should probably TRAIN this model on a down-stream task to be able to use it for predictions and inference.\n"
     ]
    }
   ],
   "source": [
    "device = \"cuda\" if torch.cuda.is_available() else \"cpu\"\n",
    "\n",
    "model_ckpt = \"google/pegasus-cnn_dailymail\"\n",
    "#model_ckpt = \"google/pegasus-multi_news\"\n",
    "\n",
    "tokenizer = AutoTokenizer.from_pretrained(model_ckpt)\n",
    "\n",
    "model_pegasus = AutoModelForSeq2SeqLM.from_pretrained(model_ckpt).to(device)"
   ]
  },
  {
   "cell_type": "code",
   "execution_count": 53,
   "id": "9699b2e9-469e-4f25-82b1-d92da02e963b",
   "metadata": {},
   "outputs": [],
   "source": [
    "def generate_batch_sized_chunks(list_of_elements, batch_size):\n",
    "    \"\"\"split the dataset into smaller batches that we can process simultaneously\n",
    "    Yield successive batch-sized chunks from list_of_elements.\n",
    "    \n",
    "    Yields consecutive chunks from a list.\n",
    "\n",
    "    Args:\n",
    "        list_of_elements (List[Any]): The list to be divided into chunks.\n",
    "        batch_size (int): The size of chunks.\n",
    "\n",
    "    Yields:\n",
    "        List[Any]: A chunk from the list of the specified size.\n",
    "        \n",
    "    \"\"\"\n",
    "    for i in range(0, len(list_of_elements), batch_size):\n",
    "        yield list_of_elements[i : i + batch_size]\n",
    "\n",
    "def calculate_metric_on_test_ds(dataset, metric, model, tokenizer, \n",
    "                               batch_size=2, device=device, \n",
    "                               column_text=\"Review_Text\", \n",
    "                               column_summary=\"Summary\"):\n",
    "    \"\"\"\n",
    "    Calculates a specified metric on a test dataset.\n",
    "\n",
    "    Args:\n",
    "        dataset (Dataset): The dataset to evaluate.\n",
    "        metric (Metric): The metric to calculate.\n",
    "        model (nn.Module): The model to evaluate.\n",
    "        tokenizer (Tokenizer): The tokenizer to use for text processing.\n",
    "        batch_size (int, optional): The batch size for evaluation.\n",
    "        device (torch.device, optional): The device to use for computation.\n",
    "        column_text (str, optional): The name of the text column in the dataset.\n",
    "        column_summary (str, optional): The name of the summary column in the dataset.\n",
    "\n",
    "    Returns:\n",
    "        Dict[str, float]: The calculated metric scores.\n",
    "    \"\"\"\n",
    "    article_batches = list(generate_batch_sized_chunks(dataset[column_text], batch_size))\n",
    "    target_batches = list(generate_batch_sized_chunks(dataset[column_summary], batch_size))\n",
    "\n",
    "    for article_batch, target_batch in tqdm(\n",
    "        zip(article_batches, target_batches), total=len(article_batches)):\n",
    "        \n",
    "        inputs = tokenizer(article_batch, max_length=1024,  truncation=True, \n",
    "                        padding=\"max_length\", return_tensors=\"pt\")\n",
    "        \n",
    "        summaries = model.generate(input_ids=inputs[\"input_ids\"].to(device),\n",
    "                         attention_mask=inputs[\"attention_mask\"].to(device), \n",
    "                         length_penalty=0.8, num_beams=8, max_length=128)\n",
    "        ''' parameter for length penalty ensures that the model does not generate sequences that are too long. '''\n",
    "        \n",
    "        # Finally, we decode the generated texts, \n",
    "        # replace the <n> token, and add the decoded texts with the references to the metric.\n",
    "        decoded_summaries = [tokenizer.decode(s, skip_special_tokens=True, \n",
    "                                clean_up_tokenization_spaces=True) \n",
    "               for s in summaries]      \n",
    "        \n",
    "        decoded_summaries = [d.replace(\"<n>\", \" \") for d in decoded_summaries]\n",
    "        \n",
    "        \n",
    "        metric.add_batch(predictions=decoded_summaries, references=target_batch)\n",
    "        \n",
    "    #  Finally compute and return the ROUGE scores.\n",
    "    score = metric.compute()\n",
    "    return score"
   ]
  },
  {
   "cell_type": "code",
   "execution_count": 13,
   "id": "e022bde4-7fb6-4649-834e-1ac8f2b8be50",
   "metadata": {},
   "outputs": [
    {
     "name": "stdout",
     "output_type": "stream",
     "text": [
      "Model type: bart\n"
     ]
    }
   ],
   "source": [
    "from transformers import AutoConfig\n",
    "import os\n",
    "\n",
    "model_ckpt = \"facebook/bart-large-cnn\"\n",
    "\n",
    "# Get the configuration for the model\n",
    "config = AutoConfig.from_pretrained(model_ckpt)\n",
    "\n",
    "# Check if the configuration contains the 'model_type' field\n",
    "if hasattr(config, 'model_type'):\n",
    "    print(f\"Model type: {config.model_type}\")\n",
    "else:\n",
    "    print(\"Configuration does not contain 'model_type' field.\")"
   ]
  },
  {
   "cell_type": "code",
   "execution_count": 14,
   "id": "5f541668-d931-4587-8849-e0385f284e53",
   "metadata": {},
   "outputs": [
    {
     "name": "stdout",
     "output_type": "stream",
     "text": [
      "No 'config.json' file found in the model directory.\n"
     ]
    }
   ],
   "source": [
    "# Check if the 'config.json' file exists in the model directory\n",
    "model_directory = os.path.join(model_ckpt, 'model')\n",
    "config_file_path = os.path.join(model_directory, 'config.json')\n",
    "\n",
    "if os.path.exists(config_file_path):\n",
    "    print(f\"'config.json' file exists in the model directory: {config_file_path}\")\n",
    "else:\n",
    "    print(\"No 'config.json' file found in the model directory.\")"
   ]
  },
  {
   "cell_type": "markdown",
   "id": "c7c04e17-e02f-4d47-bf4c-2893120dc891",
   "metadata": {},
   "source": [
    "Trying this on some sample text first."
   ]
  },
  {
   "cell_type": "code",
   "execution_count": 19,
   "id": "20ae9100-5ace-48ea-b642-6a9acf4fd663",
   "metadata": {},
   "outputs": [],
   "source": [
    "sample_text = reviews_summaries_df.loc['sony xm4 earbuds', 'Review_Text']"
   ]
  },
  {
   "cell_type": "code",
   "execution_count": 20,
   "id": "45282b91-9f1e-4a3f-9400-db6e0b92fa9b",
   "metadata": {},
   "outputs": [
    {
     "name": "stdout",
     "output_type": "stream",
     "text": [
      "Summary: The Sony WF-1000XM4 earbuds cost $279.<n>They're one of the most affordable earbuds on the market.<n>Reviewer says they have the best noise cancellation of any buds he's tried.<n>They have great bass, clarity and support Sony's LDAC technology.<n>But they're not the best for phone calls that I've ever used, but they'll get you by.<n>They're also great for when I'm cooking or cleaning around the home.<n>But they're not the best for phone calls that I've ever used, but they'll still get you by.<n>You can customize what you want each tap to register, plus a long press, plus a long press, plus a double tap, plus the IPX4 water resistance rating, as well as a long press, and double tap, and triple tap, as well as a long press, and double tap, as well as a long press, and triple tap, as well as a long press, and double tap, as well as a long press, and triple tap, as well as a long press, and double tap, as well as a long press, and triple tap, as well as a long press, and double tap, as well as a long press, and triple tap, as well as a long press and double tap, and they're the best sound quality he's ever used.<n>They have one of the best sound quality he's tried.\n"
     ]
    }
   ],
   "source": [
    "# Tokenize and encode the text\n",
    "input_ids = tokenizer.encode(\"summarize: \" + sample_text, return_tensors=\"pt\", max_length=1024, truncation=True).to(device)\n",
    "\n",
    "# Generate the summary\n",
    "summary_ids = model_pegasus.generate(input_ids, max_length=500, min_length=300, length_penalty=2.0, num_beams=4, early_stopping=True)\n",
    "\n",
    "# Decode and print the summary\n",
    "summary = tokenizer.decode(summary_ids[0], skip_special_tokens=True)\n",
    "print(\"Summary:\", summary)\n"
   ]
  },
  {
   "cell_type": "code",
   "execution_count": 21,
   "id": "bf0a4712-94c7-4357-92be-9c0cf16b2872",
   "metadata": {},
   "outputs": [
    {
     "data": {
      "text/plain": [
       "1179"
      ]
     },
     "execution_count": 21,
     "metadata": {},
     "output_type": "execute_result"
    }
   ],
   "source": [
    "len(summary)"
   ]
  },
  {
   "cell_type": "markdown",
   "id": "e895e1eb-4c09-473d-8dc2-9c0b7f1a33e9",
   "metadata": {},
   "source": [
    "Now let's try to fine tune it."
   ]
  },
  {
   "cell_type": "code",
   "execution_count": 22,
   "id": "8a785e81-8e7f-4a0b-aba3-7603f49cdd99",
   "metadata": {},
   "outputs": [],
   "source": [
    "from sklearn.model_selection import train_test_split\n",
    "\n",
    "nonempty_df = reviews_summaries_df.replace(r'^\\s*$', pd.NA, regex=True).dropna()\n",
    "\n",
    "# Define the proportions for the splits\n",
    "train_size = 0.6\n",
    "validation_size = 0.2\n",
    "test_size = 0.2\n",
    "\n",
    "# First, split the data into a temporary training set and a temporary test set\n",
    "train, temp_test = train_test_split(nonempty_df, test_size=1 - train_size, random_state=42)\n",
    "\n",
    "# Then, split the temporary test set into the validation set and the final test set\n",
    "final_validation, final_test = train_test_split(temp_test, test_size=test_size / (test_size + validation_size), random_state=42)\n"
   ]
  },
  {
   "cell_type": "code",
   "execution_count": 23,
   "id": "964e37b5-fbcb-4372-9945-6194d3ee2fd0",
   "metadata": {},
   "outputs": [
    {
     "data": {
      "text/plain": [
       "DatasetDict({\n",
       "    train: Dataset({\n",
       "        features: ['Review_Text', 'Summary', 'Headphone_Name'],\n",
       "        num_rows: 5\n",
       "    })\n",
       "    validation: Dataset({\n",
       "        features: ['Review_Text', 'Summary', 'Headphone_Name'],\n",
       "        num_rows: 2\n",
       "    })\n",
       "    test: Dataset({\n",
       "        features: ['Review_Text', 'Summary', 'Headphone_Name'],\n",
       "        num_rows: 2\n",
       "    })\n",
       "})"
      ]
     },
     "execution_count": 23,
     "metadata": {},
     "output_type": "execute_result"
    }
   ],
   "source": [
    "train_ds = Dataset.from_pandas(train)\n",
    "validation_ds = Dataset.from_pandas(final_validation)\n",
    "test_ds = Dataset.from_pandas(final_test)\n",
    "\n",
    "ds = DatasetDict()\n",
    "\n",
    "ds['train'] = train_ds\n",
    "ds['validation'] = validation_ds\n",
    "ds['test'] = test_ds\n",
    "\n",
    "ds"
   ]
  },
  {
   "cell_type": "code",
   "execution_count": 24,
   "id": "07e736e0-b5d8-48e2-867b-07d97c56945c",
   "metadata": {},
   "outputs": [
    {
     "name": "stderr",
     "output_type": "stream",
     "text": [
      "Some weights of PegasusForConditionalGeneration were not initialized from the model checkpoint at google/pegasus-cnn_dailymail and are newly initialized: ['model.decoder.embed_positions.weight', 'model.encoder.embed_positions.weight']\n",
      "You should probably TRAIN this model on a down-stream task to be able to use it for predictions and inference.\n"
     ]
    }
   ],
   "source": [
    "model_ckpt = \"google/pegasus-cnn_dailymail\"\n",
    "\n",
    "pipe = pipeline('summarization', model = model_ckpt )\n",
    "\n",
    "pipe_out = pipe(ds['test'][0]['Review_Text'][:1000])\n",
    "\n",
    "\n",
    "tokenizer = AutoTokenizer.from_pretrained(model_ckpt)"
   ]
  },
  {
   "cell_type": "code",
   "execution_count": 25,
   "id": "3acc9aaa-de8a-4a47-9488-0bd962f4ac56",
   "metadata": {},
   "outputs": [
    {
     "name": "stderr",
     "output_type": "stream",
     "text": [
      "C:\\Users\\RaviB\\AppData\\Local\\Temp\\ipykernel_18756\\558441046.py:6: FutureWarning: load_metric is deprecated and will be removed in the next major version of datasets. Use 'evaluate.load' instead, from the new library 🤗 Evaluate: https://huggingface.co/docs/evaluate\n",
      "  rouge_metric = load_metric('rouge')\n",
      "100%|████████████████████████████████████████████████████████████████████████████████████| 1/1 [00:43<00:00, 43.12s/it]\n"
     ]
    }
   ],
   "source": [
    "from datasets import load_metric\n",
    "from tqdm import tqdm\n",
    "\n",
    "rouge_names = [\"rouge1\", \"rouge2\", \"rougeL\", \"rougeLsum\"]\n",
    "\n",
    "rouge_metric = load_metric('rouge')\n",
    "\n",
    "score = calculate_metric_on_test_ds(ds['test'], rouge_metric, model_pegasus, tokenizer)"
   ]
  },
  {
   "cell_type": "code",
   "execution_count": 26,
   "id": "7e40cc8c-2855-44fa-b64b-1a92b5b674a1",
   "metadata": {},
   "outputs": [
    {
     "data": {
      "text/html": [
       "<div>\n",
       "<style scoped>\n",
       "    .dataframe tbody tr th:only-of-type {\n",
       "        vertical-align: middle;\n",
       "    }\n",
       "\n",
       "    .dataframe tbody tr th {\n",
       "        vertical-align: top;\n",
       "    }\n",
       "\n",
       "    .dataframe thead th {\n",
       "        text-align: right;\n",
       "    }\n",
       "</style>\n",
       "<table border=\"1\" class=\"dataframe\">\n",
       "  <thead>\n",
       "    <tr style=\"text-align: right;\">\n",
       "      <th></th>\n",
       "      <th>rouge1</th>\n",
       "      <th>rouge2</th>\n",
       "      <th>rougeL</th>\n",
       "      <th>rougeLsum</th>\n",
       "    </tr>\n",
       "  </thead>\n",
       "  <tbody>\n",
       "    <tr>\n",
       "      <th>pegasus</th>\n",
       "      <td>0.284566</td>\n",
       "      <td>0.044188</td>\n",
       "      <td>0.159174</td>\n",
       "      <td>0.159174</td>\n",
       "    </tr>\n",
       "  </tbody>\n",
       "</table>\n",
       "</div>"
      ],
      "text/plain": [
       "           rouge1    rouge2    rougeL  rougeLsum\n",
       "pegasus  0.284566  0.044188  0.159174   0.159174"
      ]
     },
     "execution_count": 26,
     "metadata": {},
     "output_type": "execute_result"
    }
   ],
   "source": [
    "rouge_dict = dict((rn, score[rn].mid.fmeasure ) for rn in rouge_names )\n",
    "\n",
    "pd.DataFrame(rouge_dict, index = ['pegasus'])"
   ]
  },
  {
   "cell_type": "code",
   "execution_count": 27,
   "id": "5988a68d-f325-4983-8152-888e4d68bc1d",
   "metadata": {},
   "outputs": [],
   "source": [
    "def convert_examples_to_features(example_batch):\n",
    "    input_encodings = tokenizer(example_batch['Review_Text'] , max_length = 1024, truncation = True )\n",
    "    \n",
    "    with tokenizer.as_target_tokenizer():\n",
    "        target_encodings = tokenizer(example_batch['Summary'], max_length = 128, truncation = True )\n",
    "        \n",
    "    return {\n",
    "        'input_ids' : input_encodings['input_ids'],\n",
    "        'attention_mask': input_encodings['attention_mask'],\n",
    "        'labels': target_encodings['input_ids']\n",
    "    }\n",
    "\n",
    "#dataset = Dataset.from_dict(dataset_dict)"
   ]
  },
  {
   "cell_type": "code",
   "execution_count": 28,
   "id": "6b6dffd3-bf59-455f-80c0-d10c1ee6c9e8",
   "metadata": {},
   "outputs": [
    {
     "data": {
      "application/vnd.jupyter.widget-view+json": {
       "model_id": "",
       "version_major": 2,
       "version_minor": 0
      },
      "text/plain": [
       "Map:   0%|          | 0/5 [00:00<?, ? examples/s]"
      ]
     },
     "metadata": {},
     "output_type": "display_data"
    },
    {
     "name": "stderr",
     "output_type": "stream",
     "text": [
      "C:\\Users\\RaviB\\AppData\\Roaming\\Python\\Python39\\site-packages\\transformers\\tokenization_utils_base.py:3848: UserWarning: `as_target_tokenizer` is deprecated and will be removed in v5 of Transformers. You can tokenize your labels by using the argument `text_target` of the regular `__call__` method (either in the same call as your input texts if you use the same keyword arguments, or in a separate call.\n",
      "  warnings.warn(\n"
     ]
    },
    {
     "data": {
      "application/vnd.jupyter.widget-view+json": {
       "model_id": "",
       "version_major": 2,
       "version_minor": 0
      },
      "text/plain": [
       "Map:   0%|          | 0/2 [00:00<?, ? examples/s]"
      ]
     },
     "metadata": {},
     "output_type": "display_data"
    },
    {
     "data": {
      "application/vnd.jupyter.widget-view+json": {
       "model_id": "",
       "version_major": 2,
       "version_minor": 0
      },
      "text/plain": [
       "Map:   0%|          | 0/2 [00:00<?, ? examples/s]"
      ]
     },
     "metadata": {},
     "output_type": "display_data"
    }
   ],
   "source": [
    "dataset_dict_pt = ds.map(convert_examples_to_features, batched = True)"
   ]
  },
  {
   "cell_type": "code",
   "execution_count": 29,
   "id": "067e5ae1-1048-4794-af7e-54785cb48c92",
   "metadata": {},
   "outputs": [],
   "source": [
    "data_collator = DataCollatorForSeq2Seq(tokenizer, model=model_pegasus)"
   ]
  },
  {
   "cell_type": "code",
   "execution_count": 55,
   "id": "4ee8aa20-35e7-459a-9c2b-aa6fcebf3970",
   "metadata": {},
   "outputs": [],
   "source": [
    "import accelerate\n",
    "import transformers\n",
    "from transformers import TrainingArguments, Trainer\n",
    "\n",
    "trainer_args = TrainingArguments(\n",
    "    output_dir='pegasus-reviews', num_train_epochs=6, warmup_steps=500,\n",
    "    per_device_train_batch_size=2, per_device_eval_batch_size=2,\n",
    "    weight_decay=0.01, logging_steps=1,\n",
    "    evaluation_strategy='epoch', save_steps=1e6,\n",
    "    gradient_accumulation_steps=16\n",
    ") "
   ]
  },
  {
   "cell_type": "code",
   "execution_count": 56,
   "id": "70092d5c-5d66-4597-b436-1ea31e875b20",
   "metadata": {},
   "outputs": [],
   "source": [
    "trainer = Trainer(model=model_pegasus, args=trainer_args,\n",
    "                  tokenizer=tokenizer, data_collator=data_collator,\n",
    "                  train_dataset=dataset_dict_pt[\"train\"], \n",
    "                  eval_dataset=dataset_dict_pt[\"validation\"])"
   ]
  },
  {
   "cell_type": "code",
   "execution_count": 57,
   "id": "40207d13-be03-4617-b6c7-acb06f2fa2e3",
   "metadata": {},
   "outputs": [
    {
     "data": {
      "text/html": [
       "\n",
       "    <div>\n",
       "      \n",
       "      <progress value='6' max='6' style='width:300px; height:20px; vertical-align: middle;'></progress>\n",
       "      [6/6 12:49, Epoch 5/6]\n",
       "    </div>\n",
       "    <table border=\"1\" class=\"dataframe\">\n",
       "  <thead>\n",
       " <tr style=\"text-align: left;\">\n",
       "      <th>Epoch</th>\n",
       "      <th>Training Loss</th>\n",
       "      <th>Validation Loss</th>\n",
       "    </tr>\n",
       "  </thead>\n",
       "  <tbody>\n",
       "    <tr>\n",
       "      <td>1</td>\n",
       "      <td>0.854100</td>\n",
       "      <td>4.311434</td>\n",
       "    </tr>\n",
       "    <tr>\n",
       "      <td>2</td>\n",
       "      <td>0.817800</td>\n",
       "      <td>4.311206</td>\n",
       "    </tr>\n",
       "    <tr>\n",
       "      <td>3</td>\n",
       "      <td>0.936600</td>\n",
       "      <td>4.310781</td>\n",
       "    </tr>\n",
       "    <tr>\n",
       "      <td>4</td>\n",
       "      <td>0.831000</td>\n",
       "      <td>4.310161</td>\n",
       "    </tr>\n",
       "    <tr>\n",
       "      <td>5</td>\n",
       "      <td>0.278100</td>\n",
       "      <td>4.308462</td>\n",
       "    </tr>\n",
       "  </tbody>\n",
       "</table><p>"
      ],
      "text/plain": [
       "<IPython.core.display.HTML object>"
      ]
     },
     "metadata": {},
     "output_type": "display_data"
    },
    {
     "data": {
      "text/plain": [
       "TrainOutput(global_step=6, training_loss=0.7578463157018026, metrics={'train_runtime': 874.1067, 'train_samples_per_second': 0.034, 'train_steps_per_second': 0.007, 'total_flos': 78015539183616.0, 'train_loss': 0.7578463157018026, 'epoch': 5.33})"
      ]
     },
     "execution_count": 57,
     "metadata": {},
     "output_type": "execute_result"
    }
   ],
   "source": [
    "trainer.train()"
   ]
  },
  {
   "cell_type": "code",
   "execution_count": 58,
   "id": "02c344d3-78e0-43f1-804b-03db45edb8a4",
   "metadata": {},
   "outputs": [
    {
     "name": "stderr",
     "output_type": "stream",
     "text": [
      "100%|████████████████████████████████████████████████████████████████████████████████████| 1/1 [00:42<00:00, 42.50s/it]\n"
     ]
    }
   ],
   "source": [
    "rouge_names = [\"rouge1\", \"rouge2\", \"rougeL\", \"rougeLsum\"]\n",
    "\n",
    "rouge_metric = load_metric('rouge')\n",
    "\n",
    "score = calculate_metric_on_test_ds(\n",
    "    ds['test'], rouge_metric, trainer.model, tokenizer, batch_size = 2, column_text = 'Review_Text', column_summary= 'Summary'\n",
    ")"
   ]
  },
  {
   "cell_type": "code",
   "execution_count": 59,
   "id": "8f1131b7-38ee-41ac-bbc2-78865bc8f4e9",
   "metadata": {},
   "outputs": [
    {
     "data": {
      "text/html": [
       "<div>\n",
       "<style scoped>\n",
       "    .dataframe tbody tr th:only-of-type {\n",
       "        vertical-align: middle;\n",
       "    }\n",
       "\n",
       "    .dataframe tbody tr th {\n",
       "        vertical-align: top;\n",
       "    }\n",
       "\n",
       "    .dataframe thead th {\n",
       "        text-align: right;\n",
       "    }\n",
       "</style>\n",
       "<table border=\"1\" class=\"dataframe\">\n",
       "  <thead>\n",
       "    <tr style=\"text-align: right;\">\n",
       "      <th></th>\n",
       "      <th>rouge1</th>\n",
       "      <th>rouge2</th>\n",
       "      <th>rougeL</th>\n",
       "      <th>rougeLsum</th>\n",
       "    </tr>\n",
       "  </thead>\n",
       "  <tbody>\n",
       "    <tr>\n",
       "      <th>pegasus</th>\n",
       "      <td>0.284566</td>\n",
       "      <td>0.044188</td>\n",
       "      <td>0.159174</td>\n",
       "      <td>0.159174</td>\n",
       "    </tr>\n",
       "  </tbody>\n",
       "</table>\n",
       "</div>"
      ],
      "text/plain": [
       "           rouge1    rouge2    rougeL  rougeLsum\n",
       "pegasus  0.284566  0.044188  0.159174   0.159174"
      ]
     },
     "execution_count": 59,
     "metadata": {},
     "output_type": "execute_result"
    }
   ],
   "source": [
    "rouge_dict = dict((rn, score[rn].mid.fmeasure ) for rn in rouge_names )\n",
    "\n",
    "pd.DataFrame(rouge_dict, index = [f'pegasus'] )"
   ]
  },
  {
   "cell_type": "code",
   "execution_count": 61,
   "id": "6b05e760-db57-491b-9a63-cf319bc8aef3",
   "metadata": {
    "tags": []
   },
   "outputs": [
    {
     "data": {
      "application/vnd.jupyter.widget-view+json": {
       "model_id": "e55c0dd6f5694482aea42095055a9ebf",
       "version_major": 2,
       "version_minor": 0
      },
      "text/plain": [
       "VBox(children=(HTML(value='<center> <img\\nsrc=https://huggingface.co/front/assets/huggingface_logo-noborder.sv…"
      ]
     },
     "metadata": {},
     "output_type": "display_data"
    }
   ],
   "source": [
    "from huggingface_hub import notebook_login\n",
    "notebook_login()"
   ]
  },
  {
   "cell_type": "code",
   "execution_count": 62,
   "id": "8056bf3a-cbd3-4e8d-b0b2-b742045c4efe",
   "metadata": {
    "tags": []
   },
   "outputs": [
    {
     "data": {
      "application/vnd.jupyter.widget-view+json": {
       "model_id": "4a031a824c5049758552b7c2562472ea",
       "version_major": 2,
       "version_minor": 0
      },
      "text/plain": [
       "pytorch_model.bin:   0%|          | 0.00/2.28G [00:00<?, ?B/s]"
      ]
     },
     "metadata": {},
     "output_type": "display_data"
    },
    {
     "data": {
      "application/vnd.jupyter.widget-view+json": {
       "model_id": "a2733a1c02dd462caa5ffbe3b2fb2ff5",
       "version_major": 2,
       "version_minor": 0
      },
      "text/plain": [
       "Upload 2 LFS files:   0%|          | 0/2 [00:00<?, ?it/s]"
      ]
     },
     "metadata": {},
     "output_type": "display_data"
    },
    {
     "data": {
      "application/vnd.jupyter.widget-view+json": {
       "model_id": "c69a590117254b90a3442a07567001a7",
       "version_major": 2,
       "version_minor": 0
      },
      "text/plain": [
       "training_args.bin:   0%|          | 0.00/4.47k [00:00<?, ?B/s]"
      ]
     },
     "metadata": {},
     "output_type": "display_data"
    },
    {
     "data": {
      "text/plain": [
       "'https://huggingface.co/ravinderbrai/pegasus-reviews/tree/main/'"
      ]
     },
     "execution_count": 62,
     "metadata": {},
     "output_type": "execute_result"
    }
   ],
   "source": [
    "trainer.push_to_hub(commit_message=\"Training complete\", tags=\"summarization\")"
   ]
  },
  {
   "cell_type": "code",
   "execution_count": 63,
   "id": "0a9085d9-4138-4799-8504-9f4f647da54f",
   "metadata": {},
   "outputs": [],
   "source": [
    "gen_kwargs = {\"length_penalty\": 0.8, \"num_beams\":8, \"max_length\": 128}\n",
    "\n",
    "\n",
    "\n",
    "sample_text = ds[\"test\"][0][\"Review_Text\"]\n",
    "\n",
    "reference = ds[\"test\"][0][\"Summary\"]\n",
    "\n",
    "pipe = pipeline(\"summarization\", model='pegasus-reviews')"
   ]
  },
  {
   "cell_type": "code",
   "execution_count": 69,
   "id": "00cc3c98-383f-4c0c-a134-f5bbc23d78a3",
   "metadata": {},
   "outputs": [
    {
     "name": "stdout",
     "output_type": "stream",
     "text": [
      "Review_Text:\n",
      "\n",
      "Summary:\n",
      "\n",
      "Model Summary:\n"
     ]
    }
   ],
   "source": [
    "## \n",
    "print(\"Review_Text:\")\n",
    "#print(sample_text)\n",
    "\n",
    "\n",
    "print(\"\\nSummary:\")\n",
    "#print(reference)\n",
    "\n",
    "\n",
    "print(\"\\nModel Summary:\")\n",
    "#print(pipe(sample_text, **gen_kwargs)[0][\"summary_text\"])"
   ]
  },
  {
   "cell_type": "code",
   "execution_count": 64,
   "id": "61fa1c8d-0ddc-49a9-81b5-f3c775156359",
   "metadata": {},
   "outputs": [
    {
     "data": {
      "text/plain": [
       "\"The new beats fit pro noise cancelling earbuds come in four color options .<n>The earhook gives you a feeling of security that your buds aren't going to fall off your head .<n>What's interesting with the fit pro is that the wing tip has been .\""
      ]
     },
     "execution_count": 64,
     "metadata": {},
     "output_type": "execute_result"
    }
   ],
   "source": [
    "pipe(sample_text[:1025], **gen_kwargs)[0][\"summary_text\"]"
   ]
  },
  {
   "cell_type": "code",
   "execution_count": 65,
   "id": "71c0b8dc-7a8e-43ed-90c1-a84acdb641b9",
   "metadata": {},
   "outputs": [
    {
     "data": {
      "text/plain": [
       "93063"
      ]
     },
     "execution_count": 65,
     "metadata": {},
     "output_type": "execute_result"
    }
   ],
   "source": [
    "len(sample_text)"
   ]
  },
  {
   "cell_type": "code",
   "execution_count": 66,
   "id": "22de4857-494e-4b42-9580-9ddd72a7ca76",
   "metadata": {
    "tags": []
   },
   "outputs": [
    {
     "name": "stderr",
     "output_type": "stream",
     "text": [
      "Token indices sequence length is longer than the specified maximum sequence length for this model (20104 > 1024). Running this sequence through the model will result in indexing errors\n"
     ]
    },
    {
     "name": "stdout",
     "output_type": "stream",
     "text": [
      "20104\n"
     ]
    }
   ],
   "source": [
    "sample_tokens = tokenizer.tokenize(sample_text)  # Use your specific tokenizer\n",
    "\n",
    "# Calculate the total token count\n",
    "total_tokens = len(sample_tokens)\n",
    "print(total_tokens)"
   ]
  },
  {
   "cell_type": "code",
   "execution_count": 67,
   "id": "ad02f661-42d3-47c4-a7b1-c2ac0fc9e8e3",
   "metadata": {
    "tags": []
   },
   "outputs": [
    {
     "data": {
      "text/plain": [
       "19456"
      ]
     },
     "execution_count": 67,
     "metadata": {},
     "output_type": "execute_result"
    }
   ],
   "source": [
    "#dividing the sample text into parts to fit the 1024 max token length\n",
    "max_sequence_length = 1024\n",
    "num_segments = (total_tokens + max_sequence_length - 1) // max_sequence_length\n",
    "\n",
    "slicing_indices = list(range(0, total_tokens, max_sequence_length))\n",
    "slicing_indices[-1]"
   ]
  },
  {
   "cell_type": "code",
   "execution_count": 70,
   "id": "83426996-5304-4225-aee3-07db29dc55c9",
   "metadata": {
    "tags": []
   },
   "outputs": [],
   "source": [
    "full_txt = \"\"\n",
    "\n",
    "for i in range(0, len(slicing_indices)-1):\n",
    "    full_txt += pipe(sample_text[slicing_indices[i]:slicing_indices[i+1]], **gen_kwargs)[0][\"summary_text\"]\n",
    "    "
   ]
  },
  {
   "cell_type": "code",
   "execution_count": 71,
   "id": "ab7cc689-dd36-4872-a7ec-bff17af694b8",
   "metadata": {
    "tags": []
   },
   "outputs": [
    {
     "data": {
      "text/plain": [
       "\"The new beats fit pro noise cancelling earbuds come in four color options .<n>The earhook gives you a feeling of security that your buds aren't going to fall off your head .<n>What's interesting with the fit pro is that the wing tip has been .integrated into the design it's one size fits all you can't replace it as far as i can tell but it does seem durable .<n>Because it's an extension of the sport fin it is a soft to the touch finish and a little bit of a grip to it use it to control music playback answer and end calls .<n>A long press switches between noise canceling and transparency modes you can also program the long press to be volume controls on the buds themselves .The case for the fit pro isn't as small as the airpods pro case or even the beats studio buds case but it's still pretty compact and much smaller .<n>The case charges via usbc not lightning however it's missing the wireless charging found in the airpods pro and airpods 3 cases .beats studio buds don't have apple's h1 chip so they're missing things like adaptive eq .<n>The fit pro have the same features as the airpods pro .The beats sound will impress you a lot it's good and these avoid distorting at higher volumes which probably has as much to do with the adaptive eq as the drivers themselves .<n>The base packs a little more punching goes a little deeper they have a pretty wide sound stage but they don't offer quite as expansive or refined sound as the more expensive wf-1000x buds .sennheiser tips create a perfect seal in my ears with these earbuds to be clear the beats tips fit my ears well .<n>i'm looking for the perfect fit when i test bud so i can get the optimal performance for sound quality as well as noise cancelling which can suffer if you don't get a tight seal .<n>i can't tell you how boring your tips are they can make or break an earbud and i just wanted to put in a video ho .beats fit pro have ear detection sensors and enhanced find my feature with proximity view .<n>Apple's new spatial audio feature with head tracking is a nice bonus feature .<n> beats fit pro will pair with most other bluetooth audio devices but you'll lose all the extra features .airpods beats has an app for android devices that makes their buds slightly more friendly to android users .<n>The good thing about the beats studio buzz not having an h1 chip was that except for always on hey siri it didn't have those extra apple only features .beats fit pro comes out as the winner over the airpods pro and are the sporty airpods i've always wanted i like the airpods pro a lot and have no problem keeping them in my ears you can also see h .The fit pro really do lock in your ears if you get a tight seal they sound slightly better and have equally good noise canceling their battery life .<n>The hundred fifty dollar studio buds on sale more frequently selling for twenty to thirty dollars off and maybe even approaching a hundred dollars .The beats fit pro are new earbuds by beets .<n>Everything comes in a tiny black box around the box .<n>The airpods pro 2 will be that much better when they arrive perhaps as soon as next year .<n>If you're interested in any of the products mentioned check out the description below for links on where to find them .This package comes with a three month trial of apple music as well as a beat sticker and some other stuff .<n>You get your ear tips so you've got small and large here in case the medium ones that are included on the earbuds don't work out for you .<n>The case is actually a lot thinner and when you open them up you got the earbuds and here you have it you guys these are the beats fit pro .These are a lot smaller than the powerbeats pro case you might like this car .<n>This is supposed to allow the earbuds to of course stay in a lot better than without it .<n>As you guys can see these wing tips kind of rest inside of the ear so when you're doing activities and movement you're jumping all around doing whatever you do it's not going to leave your ears it's going to do a really good job staying in place .With these i don't have to worry about that they do a really good job staying in place .<n>It does take some getting used to having that wingtip just kind of chill in there not gonna lie used to tickle at first .<n>It is so important to have a really good seal so you get the best audio quality out of your earbuds .These have apple's h1 chip so if you're familiar with like air pods like the airpods 3 airpods pro that's the chip that powers those and allows all kinds of cool features like being able to speak to the earbuds .<n>It also allows it to connect to your icloud account whatever your apple devices may be it'll automatically switch between them without you having to press pretty much anything .The beats studio buds are going to work perfectly now even though this is fully integrated with the apple ecosystem the android operating system isn't being left out .<n>If you have an android device and you still want to get the beats fits pro you'll have the app that works so you can get all the features that come with it and still have a good time .These also have active noise cancelling as well as the transparency mode that we like to see with apple's earbuds .<n>They also have an optical sensor so it knows when it's actually in your ear .'ll detect the audio that you're hearing from your ears with microphones it'll adjust the medium to low frequencies to basically give you the best audio quality to fit your ears .<n>When it's in this mode it'll actually give you about seven hours of battery life .<n>When you have the active noise canceling or transparency it'll drop it down to six .spatial audio basically creates like the spear of audio .<n>This has a built-in button you can control all of your audio right from here .<n>The b is an actual button you can control all of your audio right from here .\""
      ]
     },
     "execution_count": 71,
     "metadata": {},
     "output_type": "execute_result"
    }
   ],
   "source": [
    "full_txt"
   ]
  },
  {
   "cell_type": "code",
   "execution_count": null,
   "id": "ebf92951-b0a8-4d88-8bc9-f43c3a94d567",
   "metadata": {},
   "outputs": [],
   "source": []
  },
  {
   "cell_type": "code",
   "execution_count": null,
   "id": "9de61181-3652-454a-8329-1084a222ffda",
   "metadata": {},
   "outputs": [],
   "source": []
  },
  {
   "cell_type": "code",
   "execution_count": null,
   "id": "8d51051a-ebb7-4f3d-a504-a4fcda4cafdc",
   "metadata": {},
   "outputs": [],
   "source": []
  },
  {
   "cell_type": "code",
   "execution_count": null,
   "id": "ec9785d8-a796-47a2-8eb6-fd8c31cad07e",
   "metadata": {},
   "outputs": [],
   "source": []
  },
  {
   "cell_type": "code",
   "execution_count": null,
   "id": "488cbc0a-74e6-4b2f-a34a-f904a41fcf71",
   "metadata": {},
   "outputs": [],
   "source": []
  },
  {
   "cell_type": "markdown",
   "id": "1913d116-305e-4bda-b04a-b1b474d1e57a",
   "metadata": {},
   "source": [
    "# Summarizing Review Texts Version 2\n",
    "\n",
    "Due to lack of training data, here will be an alternative approach where the reivews won't be grouped together by headphones. The summaries will then be the same for each review per headphone. This will give many more training samples and also the reviews won't be as long. Moreover, to get summaries, the text won't have to be split into as many parts due to max token lengths."
   ]
  },
  {
   "cell_type": "code",
   "execution_count": 5,
   "id": "369324c2-5bdd-4827-bddb-f1b9da09fdee",
   "metadata": {
    "tags": []
   },
   "outputs": [],
   "source": [
    "from transformers import set_seed, pipeline, AutoTokenizer, AutoModelForSeq2SeqLM, BertTokenizer\n",
    "from nltk.tokenize import sent_tokenize\n",
    "import torch\n",
    "\n",
    "from transformers import DataCollatorForSeq2Seq, Seq2SeqTrainer, Seq2SeqTrainingArguments\n",
    "\n",
    "from datasets import Dataset, DatasetDict\n",
    "\n",
    "from datasets import load_metric\n",
    "from tqdm import tqdm"
   ]
  },
  {
   "cell_type": "code",
   "execution_count": 6,
   "id": "a9a0b250-af78-4626-a657-b8bc53ba1185",
   "metadata": {
    "tags": []
   },
   "outputs": [],
   "source": [
    "individual_reviews_df = orig_df.merge(summaries_df, on='Headphone_Name', how='left')\n",
    "\n",
    "#just removing reviewtext title error\n",
    "individual_reviews_df = individual_reviews_df.rename(columns={'Sony_Review_Text': 'Review_Text'})"
   ]
  },
  {
   "cell_type": "code",
   "execution_count": 24,
   "id": "9a1ca0ce-7104-4497-8b77-c3088ed61201",
   "metadata": {
    "tags": []
   },
   "outputs": [
    {
     "data": {
      "text/html": [
       "<div>\n",
       "<style scoped>\n",
       "    .dataframe tbody tr th:only-of-type {\n",
       "        vertical-align: middle;\n",
       "    }\n",
       "\n",
       "    .dataframe tbody tr th {\n",
       "        vertical-align: top;\n",
       "    }\n",
       "\n",
       "    .dataframe thead th {\n",
       "        text-align: right;\n",
       "    }\n",
       "</style>\n",
       "<table border=\"1\" class=\"dataframe\">\n",
       "  <thead>\n",
       "    <tr style=\"text-align: right;\">\n",
       "      <th></th>\n",
       "      <th>Headphone_Name</th>\n",
       "      <th>Review_Text</th>\n",
       "      <th>Summary</th>\n",
       "    </tr>\n",
       "  </thead>\n",
       "  <tbody>\n",
       "    <tr>\n",
       "      <th>0</th>\n",
       "      <td>sony xm4 earbuds</td>\n",
       "      <td>The Sony WF-1000XM4 earbuds, which is a mouth...</td>\n",
       "      <td>Sony nearly did it again. The company has domi...</td>\n",
       "    </tr>\n",
       "    <tr>\n",
       "      <th>1</th>\n",
       "      <td>sony xm4 earbuds</td>\n",
       "      <td>(wind rushing)\\n(slow music) - As much as I l...</td>\n",
       "      <td>Sony nearly did it again. The company has domi...</td>\n",
       "    </tr>\n",
       "    <tr>\n",
       "      <th>2</th>\n",
       "      <td>sony xm4 earbuds</td>\n",
       "      <td>[Music] what's going on guys it's your averag...</td>\n",
       "      <td>Sony nearly did it again. The company has domi...</td>\n",
       "    </tr>\n",
       "    <tr>\n",
       "      <th>3</th>\n",
       "      <td>sony xm4 earbuds</td>\n",
       "      <td>so it's been almost two years since sony rele...</td>\n",
       "      <td>Sony nearly did it again. The company has domi...</td>\n",
       "    </tr>\n",
       "    <tr>\n",
       "      <th>4</th>\n",
       "      <td>sony xm4 earbuds</td>\n",
       "      <td>[Music] hey guys so is the Sony wfos xm4 stil...</td>\n",
       "      <td>Sony nearly did it again. The company has domi...</td>\n",
       "    </tr>\n",
       "    <tr>\n",
       "      <th>5</th>\n",
       "      <td>sony xm4 earbuds</td>\n",
       "      <td>Sony wf-1000xm4 have one major flaw at least ...</td>\n",
       "      <td>Sony nearly did it again. The company has domi...</td>\n",
       "    </tr>\n",
       "    <tr>\n",
       "      <th>6</th>\n",
       "      <td>sony xm4 earbuds</td>\n",
       "      <td>outside of airpods I wouldn't be surprised if...</td>\n",
       "      <td>Sony nearly did it again. The company has domi...</td>\n",
       "    </tr>\n",
       "    <tr>\n",
       "      <th>7</th>\n",
       "      <td>Galaxy Buds2 Pro</td>\n",
       "      <td>It's been six months since I bought \\na pair ...</td>\n",
       "      <td>I’ve said a set of Samsung’s Galaxy Buds are i...</td>\n",
       "    </tr>\n",
       "    <tr>\n",
       "      <th>8</th>\n",
       "      <td>Galaxy Buds2 Pro</td>\n",
       "      <td>all right the galaxy buds 2 pro wow these ear...</td>\n",
       "      <td>I’ve said a set of Samsung’s Galaxy Buds are i...</td>\n",
       "    </tr>\n",
       "    <tr>\n",
       "      <th>9</th>\n",
       "      <td>Galaxy Buds2 Pro</td>\n",
       "      <td>hi there i've got samsung's 230 galaxy buds 2...</td>\n",
       "      <td>I’ve said a set of Samsung’s Galaxy Buds are i...</td>\n",
       "    </tr>\n",
       "    <tr>\n",
       "      <th>10</th>\n",
       "      <td>Galaxy Buds2 Pro</td>\n",
       "      <td>hello gorgeous peeps I'm Chris from Tex burn ...</td>\n",
       "      <td>I’ve said a set of Samsung’s Galaxy Buds are i...</td>\n",
       "    </tr>\n",
       "    <tr>\n",
       "      <th>11</th>\n",
       "      <td>Galaxy Buds2 Pro</td>\n",
       "      <td>nan</td>\n",
       "      <td>I’ve said a set of Samsung’s Galaxy Buds are i...</td>\n",
       "    </tr>\n",
       "    <tr>\n",
       "      <th>12</th>\n",
       "      <td>Galaxy Buds2 Pro</td>\n",
       "      <td>so we're getting into the busy part of the ye...</td>\n",
       "      <td>I’ve said a set of Samsung’s Galaxy Buds are i...</td>\n",
       "    </tr>\n",
       "    <tr>\n",
       "      <th>13</th>\n",
       "      <td>Galaxy Buds2 Pro</td>\n",
       "      <td>hi everyone tao here all right so these are t...</td>\n",
       "      <td>I’ve said a set of Samsung’s Galaxy Buds are i...</td>\n",
       "    </tr>\n",
       "    <tr>\n",
       "      <th>21</th>\n",
       "      <td>Bose Quietcomfort Earbuds 2</td>\n",
       "      <td>The Bose QuietComfort Earbuds are a \\nfrustra...</td>\n",
       "      <td>If it’s supreme noise blocking you’re looking ...</td>\n",
       "    </tr>\n",
       "  </tbody>\n",
       "</table>\n",
       "</div>"
      ],
      "text/plain": [
       "                 Headphone_Name  \\\n",
       "0              sony xm4 earbuds   \n",
       "1              sony xm4 earbuds   \n",
       "2              sony xm4 earbuds   \n",
       "3              sony xm4 earbuds   \n",
       "4              sony xm4 earbuds   \n",
       "5              sony xm4 earbuds   \n",
       "6              sony xm4 earbuds   \n",
       "7              Galaxy Buds2 Pro   \n",
       "8              Galaxy Buds2 Pro   \n",
       "9              Galaxy Buds2 Pro   \n",
       "10             Galaxy Buds2 Pro   \n",
       "11             Galaxy Buds2 Pro   \n",
       "12             Galaxy Buds2 Pro   \n",
       "13             Galaxy Buds2 Pro   \n",
       "21  Bose Quietcomfort Earbuds 2   \n",
       "\n",
       "                                          Review_Text  \\\n",
       "0    The Sony WF-1000XM4 earbuds, which is a mouth...   \n",
       "1    (wind rushing)\\n(slow music) - As much as I l...   \n",
       "2    [Music] what's going on guys it's your averag...   \n",
       "3    so it's been almost two years since sony rele...   \n",
       "4    [Music] hey guys so is the Sony wfos xm4 stil...   \n",
       "5    Sony wf-1000xm4 have one major flaw at least ...   \n",
       "6    outside of airpods I wouldn't be surprised if...   \n",
       "7    It's been six months since I bought \\na pair ...   \n",
       "8    all right the galaxy buds 2 pro wow these ear...   \n",
       "9    hi there i've got samsung's 230 galaxy buds 2...   \n",
       "10   hello gorgeous peeps I'm Chris from Tex burn ...   \n",
       "11                                                nan   \n",
       "12   so we're getting into the busy part of the ye...   \n",
       "13   hi everyone tao here all right so these are t...   \n",
       "21   The Bose QuietComfort Earbuds are a \\nfrustra...   \n",
       "\n",
       "                                              Summary  \n",
       "0   Sony nearly did it again. The company has domi...  \n",
       "1   Sony nearly did it again. The company has domi...  \n",
       "2   Sony nearly did it again. The company has domi...  \n",
       "3   Sony nearly did it again. The company has domi...  \n",
       "4   Sony nearly did it again. The company has domi...  \n",
       "5   Sony nearly did it again. The company has domi...  \n",
       "6   Sony nearly did it again. The company has domi...  \n",
       "7   I’ve said a set of Samsung’s Galaxy Buds are i...  \n",
       "8   I’ve said a set of Samsung’s Galaxy Buds are i...  \n",
       "9   I’ve said a set of Samsung’s Galaxy Buds are i...  \n",
       "10  I’ve said a set of Samsung’s Galaxy Buds are i...  \n",
       "11  I’ve said a set of Samsung’s Galaxy Buds are i...  \n",
       "12  I’ve said a set of Samsung’s Galaxy Buds are i...  \n",
       "13  I’ve said a set of Samsung’s Galaxy Buds are i...  \n",
       "21  If it’s supreme noise blocking you’re looking ...  "
      ]
     },
     "execution_count": 24,
     "metadata": {},
     "output_type": "execute_result"
    }
   ],
   "source": [
    "individual_reviews_df.iloc[0:15]"
   ]
  },
  {
   "cell_type": "code",
   "execution_count": 7,
   "id": "b724136d-cf07-450a-9d6d-6fd39ec94abf",
   "metadata": {
    "tags": []
   },
   "outputs": [
    {
     "name": "stderr",
     "output_type": "stream",
     "text": [
      "Some weights of PegasusForConditionalGeneration were not initialized from the model checkpoint at google/pegasus-cnn_dailymail and are newly initialized: ['model.decoder.embed_positions.weight', 'model.encoder.embed_positions.weight']\n",
      "You should probably TRAIN this model on a down-stream task to be able to use it for predictions and inference.\n"
     ]
    }
   ],
   "source": [
    "device = \"cuda\" if torch.cuda.is_available() else \"cpu\"\n",
    "\n",
    "model_ckpt = \"google/pegasus-cnn_dailymail\"\n",
    "#model_ckpt = \"google/pegasus-multi_news\"\n",
    "\n",
    "tokenizer = AutoTokenizer.from_pretrained(model_ckpt)\n",
    "\n",
    "model_pegasus = AutoModelForSeq2SeqLM.from_pretrained(model_ckpt).to(device)"
   ]
  },
  {
   "cell_type": "code",
   "execution_count": 8,
   "id": "345a15fc-054a-4b02-b690-2b9e58b6a067",
   "metadata": {
    "tags": []
   },
   "outputs": [],
   "source": [
    "def generate_batch_sized_chunks(list_of_elements, batch_size):\n",
    "    \"\"\"split the dataset into smaller batches that we can process simultaneously\n",
    "    Yield successive batch-sized chunks from list_of_elements.\n",
    "    \n",
    "    Yields consecutive chunks from a list.\n",
    "\n",
    "    Args:\n",
    "        list_of_elements (List[Any]): The list to be divided into chunks.\n",
    "        batch_size (int): The size of chunks.\n",
    "\n",
    "    Yields:\n",
    "        List[Any]: A chunk from the list of the specified size.\n",
    "        \n",
    "    \"\"\"\n",
    "    for i in range(0, len(list_of_elements), batch_size):\n",
    "        yield list_of_elements[i : i + batch_size]\n",
    "\n",
    "def calculate_metric_on_test_ds(dataset, metric, model, tokenizer, \n",
    "                               batch_size=2, device=device, \n",
    "                               column_text=\"Review_Text\", \n",
    "                               column_summary=\"Summary\"):\n",
    "    \"\"\"\n",
    "    Calculates a specified metric on a test dataset.\n",
    "\n",
    "    Args:\n",
    "        dataset (Dataset): The dataset to evaluate.\n",
    "        metric (Metric): The metric to calculate.\n",
    "        model (nn.Module): The model to evaluate.\n",
    "        tokenizer (Tokenizer): The tokenizer to use for text processing.\n",
    "        batch_size (int, optional): The batch size for evaluation.\n",
    "        device (torch.device, optional): The device to use for computation.\n",
    "        column_text (str, optional): The name of the text column in the dataset.\n",
    "        column_summary (str, optional): The name of the summary column in the dataset.\n",
    "\n",
    "    Returns:\n",
    "        Dict[str, float]: The calculated metric scores.\n",
    "    \"\"\"\n",
    "    article_batches = list(generate_batch_sized_chunks(dataset[column_text], batch_size))\n",
    "    target_batches = list(generate_batch_sized_chunks(dataset[column_summary], batch_size))\n",
    "\n",
    "    for article_batch, target_batch in tqdm(\n",
    "        zip(article_batches, target_batches), total=len(article_batches)):\n",
    "        \n",
    "        inputs = tokenizer(article_batch, max_length=1024,  truncation=True, \n",
    "                        padding=\"max_length\", return_tensors=\"pt\")\n",
    "        \n",
    "        summaries = model.generate(input_ids=inputs[\"input_ids\"].to(device),\n",
    "                         attention_mask=inputs[\"attention_mask\"].to(device), \n",
    "                         length_penalty=0.8, num_beams=8, max_length=128)\n",
    "        ''' parameter for length penalty ensures that the model does not generate sequences that are too long. '''\n",
    "        \n",
    "        # Finally, we decode the generated texts, \n",
    "        # replace the <n> token, and add the decoded texts with the references to the metric.\n",
    "        decoded_summaries = [tokenizer.decode(s, skip_special_tokens=True, \n",
    "                                clean_up_tokenization_spaces=True) \n",
    "               for s in summaries]      \n",
    "        \n",
    "        decoded_summaries = [d.replace(\"<n>\", \" \") for d in decoded_summaries]\n",
    "        \n",
    "        \n",
    "        metric.add_batch(predictions=decoded_summaries, references=target_batch)\n",
    "        \n",
    "    #  Finally compute and return the ROUGE scores.\n",
    "    score = metric.compute()\n",
    "    return score\n",
    "\n",
    "def convert_examples_to_features(example_batch):\n",
    "    input_encodings = tokenizer(example_batch['Review_Text'] , max_length = 1024, truncation = True )\n",
    "    \n",
    "    with tokenizer.as_target_tokenizer():\n",
    "        target_encodings = tokenizer(example_batch['Summary'], max_length = 128, truncation = True )\n",
    "        \n",
    "    return {\n",
    "        'input_ids' : input_encodings['input_ids'],\n",
    "        'attention_mask': input_encodings['attention_mask'],\n",
    "        'labels': target_encodings['input_ids']\n",
    "    }"
   ]
  },
  {
   "cell_type": "code",
   "execution_count": 9,
   "id": "4f0722f4-7359-4448-900f-db69ffebbce4",
   "metadata": {
    "tags": []
   },
   "outputs": [],
   "source": [
    "from sklearn.model_selection import train_test_split\n",
    "\n",
    "#replacing empty values with na and then dropping those rows\n",
    "individual_reviews_df = individual_reviews_df.iloc[0:20].replace(r'^\\s*$', pd.NA, regex=True).dropna()\n",
    "\n",
    "# Define the proportions for the splits\n",
    "train_size = 0.6\n",
    "validation_size = 0.2\n",
    "test_size = 0.2\n",
    "\n",
    "# First, split the data into a temporary training set and a temporary test set\n",
    "train, temp_test = train_test_split(individual_reviews_df, test_size=1 - train_size, random_state=42)\n",
    "\n",
    "# Then, split the temporary test set into the validation set and the final test set\n",
    "final_validation, final_test = train_test_split(temp_test, test_size=test_size / (test_size + validation_size), random_state=42)"
   ]
  },
  {
   "cell_type": "code",
   "execution_count": 10,
   "id": "7f1115f4-7f83-42bf-90c3-961add0814a0",
   "metadata": {
    "tags": []
   },
   "outputs": [
    {
     "data": {
      "text/plain": [
       "DatasetDict({\n",
       "    train: Dataset({\n",
       "        features: ['Headphone_Name', 'Review_Text', 'Summary', '__index_level_0__'],\n",
       "        num_rows: 7\n",
       "    })\n",
       "    validation: Dataset({\n",
       "        features: ['Headphone_Name', 'Review_Text', 'Summary', '__index_level_0__'],\n",
       "        num_rows: 3\n",
       "    })\n",
       "    test: Dataset({\n",
       "        features: ['Headphone_Name', 'Review_Text', 'Summary', '__index_level_0__'],\n",
       "        num_rows: 3\n",
       "    })\n",
       "})"
      ]
     },
     "execution_count": 10,
     "metadata": {},
     "output_type": "execute_result"
    }
   ],
   "source": [
    "#getting dataset in a form for trainign with hugging face libraries\n",
    "train_ds = Dataset.from_pandas(train)\n",
    "validation_ds = Dataset.from_pandas(final_validation)\n",
    "test_ds = Dataset.from_pandas(final_test)\n",
    "\n",
    "ds = DatasetDict()\n",
    "\n",
    "ds['train'] = train_ds\n",
    "ds['validation'] = validation_ds\n",
    "ds['test'] = test_ds\n",
    "\n",
    "ds"
   ]
  },
  {
   "cell_type": "code",
   "execution_count": 11,
   "id": "88e4d86c-f1cd-4503-8d14-06492717d679",
   "metadata": {
    "tags": []
   },
   "outputs": [
    {
     "name": "stderr",
     "output_type": "stream",
     "text": [
      "Some weights of PegasusForConditionalGeneration were not initialized from the model checkpoint at google/pegasus-cnn_dailymail and are newly initialized: ['model.decoder.embed_positions.weight', 'model.encoder.embed_positions.weight']\n",
      "You should probably TRAIN this model on a down-stream task to be able to use it for predictions and inference.\n"
     ]
    }
   ],
   "source": [
    "model_ckpt = \"google/pegasus-cnn_dailymail\"\n",
    "\n",
    "pipe = pipeline('summarization', model = model_ckpt)\n",
    "\n",
    "tokenizer = AutoTokenizer.from_pretrained(model_ckpt)"
   ]
  },
  {
   "cell_type": "code",
   "execution_count": 12,
   "id": "e1267236-bbd2-45bf-bac7-9cf90ba3a789",
   "metadata": {
    "tags": []
   },
   "outputs": [
    {
     "name": "stderr",
     "output_type": "stream",
     "text": [
      "C:\\Users\\RaviB\\AppData\\Local\\Temp\\ipykernel_31956\\2153295278.py:3: FutureWarning: load_metric is deprecated and will be removed in the next major version of datasets. Use 'evaluate.load' instead, from the new library 🤗 Evaluate: https://huggingface.co/docs/evaluate\n",
      "  rouge_metric = load_metric('rouge')\n",
      "100%|████████████████████████████████████████████████████████████████████████████████████| 2/2 [01:06<00:00, 33.26s/it]\n"
     ]
    }
   ],
   "source": [
    "rouge_names = [\"rouge1\", \"rouge2\", \"rougeL\", \"rougeLsum\"]\n",
    "\n",
    "rouge_metric = load_metric('rouge')\n",
    "\n",
    "score = calculate_metric_on_test_ds(ds['test'], rouge_metric, model_pegasus, tokenizer)"
   ]
  },
  {
   "cell_type": "code",
   "execution_count": 13,
   "id": "8f897ee5-b3d2-4194-8dd6-238987683c4b",
   "metadata": {
    "tags": []
   },
   "outputs": [
    {
     "data": {
      "text/html": [
       "<div>\n",
       "<style scoped>\n",
       "    .dataframe tbody tr th:only-of-type {\n",
       "        vertical-align: middle;\n",
       "    }\n",
       "\n",
       "    .dataframe tbody tr th {\n",
       "        vertical-align: top;\n",
       "    }\n",
       "\n",
       "    .dataframe thead th {\n",
       "        text-align: right;\n",
       "    }\n",
       "</style>\n",
       "<table border=\"1\" class=\"dataframe\">\n",
       "  <thead>\n",
       "    <tr style=\"text-align: right;\">\n",
       "      <th></th>\n",
       "      <th>rouge1</th>\n",
       "      <th>rouge2</th>\n",
       "      <th>rougeL</th>\n",
       "      <th>rougeLsum</th>\n",
       "    </tr>\n",
       "  </thead>\n",
       "  <tbody>\n",
       "    <tr>\n",
       "      <th>pegasus</th>\n",
       "      <td>0.249946</td>\n",
       "      <td>0.052983</td>\n",
       "      <td>0.145596</td>\n",
       "      <td>0.145596</td>\n",
       "    </tr>\n",
       "  </tbody>\n",
       "</table>\n",
       "</div>"
      ],
      "text/plain": [
       "           rouge1    rouge2    rougeL  rougeLsum\n",
       "pegasus  0.249946  0.052983  0.145596   0.145596"
      ]
     },
     "execution_count": 13,
     "metadata": {},
     "output_type": "execute_result"
    }
   ],
   "source": [
    "rouge_dict = dict((rn, score[rn].mid.fmeasure ) for rn in rouge_names )\n",
    "\n",
    "pd.DataFrame(rouge_dict, index = ['pegasus'])"
   ]
  },
  {
   "cell_type": "code",
   "execution_count": 14,
   "id": "faddc700-3cc7-4b79-aad1-f2de816f5f82",
   "metadata": {
    "tags": []
   },
   "outputs": [
    {
     "data": {
      "application/vnd.jupyter.widget-view+json": {
       "model_id": "",
       "version_major": 2,
       "version_minor": 0
      },
      "text/plain": [
       "Map:   0%|          | 0/7 [00:00<?, ? examples/s]"
      ]
     },
     "metadata": {},
     "output_type": "display_data"
    },
    {
     "name": "stderr",
     "output_type": "stream",
     "text": [
      "C:\\Users\\RaviB\\AppData\\Roaming\\Python\\Python39\\site-packages\\transformers\\tokenization_utils_base.py:3848: UserWarning: `as_target_tokenizer` is deprecated and will be removed in v5 of Transformers. You can tokenize your labels by using the argument `text_target` of the regular `__call__` method (either in the same call as your input texts if you use the same keyword arguments, or in a separate call.\n",
      "  warnings.warn(\n"
     ]
    },
    {
     "data": {
      "application/vnd.jupyter.widget-view+json": {
       "model_id": "",
       "version_major": 2,
       "version_minor": 0
      },
      "text/plain": [
       "Map:   0%|          | 0/3 [00:00<?, ? examples/s]"
      ]
     },
     "metadata": {},
     "output_type": "display_data"
    },
    {
     "data": {
      "application/vnd.jupyter.widget-view+json": {
       "model_id": "",
       "version_major": 2,
       "version_minor": 0
      },
      "text/plain": [
       "Map:   0%|          | 0/3 [00:00<?, ? examples/s]"
      ]
     },
     "metadata": {},
     "output_type": "display_data"
    }
   ],
   "source": [
    "dataset_dict_pt = ds.map(convert_examples_to_features, batched = True)\n",
    "\n",
    "data_collator = DataCollatorForSeq2Seq(tokenizer, model=model_pegasus)"
   ]
  },
  {
   "cell_type": "code",
   "execution_count": 15,
   "id": "e08bc61c-1211-410c-99b8-220a50659c4c",
   "metadata": {
    "tags": []
   },
   "outputs": [],
   "source": [
    "import accelerate\n",
    "import transformers\n",
    "from transformers import TrainingArguments, Trainer\n",
    "\n",
    "trainer_args = TrainingArguments(\n",
    "    output_dir='pegasus-individual-reviews', num_train_epochs=1,\n",
    "    per_device_train_batch_size=2, per_device_eval_batch_size=2,\n",
    "    logging_steps=8,\n",
    "    evaluation_strategy='epoch', save_steps=1e6,\n",
    "    gradient_accumulation_steps=16\n",
    ") "
   ]
  },
  {
   "cell_type": "code",
   "execution_count": 16,
   "id": "3796b7d9-dd0c-4778-82b5-67164ae92f93",
   "metadata": {
    "tags": []
   },
   "outputs": [
    {
     "name": "stderr",
     "output_type": "stream",
     "text": [
      "\u001b[34m\u001b[1mwandb\u001b[0m: Currently logged in as: \u001b[33mravinderbrai\u001b[0m. Use \u001b[1m`wandb login --relogin`\u001b[0m to force relogin\n"
     ]
    },
    {
     "data": {
      "text/html": [
       "wandb version 0.16.0 is available!  To upgrade, please run:\n",
       " $ pip install wandb --upgrade"
      ],
      "text/plain": [
       "<IPython.core.display.HTML object>"
      ]
     },
     "metadata": {},
     "output_type": "display_data"
    },
    {
     "data": {
      "text/html": [
       "Tracking run with wandb version 0.15.12"
      ],
      "text/plain": [
       "<IPython.core.display.HTML object>"
      ]
     },
     "metadata": {},
     "output_type": "display_data"
    },
    {
     "data": {
      "text/html": [
       "Run data is saved locally in <code>C:\\Users\\RaviB\\GitHub\\Headphone-Finder\\modules\\wandb\\run-20231117_172008-jdcwi9g5</code>"
      ],
      "text/plain": [
       "<IPython.core.display.HTML object>"
      ]
     },
     "metadata": {},
     "output_type": "display_data"
    },
    {
     "data": {
      "text/html": [
       "Syncing run <strong><a href='https://wandb.ai/ravinderbrai/huggingface/runs/jdcwi9g5' target=\"_blank\">dandy-morning-11</a></strong> to <a href='https://wandb.ai/ravinderbrai/huggingface' target=\"_blank\">Weights & Biases</a> (<a href='https://wandb.me/run' target=\"_blank\">docs</a>)<br/>"
      ],
      "text/plain": [
       "<IPython.core.display.HTML object>"
      ]
     },
     "metadata": {},
     "output_type": "display_data"
    },
    {
     "data": {
      "text/html": [
       " View project at <a href='https://wandb.ai/ravinderbrai/huggingface' target=\"_blank\">https://wandb.ai/ravinderbrai/huggingface</a>"
      ],
      "text/plain": [
       "<IPython.core.display.HTML object>"
      ]
     },
     "metadata": {},
     "output_type": "display_data"
    },
    {
     "data": {
      "text/html": [
       " View run at <a href='https://wandb.ai/ravinderbrai/huggingface/runs/jdcwi9g5' target=\"_blank\">https://wandb.ai/ravinderbrai/huggingface/runs/jdcwi9g5</a>"
      ],
      "text/plain": [
       "<IPython.core.display.HTML object>"
      ]
     },
     "metadata": {},
     "output_type": "display_data"
    },
    {
     "name": "stderr",
     "output_type": "stream",
     "text": [
      "You're using a PegasusTokenizerFast tokenizer. Please note that with a fast tokenizer, using the `__call__` method is faster than using a method to encode the text followed by a call to the `pad` method to get a padded encoding.\n"
     ]
    },
    {
     "data": {
      "text/html": [
       "\n",
       "    <div>\n",
       "      \n",
       "      <progress value='1' max='1' style='width:300px; height:20px; vertical-align: middle;'></progress>\n",
       "      [1/1 00:09, Epoch 1/1]\n",
       "    </div>\n",
       "    <table border=\"1\" class=\"dataframe\">\n",
       "  <thead>\n",
       " <tr style=\"text-align: left;\">\n",
       "      <th>Epoch</th>\n",
       "      <th>Training Loss</th>\n",
       "      <th>Validation Loss</th>\n",
       "    </tr>\n",
       "  </thead>\n",
       "  <tbody>\n",
       "    <tr>\n",
       "      <td>1</td>\n",
       "      <td>No log</td>\n",
       "      <td>3.750680</td>\n",
       "    </tr>\n",
       "  </tbody>\n",
       "</table><p>"
      ],
      "text/plain": [
       "<IPython.core.display.HTML object>"
      ]
     },
     "metadata": {},
     "output_type": "display_data"
    },
    {
     "data": {
      "text/plain": [
       "TrainOutput(global_step=1, training_loss=1.0914041996002197, metrics={'train_runtime': 184.7545, 'train_samples_per_second': 0.038, 'train_steps_per_second': 0.005, 'total_flos': 20226250899456.0, 'train_loss': 1.0914041996002197, 'epoch': 1.0})"
      ]
     },
     "execution_count": 16,
     "metadata": {},
     "output_type": "execute_result"
    }
   ],
   "source": [
    "trainer = Trainer(model=model_pegasus, args=trainer_args,\n",
    "                  tokenizer=tokenizer, data_collator=data_collator,\n",
    "                  train_dataset=dataset_dict_pt[\"train\"], \n",
    "                  eval_dataset=dataset_dict_pt[\"validation\"])\n",
    "\n",
    "trainer.train()"
   ]
  },
  {
   "cell_type": "code",
   "execution_count": 17,
   "id": "cf31e090-71ed-4e79-b890-d54ef7e6b2fd",
   "metadata": {
    "tags": []
   },
   "outputs": [
    {
     "name": "stderr",
     "output_type": "stream",
     "text": [
      "100%|████████████████████████████████████████████████████████████████████████████████████| 2/2 [00:59<00:00, 29.50s/it]\n"
     ]
    },
    {
     "data": {
      "text/html": [
       "<div>\n",
       "<style scoped>\n",
       "    .dataframe tbody tr th:only-of-type {\n",
       "        vertical-align: middle;\n",
       "    }\n",
       "\n",
       "    .dataframe tbody tr th {\n",
       "        vertical-align: top;\n",
       "    }\n",
       "\n",
       "    .dataframe thead th {\n",
       "        text-align: right;\n",
       "    }\n",
       "</style>\n",
       "<table border=\"1\" class=\"dataframe\">\n",
       "  <thead>\n",
       "    <tr style=\"text-align: right;\">\n",
       "      <th></th>\n",
       "      <th>rouge1</th>\n",
       "      <th>rouge2</th>\n",
       "      <th>rougeL</th>\n",
       "      <th>rougeLsum</th>\n",
       "    </tr>\n",
       "  </thead>\n",
       "  <tbody>\n",
       "    <tr>\n",
       "      <th>pegasus</th>\n",
       "      <td>0.257471</td>\n",
       "      <td>0.053969</td>\n",
       "      <td>0.147844</td>\n",
       "      <td>0.147844</td>\n",
       "    </tr>\n",
       "  </tbody>\n",
       "</table>\n",
       "</div>"
      ],
      "text/plain": [
       "           rouge1    rouge2    rougeL  rougeLsum\n",
       "pegasus  0.257471  0.053969  0.147844   0.147844"
      ]
     },
     "execution_count": 17,
     "metadata": {},
     "output_type": "execute_result"
    }
   ],
   "source": [
    "rouge_names = [\"rouge1\", \"rouge2\", \"rougeL\", \"rougeLsum\"]\n",
    "\n",
    "rouge_metric = load_metric('rouge')\n",
    "\n",
    "score = calculate_metric_on_test_ds(\n",
    "    ds['test'], rouge_metric, trainer.model, tokenizer, batch_size = 2, column_text = 'Review_Text', column_summary= 'Summary'\n",
    ")\n",
    "\n",
    "rouge_dict = dict((rn, score[rn].mid.fmeasure ) for rn in rouge_names )\n",
    "\n",
    "pd.DataFrame(rouge_dict, index = [f'pegasus'] )"
   ]
  },
  {
   "cell_type": "code",
   "execution_count": null,
   "id": "61d726b5-e799-4674-a842-eb813ee6f1ed",
   "metadata": {},
   "outputs": [],
   "source": []
  },
  {
   "cell_type": "code",
   "execution_count": null,
   "id": "ac7af577-aba1-4ef3-9184-d707ad5800b3",
   "metadata": {},
   "outputs": [],
   "source": []
  }
 ],
 "metadata": {
  "kernelspec": {
   "display_name": "Python 3 (ipykernel)",
   "language": "python",
   "name": "python3"
  },
  "language_info": {
   "codemirror_mode": {
    "name": "ipython",
    "version": 3
   },
   "file_extension": ".py",
   "mimetype": "text/x-python",
   "name": "python",
   "nbconvert_exporter": "python",
   "pygments_lexer": "ipython3",
   "version": "3.9.18"
  },
  "toc-showmarkdowntxt": false
 },
 "nbformat": 4,
 "nbformat_minor": 5
}
