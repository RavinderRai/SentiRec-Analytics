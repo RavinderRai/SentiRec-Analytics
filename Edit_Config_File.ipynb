{
 "cells": [
  {
   "cell_type": "markdown",
   "id": "3e66002a-9f69-41e2-950a-6c23675bddbb",
   "metadata": {},
   "source": [
    "This is just a scratch pad notebook to edit the config json file which has API keys that can't be public."
   ]
  },
  {
   "cell_type": "code",
   "execution_count": 1,
   "id": "a50d8a3a-9837-4ec9-8578-3af4abe8fed7",
   "metadata": {
    "tags": []
   },
   "outputs": [],
   "source": [
    "import json"
   ]
  },
  {
   "cell_type": "code",
   "execution_count": 7,
   "id": "1926dfaf-2ec4-40f7-a38f-c430dc3f8430",
   "metadata": {
    "tags": []
   },
   "outputs": [],
   "source": [
    "with open('config.json', 'r') as file:\n",
    "    config_data = json.load(file)"
   ]
  },
  {
   "cell_type": "code",
   "execution_count": 9,
   "id": "be009fa5-60ef-440e-983c-8ee476cc8ef4",
   "metadata": {
    "tags": []
   },
   "outputs": [],
   "source": [
    "# Check if the old key exists before making changes\n",
    "if 'api_key' in config_data:\n",
    "    # Create a new key with the desired name and value\n",
    "    config_data['google_api_key'] = config_data.pop('api_key')\n",
    "\n",
    "    # Write the updated JSON data back to the file\n",
    "    with open('config.json', 'w') as file:\n",
    "        json.dump(config_data, file, indent=2)  # The indent parameter is optional for readability\n",
    "else:\n",
    "    print(f\"The key '{'api_key'}' does not exist in the JSON file.\")"
   ]
  },
  {
   "cell_type": "code",
   "execution_count": 19,
   "id": "3792d621-2646-4581-b378-06f2d9c98d8d",
   "metadata": {
    "tags": []
   },
   "outputs": [],
   "source": [
    "config_data['apify_amz_review_scraper_api_key'] = 'R8WeJwLuzLZ6g4Bkk'\n",
    "\n",
    "# Write the updated JSON data back to the file\n",
    "with open('config.json', 'w') as file:\n",
    "    json.dump(config_data, file, indent=2)"
   ]
  },
  {
   "cell_type": "code",
   "execution_count": 15,
   "id": "65f28c79-7834-4e99-b81c-20b969f8df3c",
   "metadata": {
    "tags": []
   },
   "outputs": [],
   "source": [
    "#config_data"
   ]
  },
  {
   "cell_type": "code",
   "execution_count": null,
   "id": "f207095f-6da1-4ded-b8b9-2975fd21779e",
   "metadata": {},
   "outputs": [],
   "source": []
  },
  {
   "cell_type": "code",
   "execution_count": null,
   "id": "9b2f066b-a289-4098-bbbc-288166b87292",
   "metadata": {},
   "outputs": [],
   "source": []
  }
 ],
 "metadata": {
  "kernelspec": {
   "display_name": "Python 3 (ipykernel)",
   "language": "python",
   "name": "python3"
  },
  "language_info": {
   "codemirror_mode": {
    "name": "ipython",
    "version": 3
   },
   "file_extension": ".py",
   "mimetype": "text/x-python",
   "name": "python",
   "nbconvert_exporter": "python",
   "pygments_lexer": "ipython3",
   "version": "3.9.18"
  }
 },
 "nbformat": 4,
 "nbformat_minor": 5
}
