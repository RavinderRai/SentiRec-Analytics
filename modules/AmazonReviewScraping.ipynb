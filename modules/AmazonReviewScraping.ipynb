{
 "cells": [
  {
   "cell_type": "markdown",
   "id": "b63cbc77-109e-4859-980c-6e84dc21f3c8",
   "metadata": {},
   "source": [
    "# Scraping Amazon Reviews\n",
    "\n",
    "Using the apify APIs to do this, but in the future would want to do this with Amazon Affiliate: https://amazon-affiliate.eu/en/easy-access-amazon-product-advertising-api-tool/."
   ]
  },
  {
   "cell_type": "code",
   "execution_count": 1,
   "id": "1f0f0893-eea3-46dc-9e7c-b9c80fc1dcc9",
   "metadata": {
    "tags": []
   },
   "outputs": [],
   "source": [
    "from requests_html import HTMLSession\n",
    "from bs4 import BeautifulSoup\n"
   ]
  },
  {
   "cell_type": "code",
   "execution_count": 2,
   "id": "8f987e25-988d-4c30-bbce-fa1515e0f0a1",
   "metadata": {
    "tags": []
   },
   "outputs": [],
   "source": [
    "url = 'https://www.amazon.ca/Sony-WF-1000XM4-Industry-Canceling-Headphones/dp/B094C4VDJZ/ref=sr_1_11?crid=1CROZAL88QEUV&keywords=sony%2Bwh-1000xm4&qid=1702519772&sprefix=sony%2Caps%2C107&sr=8-11&th=1'"
   ]
  },
  {
   "cell_type": "code",
   "execution_count": 4,
   "id": "d07150ff-4cce-4c4c-a68b-0a1a1dfb4cd4",
   "metadata": {
    "tags": []
   },
   "outputs": [
    {
     "data": {
      "text/plain": [
       "'https://www.amazon.ca/Sony-LinkBuds-Wireless-Cancelling-Headphones/product-reviews/B09YL76VSR/ref=cm_cr_getr_d_paging_btm_next_3?ie=UTF8&reviewerType=all_reviews&sortBy=recent&pageNumber=3'"
      ]
     },
     "execution_count": 4,
     "metadata": {},
     "output_type": "execute_result"
    }
   ],
   "source": [
    "'https://www.amazon.ca/Sony-LinkBuds-Wireless-Cancelling-Headphones/product-reviews/B09YL76VSR/ref=cm_cr_arp_d_viewopt_srt?ie=UTF8&reviewerType=all_reviews&sortBy=recent&pageNumber=1'\n",
    "'https://www.amazon.ca/Sony-LinkBuds-Wireless-Cancelling-Headphones/product-reviews/B09YL76VSR/ref=cm_cr_getr_d_paging_btm_next_1?ie=UTF8&reviewerType=all_reviews&sortBy=recent&pageNumber=1'\n",
    "\n",
    "'https://www.amazon.ca/Sony-LinkBuds-Wireless-Cancelling-Headphones/product-reviews/B09YL76VSR/ref=cm_cr_getr_d_paging_btm_next_2?ie=UTF8&reviewerType=all_reviews&sortBy=recent&pageNumber=2'\n",
    "'https://www.amazon.ca/Sony-LinkBuds-Wireless-Cancelling-Headphones/product-reviews/B09YL76VSR/ref=cm_cr_getr_d_paging_btm_next_3?ie=UTF8&reviewerType=all_reviews&sortBy=recent&pageNumber=3'"
   ]
  },
  {
   "cell_type": "code",
   "execution_count": 7,
   "id": "3760d2af-4dbc-4116-9f33-e0daa8892eea",
   "metadata": {},
   "outputs": [
    {
     "data": {
      "text/plain": [
       "\"    \\nif __name__ = '__main__':\\n    amz = Reviews('B09YL76VSR')\\n    reviews = amz.pagination(1)\\n    print(parse(reviews))\\n\""
      ]
     },
     "execution_count": 7,
     "metadata": {},
     "output_type": "execute_result"
    }
   ],
   "source": [
    "class Reviews:\n",
    "    def __init__(self, asin) -> None:\n",
    "        self.asin = asin\n",
    "        self.session = HTMLSession()\n",
    "        self.headers = {'User-Agent': 'Mozilla/5.0 (Windows NT 10.0; Win64; x64) AppleWebKit/537.36 (KHTML, like Gecko) Chrome/119.0.0.0 Safari/537.36 OPR/105.0.0.0'}\n",
    "        self.url = f'https://www.amazon.ca/Sony-LinkBuds-Wireless-Cancelling-Headphones/product-reviews/{self.asin}/ref=cm_cr_getr_d_paging_btm_next_1?ie=UTF8&reviewerType=all_reviews&sortBy=recent&pageNumber=1'\n",
    "\n",
    "    def pagination(self, page):\n",
    "        r = self.session.get(self.url + str(page))\n",
    "        if not r.html.find('div[data-hook=review]'):\n",
    "            return False\n",
    "        else:\n",
    "            return r.html.find('div[data-hook=review]')\n",
    "    \n",
    "    def parse(self, reviews):\n",
    "        total = []\n",
    "        for review in reviews:\n",
    "            title = review.find('a[data-hook=review-title]', first=True).text\n",
    "            rating = review.find('i[data-hook=review-star-rating] span', first=True).text\n",
    "            body = review.find('span[data-hook=review-body] span', first=True).text.replace('\\n').strip()\n",
    "            \n",
    "            data = {\n",
    "                'title': title,\n",
    "                'rating': rating,\n",
    "                'body': body\n",
    "            }\n",
    "            total.append(data)\n",
    "        return total\n",
    "        \n",
    "\"\"\"    \n",
    "if __name__ = '__main__':\n",
    "    amz = Reviews('B09YL76VSR')\n",
    "    reviews = amz.pagination(1)\n",
    "    print(parse(reviews))\n",
    "\"\"\""
   ]
  },
  {
   "cell_type": "code",
   "execution_count": 12,
   "id": "c89485a0-ff22-42e3-92b4-14ceb8b016bb",
   "metadata": {
    "tags": []
   },
   "outputs": [],
   "source": [
    "asin = 'B09YL76VSR'\n",
    "session = HTMLSession()\n",
    "headers = {'User-Agent': 'Mozilla/5.0 (Windows NT 10.0; Win64; x64) AppleWebKit/537.36 (KHTML, like Gecko) Chrome/119.0.0.0 Safari/537.36 OPR/105.0.0.0'}\n",
    "url = f'https://www.amazon.ca/Sony-LinkBuds-Wireless-Cancelling-Headphones/product-reviews/{asin}/ref=cm_cr_getr_d_paging_btm_next_1?ie=UTF8&reviewerType=all_reviews&sortBy=recent&pageNumber='\n"
   ]
  },
  {
   "cell_type": "code",
   "execution_count": null,
   "id": "c51eda1b-54a7-4405-b7f7-6eab54f3de34",
   "metadata": {},
   "outputs": [],
   "source": []
  },
  {
   "cell_type": "code",
   "execution_count": 48,
   "id": "287dd07c-7f82-4656-b282-278c3f6727cc",
   "metadata": {
    "tags": []
   },
   "outputs": [],
   "source": [
    "#'https://www.amazon.ca/Sony-WF-1000XM4-Industry-Canceling-Headphones/product-reviews/B094C4VDJZ/ref=cm_cr_getr_d_paging_btm_next_{}?ie=UTF8&reviewerType=all_reviews&sortBy=recent&pageNumber={}'.format(str(page), str(page))"
   ]
  },
  {
   "cell_type": "code",
   "execution_count": 46,
   "id": "172af24f-36d6-45ac-9d23-ee247f70dc05",
   "metadata": {
    "tags": []
   },
   "outputs": [],
   "source": [
    "import requests\n",
    "from bs4 import BeautifulSoup\n",
    "\n",
    "def pagination(page):\n",
    "    headers = {'User-Agent': 'Mozilla/5.0 (Windows NT 10.0; Win64; x64) AppleWebKit/537.36 (KHTML, like Gecko) Chrome/119.0.0.0 Safari/537.36 OPR/105.0.0.0'}\n",
    "    url = 'https://www.amazon.ca/Sony-WF-1000XM4-Industry-Canceling-Headphones/product-reviews/B094C4VDJZ/ref=cm_cr_getr_d_paging_btm_next_{}?ie=UTF8&reviewerType=all_reviews&sortBy=recent&pageNumber={}'.format(str(page), str(page))\n",
    "    print(url)\n",
    "    response = requests.get(url, headers=headers)\n",
    "\n",
    "    if response.status_code != 200:\n",
    "        print(f\"Failed to retrieve page {page}. Status code: {response.status_code}\")\n",
    "        return False\n",
    "\n",
    "    soup = BeautifulSoup(response.content, 'html.parser')\n",
    "\n",
    "    # Use BeautifulSoup to find div elements with data-hook=\"review\"\n",
    "    review_divs = soup.find_all('div', {'data-hook': 'review'})\n",
    "\n",
    "    if not review_divs:\n",
    "        return False\n",
    "    else:\n",
    "        return review_divs"
   ]
  },
  {
   "cell_type": "code",
   "execution_count": 52,
   "id": "f7a4a7e3-2a63-4be7-8331-8d58f1e162dc",
   "metadata": {
    "tags": []
   },
   "outputs": [
    {
     "name": "stdout",
     "output_type": "stream",
     "text": [
      "https://www.amazon.ca/Sony-WF-1000XM4-Industry-Canceling-Headphones/product-reviews/B094C4VDJZ/ref=cm_cr_getr_d_paging_btm_next_2?ie=UTF8&reviewerType=all_reviews&sortBy=recent&pageNumber=2\n"
     ]
    }
   ],
   "source": [
    "page = 2\n",
    "headers = {'User-Agent': 'Mozilla/5.0 (Windows NT 10.0; Win64; x64) AppleWebKit/537.36 (KHTML, like Gecko) Chrome/119.0.0.0 Safari/537.36 OPR/105.0.0.0'}\n",
    "url = 'https://www.amazon.ca/Sony-WF-1000XM4-Industry-Canceling-Headphones/product-reviews/B094C4VDJZ/ref=cm_cr_getr_d_paging_btm_next_{}?ie=UTF8&reviewerType=all_reviews&sortBy=recent&pageNumber={}'.format(str(page), str(page))\n",
    "print(url)\n",
    "response = requests.get(url, headers=headers)\n",
    "\n",
    "if response.status_code != 200:\n",
    "    print(f\"Failed to retrieve page {page}. Status code: {response.status_code}\")"
   ]
  },
  {
   "cell_type": "code",
   "execution_count": 53,
   "id": "c9ae4d7f-1353-4386-bf14-8871716d6e94",
   "metadata": {
    "tags": []
   },
   "outputs": [],
   "source": [
    "soup = BeautifulSoup(response.content, 'html.parser')"
   ]
  },
  {
   "cell_type": "code",
   "execution_count": 14,
   "id": "360d1423-6648-4659-866a-9dc5b84ca68c",
   "metadata": {
    "tags": []
   },
   "outputs": [],
   "source": [
    "#soup.select('div')"
   ]
  },
  {
   "cell_type": "code",
   "execution_count": null,
   "id": "4dedc6a9-4c5f-42f8-8f26-f432a13ec7c8",
   "metadata": {},
   "outputs": [],
   "source": [
    "# Use BeautifulSoup to find div elements with data-hook=\"review\"\n",
    "review_divs = soup.find_all('div', {'data-hook': 'review'})\n",
    "\n",
    "if not review_divs:\n",
    "    return False\n",
    "else:\n",
    "    return review_divs"
   ]
  },
  {
   "cell_type": "code",
   "execution_count": 49,
   "id": "1a9bdb5c-dea5-45f2-86a6-280f70964048",
   "metadata": {
    "tags": []
   },
   "outputs": [],
   "source": [
    "#ex_page = pagination(3)"
   ]
  },
  {
   "cell_type": "code",
   "execution_count": 45,
   "id": "75cae18f-4846-413b-855b-ce4c47f062ac",
   "metadata": {
    "tags": []
   },
   "outputs": [
    {
     "data": {
      "text/plain": [
       "False"
      ]
     },
     "execution_count": 45,
     "metadata": {},
     "output_type": "execute_result"
    }
   ],
   "source": [
    "ex_page"
   ]
  },
  {
   "cell_type": "code",
   "execution_count": 44,
   "id": "10679776-6046-48ad-8228-ea33f84f01ec",
   "metadata": {
    "tags": []
   },
   "outputs": [
    {
     "ename": "TypeError",
     "evalue": "'bool' object is not subscriptable",
     "output_type": "error",
     "traceback": [
      "\u001b[1;31m---------------------------------------------------------------------------\u001b[0m",
      "\u001b[1;31mTypeError\u001b[0m                                 Traceback (most recent call last)",
      "Cell \u001b[1;32mIn[44], line 1\u001b[0m\n\u001b[1;32m----> 1\u001b[0m \u001b[43mex_page\u001b[49m\u001b[43m[\u001b[49m\u001b[38;5;241;43m0\u001b[39;49m\u001b[43m]\u001b[49m\u001b[38;5;241m.\u001b[39mfind(\u001b[38;5;124m'\u001b[39m\u001b[38;5;124mi\u001b[39m\u001b[38;5;124m'\u001b[39m, {\u001b[38;5;124m'\u001b[39m\u001b[38;5;124mdata-hook\u001b[39m\u001b[38;5;124m'\u001b[39m: \u001b[38;5;124m'\u001b[39m\u001b[38;5;124mreview-star-rating\u001b[39m\u001b[38;5;124m'\u001b[39m})\u001b[38;5;241m.\u001b[39mtext\n",
      "\u001b[1;31mTypeError\u001b[0m: 'bool' object is not subscriptable"
     ]
    }
   ],
   "source": [
    "ex_page[0].find('i', {'data-hook': 'review-star-rating'}).text"
   ]
  },
  {
   "cell_type": "code",
   "execution_count": 43,
   "id": "477f74bc-21f5-4549-85f7-f59190512870",
   "metadata": {
    "tags": []
   },
   "outputs": [
    {
     "ename": "TypeError",
     "evalue": "'bool' object is not subscriptable",
     "output_type": "error",
     "traceback": [
      "\u001b[1;31m---------------------------------------------------------------------------\u001b[0m",
      "\u001b[1;31mTypeError\u001b[0m                                 Traceback (most recent call last)",
      "Cell \u001b[1;32mIn[43], line 1\u001b[0m\n\u001b[1;32m----> 1\u001b[0m elements \u001b[38;5;241m=\u001b[39m \u001b[43mex_page\u001b[49m\u001b[43m[\u001b[49m\u001b[38;5;241;43m1\u001b[39;49m\u001b[43m]\u001b[49m\u001b[38;5;241m.\u001b[39mfind_all(attrs\u001b[38;5;241m=\u001b[39m{\u001b[38;5;124m\"\u001b[39m\u001b[38;5;124mdata-hook\u001b[39m\u001b[38;5;124m\"\u001b[39m: \u001b[38;5;28;01mTrue\u001b[39;00m})\n\u001b[0;32m      2\u001b[0m unique_data_hooks \u001b[38;5;241m=\u001b[39m \u001b[38;5;28mset\u001b[39m(element\u001b[38;5;241m.\u001b[39mget(\u001b[38;5;124m\"\u001b[39m\u001b[38;5;124mdata-hook\u001b[39m\u001b[38;5;124m\"\u001b[39m) \u001b[38;5;28;01mfor\u001b[39;00m element \u001b[38;5;129;01min\u001b[39;00m elements)\n\u001b[0;32m      3\u001b[0m unique_data_hooks\n",
      "\u001b[1;31mTypeError\u001b[0m: 'bool' object is not subscriptable"
     ]
    }
   ],
   "source": [
    "elements = ex_page[1].find_all(attrs={\"data-hook\": True})\n",
    "unique_data_hooks = set(element.get(\"data-hook\") for element in elements)\n",
    "unique_data_hooks"
   ]
  },
  {
   "cell_type": "code",
   "execution_count": 29,
   "id": "1e61583f-0172-4edd-a10f-b2bd9f74fa67",
   "metadata": {
    "tags": []
   },
   "outputs": [
    {
     "data": {
      "text/plain": [
       "{'avp-badge-linkless',\n",
       " 'cmps-review-image-tile',\n",
       " 'cmps-review-star-rating',\n",
       " 'cr-translate-this-review-link',\n",
       " 'expand-collapse-read-more-less',\n",
       " 'format-strip-linkless',\n",
       " 'genome-widget',\n",
       " 'helpful-vote-statement',\n",
       " 'image-popover',\n",
       " 'review-body',\n",
       " 'review-collapsed',\n",
       " 'review-comments',\n",
       " 'review-date',\n",
       " 'review-title',\n",
       " 'review-voting-widget'}"
      ]
     },
     "execution_count": 29,
     "metadata": {},
     "output_type": "execute_result"
    }
   ],
   "source": [
    "elements = ex_page[2].find_all(attrs={\"data-hook\": True})\n",
    "unique_data_hooks = set(element.get(\"data-hook\") for element in elements)\n",
    "unique_data_hooks"
   ]
  },
  {
   "cell_type": "code",
   "execution_count": 22,
   "id": "456d0267-0ce6-496c-9c1c-6643516b9c7e",
   "metadata": {
    "tags": []
   },
   "outputs": [
    {
     "name": "stdout",
     "output_type": "stream",
     "text": [
      "5.0 out of 5 stars\n",
      "5.0 out of 5 stars\n",
      "5.0 out of 5 stars\n",
      "1.0 out of 5 stars\n",
      "5.0 out of 5 stars\n",
      "5.0 out of 5 stars\n",
      "5.0 out of 5 stars\n"
     ]
    }
   ],
   "source": [
    "for i in range(len(ex_page)):\n",
    "    try:\n",
    "        rating = ex_page[i].find('i', {'data-hook': 'review-star-rating'}).text\n",
    "        print(rating)\n",
    "    except AttributeError:\n",
    "        try:\n",
    "            # If the first attempt fails, try the alternative data-hook\n",
    "            rating = ex_page[i].find('i', {'data-hook': 'cmps-review-star-rating'}).text\n",
    "            print(rating)\n",
    "        except AttributeError as e:\n",
    "            print(f\"Error accessing review star rating for item {i}: {e}\")\n"
   ]
  },
  {
   "cell_type": "code",
   "execution_count": null,
   "id": "92c7dd5f-6c8a-442b-acaa-65e507818df4",
   "metadata": {},
   "outputs": [],
   "source": [
    "# Example usage\n",
    "for page_number in range(1, 6):  # Replace 6 with the total number of pages you want to scrape\n",
    "    result = pagination(page_number)\n",
    "    if result:\n",
    "        for review_div in result:\n",
    "            print(review_div)\n",
    "    else:\n",
    "        print(f\"No reviews found on page {page_number}.\")"
   ]
  },
  {
   "cell_type": "markdown",
   "id": "ab6bd7d7-31ef-4cd2-aa88-fcfa58ac7635",
   "metadata": {},
   "source": [
    "## APIFY Scrapers\n",
    "\n",
    "Using Apify Scrapers to get data for ease of crating an MVP"
   ]
  },
  {
   "cell_type": "code",
   "execution_count": 1,
   "id": "aad50e57-2647-46ae-9c89-1259f3685b5c",
   "metadata": {
    "tags": []
   },
   "outputs": [],
   "source": [
    "#!pip install apify_client\n",
    "from apify_client import ApifyClient\n",
    "import pandas as pd\n",
    "import json\n",
    "\n",
    "with open('config.json', 'r') as file:\n",
    "    config_data = json.load(file)\n",
    "    \n",
    "apify_api_token = config_data['apify_client_api_key']\n",
    "free_amz_scraper_actor = config_data['apify_free_amz_product_scraper_api_key']\n",
    "amz_product_scraper_actor = config_data['apify_amz_product_scraper_api_key']\n",
    "review_scraper_actor = config_data['apify_amz_review_scraper_api_key']"
   ]
  },
  {
   "cell_type": "code",
   "execution_count": 3,
   "id": "66eb418d-813a-40d9-970f-9193200826b1",
   "metadata": {
    "tags": []
   },
   "outputs": [],
   "source": [
    "client = ApifyClient(apify_api_token)"
   ]
  },
  {
   "cell_type": "markdown",
   "id": "a823590f-8037-46c7-8bfe-57655bc04f2b",
   "metadata": {},
   "source": [
    "### Amazon Product Scraper API"
   ]
  },
  {
   "cell_type": "code",
   "execution_count": 38,
   "id": "7f5cbb40-cd02-4e21-be41-91fb125ccf0b",
   "metadata": {
    "tags": []
   },
   "outputs": [],
   "source": [
    "url = 'https://www.amazon.ca/Sony-WF-1000XM4-Industry-Canceling-Headphones/dp/B094C4VDJZ/ref=cm_cr_arp_d_product_top?ie=UTF8&th=1'\n",
    "# Prepare the Actor input\n",
    "run_input = {\n",
    "    \"categoryOrProductUrls\": [{ \"url\": url}],\n",
    "    \"maxItemsPerStartUrl\": 10,\n",
    "    \"useCaptchaSolver\": False,\n",
    "    \"proxyConfiguration\": {\n",
    "        \"useApifyProxy\": True,\n",
    "        \"apifyProxyGroups\": [\"RESIDENTIAL\"],\n",
    "    },\n",
    "}\n",
    "\n",
    "# Run the Actor and wait for it to finish\n",
    "run = client.actor(amz_product_scraper_actor).call(run_input=run_input)\n",
    "\n",
    "keys_lst = []\n",
    "values_lst = []\n",
    "# Fetch and print Actor results from the run's dataset (if there are any)\n",
    "for item in client.dataset(run[\"defaultDatasetId\"]).iterate_items():\n",
    "    keys_lst.append(list(item.keys()))\n",
    "    values_lst.append(list(item.values()))\n",
    "    #print(item.values())\n",
    "    #break"
   ]
  },
  {
   "cell_type": "code",
   "execution_count": 7,
   "id": "392151d7-0ed8-4412-8f6d-0bce7f8b4119",
   "metadata": {},
   "outputs": [
    {
     "data": {
      "text/plain": [
       "<apify_client.clients.resource_clients.dataset.DatasetClient at 0x2056e994250>"
      ]
     },
     "execution_count": 7,
     "metadata": {},
     "output_type": "execute_result"
    }
   ],
   "source": [
    "client.dataset(run[\"defaultDatasetId\"])"
   ]
  },
  {
   "cell_type": "code",
   "execution_count": 28,
   "id": "e40707ca-7912-40f7-b39c-4392d42f92fd",
   "metadata": {
    "tags": []
   },
   "outputs": [
    {
     "data": {
      "text/html": [
       "<div>\n",
       "<style scoped>\n",
       "    .dataframe tbody tr th:only-of-type {\n",
       "        vertical-align: middle;\n",
       "    }\n",
       "\n",
       "    .dataframe tbody tr th {\n",
       "        vertical-align: top;\n",
       "    }\n",
       "\n",
       "    .dataframe thead th {\n",
       "        text-align: right;\n",
       "    }\n",
       "</style>\n",
       "<table border=\"1\" class=\"dataframe\">\n",
       "  <thead>\n",
       "    <tr style=\"text-align: right;\">\n",
       "      <th></th>\n",
       "      <th>0</th>\n",
       "      <th>1</th>\n",
       "    </tr>\n",
       "  </thead>\n",
       "  <tbody>\n",
       "    <tr>\n",
       "      <th>0</th>\n",
       "      <td>[title, url, asin, inStock, inStockText, brand...</td>\n",
       "      <td>[Sony WF-1000XM4 Industry Leading Noise Cancel...</td>\n",
       "    </tr>\n",
       "  </tbody>\n",
       "</table>\n",
       "</div>"
      ],
      "text/plain": [
       "                                                   0  \\\n",
       "0  [title, url, asin, inStock, inStockText, brand...   \n",
       "\n",
       "                                                   1  \n",
       "0  [Sony WF-1000XM4 Industry Leading Noise Cancel...  "
      ]
     },
     "execution_count": 28,
     "metadata": {},
     "output_type": "execute_result"
    }
   ],
   "source": [
    "pd.concat([pd.Series(keys_lst), pd.Series(values_lst)], axis = 1)"
   ]
  },
  {
   "cell_type": "code",
   "execution_count": 42,
   "id": "65248db4-49ae-4ff6-93a7-8b7d027f7c38",
   "metadata": {
    "tags": []
   },
   "outputs": [
    {
     "data": {
      "text/plain": [
       "['title',\n",
       " 'url',\n",
       " 'asin',\n",
       " 'inStock',\n",
       " 'inStockText',\n",
       " 'brand',\n",
       " 'author',\n",
       " 'price',\n",
       " 'listPrice',\n",
       " 'shippingPrice',\n",
       " 'stars',\n",
       " 'starsBreakdown',\n",
       " 'reviewsCount',\n",
       " 'answeredQuestions',\n",
       " 'breadCrumbs',\n",
       " 'thumbnailImage',\n",
       " 'galleryThumbnails',\n",
       " 'highResolutionImages',\n",
       " 'description',\n",
       " 'features',\n",
       " 'attributes',\n",
       " 'productOverview',\n",
       " 'variantAsins',\n",
       " 'variantDetails',\n",
       " 'reviewsLink',\n",
       " 'hasReviews',\n",
       " 'delivery',\n",
       " 'fastestDelivery',\n",
       " 'returnPolicy',\n",
       " 'support',\n",
       " 'variantAttributes',\n",
       " 'manufacturerAttributes',\n",
       " 'seller',\n",
       " 'bestsellerRanks',\n",
       " 'isAmazonChoice',\n",
       " 'amazonChoiceText',\n",
       " 'bookDescription',\n",
       " 'locationText',\n",
       " 'loadedCountryCode',\n",
       " 'unNormalizedProductUrl']"
      ]
     },
     "execution_count": 42,
     "metadata": {},
     "output_type": "execute_result"
    }
   ],
   "source": [
    "keys_lst[0]"
   ]
  },
  {
   "cell_type": "markdown",
   "id": "cdba5233-6c3b-4b6a-82c1-8c4c46ce3c24",
   "metadata": {},
   "source": [
    "Need the list of urls for each headphone and will get the prodcut information for each one and store them in a df now because the API key will expire soon."
   ]
  },
  {
   "cell_type": "code",
   "execution_count": 43,
   "id": "ef41a1be-9aaa-4b63-b51e-770d566a4f1c",
   "metadata": {
    "tags": []
   },
   "outputs": [],
   "source": [
    "yt_reviews_df = pd.read_csv('youtube_reviews_v2.csv')\n",
    "headphones = yt_reviews_df['headphone'].unique()"
   ]
  },
  {
   "cell_type": "code",
   "execution_count": 44,
   "id": "e3b94e3f-9a95-4d08-9400-341852f094d8",
   "metadata": {
    "tags": []
   },
   "outputs": [
    {
     "data": {
      "text/plain": [
       "array(['sony xm4 earbuds', 'Galaxy Buds2 Pro', 'Sennheiser MTW3',\n",
       "       'Bose Quietcomfort Earbuds 2', 'Bose Quietcomfort Earbuds',\n",
       "       'Beats Fit Pro Earbuds', 'AirPods Pro 2 Earbuds',\n",
       "       'Sony Linkbuds S', 'Sony Linkbuds original', 'Pixel Buds Pro',\n",
       "       'Soundcore Liberty 3', 'AirPods 3', 'Jabra Elite 7 Pro',\n",
       "       'Sony WF-1000XM5', '1MORE Evo', 'lg tone tf8'], dtype=object)"
      ]
     },
     "execution_count": 44,
     "metadata": {},
     "output_type": "execute_result"
    }
   ],
   "source": [
    "headphones"
   ]
  },
  {
   "cell_type": "code",
   "execution_count": 40,
   "id": "3fa76353-86f7-406e-a69e-c41bcc4a4a99",
   "metadata": {
    "tags": []
   },
   "outputs": [],
   "source": [
    "urls = ['https://www.amazon.ca/Sony-WF-1000XM4-Industry-Canceling-Headphones/dp/B094C4VDJZ/ref=cm_cr_arp_d_product_top?ie=UTF8&th=1',\n",
    "        'https://www.amazon.ca/SAMSUNG-Galaxy-Buds-Pro-SM-R510/dp/B0B8TC6KWF/ref=sr_1_2?crid=10FODGRCMVAB4&keywords=Galaxy+Buds2+Pro&qid=1704073482&sprefix=galaxy+buds2+pro%2Caps%2C96&sr=8-2&ufe=app_do%3Aamzn1.fos.d0e27fc4-6417-4b26-97cb-f959a9930752',\n",
    "        'https://www.amazon.ca/Sennheiser-Momentum-Bluetooth-Headphones-Cancellation/dp/B09T8YPFV2/ref=sr_1_5?crid=1M27NB99APX1L&keywords=Sennheiser%2BMTW3&qid=1704073534&sprefix=sennheiser%2Bmtw3%2Caps%2C74&sr=8-5&th=1',\n",
    "        'https://www.amazon.ca/QuietComfort-Cancelling-Headphones-Personalized-Cancellation/dp/B0B4PSQHD5/ref=sr_1_5?crid=ZXZYAP0OE66D&keywords=Bose%2BQuietcomfort%2BEarbuds%2B2&qid=1704073572&sprefix=bose%2Bquietcomfort%2Bearbuds%2B2%2Caps%2C78&sr=8-5&ufe=app_do%3Aamzn1.fos.d0e27fc4-6417-4b26-97cb-f959a9930752&th=1',\n",
    "        'https://www.amazon.ca/Bose-QuietComfort-Noise-Cancelling-Earbuds/dp/B08CJP6V6W/ref=sr_1_1_sspa?crid=2K1569SDRYI01&keywords=Bose%2BQuietcomfort%2BEarbuds&qid=1704073590&sprefix=bose%2Bquietcomfort%2Bearbuds%2B%2Caps%2C117&sr=8-1-spons&ufe=app_do%3Aamzn1.fos.d0e27fc4-6417-4b26-97cb-f959a9930752&sp_csd=d2lkZ2V0TmFtZT1zcF9hdGY&th=1',\n",
    "        'https://www.amazon.ca/Beats-Cancelling-Earbuds-Compatible-Microphone-Bluetooth-Headphones/dp/B096SV8SJG/ref=sr_1_5?crid=3E6R90E7CK9U4&keywords=Beats+Fit+Pro+Earbuds&qid=1704073612&sprefix=beats+fit+pro+earbuds%2Caps%2C81&sr=8-5',\n",
    "        'https://www.amazon.ca/Apple-AirPods-Generation-MagSafe-USB‑C/dp/B0CHWRXH8B/ref=sr_1_5?crid=2IU7N5JPYSRD2&keywords=AirPods+Pro+2&qid=1704073650&sprefix=airpods+pro+2+%2Caps%2C96&sr=8-5',\n",
    "        'https://www.amazon.ca/Sony-LinkBuds-Wireless-Cancelling-Headphones/dp/B09YL76VSR/ref=sr_1_5?crid=35DC928TMQYRG&keywords=Sony+Linkbuds+S&qid=1704073707&sprefix=sony+linkbuds+s%2Caps%2C79&sr=8-5&ufe=app_do%3Aamzn1.fos.d0e27fc4-6417-4b26-97cb-f959a9930752',\n",
    "        'https://www.amazon.ca/Sony-LinkBuds-Wireless-Headphones-Open-Ring/dp/B09QNLR4GD/ref=sr_1_6?crid=2MXEH4YTVNOXN&keywords=Sony+Linkbuds&qid=1704073751&sprefix=sony+linkbuds+%2Caps%2C88&sr=8-6&ufe=app_do%3Aamzn1.fos.d0e27fc4-6417-4b26-97cb-f959a9930752',\n",
    "        'https://www.amazon.ca/Google-GA34L-GQGM1-GPX4H-Pixel/dp/B0B1N7SGMZ/ref=sr_1_3?crid=37CJY9KW9JL9&keywords=Pixel%2BBuds%2BPro&qid=1704073768&sprefix=pixel%2Bbuds%2Bpro%2Caps%2C103&sr=8-3&ufe=app_do%3Aamzn1.fos.d0e27fc4-6417-4b26-97cb-f959a9930752&th=1',\n",
    "        'https://www.amazon.ca/Soundcore-Cancelling-Wireless-Multipoint-Connection/dp/B09CGM1BWH/ref=sr_1_5?crid=XL64TEJ43EL6&keywords=Soundcore%2BLiberty%2B3&qid=1704073780&sprefix=soundcore%2Bliberty%2B3%2Caps%2C85&sr=8-5&ufe=app_do%3Aamzn1.fos.d0e27fc4-6417-4b26-97cb-f959a9930752&th=1',\n",
    "        'https://www.amazon.ca/gp/aw/d/B0BDHB9Y8H/?_encoding=UTF8&pd_rd_plhdr=t&aaxitk=0642153153d0dc1e8bb64b09802e9178&hsa_cr_id=8697153580001&qid=1704073807&sr=1-2-9e67e56a-6f64-441f-a281-df67fc737124&ref_=sbx_be_s_sparkle_lsi4d_asin_1_title&pd_rd_w=6h7Z1&content-id=amzn1.sym.8e0ef875-4e67-47f1-80ff-d43b41956e2f%3Aamzn1.sym.8e0ef875-4e67-47f1-80ff-d43b41956e2f&pf_rd_p=8e0ef875-4e67-47f1-80ff-d43b41956e2f&pf_rd_r=7KB1HN901M3NSCMNB7DD&pd_rd_wg=bVpD9&pd_rd_r=405354ae-8b5c-4971-8fe8-689d8d19f3fc',\n",
    "        'https://www.amazon.ca/Jabra-Elite-Pro-Bluetooth-Earbuds/dp/B09FVVSZFK/ref=sr_1_5?crid=OS8IHR97WB2B&keywords=Jabra%2BElite%2B7%2BPro&qid=1704073852&sprefix=jabra%2Belite%2B7%2Bpro%2Caps%2C89&sr=8-5&th=1',\n",
    "        'https://www.amazon.ca/Sony-WF-1000XM5-Bluetooth-Cancelling-Headphones/dp/B0C33XXS56/ref=sr_1_4?crid=VTQDV5YVJT7A&keywords=Sony+WF-1000XM5&qid=1704073891&sprefix=sony+wf-1000xm5%2Caps%2C74&sr=8-4',\n",
    "        'https://www.amazon.ca/1MORE-Cancelling-Bluetooth-Audiophile-Headphones/dp/B09Q31SGTP/ref=sr_1_1_sspa?crid=12COI2QW70IAG&keywords=1MORE%2BEvo&qid=1704073907&sprefix=1more%2Bevo%2Caps%2C126&sr=8-1-spons&ufe=app_do%3Aamzn1.fos.d0e27fc4-6417-4b26-97cb-f959a9930752&sp_csd=d2lkZ2V0TmFtZT1zcF9hdGY&th=1',\n",
    "        'https://www.amazon.ca/LG-Electronics-Tone-Free-Fit/dp/B0B94LWGNL?th=1']"
   ]
  },
  {
   "cell_type": "code",
   "execution_count": 43,
   "id": "51cd4a14-bd95-40af-b211-949a9a7d7ee7",
   "metadata": {
    "tags": []
   },
   "outputs": [],
   "source": [
    "def product_description_scraping(url, amz_product_scraper_actor):    \n",
    "    run_input = {\n",
    "        \"categoryOrProductUrls\": [{ \"url\": url}],\n",
    "        \"maxItemsPerStartUrl\": 10,\n",
    "        \"useCaptchaSolver\": False,\n",
    "        \"proxyConfiguration\": {\n",
    "            \"useApifyProxy\": True,\n",
    "            \"apifyProxyGroups\": [\"RESIDENTIAL\"],\n",
    "        },\n",
    "    }\n",
    "\n",
    "    # Run the Actor and wait for it to finish\n",
    "    run = client.actor(amz_product_scraper_actor).call(run_input=run_input)\n",
    "\n",
    "    keys_lst = []\n",
    "    values_lst = []\n",
    "    # Fetch and print Actor results from the run's dataset (if there are any)\n",
    "    for item in client.dataset(run[\"defaultDatasetId\"]).iterate_items():\n",
    "        keys_lst.append(list(item.keys()))\n",
    "        values_lst.append(list(item.values()))\n",
    "        \n",
    "    return keys_lst, values_lst"
   ]
  },
  {
   "cell_type": "code",
   "execution_count": 44,
   "id": "3686163f-879d-4823-be82-128f087afb16",
   "metadata": {
    "tags": []
   },
   "outputs": [],
   "source": [
    "product_attributes = []\n",
    "product_descriptions = []\n",
    "\n",
    "for url in urls:\n",
    "    try:\n",
    "        key_i, value_i = product_description_scraping(url, amz_product_scraper_actor)\n",
    "        product_attributes.append(key_i)\n",
    "        product_descriptions.append(value_i)\n",
    "    except Exception as e:\n",
    "        print(f\"Error processing URL {url}: {e}\")"
   ]
  },
  {
   "cell_type": "markdown",
   "id": "cc78a5d0-ab29-4e26-95ba-3de8cf3491be",
   "metadata": {},
   "source": [
    "Let's put all these four lists into series and concat them into a df to save for later."
   ]
  },
  {
   "cell_type": "code",
   "execution_count": 48,
   "id": "c4146539-30cf-439c-a1c5-8e6ba6c9c68e",
   "metadata": {
    "tags": []
   },
   "outputs": [
    {
     "data": {
      "text/html": [
       "<div>\n",
       "<style scoped>\n",
       "    .dataframe tbody tr th:only-of-type {\n",
       "        vertical-align: middle;\n",
       "    }\n",
       "\n",
       "    .dataframe tbody tr th {\n",
       "        vertical-align: top;\n",
       "    }\n",
       "\n",
       "    .dataframe thead th {\n",
       "        text-align: right;\n",
       "    }\n",
       "</style>\n",
       "<table border=\"1\" class=\"dataframe\">\n",
       "  <thead>\n",
       "    <tr style=\"text-align: right;\">\n",
       "      <th></th>\n",
       "      <th>Headphones</th>\n",
       "      <th>URLs</th>\n",
       "      <th>Product_Attributes</th>\n",
       "      <th>Product_Descriptions</th>\n",
       "    </tr>\n",
       "  </thead>\n",
       "  <tbody>\n",
       "    <tr>\n",
       "      <th>0</th>\n",
       "      <td>sony xm4 earbuds</td>\n",
       "      <td>https://www.amazon.ca/Sony-WF-1000XM4-Industry...</td>\n",
       "      <td>[[title, url, asin, inStock, inStockText, bran...</td>\n",
       "      <td>[[Sony WF-1000XM4 Industry Leading Noise Cance...</td>\n",
       "    </tr>\n",
       "    <tr>\n",
       "      <th>1</th>\n",
       "      <td>Galaxy Buds2 Pro</td>\n",
       "      <td>https://www.amazon.ca/SAMSUNG-Galaxy-Buds-Pro-...</td>\n",
       "      <td>[[title, url, asin, inStock, inStockText, bran...</td>\n",
       "      <td>[[SAMSUNG Galaxy Buds Pro 2 [2022] (SM-R510) -...</td>\n",
       "    </tr>\n",
       "    <tr>\n",
       "      <th>2</th>\n",
       "      <td>Sennheiser MTW3</td>\n",
       "      <td>https://www.amazon.ca/Sennheiser-Momentum-Blue...</td>\n",
       "      <td>[[title, url, asin, inStock, inStockText, bran...</td>\n",
       "      <td>[[Sennheiser Momentum True Wireless 3 Earbuds ...</td>\n",
       "    </tr>\n",
       "    <tr>\n",
       "      <th>3</th>\n",
       "      <td>Bose Quietcomfort Earbuds 2</td>\n",
       "      <td>https://www.amazon.ca/QuietComfort-Cancelling-...</td>\n",
       "      <td>[[title, url, asin, inStock, inStockText, bran...</td>\n",
       "      <td>[[Bose QuietComfort Earbuds II, Wireless, Blue...</td>\n",
       "    </tr>\n",
       "    <tr>\n",
       "      <th>4</th>\n",
       "      <td>Bose Quietcomfort Earbuds</td>\n",
       "      <td>https://www.amazon.ca/Bose-QuietComfort-Noise-...</td>\n",
       "      <td>[[title, url, asin, inStock, inStockText, bran...</td>\n",
       "      <td>[[Bose QuietComfort® Noise Cancelling Earbuds–...</td>\n",
       "    </tr>\n",
       "    <tr>\n",
       "      <th>5</th>\n",
       "      <td>Beats Fit Pro Earbuds</td>\n",
       "      <td>https://www.amazon.ca/Beats-Cancelling-Earbuds...</td>\n",
       "      <td>[[title, url, asin, inStock, inStockText, bran...</td>\n",
       "      <td>[[Beats Studio Buds True Wireless Noise Cancel...</td>\n",
       "    </tr>\n",
       "    <tr>\n",
       "      <th>6</th>\n",
       "      <td>AirPods Pro 2 Earbuds</td>\n",
       "      <td>https://www.amazon.ca/Apple-AirPods-Generation...</td>\n",
       "      <td>[[title, url, asin, inStock, inStockText, bran...</td>\n",
       "      <td>[[Apple AirPods Pro (2nd Generation) with MagS...</td>\n",
       "    </tr>\n",
       "    <tr>\n",
       "      <th>7</th>\n",
       "      <td>Sony Linkbuds S</td>\n",
       "      <td>https://www.amazon.ca/Sony-LinkBuds-Wireless-C...</td>\n",
       "      <td>[[title, url, asin, inStock, inStockText, bran...</td>\n",
       "      <td>[[Sony LinkBuds S Truly Wireless Noise Cancell...</td>\n",
       "    </tr>\n",
       "    <tr>\n",
       "      <th>8</th>\n",
       "      <td>Sony Linkbuds original</td>\n",
       "      <td>https://www.amazon.ca/Sony-LinkBuds-Wireless-H...</td>\n",
       "      <td>[[title, url, asin, inStock, inStockText, bran...</td>\n",
       "      <td>[[Sony LinkBuds Truly Wireless Earbud Headphon...</td>\n",
       "    </tr>\n",
       "    <tr>\n",
       "      <th>9</th>\n",
       "      <td>Pixel Buds Pro</td>\n",
       "      <td>https://www.amazon.ca/Google-GA34L-GQGM1-GPX4H...</td>\n",
       "      <td>[[title, url, asin, inStock, inStockText, bran...</td>\n",
       "      <td>[[Pixel Buds Pro - Charcoal, https://www.amazo...</td>\n",
       "    </tr>\n",
       "    <tr>\n",
       "      <th>10</th>\n",
       "      <td>Soundcore Liberty 3</td>\n",
       "      <td>https://www.amazon.ca/Soundcore-Cancelling-Wir...</td>\n",
       "      <td>[[title, url, asin, inStock, inStockText, bran...</td>\n",
       "      <td>[[Soundcore by Anker Liberty 3 Pro Noise Cance...</td>\n",
       "    </tr>\n",
       "    <tr>\n",
       "      <th>11</th>\n",
       "      <td>AirPods 3</td>\n",
       "      <td>https://www.amazon.ca/gp/aw/d/B0BDHB9Y8H/?_enc...</td>\n",
       "      <td>[]</td>\n",
       "      <td>[]</td>\n",
       "    </tr>\n",
       "    <tr>\n",
       "      <th>12</th>\n",
       "      <td>Jabra Elite 7 Pro</td>\n",
       "      <td>https://www.amazon.ca/Jabra-Elite-Pro-Bluetoot...</td>\n",
       "      <td>[[title, url, asin, inStock, inStockText, bran...</td>\n",
       "      <td>[[Jabra Elite 7 Pro in Ear Bluetooth Earbuds -...</td>\n",
       "    </tr>\n",
       "    <tr>\n",
       "      <th>13</th>\n",
       "      <td>Sony WF-1000XM5</td>\n",
       "      <td>https://www.amazon.ca/Sony-WF-1000XM5-Bluetoot...</td>\n",
       "      <td>[[title, url, asin, inStock, inStockText, bran...</td>\n",
       "      <td>[[Sony WF-1000XM5 The Best Truly Wireless Blue...</td>\n",
       "    </tr>\n",
       "    <tr>\n",
       "      <th>14</th>\n",
       "      <td>1MORE Evo</td>\n",
       "      <td>https://www.amazon.ca/1MORE-Cancelling-Bluetoo...</td>\n",
       "      <td>[[title, url, asin, inStock, inStockText, bran...</td>\n",
       "      <td>[[1MORE EVO Noise Cancelling Earbuds, Bluetoot...</td>\n",
       "    </tr>\n",
       "    <tr>\n",
       "      <th>15</th>\n",
       "      <td>lg tone tf8</td>\n",
       "      <td>https://www.amazon.ca/LG-Electronics-Tone-Free...</td>\n",
       "      <td>[[title, url, asin, inStock, inStockText, bran...</td>\n",
       "      <td>[[LG Electronics Tone Free Fit TF8 - SwivelGri...</td>\n",
       "    </tr>\n",
       "  </tbody>\n",
       "</table>\n",
       "</div>"
      ],
      "text/plain": [
       "                     Headphones  \\\n",
       "0              sony xm4 earbuds   \n",
       "1              Galaxy Buds2 Pro   \n",
       "2               Sennheiser MTW3   \n",
       "3   Bose Quietcomfort Earbuds 2   \n",
       "4     Bose Quietcomfort Earbuds   \n",
       "5         Beats Fit Pro Earbuds   \n",
       "6         AirPods Pro 2 Earbuds   \n",
       "7               Sony Linkbuds S   \n",
       "8        Sony Linkbuds original   \n",
       "9                Pixel Buds Pro   \n",
       "10          Soundcore Liberty 3   \n",
       "11                    AirPods 3   \n",
       "12            Jabra Elite 7 Pro   \n",
       "13              Sony WF-1000XM5   \n",
       "14                    1MORE Evo   \n",
       "15                  lg tone tf8   \n",
       "\n",
       "                                                 URLs  \\\n",
       "0   https://www.amazon.ca/Sony-WF-1000XM4-Industry...   \n",
       "1   https://www.amazon.ca/SAMSUNG-Galaxy-Buds-Pro-...   \n",
       "2   https://www.amazon.ca/Sennheiser-Momentum-Blue...   \n",
       "3   https://www.amazon.ca/QuietComfort-Cancelling-...   \n",
       "4   https://www.amazon.ca/Bose-QuietComfort-Noise-...   \n",
       "5   https://www.amazon.ca/Beats-Cancelling-Earbuds...   \n",
       "6   https://www.amazon.ca/Apple-AirPods-Generation...   \n",
       "7   https://www.amazon.ca/Sony-LinkBuds-Wireless-C...   \n",
       "8   https://www.amazon.ca/Sony-LinkBuds-Wireless-H...   \n",
       "9   https://www.amazon.ca/Google-GA34L-GQGM1-GPX4H...   \n",
       "10  https://www.amazon.ca/Soundcore-Cancelling-Wir...   \n",
       "11  https://www.amazon.ca/gp/aw/d/B0BDHB9Y8H/?_enc...   \n",
       "12  https://www.amazon.ca/Jabra-Elite-Pro-Bluetoot...   \n",
       "13  https://www.amazon.ca/Sony-WF-1000XM5-Bluetoot...   \n",
       "14  https://www.amazon.ca/1MORE-Cancelling-Bluetoo...   \n",
       "15  https://www.amazon.ca/LG-Electronics-Tone-Free...   \n",
       "\n",
       "                                   Product_Attributes  \\\n",
       "0   [[title, url, asin, inStock, inStockText, bran...   \n",
       "1   [[title, url, asin, inStock, inStockText, bran...   \n",
       "2   [[title, url, asin, inStock, inStockText, bran...   \n",
       "3   [[title, url, asin, inStock, inStockText, bran...   \n",
       "4   [[title, url, asin, inStock, inStockText, bran...   \n",
       "5   [[title, url, asin, inStock, inStockText, bran...   \n",
       "6   [[title, url, asin, inStock, inStockText, bran...   \n",
       "7   [[title, url, asin, inStock, inStockText, bran...   \n",
       "8   [[title, url, asin, inStock, inStockText, bran...   \n",
       "9   [[title, url, asin, inStock, inStockText, bran...   \n",
       "10  [[title, url, asin, inStock, inStockText, bran...   \n",
       "11                                                 []   \n",
       "12  [[title, url, asin, inStock, inStockText, bran...   \n",
       "13  [[title, url, asin, inStock, inStockText, bran...   \n",
       "14  [[title, url, asin, inStock, inStockText, bran...   \n",
       "15  [[title, url, asin, inStock, inStockText, bran...   \n",
       "\n",
       "                                 Product_Descriptions  \n",
       "0   [[Sony WF-1000XM4 Industry Leading Noise Cance...  \n",
       "1   [[SAMSUNG Galaxy Buds Pro 2 [2022] (SM-R510) -...  \n",
       "2   [[Sennheiser Momentum True Wireless 3 Earbuds ...  \n",
       "3   [[Bose QuietComfort Earbuds II, Wireless, Blue...  \n",
       "4   [[Bose QuietComfort® Noise Cancelling Earbuds–...  \n",
       "5   [[Beats Studio Buds True Wireless Noise Cancel...  \n",
       "6   [[Apple AirPods Pro (2nd Generation) with MagS...  \n",
       "7   [[Sony LinkBuds S Truly Wireless Noise Cancell...  \n",
       "8   [[Sony LinkBuds Truly Wireless Earbud Headphon...  \n",
       "9   [[Pixel Buds Pro - Charcoal, https://www.amazo...  \n",
       "10  [[Soundcore by Anker Liberty 3 Pro Noise Cance...  \n",
       "11                                                 []  \n",
       "12  [[Jabra Elite 7 Pro in Ear Bluetooth Earbuds -...  \n",
       "13  [[Sony WF-1000XM5 The Best Truly Wireless Blue...  \n",
       "14  [[1MORE EVO Noise Cancelling Earbuds, Bluetoot...  \n",
       "15  [[LG Electronics Tone Free Fit TF8 - SwivelGri...  "
      ]
     },
     "execution_count": 48,
     "metadata": {},
     "output_type": "execute_result"
    }
   ],
   "source": [
    "data = {\n",
    "    'Headphones': pd.Series(headphones),\n",
    "    'URLs': pd.Series(urls),\n",
    "    'Product_Attributes': pd.Series(product_attributes),\n",
    "    'Product_Descriptions': pd.Series(product_descriptions)\n",
    "}\n",
    "\n",
    "# Creating a DataFrame\n",
    "df = pd.DataFrame(data)\n",
    "df"
   ]
  },
  {
   "cell_type": "markdown",
   "id": "96ebb23a-ca12-4661-a43e-0089abe84770",
   "metadata": {},
   "source": [
    "Now save this dataframe for later use. Analysis shouldn't be needed here since it's mostly just basic product information. Will use another API for product reviews."
   ]
  },
  {
   "cell_type": "code",
   "execution_count": 49,
   "id": "9cb7f2ac-0afa-4c6d-b176-75f5e623f594",
   "metadata": {
    "tags": []
   },
   "outputs": [],
   "source": [
    "df.to_csv('amazon_product_descriptions.csv', index=False)"
   ]
  },
  {
   "cell_type": "markdown",
   "id": "62046173-860e-4be8-85ab-22d734d44499",
   "metadata": {},
   "source": [
    "### APIFY Free Amazon Product Scraper\n",
    "\n",
    "Can experiment with the free version if needed."
   ]
  },
  {
   "cell_type": "code",
   "execution_count": 3,
   "id": "88d47d54-d85a-493a-a588-e76bf3975fbd",
   "metadata": {
    "tags": []
   },
   "outputs": [],
   "source": [
    "url = 'https://www.amazon.ca/Sony-WF-1000XM4-Industry-Canceling-Headphones/dp/B094C4VDJZ/ref=cm_cr_arp_d_product_top?ie=UTF8&th=1'"
   ]
  },
  {
   "cell_type": "code",
   "execution_count": 10,
   "id": "0c2c3e88-cc0c-4826-ae79-f342ebf5485b",
   "metadata": {
    "tags": []
   },
   "outputs": [],
   "source": [
    "# Initialize the ApifyClient with your API token\n",
    "client = ApifyClient(apify_api_token)\n",
    "\n",
    "# Prepare the Actor input\n",
    "run_input = {\n",
    "    \"categoryUrls\": [{ \"url\": url }],\n",
    "    \"maxItems\": 20,\n",
    "    \"useCaptchaSolver\": False,\n",
    "    \"proxyConfiguration\": {\n",
    "        \"useApifyProxy\": True,\n",
    "        \"apifyProxyGroups\": [\"RESIDENTIAL\"],\n",
    "    },\n",
    "}\n",
    "\n",
    "# Run the Actor and wait for it to finish\n",
    "run = client.actor(free_amz_scraper_actor).call(run_input=run_input)\n",
    "\n",
    "# Fetch and print Actor results from the run's dataset (if there are any)\n",
    "for item in client.dataset(run[\"defaultDatasetId\"]).iterate_items():\n",
    "    print(item)"
   ]
  },
  {
   "cell_type": "markdown",
   "id": "da3e1944-222b-45f6-97ff-8d1c34e19e41",
   "metadata": {
    "tags": []
   },
   "source": [
    "### APIFY Amazon Reviews Scraper"
   ]
  },
  {
   "cell_type": "code",
   "execution_count": 48,
   "id": "5993ce6d-8c8d-4950-810f-cf85da8cde32",
   "metadata": {
    "tags": []
   },
   "outputs": [],
   "source": [
    "# Initialize the ApifyClient with your API token\n",
    "client = ApifyClient(apify_api_token)\n",
    "\n",
    "# Prepare the Actor input\n",
    "run_input = {\n",
    "    \"productUrls\": [{ \"url\": url }],\n",
    "    #\"maxReviews\": 100, #comment this line out to get all reviews\n",
    "    \"includeGdprSensitive\": False,\n",
    "    \"sort\": \"helpful\",\n",
    "    \"filterByRatings\": [\"allStars\"],\n",
    "    \"proxyConfiguration\": {\n",
    "        \"useApifyProxy\": True,\n",
    "        \"apifyProxyGroups\": [\"RESIDENTIAL\"],\n",
    "    },\n",
    "    \"extendedOutputFunction\": \"($) => { return {} }\",\n",
    "}\n",
    "\n",
    "# Run the Actor and wait for it to finish\n",
    "run = client.actor(review_scraper_actor).call(run_input=run_input)\n",
    "\n",
    "review_lst = []\n",
    "# Fetch and print Actor results from the run's dataset (if there are any)\n",
    "for item in client.dataset(run[\"defaultDatasetId\"]).iterate_items():\n",
    "    review_lst.append(item)"
   ]
  },
  {
   "cell_type": "code",
   "execution_count": 50,
   "id": "079520f4-ab7f-4661-9246-a503276e15c3",
   "metadata": {
    "tags": []
   },
   "outputs": [
    {
     "data": {
      "text/plain": [
       "50"
      ]
     },
     "execution_count": 50,
     "metadata": {},
     "output_type": "execute_result"
    }
   ],
   "source": [
    "len(review_lst)"
   ]
  },
  {
   "cell_type": "code",
   "execution_count": 51,
   "id": "75532474-282a-4dd5-8c98-691e9d30f431",
   "metadata": {
    "tags": []
   },
   "outputs": [
    {
     "data": {
      "text/html": [
       "<div>\n",
       "<style scoped>\n",
       "    .dataframe tbody tr th:only-of-type {\n",
       "        vertical-align: middle;\n",
       "    }\n",
       "\n",
       "    .dataframe tbody tr th {\n",
       "        vertical-align: top;\n",
       "    }\n",
       "\n",
       "    .dataframe thead th {\n",
       "        text-align: right;\n",
       "    }\n",
       "</style>\n",
       "<table border=\"1\" class=\"dataframe\">\n",
       "  <thead>\n",
       "    <tr style=\"text-align: right;\">\n",
       "      <th></th>\n",
       "      <th>ratingScore</th>\n",
       "      <th>reviewTitle</th>\n",
       "      <th>reviewUrl</th>\n",
       "      <th>reviewReaction</th>\n",
       "      <th>reviewedIn</th>\n",
       "      <th>date</th>\n",
       "      <th>country</th>\n",
       "      <th>countryCode</th>\n",
       "      <th>reviewDescription</th>\n",
       "      <th>isVerified</th>\n",
       "      <th>variant</th>\n",
       "      <th>reviewImages</th>\n",
       "      <th>position</th>\n",
       "      <th>productAsin</th>\n",
       "      <th>reviewCategoryUrl</th>\n",
       "      <th>totalCategoryRatings</th>\n",
       "      <th>totalCategoryReviews</th>\n",
       "      <th>filterByRating</th>\n",
       "      <th>product</th>\n",
       "      <th>headphoneName</th>\n",
       "    </tr>\n",
       "  </thead>\n",
       "  <tbody>\n",
       "    <tr>\n",
       "      <th>0</th>\n",
       "      <td>3</td>\n",
       "      <td>Update - battery problems. Premium earbuds - e...</td>\n",
       "      <td>https://www.amazon.ca/gp/customer-reviews/R1SU...</td>\n",
       "      <td>4 people found this helpful</td>\n",
       "      <td>Reviewed in Canada on November 17, 2021</td>\n",
       "      <td>2021-11-17</td>\n",
       "      <td>Canada</td>\n",
       "      <td>None</td>\n",
       "      <td>Update Dec 2022 - there is a known issue with ...</td>\n",
       "      <td>True</td>\n",
       "      <td>Colour Name: Black</td>\n",
       "      <td>[]</td>\n",
       "      <td>1</td>\n",
       "      <td>B094C4VDJZ</td>\n",
       "      <td>https://www.amazon.com/product-reviews/B094C4V...</td>\n",
       "      <td>1716</td>\n",
       "      <td>788</td>\n",
       "      <td>threeStar</td>\n",
       "      <td>{'price': {'value': 289.99, 'currency': '$'}, ...</td>\n",
       "      <td>sony</td>\n",
       "    </tr>\n",
       "    <tr>\n",
       "      <th>1</th>\n",
       "      <td>3</td>\n",
       "      <td>Good quality but awful battery life after 2 years</td>\n",
       "      <td>https://www.amazon.ca/gp/customer-reviews/RC8M...</td>\n",
       "      <td></td>\n",
       "      <td>Reviewed in Canada on December 1, 2023</td>\n",
       "      <td>2023-12-01</td>\n",
       "      <td>Canada</td>\n",
       "      <td>None</td>\n",
       "      <td>Bought these earbuds in november 2021, sound q...</td>\n",
       "      <td>True</td>\n",
       "      <td>Colour Name: Black</td>\n",
       "      <td>[]</td>\n",
       "      <td>2</td>\n",
       "      <td>B094C4VDJZ</td>\n",
       "      <td>https://www.amazon.com/product-reviews/B094C4V...</td>\n",
       "      <td>1716</td>\n",
       "      <td>788</td>\n",
       "      <td>threeStar</td>\n",
       "      <td>{'price': {'value': 289.99, 'currency': '$'}, ...</td>\n",
       "      <td>sony</td>\n",
       "    </tr>\n",
       "    <tr>\n",
       "      <th>2</th>\n",
       "      <td>3</td>\n",
       "      <td>Great sound, terrible longevity</td>\n",
       "      <td>https://www.amazon.ca/gp/customer-reviews/R297...</td>\n",
       "      <td></td>\n",
       "      <td>Reviewed in Canada on November 3, 2023</td>\n",
       "      <td>2023-11-03</td>\n",
       "      <td>Canada</td>\n",
       "      <td>None</td>\n",
       "      <td>I've had these earbuds just about two years. T...</td>\n",
       "      <td>True</td>\n",
       "      <td>Colour Name: Silver</td>\n",
       "      <td>[]</td>\n",
       "      <td>3</td>\n",
       "      <td>B094C4VDJZ</td>\n",
       "      <td>https://www.amazon.com/product-reviews/B094C4V...</td>\n",
       "      <td>1716</td>\n",
       "      <td>788</td>\n",
       "      <td>threeStar</td>\n",
       "      <td>{'price': {'value': 289.99, 'currency': '$'}, ...</td>\n",
       "      <td>sony</td>\n",
       "    </tr>\n",
       "    <tr>\n",
       "      <th>3</th>\n",
       "      <td>3</td>\n",
       "      <td>if you can get them to fit, they work well - b...</td>\n",
       "      <td>https://www.amazon.ca/gp/customer-reviews/R3M7...</td>\n",
       "      <td></td>\n",
       "      <td>Reviewed in Canada on May 25, 2023</td>\n",
       "      <td>2023-05-25</td>\n",
       "      <td>Canada</td>\n",
       "      <td>None</td>\n",
       "      <td>These buds come with three sizes of foam tips ...</td>\n",
       "      <td>True</td>\n",
       "      <td>Colour Name: Black</td>\n",
       "      <td>[]</td>\n",
       "      <td>4</td>\n",
       "      <td>B094C4VDJZ</td>\n",
       "      <td>https://www.amazon.com/product-reviews/B094C4V...</td>\n",
       "      <td>1716</td>\n",
       "      <td>788</td>\n",
       "      <td>threeStar</td>\n",
       "      <td>{'price': {'value': 289.99, 'currency': '$'}, ...</td>\n",
       "      <td>sony</td>\n",
       "    </tr>\n",
       "    <tr>\n",
       "      <th>4</th>\n",
       "      <td>3</td>\n",
       "      <td>Voicemail issue</td>\n",
       "      <td>https://www.amazon.ca/gp/customer-reviews/RU2O...</td>\n",
       "      <td></td>\n",
       "      <td>Reviewed in Canada on November 11, 2022</td>\n",
       "      <td>2022-11-11</td>\n",
       "      <td>Canada</td>\n",
       "      <td>None</td>\n",
       "      <td>First things first, thank you so much to the A...</td>\n",
       "      <td>True</td>\n",
       "      <td>Colour Name: Black</td>\n",
       "      <td>[]</td>\n",
       "      <td>5</td>\n",
       "      <td>B094C4VDJZ</td>\n",
       "      <td>https://www.amazon.com/product-reviews/B094C4V...</td>\n",
       "      <td>1716</td>\n",
       "      <td>788</td>\n",
       "      <td>threeStar</td>\n",
       "      <td>{'price': {'value': 289.99, 'currency': '$'}, ...</td>\n",
       "      <td>sony</td>\n",
       "    </tr>\n",
       "  </tbody>\n",
       "</table>\n",
       "</div>"
      ],
      "text/plain": [
       "   ratingScore                                        reviewTitle  \\\n",
       "0            3  Update - battery problems. Premium earbuds - e...   \n",
       "1            3  Good quality but awful battery life after 2 years   \n",
       "2            3                    Great sound, terrible longevity   \n",
       "3            3  if you can get them to fit, they work well - b...   \n",
       "4            3                                    Voicemail issue   \n",
       "\n",
       "                                           reviewUrl  \\\n",
       "0  https://www.amazon.ca/gp/customer-reviews/R1SU...   \n",
       "1  https://www.amazon.ca/gp/customer-reviews/RC8M...   \n",
       "2  https://www.amazon.ca/gp/customer-reviews/R297...   \n",
       "3  https://www.amazon.ca/gp/customer-reviews/R3M7...   \n",
       "4  https://www.amazon.ca/gp/customer-reviews/RU2O...   \n",
       "\n",
       "                reviewReaction                               reviewedIn  \\\n",
       "0  4 people found this helpful  Reviewed in Canada on November 17, 2021   \n",
       "1                                Reviewed in Canada on December 1, 2023   \n",
       "2                                Reviewed in Canada on November 3, 2023   \n",
       "3                                    Reviewed in Canada on May 25, 2023   \n",
       "4                               Reviewed in Canada on November 11, 2022   \n",
       "\n",
       "         date country countryCode  \\\n",
       "0  2021-11-17  Canada        None   \n",
       "1  2023-12-01  Canada        None   \n",
       "2  2023-11-03  Canada        None   \n",
       "3  2023-05-25  Canada        None   \n",
       "4  2022-11-11  Canada        None   \n",
       "\n",
       "                                   reviewDescription  isVerified  \\\n",
       "0  Update Dec 2022 - there is a known issue with ...        True   \n",
       "1  Bought these earbuds in november 2021, sound q...        True   \n",
       "2  I've had these earbuds just about two years. T...        True   \n",
       "3  These buds come with three sizes of foam tips ...        True   \n",
       "4  First things first, thank you so much to the A...        True   \n",
       "\n",
       "               variant reviewImages  position productAsin  \\\n",
       "0   Colour Name: Black           []         1  B094C4VDJZ   \n",
       "1   Colour Name: Black           []         2  B094C4VDJZ   \n",
       "2  Colour Name: Silver           []         3  B094C4VDJZ   \n",
       "3   Colour Name: Black           []         4  B094C4VDJZ   \n",
       "4   Colour Name: Black           []         5  B094C4VDJZ   \n",
       "\n",
       "                                   reviewCategoryUrl  totalCategoryRatings  \\\n",
       "0  https://www.amazon.com/product-reviews/B094C4V...                  1716   \n",
       "1  https://www.amazon.com/product-reviews/B094C4V...                  1716   \n",
       "2  https://www.amazon.com/product-reviews/B094C4V...                  1716   \n",
       "3  https://www.amazon.com/product-reviews/B094C4V...                  1716   \n",
       "4  https://www.amazon.com/product-reviews/B094C4V...                  1716   \n",
       "\n",
       "   totalCategoryReviews filterByRating  \\\n",
       "0                   788      threeStar   \n",
       "1                   788      threeStar   \n",
       "2                   788      threeStar   \n",
       "3                   788      threeStar   \n",
       "4                   788      threeStar   \n",
       "\n",
       "                                             product headphoneName  \n",
       "0  {'price': {'value': 289.99, 'currency': '$'}, ...          sony  \n",
       "1  {'price': {'value': 289.99, 'currency': '$'}, ...          sony  \n",
       "2  {'price': {'value': 289.99, 'currency': '$'}, ...          sony  \n",
       "3  {'price': {'value': 289.99, 'currency': '$'}, ...          sony  \n",
       "4  {'price': {'value': 289.99, 'currency': '$'}, ...          sony  "
      ]
     },
     "execution_count": 51,
     "metadata": {},
     "output_type": "execute_result"
    }
   ],
   "source": [
    "test_df = pd.DataFrame(review_lst)\n",
    "test_df['headphoneName'] = 'sony'\n",
    "test_df.head()"
   ]
  },
  {
   "cell_type": "code",
   "execution_count": 53,
   "id": "8aee20bb-34ac-43a0-a65c-ba8396507ac6",
   "metadata": {
    "tags": []
   },
   "outputs": [
    {
     "data": {
      "text/plain": [
       "Counter({3: 10, 5: 10, 2: 10, 4: 10, 1: 10})"
      ]
     },
     "execution_count": 53,
     "metadata": {},
     "output_type": "execute_result"
    }
   ],
   "source": [
    "from collections import Counter\n",
    "Counter(test_df['ratingScore'])"
   ]
  },
  {
   "cell_type": "code",
   "execution_count": 54,
   "id": "25f909fa-40a5-4c51-b995-f70ad58d4944",
   "metadata": {
    "tags": []
   },
   "outputs": [],
   "source": [
    "def get_amz_reviews(url, apify_api_token, review_scraper_actor):\n",
    "    client = ApifyClient(apify_api_token)\n",
    "\n",
    "    # Prepare the Actor input\n",
    "    run_input = {\n",
    "        \"productUrls\": [{ \"url\": url }],\n",
    "        #\"maxReviews\": 500, #comment this line out to get all reviews,\n",
    "        \"includeGdprSensitive\": False,\n",
    "        \"sort\": \"helpful\",\n",
    "        \"filterByRatings\": [\"allStars\"],\n",
    "        \"proxyConfiguration\": {\n",
    "            \"useApifyProxy\": True,\n",
    "            \"apifyProxyGroups\": [\"RESIDENTIAL\"],\n",
    "        },\n",
    "        \"extendedOutputFunction\": \"($) => { return {} }\",\n",
    "    }\n",
    "\n",
    "    # Run the Actor and wait for it to finish\n",
    "    run = client.actor(review_scraper_actor).call(run_input=run_input)\n",
    "\n",
    "    review_lst = []\n",
    "    # Fetch and append Actor results from the run's dataset to a list\n",
    "    for item in client.dataset(run[\"defaultDatasetId\"]).iterate_items():\n",
    "        review_lst.append(item)\n",
    "        \n",
    "    return review_lst"
   ]
  },
  {
   "cell_type": "code",
   "execution_count": 56,
   "id": "614ea343-f659-489a-a5c4-9eda2a51c152",
   "metadata": {
    "tags": []
   },
   "outputs": [],
   "source": [
    "review_lst_dfs = []\n",
    "\n",
    "# Your loop\n",
    "for i in range(len(urls)):\n",
    "    # Your function that returns a list of dictionaries\n",
    "    review_lst = get_amz_reviews(urls[i], apify_api_token, review_scraper_actor)\n",
    "\n",
    "    # Convert the list of dictionaries to a DataFrame\n",
    "    reviews_df = pd.DataFrame(review_lst)\n",
    "\n",
    "    # Add a column with the product name\n",
    "    reviews_df['headphoneName'] = headphones[i]\n",
    "\n",
    "    # Append the DataFrame to the list\n",
    "    review_lst_dfs.append(reviews_df)"
   ]
  },
  {
   "cell_type": "code",
   "execution_count": 58,
   "id": "219a649b-7288-4829-9642-edd9c9a9eb89",
   "metadata": {
    "tags": []
   },
   "outputs": [
    {
     "data": {
      "text/html": [
       "<div>\n",
       "<style scoped>\n",
       "    .dataframe tbody tr th:only-of-type {\n",
       "        vertical-align: middle;\n",
       "    }\n",
       "\n",
       "    .dataframe tbody tr th {\n",
       "        vertical-align: top;\n",
       "    }\n",
       "\n",
       "    .dataframe thead th {\n",
       "        text-align: right;\n",
       "    }\n",
       "</style>\n",
       "<table border=\"1\" class=\"dataframe\">\n",
       "  <thead>\n",
       "    <tr style=\"text-align: right;\">\n",
       "      <th></th>\n",
       "      <th>ratingScore</th>\n",
       "      <th>reviewTitle</th>\n",
       "      <th>reviewUrl</th>\n",
       "      <th>reviewReaction</th>\n",
       "      <th>reviewedIn</th>\n",
       "      <th>date</th>\n",
       "      <th>country</th>\n",
       "      <th>countryCode</th>\n",
       "      <th>reviewDescription</th>\n",
       "      <th>isVerified</th>\n",
       "      <th>variant</th>\n",
       "      <th>reviewImages</th>\n",
       "      <th>position</th>\n",
       "      <th>productAsin</th>\n",
       "      <th>reviewCategoryUrl</th>\n",
       "      <th>totalCategoryRatings</th>\n",
       "      <th>totalCategoryReviews</th>\n",
       "      <th>filterByRating</th>\n",
       "      <th>product</th>\n",
       "      <th>headphoneName</th>\n",
       "    </tr>\n",
       "  </thead>\n",
       "  <tbody>\n",
       "    <tr>\n",
       "      <th>0</th>\n",
       "      <td>2.0</td>\n",
       "      <td>First review was @ 11months. Now13 months &amp; ba...</td>\n",
       "      <td>https://www.amazon.ca/gp/customer-reviews/RTBT...</td>\n",
       "      <td>22 people found this helpful</td>\n",
       "      <td>Reviewed in Canada on November 27, 2022</td>\n",
       "      <td>2022-11-27</td>\n",
       "      <td>Canada</td>\n",
       "      <td>None</td>\n",
       "      <td>Edited again March 25th:A month after my last ...</td>\n",
       "      <td>True</td>\n",
       "      <td>Colour Name: Silver</td>\n",
       "      <td>[]</td>\n",
       "      <td>1.0</td>\n",
       "      <td>B094C4VDJZ</td>\n",
       "      <td>https://www.amazon.com/product-reviews/B094C4V...</td>\n",
       "      <td>1018.0</td>\n",
       "      <td>668.0</td>\n",
       "      <td>twoStar</td>\n",
       "      <td>{'price': {'value': 289.99, 'currency': '$'}, ...</td>\n",
       "      <td>sony xm4 earbuds</td>\n",
       "    </tr>\n",
       "    <tr>\n",
       "      <th>1</th>\n",
       "      <td>2.0</td>\n",
       "      <td>Good quality sound, battery issues, now unusable</td>\n",
       "      <td>https://www.amazon.ca/gp/customer-reviews/R2H1...</td>\n",
       "      <td></td>\n",
       "      <td>Reviewed in Canada on November 11, 2023</td>\n",
       "      <td>2023-11-11</td>\n",
       "      <td>Canada</td>\n",
       "      <td>None</td>\n",
       "      <td>After 1 year of use: the sound quality is grea...</td>\n",
       "      <td>True</td>\n",
       "      <td>Colour Name: Black</td>\n",
       "      <td>[]</td>\n",
       "      <td>2.0</td>\n",
       "      <td>B094C4VDJZ</td>\n",
       "      <td>https://www.amazon.com/product-reviews/B094C4V...</td>\n",
       "      <td>1018.0</td>\n",
       "      <td>668.0</td>\n",
       "      <td>twoStar</td>\n",
       "      <td>{'price': {'value': 289.99, 'currency': '$'}, ...</td>\n",
       "      <td>sony xm4 earbuds</td>\n",
       "    </tr>\n",
       "    <tr>\n",
       "      <th>2</th>\n",
       "      <td>2.0</td>\n",
       "      <td>Amazing Earbuds until it Malfunctions</td>\n",
       "      <td>https://www.amazon.ca/gp/customer-reviews/R2HH...</td>\n",
       "      <td></td>\n",
       "      <td>Reviewed in Canada on October 8, 2023</td>\n",
       "      <td>2023-10-08</td>\n",
       "      <td>Canada</td>\n",
       "      <td>None</td>\n",
       "      <td>All I can say is these things are amazing, the...</td>\n",
       "      <td>True</td>\n",
       "      <td>Colour Name: Black</td>\n",
       "      <td>[]</td>\n",
       "      <td>3.0</td>\n",
       "      <td>B094C4VDJZ</td>\n",
       "      <td>https://www.amazon.com/product-reviews/B094C4V...</td>\n",
       "      <td>1018.0</td>\n",
       "      <td>668.0</td>\n",
       "      <td>twoStar</td>\n",
       "      <td>{'price': {'value': 289.99, 'currency': '$'}, ...</td>\n",
       "      <td>sony xm4 earbuds</td>\n",
       "    </tr>\n",
       "    <tr>\n",
       "      <th>3</th>\n",
       "      <td>2.0</td>\n",
       "      <td>Dead after 1 year</td>\n",
       "      <td>https://www.amazon.ca/gp/customer-reviews/R1GA...</td>\n",
       "      <td></td>\n",
       "      <td>Reviewed in Canada on September 11, 2023</td>\n",
       "      <td>2023-09-11</td>\n",
       "      <td>Canada</td>\n",
       "      <td>None</td>\n",
       "      <td>I was very patient with these earbuds despite ...</td>\n",
       "      <td>True</td>\n",
       "      <td>Colour Name: Black</td>\n",
       "      <td>[]</td>\n",
       "      <td>4.0</td>\n",
       "      <td>B094C4VDJZ</td>\n",
       "      <td>https://www.amazon.com/product-reviews/B094C4V...</td>\n",
       "      <td>1018.0</td>\n",
       "      <td>668.0</td>\n",
       "      <td>twoStar</td>\n",
       "      <td>{'price': {'value': 289.99, 'currency': '$'}, ...</td>\n",
       "      <td>sony xm4 earbuds</td>\n",
       "    </tr>\n",
       "    <tr>\n",
       "      <th>4</th>\n",
       "      <td>2.0</td>\n",
       "      <td>Poor sound quality.</td>\n",
       "      <td>https://www.amazon.ca/gp/customer-reviews/R2QL...</td>\n",
       "      <td>One person found this helpful</td>\n",
       "      <td>Reviewed in Canada on March 18, 2022</td>\n",
       "      <td>2022-03-18</td>\n",
       "      <td>Canada</td>\n",
       "      <td>None</td>\n",
       "      <td>I am not an audiophile, not exactly, so when I...</td>\n",
       "      <td>True</td>\n",
       "      <td>Colour Name: Black</td>\n",
       "      <td>[]</td>\n",
       "      <td>5.0</td>\n",
       "      <td>B094C4VDJZ</td>\n",
       "      <td>https://www.amazon.com/product-reviews/B094C4V...</td>\n",
       "      <td>1018.0</td>\n",
       "      <td>668.0</td>\n",
       "      <td>twoStar</td>\n",
       "      <td>{'price': {'value': 289.99, 'currency': '$'}, ...</td>\n",
       "      <td>sony xm4 earbuds</td>\n",
       "    </tr>\n",
       "  </tbody>\n",
       "</table>\n",
       "</div>"
      ],
      "text/plain": [
       "   ratingScore                                        reviewTitle  \\\n",
       "0          2.0  First review was @ 11months. Now13 months & ba...   \n",
       "1          2.0   Good quality sound, battery issues, now unusable   \n",
       "2          2.0              Amazing Earbuds until it Malfunctions   \n",
       "3          2.0                                  Dead after 1 year   \n",
       "4          2.0                                Poor sound quality.   \n",
       "\n",
       "                                           reviewUrl  \\\n",
       "0  https://www.amazon.ca/gp/customer-reviews/RTBT...   \n",
       "1  https://www.amazon.ca/gp/customer-reviews/R2H1...   \n",
       "2  https://www.amazon.ca/gp/customer-reviews/R2HH...   \n",
       "3  https://www.amazon.ca/gp/customer-reviews/R1GA...   \n",
       "4  https://www.amazon.ca/gp/customer-reviews/R2QL...   \n",
       "\n",
       "                  reviewReaction                                reviewedIn  \\\n",
       "0   22 people found this helpful   Reviewed in Canada on November 27, 2022   \n",
       "1                                  Reviewed in Canada on November 11, 2023   \n",
       "2                                    Reviewed in Canada on October 8, 2023   \n",
       "3                                 Reviewed in Canada on September 11, 2023   \n",
       "4  One person found this helpful      Reviewed in Canada on March 18, 2022   \n",
       "\n",
       "         date country countryCode  \\\n",
       "0  2022-11-27  Canada        None   \n",
       "1  2023-11-11  Canada        None   \n",
       "2  2023-10-08  Canada        None   \n",
       "3  2023-09-11  Canada        None   \n",
       "4  2022-03-18  Canada        None   \n",
       "\n",
       "                                   reviewDescription isVerified  \\\n",
       "0  Edited again March 25th:A month after my last ...       True   \n",
       "1  After 1 year of use: the sound quality is grea...       True   \n",
       "2  All I can say is these things are amazing, the...       True   \n",
       "3  I was very patient with these earbuds despite ...       True   \n",
       "4  I am not an audiophile, not exactly, so when I...       True   \n",
       "\n",
       "               variant reviewImages  position productAsin  \\\n",
       "0  Colour Name: Silver           []       1.0  B094C4VDJZ   \n",
       "1   Colour Name: Black           []       2.0  B094C4VDJZ   \n",
       "2   Colour Name: Black           []       3.0  B094C4VDJZ   \n",
       "3   Colour Name: Black           []       4.0  B094C4VDJZ   \n",
       "4   Colour Name: Black           []       5.0  B094C4VDJZ   \n",
       "\n",
       "                                   reviewCategoryUrl  totalCategoryRatings  \\\n",
       "0  https://www.amazon.com/product-reviews/B094C4V...                1018.0   \n",
       "1  https://www.amazon.com/product-reviews/B094C4V...                1018.0   \n",
       "2  https://www.amazon.com/product-reviews/B094C4V...                1018.0   \n",
       "3  https://www.amazon.com/product-reviews/B094C4V...                1018.0   \n",
       "4  https://www.amazon.com/product-reviews/B094C4V...                1018.0   \n",
       "\n",
       "   totalCategoryReviews filterByRating  \\\n",
       "0                 668.0        twoStar   \n",
       "1                 668.0        twoStar   \n",
       "2                 668.0        twoStar   \n",
       "3                 668.0        twoStar   \n",
       "4                 668.0        twoStar   \n",
       "\n",
       "                                             product     headphoneName  \n",
       "0  {'price': {'value': 289.99, 'currency': '$'}, ...  sony xm4 earbuds  \n",
       "1  {'price': {'value': 289.99, 'currency': '$'}, ...  sony xm4 earbuds  \n",
       "2  {'price': {'value': 289.99, 'currency': '$'}, ...  sony xm4 earbuds  \n",
       "3  {'price': {'value': 289.99, 'currency': '$'}, ...  sony xm4 earbuds  \n",
       "4  {'price': {'value': 289.99, 'currency': '$'}, ...  sony xm4 earbuds  "
      ]
     },
     "execution_count": 58,
     "metadata": {},
     "output_type": "execute_result"
    }
   ],
   "source": [
    "# Concatenate all DataFrames into one\n",
    "final_reviews_df = pd.concat(review_lst_dfs, ignore_index=True)\n",
    "\n",
    "# Display the final DataFrame\n",
    "final_reviews_df.head()"
   ]
  },
  {
   "cell_type": "code",
   "execution_count": 59,
   "id": "51f8a8fd-e447-413a-b208-66aeda5a60d5",
   "metadata": {
    "tags": []
   },
   "outputs": [
    {
     "data": {
      "text/plain": [
       "(707, 20)"
      ]
     },
     "execution_count": 59,
     "metadata": {},
     "output_type": "execute_result"
    }
   ],
   "source": [
    "final_reviews_df.shape"
   ]
  },
  {
   "cell_type": "code",
   "execution_count": 60,
   "id": "53a9cc25-9aa9-4f38-8cff-8ae7b9ee8cce",
   "metadata": {
    "tags": []
   },
   "outputs": [],
   "source": [
    "final_reviews_df.to_csv('amazon_reviews.csv', index=False)"
   ]
  },
  {
   "cell_type": "code",
   "execution_count": 62,
   "id": "3dff26eb-2eb4-4d25-85a0-6a1c99754526",
   "metadata": {
    "tags": []
   },
   "outputs": [
    {
     "data": {
      "text/plain": [
       "Counter({'sony xm4 earbuds': 50,\n",
       "         'Galaxy Buds2 Pro': 50,\n",
       "         'Sennheiser MTW3': 50,\n",
       "         'Bose Quietcomfort Earbuds 2': 50,\n",
       "         'Bose Quietcomfort Earbuds': 50,\n",
       "         'Beats Fit Pro Earbuds': 50,\n",
       "         'AirPods Pro 2 Earbuds': 50,\n",
       "         'Sony Linkbuds S': 50,\n",
       "         'Sony Linkbuds original': 50,\n",
       "         'Pixel Buds Pro': 50,\n",
       "         'Soundcore Liberty 3': 50,\n",
       "         'Jabra Elite 7 Pro': 50,\n",
       "         'Sony WF-1000XM5': 50,\n",
       "         '1MORE Evo': 50,\n",
       "         'lg tone tf8': 7})"
      ]
     },
     "execution_count": 62,
     "metadata": {},
     "output_type": "execute_result"
    }
   ],
   "source": [
    "Counter(final_reviews_df['headphoneName'])"
   ]
  },
  {
   "cell_type": "code",
   "execution_count": 64,
   "id": "892dc970-b5bd-4392-bd25-13b9b28ef6cf",
   "metadata": {
    "tags": []
   },
   "outputs": [
    {
     "data": {
      "text/plain": [
       "array(['sony xm4 earbuds', 'Galaxy Buds2 Pro', 'Sennheiser MTW3',\n",
       "       'Bose Quietcomfort Earbuds 2', 'Bose Quietcomfort Earbuds',\n",
       "       'Beats Fit Pro Earbuds', 'AirPods Pro 2 Earbuds',\n",
       "       'Sony Linkbuds S', 'Sony Linkbuds original', 'Pixel Buds Pro',\n",
       "       'Soundcore Liberty 3', 'AirPods 3', 'Jabra Elite 7 Pro',\n",
       "       'Sony WF-1000XM5', '1MORE Evo', 'lg tone tf8'], dtype=object)"
      ]
     },
     "execution_count": 64,
     "metadata": {},
     "output_type": "execute_result"
    }
   ],
   "source": [
    "headphones"
   ]
  },
  {
   "cell_type": "markdown",
   "id": "7611718a-c4ce-44d0-8d32-a0ae61348f3e",
   "metadata": {},
   "source": [
    "For some reason the Airpods 3 headphone didn't get included here so trying it manually now."
   ]
  },
  {
   "cell_type": "code",
   "execution_count": 68,
   "id": "ffffa130-706a-4a47-8852-f292e5e6a181",
   "metadata": {
    "tags": []
   },
   "outputs": [],
   "source": [
    "airpods3_url = urls[-5]"
   ]
  },
  {
   "cell_type": "code",
   "execution_count": 71,
   "id": "bcddd211-0daf-483f-bfef-26c01ab74c21",
   "metadata": {
    "tags": []
   },
   "outputs": [
    {
     "data": {
      "text/plain": [
       "'https://www.amazon.ca/gp/aw/d/B0BDHB9Y8H/?_encoding=UTF8&pd_rd_plhdr=t&aaxitk=0642153153d0dc1e8bb64b09802e9178&hsa_cr_id=8697153580001&qid=1704073807&sr=1-2-9e67e56a-6f64-441f-a281-df67fc737124&ref_=sbx_be_s_sparkle_lsi4d_asin_1_title&pd_rd_w=6h7Z1&content-id=amzn1.sym.8e0ef875-4e67-47f1-80ff-d43b41956e2f%3Aamzn1.sym.8e0ef875-4e67-47f1-80ff-d43b41956e2f&pf_rd_p=8e0ef875-4e67-47f1-80ff-d43b41956e2f&pf_rd_r=7KB1HN901M3NSCMNB7DD&pd_rd_wg=bVpD9&pd_rd_r=405354ae-8b5c-4971-8fe8-689d8d19f3fc'"
      ]
     },
     "execution_count": 71,
     "metadata": {},
     "output_type": "execute_result"
    }
   ],
   "source": [
    "airpods3_url"
   ]
  },
  {
   "cell_type": "markdown",
   "id": "b6c57eee-d452-4e1b-bcdf-32dd897779d1",
   "metadata": {},
   "source": [
    "Turns out it the aPI just didn't work with that link. Here is a better one: https://www.amazon.ca/dp/B0BDHB9Y8H/ref=fs_a_i_0"
   ]
  },
  {
   "cell_type": "code",
   "execution_count": 75,
   "id": "2cafe8b6-24d1-4e73-8dfa-c98357179882",
   "metadata": {
    "tags": []
   },
   "outputs": [],
   "source": [
    "airpods3_url = 'https://www.amazon.ca/dp/B0BDHB9Y8H/ref=fs_a_i_0'"
   ]
  },
  {
   "cell_type": "code",
   "execution_count": 72,
   "id": "ad781295-4f08-4e1f-bbb7-180f7f889444",
   "metadata": {
    "tags": []
   },
   "outputs": [],
   "source": [
    "airpods3_review_lst = get_amz_reviews(airpods3_url, apify_api_token, review_scraper_actor)"
   ]
  },
  {
   "cell_type": "code",
   "execution_count": 74,
   "id": "9c98e7f3-ae4b-4111-aece-199d1a01b5d1",
   "metadata": {
    "tags": []
   },
   "outputs": [
    {
     "data": {
      "text/plain": [
       "50"
      ]
     },
     "execution_count": 74,
     "metadata": {},
     "output_type": "execute_result"
    }
   ],
   "source": [
    "len(airpods3_review_lst)"
   ]
  },
  {
   "cell_type": "code",
   "execution_count": 77,
   "id": "b5ee9718-64da-4a87-b2d7-7999465ddc84",
   "metadata": {
    "tags": []
   },
   "outputs": [
    {
     "data": {
      "text/html": [
       "<div>\n",
       "<style scoped>\n",
       "    .dataframe tbody tr th:only-of-type {\n",
       "        vertical-align: middle;\n",
       "    }\n",
       "\n",
       "    .dataframe tbody tr th {\n",
       "        vertical-align: top;\n",
       "    }\n",
       "\n",
       "    .dataframe thead th {\n",
       "        text-align: right;\n",
       "    }\n",
       "</style>\n",
       "<table border=\"1\" class=\"dataframe\">\n",
       "  <thead>\n",
       "    <tr style=\"text-align: right;\">\n",
       "      <th></th>\n",
       "      <th>ratingScore</th>\n",
       "      <th>reviewTitle</th>\n",
       "      <th>reviewUrl</th>\n",
       "      <th>reviewReaction</th>\n",
       "      <th>reviewedIn</th>\n",
       "      <th>date</th>\n",
       "      <th>country</th>\n",
       "      <th>countryCode</th>\n",
       "      <th>reviewDescription</th>\n",
       "      <th>isVerified</th>\n",
       "      <th>variant</th>\n",
       "      <th>reviewImages</th>\n",
       "      <th>position</th>\n",
       "      <th>productAsin</th>\n",
       "      <th>reviewCategoryUrl</th>\n",
       "      <th>totalCategoryRatings</th>\n",
       "      <th>totalCategoryReviews</th>\n",
       "      <th>filterByRating</th>\n",
       "      <th>product</th>\n",
       "      <th>headphoneName</th>\n",
       "    </tr>\n",
       "  </thead>\n",
       "  <tbody>\n",
       "    <tr>\n",
       "      <th>0</th>\n",
       "      <td>3</td>\n",
       "      <td>Not comparable to AirPod Pro</td>\n",
       "      <td>https://www.amazon.ca/gp/customer-reviews/RBUK...</td>\n",
       "      <td>2 people found this helpful</td>\n",
       "      <td>Reviewed in Canada on November 26, 2023</td>\n",
       "      <td>2023-11-26</td>\n",
       "      <td>Canada</td>\n",
       "      <td>None</td>\n",
       "      <td>If you’re buying AirPods for the first time an...</td>\n",
       "      <td>True</td>\n",
       "      <td>Style: with Lightning Charging Case</td>\n",
       "      <td>[]</td>\n",
       "      <td>1</td>\n",
       "      <td>B0BDHB9Y8H</td>\n",
       "      <td>https://www.amazon.com/product-reviews/B0BDHB9...</td>\n",
       "      <td>668</td>\n",
       "      <td>173</td>\n",
       "      <td>threeStar</td>\n",
       "      <td>{'price': {'value': 199.99, 'currency': '$'}, ...</td>\n",
       "      <td>AirPods 3</td>\n",
       "    </tr>\n",
       "    <tr>\n",
       "      <th>1</th>\n",
       "      <td>3</td>\n",
       "      <td>Hard to keep in your ears</td>\n",
       "      <td>https://www.amazon.ca/gp/customer-reviews/R2GO...</td>\n",
       "      <td>2 people found this helpful</td>\n",
       "      <td>Reviewed in Canada on October 30, 2023</td>\n",
       "      <td>2023-10-30</td>\n",
       "      <td>Canada</td>\n",
       "      <td>None</td>\n",
       "      <td>I find this product very hard to keep in my ea...</td>\n",
       "      <td>True</td>\n",
       "      <td>Style: with Lightning Charging Case</td>\n",
       "      <td>[]</td>\n",
       "      <td>2</td>\n",
       "      <td>B0BDHB9Y8H</td>\n",
       "      <td>https://www.amazon.com/product-reviews/B0BDHB9...</td>\n",
       "      <td>668</td>\n",
       "      <td>173</td>\n",
       "      <td>threeStar</td>\n",
       "      <td>{'price': {'value': 199.99, 'currency': '$'}, ...</td>\n",
       "      <td>AirPods 3</td>\n",
       "    </tr>\n",
       "    <tr>\n",
       "      <th>2</th>\n",
       "      <td>3</td>\n",
       "      <td>Great bass and battery, case is scratch-prone ...</td>\n",
       "      <td>https://www.amazon.ca/gp/customer-reviews/RR2V...</td>\n",
       "      <td></td>\n",
       "      <td>Reviewed in Canada on November 22, 2023</td>\n",
       "      <td>2023-11-22</td>\n",
       "      <td>Canada</td>\n",
       "      <td>None</td>\n",
       "      <td>This product has great bass and overall the mu...</td>\n",
       "      <td>True</td>\n",
       "      <td>Style: with Lightning Charging Case</td>\n",
       "      <td>[]</td>\n",
       "      <td>3</td>\n",
       "      <td>B0BDHB9Y8H</td>\n",
       "      <td>https://www.amazon.com/product-reviews/B0BDHB9...</td>\n",
       "      <td>668</td>\n",
       "      <td>173</td>\n",
       "      <td>threeStar</td>\n",
       "      <td>{'price': {'value': 199.99, 'currency': '$'}, ...</td>\n",
       "      <td>AirPods 3</td>\n",
       "    </tr>\n",
       "  </tbody>\n",
       "</table>\n",
       "</div>"
      ],
      "text/plain": [
       "   ratingScore                                        reviewTitle  \\\n",
       "0            3                       Not comparable to AirPod Pro   \n",
       "1            3                          Hard to keep in your ears   \n",
       "2            3  Great bass and battery, case is scratch-prone ...   \n",
       "\n",
       "                                           reviewUrl  \\\n",
       "0  https://www.amazon.ca/gp/customer-reviews/RBUK...   \n",
       "1  https://www.amazon.ca/gp/customer-reviews/R2GO...   \n",
       "2  https://www.amazon.ca/gp/customer-reviews/RR2V...   \n",
       "\n",
       "                reviewReaction                               reviewedIn  \\\n",
       "0  2 people found this helpful  Reviewed in Canada on November 26, 2023   \n",
       "1  2 people found this helpful   Reviewed in Canada on October 30, 2023   \n",
       "2                               Reviewed in Canada on November 22, 2023   \n",
       "\n",
       "         date country countryCode  \\\n",
       "0  2023-11-26  Canada        None   \n",
       "1  2023-10-30  Canada        None   \n",
       "2  2023-11-22  Canada        None   \n",
       "\n",
       "                                   reviewDescription  isVerified  \\\n",
       "0  If you’re buying AirPods for the first time an...        True   \n",
       "1  I find this product very hard to keep in my ea...        True   \n",
       "2  This product has great bass and overall the mu...        True   \n",
       "\n",
       "                               variant reviewImages  position productAsin  \\\n",
       "0  Style: with Lightning Charging Case           []         1  B0BDHB9Y8H   \n",
       "1  Style: with Lightning Charging Case           []         2  B0BDHB9Y8H   \n",
       "2  Style: with Lightning Charging Case           []         3  B0BDHB9Y8H   \n",
       "\n",
       "                                   reviewCategoryUrl  totalCategoryRatings  \\\n",
       "0  https://www.amazon.com/product-reviews/B0BDHB9...                   668   \n",
       "1  https://www.amazon.com/product-reviews/B0BDHB9...                   668   \n",
       "2  https://www.amazon.com/product-reviews/B0BDHB9...                   668   \n",
       "\n",
       "   totalCategoryReviews filterByRating  \\\n",
       "0                   173      threeStar   \n",
       "1                   173      threeStar   \n",
       "2                   173      threeStar   \n",
       "\n",
       "                                             product headphoneName  \n",
       "0  {'price': {'value': 199.99, 'currency': '$'}, ...     AirPods 3  \n",
       "1  {'price': {'value': 199.99, 'currency': '$'}, ...     AirPods 3  \n",
       "2  {'price': {'value': 199.99, 'currency': '$'}, ...     AirPods 3  "
      ]
     },
     "execution_count": 77,
     "metadata": {},
     "output_type": "execute_result"
    }
   ],
   "source": [
    "airpods3_df = pd.DataFrame(airpods3_review_lst)\n",
    "airpods3_df['headphoneName'] = 'AirPods 3'\n",
    "airpods3_df.head(3)"
   ]
  },
  {
   "cell_type": "code",
   "execution_count": 81,
   "id": "472c329c-0f6b-40cd-8f21-5bcbf25962b8",
   "metadata": {
    "tags": []
   },
   "outputs": [
    {
     "data": {
      "text/html": [
       "<div>\n",
       "<style scoped>\n",
       "    .dataframe tbody tr th:only-of-type {\n",
       "        vertical-align: middle;\n",
       "    }\n",
       "\n",
       "    .dataframe tbody tr th {\n",
       "        vertical-align: top;\n",
       "    }\n",
       "\n",
       "    .dataframe thead th {\n",
       "        text-align: right;\n",
       "    }\n",
       "</style>\n",
       "<table border=\"1\" class=\"dataframe\">\n",
       "  <thead>\n",
       "    <tr style=\"text-align: right;\">\n",
       "      <th></th>\n",
       "      <th>ratingScore</th>\n",
       "      <th>reviewTitle</th>\n",
       "      <th>reviewUrl</th>\n",
       "      <th>reviewReaction</th>\n",
       "      <th>reviewedIn</th>\n",
       "      <th>date</th>\n",
       "      <th>country</th>\n",
       "      <th>countryCode</th>\n",
       "      <th>reviewDescription</th>\n",
       "      <th>isVerified</th>\n",
       "      <th>variant</th>\n",
       "      <th>reviewImages</th>\n",
       "      <th>position</th>\n",
       "      <th>productAsin</th>\n",
       "      <th>reviewCategoryUrl</th>\n",
       "      <th>totalCategoryRatings</th>\n",
       "      <th>totalCategoryReviews</th>\n",
       "      <th>filterByRating</th>\n",
       "      <th>product</th>\n",
       "      <th>headphoneName</th>\n",
       "    </tr>\n",
       "  </thead>\n",
       "  <tbody>\n",
       "    <tr>\n",
       "      <th>0</th>\n",
       "      <td>3</td>\n",
       "      <td>Not comparable to AirPod Pro</td>\n",
       "      <td>https://www.amazon.ca/gp/customer-reviews/RBUK...</td>\n",
       "      <td>2 people found this helpful</td>\n",
       "      <td>Reviewed in Canada on November 26, 2023</td>\n",
       "      <td>2023-11-26</td>\n",
       "      <td>Canada</td>\n",
       "      <td>None</td>\n",
       "      <td>If you’re buying AirPods for the first time an...</td>\n",
       "      <td>True</td>\n",
       "      <td>Style: with Lightning Charging Case</td>\n",
       "      <td>[]</td>\n",
       "      <td>1</td>\n",
       "      <td>B0BDHB9Y8H</td>\n",
       "      <td>https://www.amazon.com/product-reviews/B0BDHB9...</td>\n",
       "      <td>668</td>\n",
       "      <td>173</td>\n",
       "      <td>threeStar</td>\n",
       "      <td>{'price': {'value': 199.99, 'currency': '$'}, ...</td>\n",
       "      <td>AirPods 3</td>\n",
       "    </tr>\n",
       "    <tr>\n",
       "      <th>1</th>\n",
       "      <td>3</td>\n",
       "      <td>Hard to keep in your ears</td>\n",
       "      <td>https://www.amazon.ca/gp/customer-reviews/R2GO...</td>\n",
       "      <td>2 people found this helpful</td>\n",
       "      <td>Reviewed in Canada on October 30, 2023</td>\n",
       "      <td>2023-10-30</td>\n",
       "      <td>Canada</td>\n",
       "      <td>None</td>\n",
       "      <td>I find this product very hard to keep in my ea...</td>\n",
       "      <td>True</td>\n",
       "      <td>Style: with Lightning Charging Case</td>\n",
       "      <td>[]</td>\n",
       "      <td>2</td>\n",
       "      <td>B0BDHB9Y8H</td>\n",
       "      <td>https://www.amazon.com/product-reviews/B0BDHB9...</td>\n",
       "      <td>668</td>\n",
       "      <td>173</td>\n",
       "      <td>threeStar</td>\n",
       "      <td>{'price': {'value': 199.99, 'currency': '$'}, ...</td>\n",
       "      <td>AirPods 3</td>\n",
       "    </tr>\n",
       "    <tr>\n",
       "      <th>2</th>\n",
       "      <td>3</td>\n",
       "      <td>Great bass and battery, case is scratch-prone ...</td>\n",
       "      <td>https://www.amazon.ca/gp/customer-reviews/RR2V...</td>\n",
       "      <td></td>\n",
       "      <td>Reviewed in Canada on November 22, 2023</td>\n",
       "      <td>2023-11-22</td>\n",
       "      <td>Canada</td>\n",
       "      <td>None</td>\n",
       "      <td>This product has great bass and overall the mu...</td>\n",
       "      <td>True</td>\n",
       "      <td>Style: with Lightning Charging Case</td>\n",
       "      <td>[]</td>\n",
       "      <td>3</td>\n",
       "      <td>B0BDHB9Y8H</td>\n",
       "      <td>https://www.amazon.com/product-reviews/B0BDHB9...</td>\n",
       "      <td>668</td>\n",
       "      <td>173</td>\n",
       "      <td>threeStar</td>\n",
       "      <td>{'price': {'value': 199.99, 'currency': '$'}, ...</td>\n",
       "      <td>AirPods 3</td>\n",
       "    </tr>\n",
       "  </tbody>\n",
       "</table>\n",
       "</div>"
      ],
      "text/plain": [
       "   ratingScore                                        reviewTitle  \\\n",
       "0            3                       Not comparable to AirPod Pro   \n",
       "1            3                          Hard to keep in your ears   \n",
       "2            3  Great bass and battery, case is scratch-prone ...   \n",
       "\n",
       "                                           reviewUrl  \\\n",
       "0  https://www.amazon.ca/gp/customer-reviews/RBUK...   \n",
       "1  https://www.amazon.ca/gp/customer-reviews/R2GO...   \n",
       "2  https://www.amazon.ca/gp/customer-reviews/RR2V...   \n",
       "\n",
       "                reviewReaction                               reviewedIn  \\\n",
       "0  2 people found this helpful  Reviewed in Canada on November 26, 2023   \n",
       "1  2 people found this helpful   Reviewed in Canada on October 30, 2023   \n",
       "2                               Reviewed in Canada on November 22, 2023   \n",
       "\n",
       "         date country countryCode  \\\n",
       "0  2023-11-26  Canada        None   \n",
       "1  2023-10-30  Canada        None   \n",
       "2  2023-11-22  Canada        None   \n",
       "\n",
       "                                   reviewDescription  isVerified  \\\n",
       "0  If you’re buying AirPods for the first time an...        True   \n",
       "1  I find this product very hard to keep in my ea...        True   \n",
       "2  This product has great bass and overall the mu...        True   \n",
       "\n",
       "                               variant reviewImages  position productAsin  \\\n",
       "0  Style: with Lightning Charging Case           []         1  B0BDHB9Y8H   \n",
       "1  Style: with Lightning Charging Case           []         2  B0BDHB9Y8H   \n",
       "2  Style: with Lightning Charging Case           []         3  B0BDHB9Y8H   \n",
       "\n",
       "                                   reviewCategoryUrl  totalCategoryRatings  \\\n",
       "0  https://www.amazon.com/product-reviews/B0BDHB9...                   668   \n",
       "1  https://www.amazon.com/product-reviews/B0BDHB9...                   668   \n",
       "2  https://www.amazon.com/product-reviews/B0BDHB9...                   668   \n",
       "\n",
       "   totalCategoryReviews filterByRating  \\\n",
       "0                   173      threeStar   \n",
       "1                   173      threeStar   \n",
       "2                   173      threeStar   \n",
       "\n",
       "                                             product headphoneName  \n",
       "0  {'price': {'value': 199.99, 'currency': '$'}, ...     AirPods 3  \n",
       "1  {'price': {'value': 199.99, 'currency': '$'}, ...     AirPods 3  \n",
       "2  {'price': {'value': 199.99, 'currency': '$'}, ...     AirPods 3  "
      ]
     },
     "execution_count": 81,
     "metadata": {},
     "output_type": "execute_result"
    }
   ],
   "source": [
    "# the -5 index has an empty df for what should have been the airpods3 df so let's just replace that value\n",
    "review_lst_dfs[-5] = airpods3_df\n",
    "review_lst_dfs[-5].head(3)"
   ]
  },
  {
   "cell_type": "code",
   "execution_count": 84,
   "id": "7f607871-d263-4f45-ad9e-f7dbb7cd4948",
   "metadata": {
    "tags": []
   },
   "outputs": [
    {
     "data": {
      "text/html": [
       "<div>\n",
       "<style scoped>\n",
       "    .dataframe tbody tr th:only-of-type {\n",
       "        vertical-align: middle;\n",
       "    }\n",
       "\n",
       "    .dataframe tbody tr th {\n",
       "        vertical-align: top;\n",
       "    }\n",
       "\n",
       "    .dataframe thead th {\n",
       "        text-align: right;\n",
       "    }\n",
       "</style>\n",
       "<table border=\"1\" class=\"dataframe\">\n",
       "  <thead>\n",
       "    <tr style=\"text-align: right;\">\n",
       "      <th></th>\n",
       "      <th>ratingScore</th>\n",
       "      <th>reviewTitle</th>\n",
       "      <th>reviewUrl</th>\n",
       "      <th>reviewReaction</th>\n",
       "      <th>reviewedIn</th>\n",
       "      <th>date</th>\n",
       "      <th>country</th>\n",
       "      <th>countryCode</th>\n",
       "      <th>reviewDescription</th>\n",
       "      <th>isVerified</th>\n",
       "      <th>variant</th>\n",
       "      <th>reviewImages</th>\n",
       "      <th>position</th>\n",
       "      <th>productAsin</th>\n",
       "      <th>reviewCategoryUrl</th>\n",
       "      <th>totalCategoryRatings</th>\n",
       "      <th>totalCategoryReviews</th>\n",
       "      <th>filterByRating</th>\n",
       "      <th>product</th>\n",
       "      <th>headphoneName</th>\n",
       "    </tr>\n",
       "  </thead>\n",
       "  <tbody>\n",
       "    <tr>\n",
       "      <th>0</th>\n",
       "      <td>2</td>\n",
       "      <td>First review was @ 11months. Now13 months &amp; ba...</td>\n",
       "      <td>https://www.amazon.ca/gp/customer-reviews/RTBT...</td>\n",
       "      <td>22 people found this helpful</td>\n",
       "      <td>Reviewed in Canada on November 27, 2022</td>\n",
       "      <td>2022-11-27</td>\n",
       "      <td>Canada</td>\n",
       "      <td>None</td>\n",
       "      <td>Edited again March 25th:A month after my last ...</td>\n",
       "      <td>True</td>\n",
       "      <td>Colour Name: Silver</td>\n",
       "      <td>[]</td>\n",
       "      <td>1</td>\n",
       "      <td>B094C4VDJZ</td>\n",
       "      <td>https://www.amazon.com/product-reviews/B094C4V...</td>\n",
       "      <td>1018</td>\n",
       "      <td>668</td>\n",
       "      <td>twoStar</td>\n",
       "      <td>{'price': {'value': 289.99, 'currency': '$'}, ...</td>\n",
       "      <td>sony xm4 earbuds</td>\n",
       "    </tr>\n",
       "    <tr>\n",
       "      <th>1</th>\n",
       "      <td>2</td>\n",
       "      <td>Good quality sound, battery issues, now unusable</td>\n",
       "      <td>https://www.amazon.ca/gp/customer-reviews/R2H1...</td>\n",
       "      <td></td>\n",
       "      <td>Reviewed in Canada on November 11, 2023</td>\n",
       "      <td>2023-11-11</td>\n",
       "      <td>Canada</td>\n",
       "      <td>None</td>\n",
       "      <td>After 1 year of use: the sound quality is grea...</td>\n",
       "      <td>True</td>\n",
       "      <td>Colour Name: Black</td>\n",
       "      <td>[]</td>\n",
       "      <td>2</td>\n",
       "      <td>B094C4VDJZ</td>\n",
       "      <td>https://www.amazon.com/product-reviews/B094C4V...</td>\n",
       "      <td>1018</td>\n",
       "      <td>668</td>\n",
       "      <td>twoStar</td>\n",
       "      <td>{'price': {'value': 289.99, 'currency': '$'}, ...</td>\n",
       "      <td>sony xm4 earbuds</td>\n",
       "    </tr>\n",
       "    <tr>\n",
       "      <th>2</th>\n",
       "      <td>2</td>\n",
       "      <td>Amazing Earbuds until it Malfunctions</td>\n",
       "      <td>https://www.amazon.ca/gp/customer-reviews/R2HH...</td>\n",
       "      <td></td>\n",
       "      <td>Reviewed in Canada on October 8, 2023</td>\n",
       "      <td>2023-10-08</td>\n",
       "      <td>Canada</td>\n",
       "      <td>None</td>\n",
       "      <td>All I can say is these things are amazing, the...</td>\n",
       "      <td>True</td>\n",
       "      <td>Colour Name: Black</td>\n",
       "      <td>[]</td>\n",
       "      <td>3</td>\n",
       "      <td>B094C4VDJZ</td>\n",
       "      <td>https://www.amazon.com/product-reviews/B094C4V...</td>\n",
       "      <td>1018</td>\n",
       "      <td>668</td>\n",
       "      <td>twoStar</td>\n",
       "      <td>{'price': {'value': 289.99, 'currency': '$'}, ...</td>\n",
       "      <td>sony xm4 earbuds</td>\n",
       "    </tr>\n",
       "    <tr>\n",
       "      <th>3</th>\n",
       "      <td>2</td>\n",
       "      <td>Dead after 1 year</td>\n",
       "      <td>https://www.amazon.ca/gp/customer-reviews/R1GA...</td>\n",
       "      <td></td>\n",
       "      <td>Reviewed in Canada on September 11, 2023</td>\n",
       "      <td>2023-09-11</td>\n",
       "      <td>Canada</td>\n",
       "      <td>None</td>\n",
       "      <td>I was very patient with these earbuds despite ...</td>\n",
       "      <td>True</td>\n",
       "      <td>Colour Name: Black</td>\n",
       "      <td>[]</td>\n",
       "      <td>4</td>\n",
       "      <td>B094C4VDJZ</td>\n",
       "      <td>https://www.amazon.com/product-reviews/B094C4V...</td>\n",
       "      <td>1018</td>\n",
       "      <td>668</td>\n",
       "      <td>twoStar</td>\n",
       "      <td>{'price': {'value': 289.99, 'currency': '$'}, ...</td>\n",
       "      <td>sony xm4 earbuds</td>\n",
       "    </tr>\n",
       "    <tr>\n",
       "      <th>4</th>\n",
       "      <td>2</td>\n",
       "      <td>Poor sound quality.</td>\n",
       "      <td>https://www.amazon.ca/gp/customer-reviews/R2QL...</td>\n",
       "      <td>One person found this helpful</td>\n",
       "      <td>Reviewed in Canada on March 18, 2022</td>\n",
       "      <td>2022-03-18</td>\n",
       "      <td>Canada</td>\n",
       "      <td>None</td>\n",
       "      <td>I am not an audiophile, not exactly, so when I...</td>\n",
       "      <td>True</td>\n",
       "      <td>Colour Name: Black</td>\n",
       "      <td>[]</td>\n",
       "      <td>5</td>\n",
       "      <td>B094C4VDJZ</td>\n",
       "      <td>https://www.amazon.com/product-reviews/B094C4V...</td>\n",
       "      <td>1018</td>\n",
       "      <td>668</td>\n",
       "      <td>twoStar</td>\n",
       "      <td>{'price': {'value': 289.99, 'currency': '$'}, ...</td>\n",
       "      <td>sony xm4 earbuds</td>\n",
       "    </tr>\n",
       "  </tbody>\n",
       "</table>\n",
       "</div>"
      ],
      "text/plain": [
       "   ratingScore                                        reviewTitle  \\\n",
       "0            2  First review was @ 11months. Now13 months & ba...   \n",
       "1            2   Good quality sound, battery issues, now unusable   \n",
       "2            2              Amazing Earbuds until it Malfunctions   \n",
       "3            2                                  Dead after 1 year   \n",
       "4            2                                Poor sound quality.   \n",
       "\n",
       "                                           reviewUrl  \\\n",
       "0  https://www.amazon.ca/gp/customer-reviews/RTBT...   \n",
       "1  https://www.amazon.ca/gp/customer-reviews/R2H1...   \n",
       "2  https://www.amazon.ca/gp/customer-reviews/R2HH...   \n",
       "3  https://www.amazon.ca/gp/customer-reviews/R1GA...   \n",
       "4  https://www.amazon.ca/gp/customer-reviews/R2QL...   \n",
       "\n",
       "                  reviewReaction                                reviewedIn  \\\n",
       "0   22 people found this helpful   Reviewed in Canada on November 27, 2022   \n",
       "1                                  Reviewed in Canada on November 11, 2023   \n",
       "2                                    Reviewed in Canada on October 8, 2023   \n",
       "3                                 Reviewed in Canada on September 11, 2023   \n",
       "4  One person found this helpful      Reviewed in Canada on March 18, 2022   \n",
       "\n",
       "         date country countryCode  \\\n",
       "0  2022-11-27  Canada        None   \n",
       "1  2023-11-11  Canada        None   \n",
       "2  2023-10-08  Canada        None   \n",
       "3  2023-09-11  Canada        None   \n",
       "4  2022-03-18  Canada        None   \n",
       "\n",
       "                                   reviewDescription  isVerified  \\\n",
       "0  Edited again March 25th:A month after my last ...        True   \n",
       "1  After 1 year of use: the sound quality is grea...        True   \n",
       "2  All I can say is these things are amazing, the...        True   \n",
       "3  I was very patient with these earbuds despite ...        True   \n",
       "4  I am not an audiophile, not exactly, so when I...        True   \n",
       "\n",
       "               variant reviewImages  position productAsin  \\\n",
       "0  Colour Name: Silver           []         1  B094C4VDJZ   \n",
       "1   Colour Name: Black           []         2  B094C4VDJZ   \n",
       "2   Colour Name: Black           []         3  B094C4VDJZ   \n",
       "3   Colour Name: Black           []         4  B094C4VDJZ   \n",
       "4   Colour Name: Black           []         5  B094C4VDJZ   \n",
       "\n",
       "                                   reviewCategoryUrl  totalCategoryRatings  \\\n",
       "0  https://www.amazon.com/product-reviews/B094C4V...                  1018   \n",
       "1  https://www.amazon.com/product-reviews/B094C4V...                  1018   \n",
       "2  https://www.amazon.com/product-reviews/B094C4V...                  1018   \n",
       "3  https://www.amazon.com/product-reviews/B094C4V...                  1018   \n",
       "4  https://www.amazon.com/product-reviews/B094C4V...                  1018   \n",
       "\n",
       "   totalCategoryReviews filterByRating  \\\n",
       "0                   668        twoStar   \n",
       "1                   668        twoStar   \n",
       "2                   668        twoStar   \n",
       "3                   668        twoStar   \n",
       "4                   668        twoStar   \n",
       "\n",
       "                                             product     headphoneName  \n",
       "0  {'price': {'value': 289.99, 'currency': '$'}, ...  sony xm4 earbuds  \n",
       "1  {'price': {'value': 289.99, 'currency': '$'}, ...  sony xm4 earbuds  \n",
       "2  {'price': {'value': 289.99, 'currency': '$'}, ...  sony xm4 earbuds  \n",
       "3  {'price': {'value': 289.99, 'currency': '$'}, ...  sony xm4 earbuds  \n",
       "4  {'price': {'value': 289.99, 'currency': '$'}, ...  sony xm4 earbuds  "
      ]
     },
     "execution_count": 84,
     "metadata": {},
     "output_type": "execute_result"
    }
   ],
   "source": [
    "final_reviews_df = pd.concat(review_lst_dfs, ignore_index=True)\n",
    "final_reviews_df.head()"
   ]
  },
  {
   "cell_type": "code",
   "execution_count": 85,
   "id": "bae47501-f8d1-40f3-aeb7-938b52ddba18",
   "metadata": {
    "tags": []
   },
   "outputs": [
    {
     "data": {
      "text/plain": [
       "(757, 20)"
      ]
     },
     "execution_count": 85,
     "metadata": {},
     "output_type": "execute_result"
    }
   ],
   "source": [
    "final_reviews_df.shape"
   ]
  },
  {
   "cell_type": "code",
   "execution_count": 86,
   "id": "879eef7d-65b7-4e9b-8c4f-407c92751df8",
   "metadata": {
    "tags": []
   },
   "outputs": [
    {
     "data": {
      "text/plain": [
       "Counter({'sony xm4 earbuds': 50,\n",
       "         'Galaxy Buds2 Pro': 50,\n",
       "         'Sennheiser MTW3': 50,\n",
       "         'Bose Quietcomfort Earbuds 2': 50,\n",
       "         'Bose Quietcomfort Earbuds': 50,\n",
       "         'Beats Fit Pro Earbuds': 50,\n",
       "         'AirPods Pro 2 Earbuds': 50,\n",
       "         'Sony Linkbuds S': 50,\n",
       "         'Sony Linkbuds original': 50,\n",
       "         'Pixel Buds Pro': 50,\n",
       "         'Soundcore Liberty 3': 50,\n",
       "         'AirPods 3': 50,\n",
       "         'Jabra Elite 7 Pro': 50,\n",
       "         'Sony WF-1000XM5': 50,\n",
       "         '1MORE Evo': 50,\n",
       "         'lg tone tf8': 7})"
      ]
     },
     "execution_count": 86,
     "metadata": {},
     "output_type": "execute_result"
    }
   ],
   "source": [
    "Counter(final_reviews_df['headphoneName'])"
   ]
  },
  {
   "cell_type": "markdown",
   "id": "ed437264-e149-4210-b4bd-57970a89cc7c",
   "metadata": {},
   "source": [
    "Everything looks right now so let's update the csv file."
   ]
  },
  {
   "cell_type": "code",
   "execution_count": 87,
   "id": "2282f618-69cd-4c9a-8f13-6ec5580507fb",
   "metadata": {
    "tags": []
   },
   "outputs": [],
   "source": [
    "final_reviews_df.to_csv('amazon_reviews.csv', index=False)"
   ]
  },
  {
   "cell_type": "markdown",
   "id": "74fddb53-004b-47ac-8b5c-38ff66ec88db",
   "metadata": {},
   "source": [
    "#### Testing Something with Review Ratings\n",
    "\n",
    "The review scraper got 10 of each rating score, but note the product scraper from before has the percentage of each rating score which will be needed."
   ]
  },
  {
   "cell_type": "code",
   "execution_count": 89,
   "id": "a6a2e187-d2d7-4325-86b9-243a201d620c",
   "metadata": {
    "tags": []
   },
   "outputs": [
    {
     "data": {
      "text/plain": [
       "\"[['title', 'url', 'asin', 'inStock', 'inStockText', 'brand', 'author', 'price', 'listPrice', 'shippingPrice', 'stars', 'starsBreakdown', 'reviewsCount', 'answeredQuestions', 'breadCrumbs', 'thumbnailImage', 'galleryThumbnails', 'highResolutionImages', 'description', 'features', 'attributes', 'productOverview', 'variantAsins', 'variantDetails', 'reviewsLink', 'hasReviews', 'delivery', 'fastestDelivery', 'returnPolicy', 'support', 'variantAttributes', 'manufacturerAttributes', 'seller', 'bestsellerRanks', 'isAmazonChoice', 'amazonChoiceText', 'bookDescription', 'locationText', 'loadedCountryCode', 'unNormalizedProductUrl']]\""
      ]
     },
     "execution_count": 89,
     "metadata": {},
     "output_type": "execute_result"
    }
   ],
   "source": [
    "ap_test_df = pd.read_csv('amazon_product_descriptions.csv')\n",
    "ap_test_df['Product_Attributes'][0]"
   ]
  },
  {
   "cell_type": "code",
   "execution_count": 94,
   "id": "ce9a25fc-034f-44d5-8f3b-eed2b30e9963",
   "metadata": {
    "tags": []
   },
   "outputs": [],
   "source": [
    "#ap_test_df['Product_Descriptions'][0]"
   ]
  },
  {
   "cell_type": "code",
   "execution_count": null,
   "id": "3270c1aa-1284-47d8-b719-e28769020778",
   "metadata": {},
   "outputs": [],
   "source": []
  }
 ],
 "metadata": {
  "kernelspec": {
   "display_name": "Python 3 (ipykernel)",
   "language": "python",
   "name": "python3"
  },
  "language_info": {
   "codemirror_mode": {
    "name": "ipython",
    "version": 3
   },
   "file_extension": ".py",
   "mimetype": "text/x-python",
   "name": "python",
   "nbconvert_exporter": "python",
   "pygments_lexer": "ipython3",
   "version": "3.9.18"
  }
 },
 "nbformat": 4,
 "nbformat_minor": 5
}
