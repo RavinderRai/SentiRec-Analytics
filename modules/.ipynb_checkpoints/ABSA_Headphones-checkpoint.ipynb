{
 "cells": [
  {
   "cell_type": "markdown",
   "id": "aba05392-94bf-414a-ae49-48669447f663",
   "metadata": {},
   "source": [
    "# Aspect Based Sentiment Analysis\n",
    "\n",
    "Getting sentiment analysis on aspects of headphones. \n",
    "\n",
    "https://medium.com/nlplanet/quick-intro-to-aspect-based-sentiment-analysis-c8888a09eda7\n",
    "\n",
    "https://huggingface.co/yangheng/deberta-v3-base-absa-v1.1"
   ]
  },
  {
   "cell_type": "code",
   "execution_count": 1,
   "id": "2cb68056-e45c-4cf5-9f86-09e9cc9eedd8",
   "metadata": {
    "tags": []
   },
   "outputs": [],
   "source": [
    "import pandas as pd\n",
    "import re\n",
    "from tqdm import tqdm\n",
    "from nltk.corpus import stopwords\n",
    "from nltk.stem import WordNetLemmatizer, PorterStemmer\n",
    "from nltk.tokenize import word_tokenize\n",
    "from transformers import AutoTokenizer, AutoModelForSequenceClassification, pipeline"
   ]
  },
  {
   "cell_type": "code",
   "execution_count": 2,
   "id": "2b5eee91-b321-4f57-930b-43448b1968e7",
   "metadata": {},
   "outputs": [
    {
     "data": {
      "text/html": [
       "<div>\n",
       "<style scoped>\n",
       "    .dataframe tbody tr th:only-of-type {\n",
       "        vertical-align: middle;\n",
       "    }\n",
       "\n",
       "    .dataframe tbody tr th {\n",
       "        vertical-align: top;\n",
       "    }\n",
       "\n",
       "    .dataframe thead th {\n",
       "        text-align: right;\n",
       "    }\n",
       "</style>\n",
       "<table border=\"1\" class=\"dataframe\">\n",
       "  <thead>\n",
       "    <tr style=\"text-align: right;\">\n",
       "      <th></th>\n",
       "      <th>ratingScore</th>\n",
       "      <th>reviewTitle</th>\n",
       "      <th>reviewUrl</th>\n",
       "      <th>reviewReaction</th>\n",
       "      <th>reviewedIn</th>\n",
       "      <th>date</th>\n",
       "      <th>country</th>\n",
       "      <th>countryCode</th>\n",
       "      <th>reviewDescription</th>\n",
       "      <th>isVerified</th>\n",
       "      <th>variant</th>\n",
       "      <th>reviewImages</th>\n",
       "      <th>position</th>\n",
       "      <th>productAsin</th>\n",
       "      <th>reviewCategoryUrl</th>\n",
       "      <th>totalCategoryRatings</th>\n",
       "      <th>totalCategoryReviews</th>\n",
       "      <th>filterByRating</th>\n",
       "      <th>product</th>\n",
       "      <th>headphoneName</th>\n",
       "    </tr>\n",
       "  </thead>\n",
       "  <tbody>\n",
       "    <tr>\n",
       "      <th>0</th>\n",
       "      <td>2</td>\n",
       "      <td>First review was @ 11months. Now13 months &amp; ba...</td>\n",
       "      <td>https://www.amazon.ca/gp/customer-reviews/RTBT...</td>\n",
       "      <td>22 people found this helpful</td>\n",
       "      <td>Reviewed in Canada on November 27, 2022</td>\n",
       "      <td>2022-11-27</td>\n",
       "      <td>Canada</td>\n",
       "      <td>NaN</td>\n",
       "      <td>Edited again March 25th:A month after my last ...</td>\n",
       "      <td>True</td>\n",
       "      <td>Colour Name: Silver</td>\n",
       "      <td>[]</td>\n",
       "      <td>1</td>\n",
       "      <td>B094C4VDJZ</td>\n",
       "      <td>https://www.amazon.com/product-reviews/B094C4V...</td>\n",
       "      <td>1018</td>\n",
       "      <td>668</td>\n",
       "      <td>twoStar</td>\n",
       "      <td>{'price': {'value': 289.99, 'currency': '$'}, ...</td>\n",
       "      <td>sony xm4 earbuds</td>\n",
       "    </tr>\n",
       "    <tr>\n",
       "      <th>1</th>\n",
       "      <td>2</td>\n",
       "      <td>Good quality sound, battery issues, now unusable</td>\n",
       "      <td>https://www.amazon.ca/gp/customer-reviews/R2H1...</td>\n",
       "      <td>NaN</td>\n",
       "      <td>Reviewed in Canada on November 11, 2023</td>\n",
       "      <td>2023-11-11</td>\n",
       "      <td>Canada</td>\n",
       "      <td>NaN</td>\n",
       "      <td>After 1 year of use: the sound quality is grea...</td>\n",
       "      <td>True</td>\n",
       "      <td>Colour Name: Black</td>\n",
       "      <td>[]</td>\n",
       "      <td>2</td>\n",
       "      <td>B094C4VDJZ</td>\n",
       "      <td>https://www.amazon.com/product-reviews/B094C4V...</td>\n",
       "      <td>1018</td>\n",
       "      <td>668</td>\n",
       "      <td>twoStar</td>\n",
       "      <td>{'price': {'value': 289.99, 'currency': '$'}, ...</td>\n",
       "      <td>sony xm4 earbuds</td>\n",
       "    </tr>\n",
       "  </tbody>\n",
       "</table>\n",
       "</div>"
      ],
      "text/plain": [
       "   ratingScore                                        reviewTitle  \\\n",
       "0            2  First review was @ 11months. Now13 months & ba...   \n",
       "1            2   Good quality sound, battery issues, now unusable   \n",
       "\n",
       "                                           reviewUrl  \\\n",
       "0  https://www.amazon.ca/gp/customer-reviews/RTBT...   \n",
       "1  https://www.amazon.ca/gp/customer-reviews/R2H1...   \n",
       "\n",
       "                 reviewReaction                               reviewedIn  \\\n",
       "0  22 people found this helpful  Reviewed in Canada on November 27, 2022   \n",
       "1                           NaN  Reviewed in Canada on November 11, 2023   \n",
       "\n",
       "         date country  countryCode  \\\n",
       "0  2022-11-27  Canada          NaN   \n",
       "1  2023-11-11  Canada          NaN   \n",
       "\n",
       "                                   reviewDescription  isVerified  \\\n",
       "0  Edited again March 25th:A month after my last ...        True   \n",
       "1  After 1 year of use: the sound quality is grea...        True   \n",
       "\n",
       "               variant reviewImages  position productAsin  \\\n",
       "0  Colour Name: Silver           []         1  B094C4VDJZ   \n",
       "1   Colour Name: Black           []         2  B094C4VDJZ   \n",
       "\n",
       "                                   reviewCategoryUrl  totalCategoryRatings  \\\n",
       "0  https://www.amazon.com/product-reviews/B094C4V...                  1018   \n",
       "1  https://www.amazon.com/product-reviews/B094C4V...                  1018   \n",
       "\n",
       "   totalCategoryReviews filterByRating  \\\n",
       "0                   668        twoStar   \n",
       "1                   668        twoStar   \n",
       "\n",
       "                                             product     headphoneName  \n",
       "0  {'price': {'value': 289.99, 'currency': '$'}, ...  sony xm4 earbuds  \n",
       "1  {'price': {'value': 289.99, 'currency': '$'}, ...  sony xm4 earbuds  "
      ]
     },
     "execution_count": 2,
     "metadata": {},
     "output_type": "execute_result"
    }
   ],
   "source": [
    "df = pd.read_csv('amazon_reviews.csv')\n",
    "df.head(2)"
   ]
  },
  {
   "cell_type": "code",
   "execution_count": 3,
   "id": "bbb5cdb8-eb00-4b72-a5f1-b836333a70ba",
   "metadata": {
    "tags": []
   },
   "outputs": [
    {
     "name": "stderr",
     "output_type": "stream",
     "text": [
      "C:\\Users\\RaviB\\AppData\\Roaming\\Python\\Python39\\site-packages\\transformers\\convert_slow_tokenizer.py:473: UserWarning: The sentencepiece tokenizer that you are converting to a fast tokenizer uses the byte fallback option which is not implemented in the fast tokenizers. In practice this means that the fast version of the tokenizer can produce unknown tokens whereas the sentencepiece version would have converted these unknown tokens into a sequence of byte tokens matching the original piece of text.\n",
      "  warnings.warn(\n"
     ]
    }
   ],
   "source": [
    "model_name = \"yangheng/deberta-v3-base-absa-v1.1\"\n",
    "tokenizer = AutoTokenizer.from_pretrained(model_name)\n",
    "model = AutoModelForSequenceClassification.from_pretrained(model_name)"
   ]
  },
  {
   "cell_type": "code",
   "execution_count": 4,
   "id": "aafc49ae-f11f-4b12-8a90-cf7c6e658c5d",
   "metadata": {
    "tags": []
   },
   "outputs": [],
   "source": [
    "classifier = pipeline(\"text-classification\", model=model, tokenizer=tokenizer)"
   ]
  },
  {
   "cell_type": "code",
   "execution_count": 5,
   "id": "1bb4eb8c-2544-43bb-a0bd-45c583dfd2f3",
   "metadata": {
    "tags": []
   },
   "outputs": [
    {
     "data": {
      "text/plain": [
       "'Huge problem with battery drain. After 1 year of use the left ear bud can only last 1 hour with all features off. The right ear perfectly fine. Beware of purchase not a good long term purchase'"
      ]
     },
     "execution_count": 5,
     "metadata": {},
     "output_type": "execute_result"
    }
   ],
   "source": [
    "ex_review = df[df['headphoneName'] == 'sony xm4 earbuds']['reviewDescription'][5]\n",
    "ex_review"
   ]
  },
  {
   "cell_type": "code",
   "execution_count": 6,
   "id": "156ad983-cadf-45ca-a7d7-c475f39ab7f2",
   "metadata": {
    "tags": []
   },
   "outputs": [],
   "source": [
    "aspects = ['battery', 'comfort', 'noise cancellation', 'sound quality']"
   ]
  },
  {
   "cell_type": "code",
   "execution_count": 7,
   "id": "fee0fe35-5f1e-4851-8da2-fbb7f85e3f05",
   "metadata": {
    "tags": []
   },
   "outputs": [
    {
     "name": "stdout",
     "output_type": "stream",
     "text": [
      "battery [{'label': 'Negative', 'score': 0.9745112061500549}]\n",
      "comfort [{'label': 'Negative', 'score': 0.8275106549263}]\n",
      "noise cancellation [{'label': 'Negative', 'score': 0.7531450390815735}]\n",
      "sound quality [{'label': 'Negative', 'score': 0.7979089021682739}]\n"
     ]
    }
   ],
   "source": [
    "for aspect in aspects:\n",
    "   print(aspect, classifier(ex_review,  text_pair=aspect))"
   ]
  },
  {
   "cell_type": "code",
   "execution_count": 35,
   "id": "c46a1713-48d4-498d-b2d1-1bc2f7f91f58",
   "metadata": {
    "tags": []
   },
   "outputs": [],
   "source": [
    "#for i in range(df.shape[0]):\n",
    "#    print(df[df['headphoneName'] == 'sony xm4 earbuds']['reviewDescription'][i], '\\n')"
   ]
  },
  {
   "cell_type": "markdown",
   "id": "f400f279-7942-48b8-9d50-ec7e007e28a0",
   "metadata": {},
   "source": [
    "## Pre-Processing Text\n",
    "\n",
    "We want to pre-process the review text and then check if sentiments are in the text. If they are not, then we don't want to consider scores for them for that review text. The primary reason for this is to stem noise cancellation since it could appear as other forms like noise cancelling instead, but also potential typos or mispelled words.\n",
    "\n",
    "The steps we want to follow here:\n",
    "\n",
    "1. Pre-process the aspects and review texts.\n",
    "2. Check if each aspect is in the text. \n",
    "3. If it is, then move get a sentiment score for it, otherwise record the sentiment as null.\n",
    "4. Add these sentiments to a dataframe."
   ]
  },
  {
   "cell_type": "code",
   "execution_count": 8,
   "id": "f8ea1e5e-d6e7-4dce-8b18-799bf946f8f6",
   "metadata": {
    "tags": []
   },
   "outputs": [],
   "source": [
    "def preprocess_text(text):\n",
    "    # Convert to lowercase\n",
    "    text = text.lower()\n",
    "\n",
    "    # Remove special characters, numbers, and punctuation\n",
    "    text = re.sub(r'[^a-zA-Z\\s]', '', text)\n",
    "\n",
    "    # Tokenize the text\n",
    "    tokens = word_tokenize(text)\n",
    "\n",
    "    # Remove stopwords\n",
    "    stop_words = set(stopwords.words('english'))\n",
    "    tokens = [token for token in tokens if token not in stop_words]\n",
    "\n",
    "    # Stemming\n",
    "    stemmer = PorterStemmer()\n",
    "    #lemmatizer = WordNetLemmatizer()\n",
    "    tokens = [stemmer.stem(token) for token in tokens]\n",
    "\n",
    "    # Join the tokens back into a sentence\n",
    "    processed_text = ' '.join(tokens)\n",
    "\n",
    "    return processed_text"
   ]
  },
  {
   "cell_type": "code",
   "execution_count": 22,
   "id": "d5fc2d32-c6e7-4ee3-bc67-40420520540b",
   "metadata": {
    "tags": []
   },
   "outputs": [],
   "source": [
    "df['preprocessedReviews'] = df['reviewDescription'].fillna('').apply(lambda x: preprocess_text(x))"
   ]
  },
  {
   "cell_type": "code",
   "execution_count": 11,
   "id": "bae3354c-b62d-4bd8-82af-6fe16fced03d",
   "metadata": {},
   "outputs": [
    {
     "data": {
      "text/plain": [
       "['batteri', 'comfort', 'nois cancel', 'sound qualiti']"
      ]
     },
     "execution_count": 11,
     "metadata": {},
     "output_type": "execute_result"
    }
   ],
   "source": [
    "pre_proc_aspects = []\n",
    "for aspect in aspects:\n",
    "    pre_proc_aspects.append(preprocess_text(aspect))\n",
    "pre_proc_aspects"
   ]
  },
  {
   "cell_type": "code",
   "execution_count": 31,
   "id": "ca7fe00e-0e0a-42eb-ba5e-39c0eefce320",
   "metadata": {
    "tags": []
   },
   "outputs": [
    {
     "data": {
      "text/plain": [
       "{'battery': 'batteri',\n",
       " 'comfort': 'comfort',\n",
       " 'noise cancellation': 'nois cancel',\n",
       " 'sound quality': 'sound qualiti'}"
      ]
     },
     "execution_count": 31,
     "metadata": {},
     "output_type": "execute_result"
    }
   ],
   "source": [
    "aspects_dct = {}\n",
    "for aspect in aspects:\n",
    "    aspect_idx = aspects.index(aspect)\n",
    "    aspects_dct[aspect] = pre_proc_aspects[aspect_idx]\n",
    "\n",
    "aspects_dct"
   ]
  },
  {
   "cell_type": "markdown",
   "id": "3cde4da3-21a5-4e14-adac-1d91cb7f029a",
   "metadata": {},
   "source": [
    "## Getting Sentiments"
   ]
  },
  {
   "cell_type": "code",
   "execution_count": 43,
   "id": "13cdf276-120f-40fc-9bcb-f9e4a6183d4b",
   "metadata": {
    "tags": []
   },
   "outputs": [],
   "source": [
    "sentiments = {'battery': [], 'comfort': [], 'noise cancellation': [], 'sound quality': []}"
   ]
  },
  {
   "cell_type": "code",
   "execution_count": 44,
   "id": "c0553b18-74ad-415d-93c1-0c3308a97b72",
   "metadata": {
    "tags": []
   },
   "outputs": [],
   "source": [
    "for aspect in aspects_dct.keys():\n",
    "    for i in range(df.shape[0]):\n",
    "        if aspects_dct[aspect] in df['preprocessedReviews'][i]:\n",
    "            sentiments[aspect].append(classifier(df['reviewDescription'][i],  text_pair=aspect)[0])\n",
    "        else:\n",
    "            sentiments[aspect].append({'label': 'NA', 'score': 0})"
   ]
  },
  {
   "cell_type": "code",
   "execution_count": 70,
   "id": "4881ade1-024e-4bcd-a66c-1c983bc18748",
   "metadata": {
    "tags": []
   },
   "outputs": [],
   "source": [
    "dataframes = sentiments.copy()\n",
    "for aspect in dataframes.keys():\n",
    "    aspect_label = aspect.replace(\" \", \"\") #putting aspects in column names and don't want empty spaces\n",
    "    dataframes[aspect] = pd.DataFrame(dataframes[aspect]).rename(columns={'label': aspect_label+'Label', 'score': aspect_label+'Score'})"
   ]
  },
  {
   "cell_type": "code",
   "execution_count": 101,
   "id": "def8582e-ec6e-4efb-8eb1-167bb285c35f",
   "metadata": {
    "tags": []
   },
   "outputs": [
    {
     "data": {
      "text/html": [
       "<div>\n",
       "<style scoped>\n",
       "    .dataframe tbody tr th:only-of-type {\n",
       "        vertical-align: middle;\n",
       "    }\n",
       "\n",
       "    .dataframe tbody tr th {\n",
       "        vertical-align: top;\n",
       "    }\n",
       "\n",
       "    .dataframe thead th {\n",
       "        text-align: right;\n",
       "    }\n",
       "</style>\n",
       "<table border=\"1\" class=\"dataframe\">\n",
       "  <thead>\n",
       "    <tr style=\"text-align: right;\">\n",
       "      <th></th>\n",
       "      <th>headphoneName</th>\n",
       "      <th>batteryLabel</th>\n",
       "      <th>batteryScore</th>\n",
       "      <th>comfortLabel</th>\n",
       "      <th>comfortScore</th>\n",
       "      <th>noisecancellationLabel</th>\n",
       "      <th>noisecancellationScore</th>\n",
       "      <th>soundqualityLabel</th>\n",
       "      <th>soundqualityScore</th>\n",
       "    </tr>\n",
       "  </thead>\n",
       "  <tbody>\n",
       "    <tr>\n",
       "      <th>0</th>\n",
       "      <td>sony xm4 earbuds</td>\n",
       "      <td>Negative</td>\n",
       "      <td>0.632094</td>\n",
       "      <td>Negative</td>\n",
       "      <td>0.577964</td>\n",
       "      <td>NA</td>\n",
       "      <td>0.000000</td>\n",
       "      <td>Negative</td>\n",
       "      <td>0.576905</td>\n",
       "    </tr>\n",
       "    <tr>\n",
       "      <th>1</th>\n",
       "      <td>sony xm4 earbuds</td>\n",
       "      <td>Negative</td>\n",
       "      <td>0.980668</td>\n",
       "      <td>NA</td>\n",
       "      <td>0.000000</td>\n",
       "      <td>NA</td>\n",
       "      <td>0.000000</td>\n",
       "      <td>Positive</td>\n",
       "      <td>0.983615</td>\n",
       "    </tr>\n",
       "    <tr>\n",
       "      <th>2</th>\n",
       "      <td>sony xm4 earbuds</td>\n",
       "      <td>NA</td>\n",
       "      <td>0.000000</td>\n",
       "      <td>NA</td>\n",
       "      <td>0.000000</td>\n",
       "      <td>Positive</td>\n",
       "      <td>0.937881</td>\n",
       "      <td>NA</td>\n",
       "      <td>0.000000</td>\n",
       "    </tr>\n",
       "    <tr>\n",
       "      <th>3</th>\n",
       "      <td>sony xm4 earbuds</td>\n",
       "      <td>Negative</td>\n",
       "      <td>0.984746</td>\n",
       "      <td>Negative</td>\n",
       "      <td>0.987884</td>\n",
       "      <td>Positive</td>\n",
       "      <td>0.855375</td>\n",
       "      <td>Positive</td>\n",
       "      <td>0.623085</td>\n",
       "    </tr>\n",
       "    <tr>\n",
       "      <th>4</th>\n",
       "      <td>sony xm4 earbuds</td>\n",
       "      <td>NA</td>\n",
       "      <td>0.000000</td>\n",
       "      <td>NA</td>\n",
       "      <td>0.000000</td>\n",
       "      <td>NA</td>\n",
       "      <td>0.000000</td>\n",
       "      <td>Negative</td>\n",
       "      <td>0.956487</td>\n",
       "    </tr>\n",
       "  </tbody>\n",
       "</table>\n",
       "</div>"
      ],
      "text/plain": [
       "      headphoneName batteryLabel  batteryScore comfortLabel  comfortScore  \\\n",
       "0  sony xm4 earbuds     Negative      0.632094     Negative      0.577964   \n",
       "1  sony xm4 earbuds     Negative      0.980668           NA      0.000000   \n",
       "2  sony xm4 earbuds           NA      0.000000           NA      0.000000   \n",
       "3  sony xm4 earbuds     Negative      0.984746     Negative      0.987884   \n",
       "4  sony xm4 earbuds           NA      0.000000           NA      0.000000   \n",
       "\n",
       "  noisecancellationLabel  noisecancellationScore soundqualityLabel  \\\n",
       "0                     NA                0.000000          Negative   \n",
       "1                     NA                0.000000          Positive   \n",
       "2               Positive                0.937881                NA   \n",
       "3               Positive                0.855375          Positive   \n",
       "4                     NA                0.000000          Negative   \n",
       "\n",
       "   soundqualityScore  \n",
       "0           0.576905  \n",
       "1           0.983615  \n",
       "2           0.000000  \n",
       "3           0.623085  \n",
       "4           0.956487  "
      ]
     },
     "execution_count": 101,
     "metadata": {},
     "output_type": "execute_result"
    }
   ],
   "source": [
    "sentiments_df = pd.concat(list(dataframes.values()), axis=1)\n",
    "sentiments_df = pd.concat([df['headphoneName'], sentiments_df], axis=1)\n",
    "sentiments_df.head()"
   ]
  },
  {
   "cell_type": "code",
   "execution_count": 102,
   "id": "a52665ef-0cf1-4264-9bfb-1a1dba877a71",
   "metadata": {
    "tags": []
   },
   "outputs": [],
   "source": [
    "sentiments_df.to_csv('cad_sentiments.csv', index=False)"
   ]
  },
  {
   "cell_type": "markdown",
   "id": "fc7a2eee-ab2e-4b5e-929d-a159b5633edf",
   "metadata": {},
   "source": [
    "## Getting Sentiments Part 2 - US Reviews\n",
    "\n",
    "Now we need to repeat the above steps but for the US reviews."
   ]
  },
  {
   "cell_type": "code",
   "execution_count": 105,
   "id": "2c137dc6-21cc-4895-8161-c44d75e4b6b8",
   "metadata": {
    "tags": []
   },
   "outputs": [
    {
     "data": {
      "text/html": [
       "<div>\n",
       "<style scoped>\n",
       "    .dataframe tbody tr th:only-of-type {\n",
       "        vertical-align: middle;\n",
       "    }\n",
       "\n",
       "    .dataframe tbody tr th {\n",
       "        vertical-align: top;\n",
       "    }\n",
       "\n",
       "    .dataframe thead th {\n",
       "        text-align: right;\n",
       "    }\n",
       "</style>\n",
       "<table border=\"1\" class=\"dataframe\">\n",
       "  <thead>\n",
       "    <tr style=\"text-align: right;\">\n",
       "      <th></th>\n",
       "      <th>ratingScore</th>\n",
       "      <th>reviewTitle</th>\n",
       "      <th>reviewUrl</th>\n",
       "      <th>reviewReaction</th>\n",
       "      <th>reviewedIn</th>\n",
       "      <th>date</th>\n",
       "      <th>country</th>\n",
       "      <th>countryCode</th>\n",
       "      <th>reviewDescription</th>\n",
       "      <th>isVerified</th>\n",
       "      <th>variant</th>\n",
       "      <th>reviewImages</th>\n",
       "      <th>position</th>\n",
       "      <th>productAsin</th>\n",
       "      <th>reviewCategoryUrl</th>\n",
       "      <th>totalCategoryRatings</th>\n",
       "      <th>totalCategoryReviews</th>\n",
       "      <th>filterByRating</th>\n",
       "      <th>product</th>\n",
       "      <th>headphoneName</th>\n",
       "    </tr>\n",
       "  </thead>\n",
       "  <tbody>\n",
       "    <tr>\n",
       "      <th>0</th>\n",
       "      <td>1.0</td>\n",
       "      <td>Possibly worth the trouble for half the price</td>\n",
       "      <td>https://www.amazon.com/gp/customer-reviews/R3U...</td>\n",
       "      <td>15 people found this helpful</td>\n",
       "      <td>Reviewed in the United States on October 26, 2021</td>\n",
       "      <td>2021-10-26</td>\n",
       "      <td>United States</td>\n",
       "      <td>NaN</td>\n",
       "      <td>This is the 3rd, &amp; last, set of recently purch...</td>\n",
       "      <td>True</td>\n",
       "      <td>Color: BlackPattern: Headphones</td>\n",
       "      <td>[]</td>\n",
       "      <td>1.0</td>\n",
       "      <td>B094C4VDJZ</td>\n",
       "      <td>https://www.amazon.com/product-reviews/B094C4V...</td>\n",
       "      <td>2085.0</td>\n",
       "      <td>1354.0</td>\n",
       "      <td>oneStar</td>\n",
       "      <td>{'price': {'value': 164.97, 'currency': '$'}, ...</td>\n",
       "      <td>sony xm4 earbuds</td>\n",
       "    </tr>\n",
       "    <tr>\n",
       "      <th>1</th>\n",
       "      <td>1.0</td>\n",
       "      <td>TLDR Warning !  But if you going to spend this...</td>\n",
       "      <td>https://www.amazon.com/gp/customer-reviews/ROP...</td>\n",
       "      <td>401 people found this helpful</td>\n",
       "      <td>Reviewed in the United States on December 7, 2021</td>\n",
       "      <td>2021-12-07</td>\n",
       "      <td>United States</td>\n",
       "      <td>NaN</td>\n",
       "      <td>UPDATE IV:.After several months with many othe...</td>\n",
       "      <td>True</td>\n",
       "      <td>Color: SilverPattern: Headphones</td>\n",
       "      <td>['https://m.media-amazon.com/images/I/618Lflee...</td>\n",
       "      <td>2.0</td>\n",
       "      <td>B094C4VDJZ</td>\n",
       "      <td>https://www.amazon.com/product-reviews/B094C4V...</td>\n",
       "      <td>2085.0</td>\n",
       "      <td>1354.0</td>\n",
       "      <td>oneStar</td>\n",
       "      <td>{'price': {'value': 164.97, 'currency': '$'}, ...</td>\n",
       "      <td>sony xm4 earbuds</td>\n",
       "    </tr>\n",
       "  </tbody>\n",
       "</table>\n",
       "</div>"
      ],
      "text/plain": [
       "   ratingScore                                        reviewTitle  \\\n",
       "0          1.0      Possibly worth the trouble for half the price   \n",
       "1          1.0  TLDR Warning !  But if you going to spend this...   \n",
       "\n",
       "                                           reviewUrl  \\\n",
       "0  https://www.amazon.com/gp/customer-reviews/R3U...   \n",
       "1  https://www.amazon.com/gp/customer-reviews/ROP...   \n",
       "\n",
       "                  reviewReaction  \\\n",
       "0   15 people found this helpful   \n",
       "1  401 people found this helpful   \n",
       "\n",
       "                                          reviewedIn        date  \\\n",
       "0  Reviewed in the United States on October 26, 2021  2021-10-26   \n",
       "1  Reviewed in the United States on December 7, 2021  2021-12-07   \n",
       "\n",
       "         country  countryCode  \\\n",
       "0  United States          NaN   \n",
       "1  United States          NaN   \n",
       "\n",
       "                                   reviewDescription  isVerified  \\\n",
       "0  This is the 3rd, & last, set of recently purch...        True   \n",
       "1  UPDATE IV:.After several months with many othe...        True   \n",
       "\n",
       "                            variant  \\\n",
       "0   Color: BlackPattern: Headphones   \n",
       "1  Color: SilverPattern: Headphones   \n",
       "\n",
       "                                        reviewImages  position productAsin  \\\n",
       "0                                                 []       1.0  B094C4VDJZ   \n",
       "1  ['https://m.media-amazon.com/images/I/618Lflee...       2.0  B094C4VDJZ   \n",
       "\n",
       "                                   reviewCategoryUrl  totalCategoryRatings  \\\n",
       "0  https://www.amazon.com/product-reviews/B094C4V...                2085.0   \n",
       "1  https://www.amazon.com/product-reviews/B094C4V...                2085.0   \n",
       "\n",
       "   totalCategoryReviews filterByRating  \\\n",
       "0                1354.0        oneStar   \n",
       "1                1354.0        oneStar   \n",
       "\n",
       "                                             product     headphoneName  \n",
       "0  {'price': {'value': 164.97, 'currency': '$'}, ...  sony xm4 earbuds  \n",
       "1  {'price': {'value': 164.97, 'currency': '$'}, ...  sony xm4 earbuds  "
      ]
     },
     "execution_count": 105,
     "metadata": {},
     "output_type": "execute_result"
    }
   ],
   "source": [
    "US_df = pd.read_csv('amazon_US_reviews.csv')\n",
    "US_df.head(2)"
   ]
  },
  {
   "cell_type": "code",
   "execution_count": 107,
   "id": "f0f3c284-6a06-4ad8-94a2-18b23186f3b6",
   "metadata": {
    "tags": []
   },
   "outputs": [],
   "source": [
    "US_df['preprocessedReviews'] = US_df['reviewDescription'].fillna('').apply(lambda x: preprocess_text(x))"
   ]
  },
  {
   "cell_type": "code",
   "execution_count": 110,
   "id": "4508ee0c-c3a1-47fd-8820-fbd802f404de",
   "metadata": {
    "tags": []
   },
   "outputs": [
    {
     "data": {
      "text/plain": [
       "{'battery': [], 'comfort': [], 'noise cancellation': [], 'sound quality': []}"
      ]
     },
     "execution_count": 110,
     "metadata": {},
     "output_type": "execute_result"
    }
   ],
   "source": [
    "US_sentiments = {aspect: [] for aspect in aspects_dct.keys()}\n",
    "US_sentiments"
   ]
  },
  {
   "cell_type": "code",
   "execution_count": 116,
   "id": "918485f1-5d9d-4300-bf88-e4ff20753060",
   "metadata": {
    "tags": []
   },
   "outputs": [
    {
     "name": "stderr",
     "output_type": "stream",
     "text": [
      "Processing battery: 100%|████████████████████████████████████████████████████████████| 729/729 [08:00<00:00,  1.52it/s]\n",
      "Processing comfort: 100%|████████████████████████████████████████████████████████████| 729/729 [08:09<00:00,  1.49it/s]\n",
      "Processing noise cancellation: 100%|█████████████████████████████████████████████████| 729/729 [07:01<00:00,  1.73it/s]\n",
      "Processing sound quality: 100%|██████████████████████████████████████████████████████| 729/729 [06:48<00:00,  1.78it/s]\n"
     ]
    }
   ],
   "source": [
    "for aspect in aspects_dct.keys():\n",
    "    for i in tqdm(range(US_df.shape[0]), desc=f\"Processing {aspect}\"):\n",
    "        if aspects_dct[aspect] in US_df['preprocessedReviews'][i]:\n",
    "            US_sentiments[aspect].append(classifier(US_df['reviewDescription'][i],  text_pair=aspect)[0])\n",
    "        else:\n",
    "            US_sentiments[aspect].append({'label': 'NA', 'score': 0})"
   ]
  },
  {
   "cell_type": "code",
   "execution_count": 117,
   "id": "7c62a56b-fb80-4954-90c5-1660e69d56cd",
   "metadata": {
    "tags": []
   },
   "outputs": [],
   "source": [
    "US_dataframes = US_sentiments.copy()\n",
    "for aspect in US_dataframes.keys():\n",
    "    aspect_label = aspect.replace(\" \", \"\") #putting aspects in column names and don't want empty spaces\n",
    "    US_dataframes[aspect] = pd.DataFrame(US_dataframes[aspect]).rename(columns={'label': aspect_label+'Label', 'score': aspect_label+'Score'})"
   ]
  },
  {
   "cell_type": "code",
   "execution_count": 118,
   "id": "aea174a3-0428-4a7b-9b82-517aab3ff7a6",
   "metadata": {
    "tags": []
   },
   "outputs": [
    {
     "data": {
      "text/html": [
       "<div>\n",
       "<style scoped>\n",
       "    .dataframe tbody tr th:only-of-type {\n",
       "        vertical-align: middle;\n",
       "    }\n",
       "\n",
       "    .dataframe tbody tr th {\n",
       "        vertical-align: top;\n",
       "    }\n",
       "\n",
       "    .dataframe thead th {\n",
       "        text-align: right;\n",
       "    }\n",
       "</style>\n",
       "<table border=\"1\" class=\"dataframe\">\n",
       "  <thead>\n",
       "    <tr style=\"text-align: right;\">\n",
       "      <th></th>\n",
       "      <th>headphoneName</th>\n",
       "      <th>batteryLabel</th>\n",
       "      <th>batteryScore</th>\n",
       "      <th>comfortLabel</th>\n",
       "      <th>comfortScore</th>\n",
       "      <th>noisecancellationLabel</th>\n",
       "      <th>noisecancellationScore</th>\n",
       "      <th>soundqualityLabel</th>\n",
       "      <th>soundqualityScore</th>\n",
       "    </tr>\n",
       "  </thead>\n",
       "  <tbody>\n",
       "    <tr>\n",
       "      <th>0</th>\n",
       "      <td>sony xm4 earbuds</td>\n",
       "      <td>Negative</td>\n",
       "      <td>0.894016</td>\n",
       "      <td>Negative</td>\n",
       "      <td>0.886814</td>\n",
       "      <td>NA</td>\n",
       "      <td>0.000000</td>\n",
       "      <td>NA</td>\n",
       "      <td>0.000000</td>\n",
       "    </tr>\n",
       "    <tr>\n",
       "      <th>1</th>\n",
       "      <td>sony xm4 earbuds</td>\n",
       "      <td>Positive</td>\n",
       "      <td>0.908510</td>\n",
       "      <td>Positive</td>\n",
       "      <td>0.916273</td>\n",
       "      <td>NA</td>\n",
       "      <td>0.000000</td>\n",
       "      <td>Positive</td>\n",
       "      <td>0.908909</td>\n",
       "    </tr>\n",
       "    <tr>\n",
       "      <th>2</th>\n",
       "      <td>sony xm4 earbuds</td>\n",
       "      <td>Negative</td>\n",
       "      <td>0.499079</td>\n",
       "      <td>NA</td>\n",
       "      <td>0.000000</td>\n",
       "      <td>Negative</td>\n",
       "      <td>0.517302</td>\n",
       "      <td>NA</td>\n",
       "      <td>0.000000</td>\n",
       "    </tr>\n",
       "    <tr>\n",
       "      <th>3</th>\n",
       "      <td>sony xm4 earbuds</td>\n",
       "      <td>Negative</td>\n",
       "      <td>0.867483</td>\n",
       "      <td>NA</td>\n",
       "      <td>0.000000</td>\n",
       "      <td>Negative</td>\n",
       "      <td>0.843609</td>\n",
       "      <td>NA</td>\n",
       "      <td>0.000000</td>\n",
       "    </tr>\n",
       "    <tr>\n",
       "      <th>4</th>\n",
       "      <td>sony xm4 earbuds</td>\n",
       "      <td>Negative</td>\n",
       "      <td>0.885287</td>\n",
       "      <td>NA</td>\n",
       "      <td>0.000000</td>\n",
       "      <td>Negative</td>\n",
       "      <td>0.832005</td>\n",
       "      <td>Negative</td>\n",
       "      <td>0.846645</td>\n",
       "    </tr>\n",
       "  </tbody>\n",
       "</table>\n",
       "</div>"
      ],
      "text/plain": [
       "      headphoneName batteryLabel  batteryScore comfortLabel  comfortScore  \\\n",
       "0  sony xm4 earbuds     Negative      0.894016     Negative      0.886814   \n",
       "1  sony xm4 earbuds     Positive      0.908510     Positive      0.916273   \n",
       "2  sony xm4 earbuds     Negative      0.499079           NA      0.000000   \n",
       "3  sony xm4 earbuds     Negative      0.867483           NA      0.000000   \n",
       "4  sony xm4 earbuds     Negative      0.885287           NA      0.000000   \n",
       "\n",
       "  noisecancellationLabel  noisecancellationScore soundqualityLabel  \\\n",
       "0                     NA                0.000000                NA   \n",
       "1                     NA                0.000000          Positive   \n",
       "2               Negative                0.517302                NA   \n",
       "3               Negative                0.843609                NA   \n",
       "4               Negative                0.832005          Negative   \n",
       "\n",
       "   soundqualityScore  \n",
       "0           0.000000  \n",
       "1           0.908909  \n",
       "2           0.000000  \n",
       "3           0.000000  \n",
       "4           0.846645  "
      ]
     },
     "execution_count": 118,
     "metadata": {},
     "output_type": "execute_result"
    }
   ],
   "source": [
    "US_sentiments_df = pd.concat(list(US_dataframes.values()), axis=1)\n",
    "US_sentiments_df = pd.concat([US_df['headphoneName'], US_sentiments_df], axis=1)\n",
    "US_sentiments_df.head()"
   ]
  },
  {
   "cell_type": "code",
   "execution_count": 121,
   "id": "a6ca925d-284e-4eea-8cce-ab54ae3afc86",
   "metadata": {
    "tags": []
   },
   "outputs": [],
   "source": [
    "US_sentiments_df.to_csv('US_sentiments.csv', index=False)"
   ]
  },
  {
   "cell_type": "code",
   "execution_count": null,
   "id": "23d848cf-fe4b-4b3b-8e70-08af76ee0f5b",
   "metadata": {},
   "outputs": [],
   "source": []
  }
 ],
 "metadata": {
  "kernelspec": {
   "display_name": "Python 3 (ipykernel)",
   "language": "python",
   "name": "python3"
  },
  "language_info": {
   "codemirror_mode": {
    "name": "ipython",
    "version": 3
   },
   "file_extension": ".py",
   "mimetype": "text/x-python",
   "name": "python",
   "nbconvert_exporter": "python",
   "pygments_lexer": "ipython3",
   "version": "3.9.18"
  }
 },
 "nbformat": 4,
 "nbformat_minor": 5
}
