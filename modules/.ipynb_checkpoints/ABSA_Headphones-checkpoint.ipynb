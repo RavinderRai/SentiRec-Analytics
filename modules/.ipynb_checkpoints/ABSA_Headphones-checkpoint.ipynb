{
 "cells": [
  {
   "cell_type": "markdown",
   "id": "aba05392-94bf-414a-ae49-48669447f663",
   "metadata": {},
   "source": [
    "# Aspect Based Sentiment Analysis\n",
    "\n",
    "Getting sentiment analysis on aspects of headphones. \n",
    "\n",
    "https://medium.com/nlplanet/quick-intro-to-aspect-based-sentiment-analysis-c8888a09eda7\n",
    "\n",
    "https://huggingface.co/yangheng/deberta-v3-base-absa-v1.1"
   ]
  },
  {
   "cell_type": "code",
   "execution_count": null,
   "id": "2b5eee91-b321-4f57-930b-43448b1968e7",
   "metadata": {},
   "outputs": [],
   "source": []
  }
 ],
 "metadata": {
  "kernelspec": {
   "display_name": "Python 3 (ipykernel)",
   "language": "python",
   "name": "python3"
  },
  "language_info": {
   "codemirror_mode": {
    "name": "ipython",
    "version": 3
   },
   "file_extension": ".py",
   "mimetype": "text/x-python",
   "name": "python",
   "nbconvert_exporter": "python",
   "pygments_lexer": "ipython3",
   "version": "3.9.18"
  }
 },
 "nbformat": 4,
 "nbformat_minor": 5
}
