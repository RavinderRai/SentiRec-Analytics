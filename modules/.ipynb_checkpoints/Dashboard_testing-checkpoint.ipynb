{
 "cells": [
  {
   "cell_type": "markdown",
   "id": "15b342cc-5836-4848-9e6b-db92ee064099",
   "metadata": {},
   "source": [
    "# Dashboard Scratch pad for quick testing\n",
    "\n",
    "Note: the Airpods 3 headphone doesn't have a product description so either try to get it with the free API later or forget about it."
   ]
  },
  {
   "cell_type": "code",
   "execution_count": 1,
   "id": "035f0a80-54b7-4bc5-8218-9a68935b4f19",
   "metadata": {
    "tags": []
   },
   "outputs": [],
   "source": [
    "import pandas as pd\n",
    "from sqlalchemy import create_engine, inspect\n",
    "import ast"
   ]
  },
  {
   "cell_type": "code",
   "execution_count": 2,
   "id": "29cde72d-5fdc-4120-ac80-d3f048d25496",
   "metadata": {
    "tags": []
   },
   "outputs": [],
   "source": [
    "# Connection parameters\n",
    "server = 'RAVI-DESKTOP\\SQLEXPRESS01'\n",
    "database = 'SentiRec_Analytics'\n",
    "username = 'RAVI-DESKTOP\\RaviB'\n",
    "\n",
    "# Connection parameters\n",
    "driver = 'ODBC+Driver+17+for+SQL+Server'  # Adjust the driver name if needed\n",
    "\n",
    "# Create an SQLAlchemy engine\n",
    "engine = create_engine(f\"mssql+pyodbc://{server}/{database}?driver={driver}\")\n",
    "\n",
    "dataframes_dict = {}\n",
    "\n",
    "try:\n",
    "    # Create an inspector to inspect the database and get the tables names\n",
    "    inspector = inspect(engine)\n",
    "    table_names = inspector.get_table_names()\n",
    "\n",
    "    # Load each table into a Pandas DataFrame\n",
    "    for table_name in table_names:\n",
    "        df = pd.read_sql_table(table_name, con=engine)\n",
    "        # Display or process the DataFrame as needed\n",
    "        dataframes_dict[table_name] = df\n",
    "    \n",
    "\n",
    "\n",
    "except pd.errors.DatabaseError as e:\n",
    "    print(\"Error reading from the database:\", e)\n",
    "\n",
    "finally:\n",
    "    # Dispose of the engine\n",
    "    engine.dispose()"
   ]
  },
  {
   "cell_type": "code",
   "execution_count": 9,
   "id": "0cb03306-23b4-4c14-91d6-e87a0835b763",
   "metadata": {
    "tags": []
   },
   "outputs": [],
   "source": [
    "prod_descriptions = dataframes_dict['amazon_product_descriptions']\n",
    "#prod_descriptions.drop(prod_descriptions[prod_descriptions['headphoneName'] == 'AirPods 3'].index)"
   ]
  },
  {
   "cell_type": "code",
   "execution_count": 16,
   "id": "0866c0f1-4f27-4d09-8582-010b08d3f06b",
   "metadata": {
    "tags": []
   },
   "outputs": [
    {
     "data": {
      "text/plain": [
       "0                                                  None\n",
       "1                                                  None\n",
       "2                                                  None\n",
       "3                                                  None\n",
       "4     Better sound begins with better silence. So Bo...\n",
       "5     Bose QuietComfort Earbuds II are a sleek, vers...\n",
       "6     ACTIVE NOISE CANCELLATION: Reduce unwanted noi...\n",
       "7     Jabra Elite 7 Pro True Wireless EarbudsThe wor...\n",
       "8     The TF8's stay in place during your most inten...\n",
       "9     Meet Google Pixel Buds Pro, the noise-cancelin...\n",
       "10    With best-in-class audio, next generation Adap...\n",
       "11    LINK BUDS, TRUE WIRELESS, OPEN-RING DESIGN, AL...\n",
       "12    Automate your audio experience with ultralight...\n",
       "13    Sony WF-1000XM5 The Best Truly Wireless Blueto...\n",
       "14    TRUE WIRELESS EARBUDS, NOISE-CANCELING, ALEXA ...\n",
       "15                                                 None\n",
       "Name: description, dtype: object"
      ]
     },
     "execution_count": 16,
     "metadata": {},
     "output_type": "execute_result"
    }
   ],
   "source": [
    "prod_descriptions['description']"
   ]
  },
  {
   "cell_type": "code",
   "execution_count": 31,
   "id": "457b0a3f-f558-494f-81b9-01e5915a9238",
   "metadata": {
    "tags": []
   },
   "outputs": [],
   "source": [
    "prod_descriptions = prod_descriptions[prod_descriptions['headphoneName'] != 'AirPods 3']\n",
    "features = prod_descriptions['features'].apply(ast.literal_eval)"
   ]
  },
  {
   "cell_type": "code",
   "execution_count": 32,
   "id": "de9dc735-e669-46a8-9728-3ad30eeb06ab",
   "metadata": {},
   "outputs": [
    {
     "data": {
      "text/plain": [
       "['New Audio Evolution, Ultimate Music Enjoy :With LDAC technology, Consist of 10mm dynamic driver and a balanced armature, 1MORE EVO creates a new evolution in it’s wireless earbuds project. This unique acoustic cavity design can provide pure studio sound with incredible clarity, punchy bass, crispy vocals, unrivaled details and a wide soundstage which are excellent even at low volumes. And the integration of SoundID technology allows you to customize your music style.',\n",
       " 'Multiple ANC Modes and Transparency Modes:While there is different kinds of scenarios when you use earphones, so 1MORE EVO supplies 4 active noise cancelling modes and 2 transparency modes in 1MORE MUSIC APP. To improve immersive enjoyment, 1MORE’s proprietary QuietMax active noise cancellation technology providing up to 42dB noise cancellation depth.',\n",
       " 'Intelligently ANC Mode Adapted to Your Surroundings: When Adaptive ANC is on, the 1MORE EVO recognizes the ambient sounds intelligently, then switches the noise cancellation mode accordingly for a suitable hearing experience. No need for manual adjustment, free your hands.',\n",
       " \"Adjustable EQ Modes: Equilizer and 12 studio-grade EQ presets in 1MORE MUSIC APP can supply a immersive listening. And please update the earbuds' firmware to the latest version before using it at the first time.\",\n",
       " 'Crystal Clear Calls by 6 Built-in Mics ENC Voice System: Triple microphones array with an intelligent deep neural network algorithm detects and removes background noise, making human voices stand out to deliver a unrivaled speech clarity. Bluetooth 5.2 provides you truly wireless enjoyment with seamless connection and lower consumption.']"
      ]
     },
     "execution_count": 32,
     "metadata": {},
     "output_type": "execute_result"
    }
   ],
   "source": [
    "features[0]"
   ]
  },
  {
   "cell_type": "code",
   "execution_count": 11,
   "id": "df06fa9c-00da-433d-b01d-2ddbbf971667",
   "metadata": {},
   "outputs": [],
   "source": [
    "headphones_fact_table = dataframes_dict['headphones_fact_table']"
   ]
  },
  {
   "cell_type": "code",
   "execution_count": 12,
   "id": "b96cdfad-20a5-409e-a0b0-15c7f04d00af",
   "metadata": {
    "tags": []
   },
   "outputs": [
    {
     "data": {
      "text/html": [
       "<div>\n",
       "<style scoped>\n",
       "    .dataframe tbody tr th:only-of-type {\n",
       "        vertical-align: middle;\n",
       "    }\n",
       "\n",
       "    .dataframe tbody tr th {\n",
       "        vertical-align: top;\n",
       "    }\n",
       "\n",
       "    .dataframe thead th {\n",
       "        text-align: right;\n",
       "    }\n",
       "</style>\n",
       "<table border=\"1\" class=\"dataframe\">\n",
       "  <thead>\n",
       "    <tr style=\"text-align: right;\">\n",
       "      <th></th>\n",
       "      <th>primaryKey</th>\n",
       "      <th>region</th>\n",
       "      <th>ratingScore</th>\n",
       "      <th>priceValue</th>\n",
       "      <th>priceCurrency</th>\n",
       "      <th>listPriceValue</th>\n",
       "      <th>listPriceCurrency</th>\n",
       "      <th>headphoneName</th>\n",
       "      <th>batteryLabel</th>\n",
       "      <th>batteryScore</th>\n",
       "      <th>comfortLabel</th>\n",
       "      <th>comfortScore</th>\n",
       "      <th>noisecancellationLabel</th>\n",
       "      <th>noisecancellationScore</th>\n",
       "      <th>soundqualityLabel</th>\n",
       "      <th>soundqualityScore</th>\n",
       "    </tr>\n",
       "  </thead>\n",
       "  <tbody>\n",
       "    <tr>\n",
       "      <th>0</th>\n",
       "      <td>1</td>\n",
       "      <td>US</td>\n",
       "      <td>1.0</td>\n",
       "      <td>164.970001</td>\n",
       "      <td>USD</td>\n",
       "      <td>NaN</td>\n",
       "      <td>USD</td>\n",
       "      <td>sony xm4 earbuds</td>\n",
       "      <td>Negative</td>\n",
       "      <td>0.894016</td>\n",
       "      <td>Negative</td>\n",
       "      <td>0.886814</td>\n",
       "      <td>None</td>\n",
       "      <td>0.000000</td>\n",
       "      <td>None</td>\n",
       "      <td>0.000000</td>\n",
       "    </tr>\n",
       "    <tr>\n",
       "      <th>1</th>\n",
       "      <td>2</td>\n",
       "      <td>US</td>\n",
       "      <td>1.0</td>\n",
       "      <td>164.970001</td>\n",
       "      <td>USD</td>\n",
       "      <td>NaN</td>\n",
       "      <td>USD</td>\n",
       "      <td>sony xm4 earbuds</td>\n",
       "      <td>Positive</td>\n",
       "      <td>0.908510</td>\n",
       "      <td>Positive</td>\n",
       "      <td>0.916273</td>\n",
       "      <td>None</td>\n",
       "      <td>0.000000</td>\n",
       "      <td>Positive</td>\n",
       "      <td>0.908909</td>\n",
       "    </tr>\n",
       "    <tr>\n",
       "      <th>2</th>\n",
       "      <td>3</td>\n",
       "      <td>US</td>\n",
       "      <td>1.0</td>\n",
       "      <td>164.970001</td>\n",
       "      <td>USD</td>\n",
       "      <td>NaN</td>\n",
       "      <td>USD</td>\n",
       "      <td>sony xm4 earbuds</td>\n",
       "      <td>Negative</td>\n",
       "      <td>0.499079</td>\n",
       "      <td>None</td>\n",
       "      <td>0.000000</td>\n",
       "      <td>Negative</td>\n",
       "      <td>0.517302</td>\n",
       "      <td>None</td>\n",
       "      <td>0.000000</td>\n",
       "    </tr>\n",
       "    <tr>\n",
       "      <th>3</th>\n",
       "      <td>4</td>\n",
       "      <td>US</td>\n",
       "      <td>1.0</td>\n",
       "      <td>164.970001</td>\n",
       "      <td>USD</td>\n",
       "      <td>NaN</td>\n",
       "      <td>USD</td>\n",
       "      <td>sony xm4 earbuds</td>\n",
       "      <td>Negative</td>\n",
       "      <td>0.867483</td>\n",
       "      <td>None</td>\n",
       "      <td>0.000000</td>\n",
       "      <td>Negative</td>\n",
       "      <td>0.843609</td>\n",
       "      <td>None</td>\n",
       "      <td>0.000000</td>\n",
       "    </tr>\n",
       "    <tr>\n",
       "      <th>4</th>\n",
       "      <td>5</td>\n",
       "      <td>US</td>\n",
       "      <td>1.0</td>\n",
       "      <td>164.970001</td>\n",
       "      <td>USD</td>\n",
       "      <td>NaN</td>\n",
       "      <td>USD</td>\n",
       "      <td>sony xm4 earbuds</td>\n",
       "      <td>Negative</td>\n",
       "      <td>0.885287</td>\n",
       "      <td>None</td>\n",
       "      <td>0.000000</td>\n",
       "      <td>Negative</td>\n",
       "      <td>0.832005</td>\n",
       "      <td>Negative</td>\n",
       "      <td>0.846645</td>\n",
       "    </tr>\n",
       "  </tbody>\n",
       "</table>\n",
       "</div>"
      ],
      "text/plain": [
       "   primaryKey region  ratingScore  priceValue priceCurrency  listPriceValue  \\\n",
       "0           1     US          1.0  164.970001           USD             NaN   \n",
       "1           2     US          1.0  164.970001           USD             NaN   \n",
       "2           3     US          1.0  164.970001           USD             NaN   \n",
       "3           4     US          1.0  164.970001           USD             NaN   \n",
       "4           5     US          1.0  164.970001           USD             NaN   \n",
       "\n",
       "  listPriceCurrency     headphoneName batteryLabel  batteryScore comfortLabel  \\\n",
       "0               USD  sony xm4 earbuds     Negative      0.894016     Negative   \n",
       "1               USD  sony xm4 earbuds     Positive      0.908510     Positive   \n",
       "2               USD  sony xm4 earbuds     Negative      0.499079         None   \n",
       "3               USD  sony xm4 earbuds     Negative      0.867483         None   \n",
       "4               USD  sony xm4 earbuds     Negative      0.885287         None   \n",
       "\n",
       "   comfortScore noisecancellationLabel  noisecancellationScore  \\\n",
       "0      0.886814                   None                0.000000   \n",
       "1      0.916273                   None                0.000000   \n",
       "2      0.000000               Negative                0.517302   \n",
       "3      0.000000               Negative                0.843609   \n",
       "4      0.000000               Negative                0.832005   \n",
       "\n",
       "  soundqualityLabel  soundqualityScore  \n",
       "0              None           0.000000  \n",
       "1          Positive           0.908909  \n",
       "2              None           0.000000  \n",
       "3              None           0.000000  \n",
       "4          Negative           0.846645  "
      ]
     },
     "execution_count": 12,
     "metadata": {},
     "output_type": "execute_result"
    }
   ],
   "source": [
    "headphones_fact_table.head()"
   ]
  },
  {
   "cell_type": "code",
   "execution_count": 13,
   "id": "a210818d-b6db-496a-8230-371b8cd3a9c0",
   "metadata": {
    "tags": []
   },
   "outputs": [
    {
     "data": {
      "text/plain": [
       "1010"
      ]
     },
     "execution_count": 13,
     "metadata": {},
     "output_type": "execute_result"
    }
   ],
   "source": [
    "headphones_fact_table.shape\n",
    "(headphones_fact_table['batteryScore'] == 0).sum()"
   ]
  },
  {
   "cell_type": "code",
   "execution_count": 30,
   "id": "6ad61515-cc59-450c-bf32-0b3254812306",
   "metadata": {
    "tags": []
   },
   "outputs": [
    {
     "data": {
      "text/plain": [
       "(476, 3)"
      ]
     },
     "execution_count": 30,
     "metadata": {},
     "output_type": "execute_result"
    }
   ],
   "source": [
    "battery_df = headphones_fact_table[['headphoneName', 'batteryLabel', 'batteryScore']].loc[headphones_fact_table['batteryScore'] != 0]\n",
    "battery_df.shape"
   ]
  },
  {
   "cell_type": "code",
   "execution_count": 21,
   "id": "05d4a9f6-0292-4a67-a42d-f03368eb3450",
   "metadata": {
    "tags": []
   },
   "outputs": [
    {
     "data": {
      "text/plain": [
       "(476, 3)"
      ]
     },
     "execution_count": 21,
     "metadata": {},
     "output_type": "execute_result"
    }
   ],
   "source": [
    "battery_df = headphones_fact_table[['headphoneName', 'batteryLabel', 'batteryScore']]\n",
    "battery_df = battery_df[battery_df['batteryScore'] != 0]\n",
    "assert (battery_df['batteryScore'] == 0).sum() == 0\n",
    "battery_df.shape"
   ]
  },
  {
   "cell_type": "code",
   "execution_count": 19,
   "id": "9014f464-037a-429a-8abe-a6dae077d8e9",
   "metadata": {
    "tags": []
   },
   "outputs": [],
   "source": [
    "assert (battery_df['batteryScore'] == 0).sum() == 0, \"There are zero values in the 'batteryScore' column.\""
   ]
  },
  {
   "cell_type": "code",
   "execution_count": 22,
   "id": "31c5b80b-f4f8-4f8f-bd3c-31286698a614",
   "metadata": {
    "tags": []
   },
   "outputs": [],
   "source": [
    "noisecancellation_df = headphones_fact_table[['headphoneName', \n",
    "                                              'noisecancellationLabel', \n",
    "                                              'noisecancellationScore']\n",
    "                                            ].loc[headphones_fact_table['noisecancellationScore'] != 0]"
   ]
  },
  {
   "cell_type": "code",
   "execution_count": 33,
   "id": "1e3cbc8d-2184-4bb4-9ab0-73ce2ded75c4",
   "metadata": {
    "tags": []
   },
   "outputs": [
    {
     "data": {
      "text/html": [
       "<div>\n",
       "<style scoped>\n",
       "    .dataframe tbody tr th:only-of-type {\n",
       "        vertical-align: middle;\n",
       "    }\n",
       "\n",
       "    .dataframe tbody tr th {\n",
       "        vertical-align: top;\n",
       "    }\n",
       "\n",
       "    .dataframe thead th {\n",
       "        text-align: right;\n",
       "    }\n",
       "</style>\n",
       "<table border=\"1\" class=\"dataframe\">\n",
       "  <thead>\n",
       "    <tr style=\"text-align: right;\">\n",
       "      <th></th>\n",
       "      <th>headphoneName</th>\n",
       "      <th>noisecancellationLabel</th>\n",
       "      <th>noisecancellationScore</th>\n",
       "    </tr>\n",
       "  </thead>\n",
       "  <tbody>\n",
       "    <tr>\n",
       "      <th>1252</th>\n",
       "      <td>Soundcore Liberty 3</td>\n",
       "      <td>Neutral</td>\n",
       "      <td>0.941952</td>\n",
       "    </tr>\n",
       "  </tbody>\n",
       "</table>\n",
       "</div>"
      ],
      "text/plain": [
       "            headphoneName noisecancellationLabel  noisecancellationScore\n",
       "1252  Soundcore Liberty 3                Neutral                0.941952"
      ]
     },
     "execution_count": 33,
     "metadata": {},
     "output_type": "execute_result"
    }
   ],
   "source": [
    "noisecancellation_df[noisecancellation_df['noisecancellationLabel'] == 'Neutral']"
   ]
  },
  {
   "cell_type": "code",
   "execution_count": 9,
   "id": "a81c0fdf-9ada-4469-a4d4-1e8b4dd1c75b",
   "metadata": {},
   "outputs": [
    {
     "data": {
      "text/html": [
       "<div>\n",
       "<style scoped>\n",
       "    .dataframe tbody tr th:only-of-type {\n",
       "        vertical-align: middle;\n",
       "    }\n",
       "\n",
       "    .dataframe tbody tr th {\n",
       "        vertical-align: top;\n",
       "    }\n",
       "\n",
       "    .dataframe thead th {\n",
       "        text-align: right;\n",
       "    }\n",
       "</style>\n",
       "<table border=\"1\" class=\"dataframe\">\n",
       "  <thead>\n",
       "    <tr style=\"text-align: right;\">\n",
       "      <th></th>\n",
       "      <th></th>\n",
       "      <th>batteryScore</th>\n",
       "    </tr>\n",
       "    <tr>\n",
       "      <th>headphoneName</th>\n",
       "      <th>batteryLabel</th>\n",
       "      <th></th>\n",
       "    </tr>\n",
       "  </thead>\n",
       "  <tbody>\n",
       "    <tr>\n",
       "      <th rowspan=\"2\" valign=\"top\">1MORE Evo</th>\n",
       "      <th>Negative</th>\n",
       "      <td>0.769466</td>\n",
       "    </tr>\n",
       "    <tr>\n",
       "      <th>Positive</th>\n",
       "      <td>0.865957</td>\n",
       "    </tr>\n",
       "    <tr>\n",
       "      <th rowspan=\"2\" valign=\"top\">AirPods 3</th>\n",
       "      <th>Negative</th>\n",
       "      <td>0.887797</td>\n",
       "    </tr>\n",
       "    <tr>\n",
       "      <th>Positive</th>\n",
       "      <td>0.840079</td>\n",
       "    </tr>\n",
       "    <tr>\n",
       "      <th rowspan=\"2\" valign=\"top\">AirPods Pro 2 Earbuds</th>\n",
       "      <th>Negative</th>\n",
       "      <td>0.838483</td>\n",
       "    </tr>\n",
       "    <tr>\n",
       "      <th>Positive</th>\n",
       "      <td>0.902657</td>\n",
       "    </tr>\n",
       "    <tr>\n",
       "      <th rowspan=\"3\" valign=\"top\">Beats Fit Pro Earbuds</th>\n",
       "      <th>Negative</th>\n",
       "      <td>0.872616</td>\n",
       "    </tr>\n",
       "    <tr>\n",
       "      <th>Neutral</th>\n",
       "      <td>0.371096</td>\n",
       "    </tr>\n",
       "    <tr>\n",
       "      <th>Positive</th>\n",
       "      <td>0.821054</td>\n",
       "    </tr>\n",
       "    <tr>\n",
       "      <th rowspan=\"2\" valign=\"top\">Bose Quietcomfort Earbuds</th>\n",
       "      <th>Negative</th>\n",
       "      <td>0.809765</td>\n",
       "    </tr>\n",
       "    <tr>\n",
       "      <th>Positive</th>\n",
       "      <td>0.790599</td>\n",
       "    </tr>\n",
       "    <tr>\n",
       "      <th rowspan=\"2\" valign=\"top\">Bose Quietcomfort Earbuds 2</th>\n",
       "      <th>Negative</th>\n",
       "      <td>0.792137</td>\n",
       "    </tr>\n",
       "    <tr>\n",
       "      <th>Positive</th>\n",
       "      <td>0.799833</td>\n",
       "    </tr>\n",
       "    <tr>\n",
       "      <th rowspan=\"2\" valign=\"top\">Galaxy Buds2 Pro</th>\n",
       "      <th>Negative</th>\n",
       "      <td>0.897082</td>\n",
       "    </tr>\n",
       "    <tr>\n",
       "      <th>Positive</th>\n",
       "      <td>0.823262</td>\n",
       "    </tr>\n",
       "    <tr>\n",
       "      <th rowspan=\"2\" valign=\"top\">Jabra Elite 7 Pro</th>\n",
       "      <th>Negative</th>\n",
       "      <td>0.804701</td>\n",
       "    </tr>\n",
       "    <tr>\n",
       "      <th>Positive</th>\n",
       "      <td>0.838446</td>\n",
       "    </tr>\n",
       "    <tr>\n",
       "      <th rowspan=\"3\" valign=\"top\">Pixel Buds Pro</th>\n",
       "      <th>Negative</th>\n",
       "      <td>0.786385</td>\n",
       "    </tr>\n",
       "    <tr>\n",
       "      <th>Neutral</th>\n",
       "      <td>0.456170</td>\n",
       "    </tr>\n",
       "    <tr>\n",
       "      <th>Positive</th>\n",
       "      <td>0.839263</td>\n",
       "    </tr>\n",
       "    <tr>\n",
       "      <th rowspan=\"2\" valign=\"top\">Sennheiser MTW3</th>\n",
       "      <th>Negative</th>\n",
       "      <td>0.830954</td>\n",
       "    </tr>\n",
       "    <tr>\n",
       "      <th>Positive</th>\n",
       "      <td>0.727581</td>\n",
       "    </tr>\n",
       "    <tr>\n",
       "      <th rowspan=\"2\" valign=\"top\">Sony Linkbuds S</th>\n",
       "      <th>Negative</th>\n",
       "      <td>0.828472</td>\n",
       "    </tr>\n",
       "    <tr>\n",
       "      <th>Positive</th>\n",
       "      <td>0.762581</td>\n",
       "    </tr>\n",
       "    <tr>\n",
       "      <th rowspan=\"2\" valign=\"top\">Sony Linkbuds original</th>\n",
       "      <th>Negative</th>\n",
       "      <td>0.791140</td>\n",
       "    </tr>\n",
       "    <tr>\n",
       "      <th>Positive</th>\n",
       "      <td>0.751124</td>\n",
       "    </tr>\n",
       "    <tr>\n",
       "      <th rowspan=\"3\" valign=\"top\">Sony WF-1000XM5</th>\n",
       "      <th>Negative</th>\n",
       "      <td>0.828710</td>\n",
       "    </tr>\n",
       "    <tr>\n",
       "      <th>Neutral</th>\n",
       "      <td>0.768681</td>\n",
       "    </tr>\n",
       "    <tr>\n",
       "      <th>Positive</th>\n",
       "      <td>0.863777</td>\n",
       "    </tr>\n",
       "    <tr>\n",
       "      <th rowspan=\"3\" valign=\"top\">Soundcore Liberty 3</th>\n",
       "      <th>Negative</th>\n",
       "      <td>0.853249</td>\n",
       "    </tr>\n",
       "    <tr>\n",
       "      <th>Neutral</th>\n",
       "      <td>0.553545</td>\n",
       "    </tr>\n",
       "    <tr>\n",
       "      <th>Positive</th>\n",
       "      <td>0.830641</td>\n",
       "    </tr>\n",
       "    <tr>\n",
       "      <th rowspan=\"2\" valign=\"top\">lg tone tf8</th>\n",
       "      <th>Negative</th>\n",
       "      <td>0.574770</td>\n",
       "    </tr>\n",
       "    <tr>\n",
       "      <th>Positive</th>\n",
       "      <td>0.932193</td>\n",
       "    </tr>\n",
       "    <tr>\n",
       "      <th rowspan=\"2\" valign=\"top\">sony xm4 earbuds</th>\n",
       "      <th>Negative</th>\n",
       "      <td>0.835615</td>\n",
       "    </tr>\n",
       "    <tr>\n",
       "      <th>Positive</th>\n",
       "      <td>0.793415</td>\n",
       "    </tr>\n",
       "  </tbody>\n",
       "</table>\n",
       "</div>"
      ],
      "text/plain": [
       "                                          batteryScore\n",
       "headphoneName               batteryLabel              \n",
       "1MORE Evo                   Negative          0.769466\n",
       "                            Positive          0.865957\n",
       "AirPods 3                   Negative          0.887797\n",
       "                            Positive          0.840079\n",
       "AirPods Pro 2 Earbuds       Negative          0.838483\n",
       "                            Positive          0.902657\n",
       "Beats Fit Pro Earbuds       Negative          0.872616\n",
       "                            Neutral           0.371096\n",
       "                            Positive          0.821054\n",
       "Bose Quietcomfort Earbuds   Negative          0.809765\n",
       "                            Positive          0.790599\n",
       "Bose Quietcomfort Earbuds 2 Negative          0.792137\n",
       "                            Positive          0.799833\n",
       "Galaxy Buds2 Pro            Negative          0.897082\n",
       "                            Positive          0.823262\n",
       "Jabra Elite 7 Pro           Negative          0.804701\n",
       "                            Positive          0.838446\n",
       "Pixel Buds Pro              Negative          0.786385\n",
       "                            Neutral           0.456170\n",
       "                            Positive          0.839263\n",
       "Sennheiser MTW3             Negative          0.830954\n",
       "                            Positive          0.727581\n",
       "Sony Linkbuds S             Negative          0.828472\n",
       "                            Positive          0.762581\n",
       "Sony Linkbuds original      Negative          0.791140\n",
       "                            Positive          0.751124\n",
       "Sony WF-1000XM5             Negative          0.828710\n",
       "                            Neutral           0.768681\n",
       "                            Positive          0.863777\n",
       "Soundcore Liberty 3         Negative          0.853249\n",
       "                            Neutral           0.553545\n",
       "                            Positive          0.830641\n",
       "lg tone tf8                 Negative          0.574770\n",
       "                            Positive          0.932193\n",
       "sony xm4 earbuds            Negative          0.835615\n",
       "                            Positive          0.793415"
      ]
     },
     "execution_count": 9,
     "metadata": {},
     "output_type": "execute_result"
    }
   ],
   "source": [
    "battery_df[battery_df['headphoneName'] == 'sony xm4 earbuds']\n",
    "battery_df.groupby(['headphoneName', 'batteryLabel']).mean()"
   ]
  },
  {
   "cell_type": "code",
   "execution_count": 16,
   "id": "55661938-6ca8-4908-b6c7-5ee30bebec01",
   "metadata": {
    "tags": []
   },
   "outputs": [
    {
     "data": {
      "text/html": [
       "<div>\n",
       "<style scoped>\n",
       "    .dataframe tbody tr th:only-of-type {\n",
       "        vertical-align: middle;\n",
       "    }\n",
       "\n",
       "    .dataframe tbody tr th {\n",
       "        vertical-align: top;\n",
       "    }\n",
       "\n",
       "    .dataframe thead th {\n",
       "        text-align: right;\n",
       "    }\n",
       "</style>\n",
       "<table border=\"1\" class=\"dataframe\">\n",
       "  <thead>\n",
       "    <tr style=\"text-align: right;\">\n",
       "      <th></th>\n",
       "      <th>batteryLabel</th>\n",
       "      <th>batteryScore</th>\n",
       "    </tr>\n",
       "  </thead>\n",
       "  <tbody>\n",
       "    <tr>\n",
       "      <th>1</th>\n",
       "      <td>Positive</td>\n",
       "      <td>0.908510</td>\n",
       "    </tr>\n",
       "    <tr>\n",
       "      <th>10</th>\n",
       "      <td>Positive</td>\n",
       "      <td>0.958688</td>\n",
       "    </tr>\n",
       "    <tr>\n",
       "      <th>11</th>\n",
       "      <td>Positive</td>\n",
       "      <td>0.799859</td>\n",
       "    </tr>\n",
       "    <tr>\n",
       "      <th>15</th>\n",
       "      <td>Positive</td>\n",
       "      <td>0.982470</td>\n",
       "    </tr>\n",
       "    <tr>\n",
       "      <th>16</th>\n",
       "      <td>Positive</td>\n",
       "      <td>0.929207</td>\n",
       "    </tr>\n",
       "    <tr>\n",
       "      <th>...</th>\n",
       "      <td>...</td>\n",
       "      <td>...</td>\n",
       "    </tr>\n",
       "    <tr>\n",
       "      <th>1452</th>\n",
       "      <td>Positive</td>\n",
       "      <td>0.996748</td>\n",
       "    </tr>\n",
       "    <tr>\n",
       "      <th>1459</th>\n",
       "      <td>Positive</td>\n",
       "      <td>0.807490</td>\n",
       "    </tr>\n",
       "    <tr>\n",
       "      <th>1460</th>\n",
       "      <td>Positive</td>\n",
       "      <td>0.966179</td>\n",
       "    </tr>\n",
       "    <tr>\n",
       "      <th>1470</th>\n",
       "      <td>Positive</td>\n",
       "      <td>0.526243</td>\n",
       "    </tr>\n",
       "    <tr>\n",
       "      <th>1480</th>\n",
       "      <td>Positive</td>\n",
       "      <td>0.879247</td>\n",
       "    </tr>\n",
       "  </tbody>\n",
       "</table>\n",
       "<p>211 rows × 2 columns</p>\n",
       "</div>"
      ],
      "text/plain": [
       "     batteryLabel  batteryScore\n",
       "1        Positive      0.908510\n",
       "10       Positive      0.958688\n",
       "11       Positive      0.799859\n",
       "15       Positive      0.982470\n",
       "16       Positive      0.929207\n",
       "...           ...           ...\n",
       "1452     Positive      0.996748\n",
       "1459     Positive      0.807490\n",
       "1460     Positive      0.966179\n",
       "1470     Positive      0.526243\n",
       "1480     Positive      0.879247\n",
       "\n",
       "[211 rows x 2 columns]"
      ]
     },
     "execution_count": 16,
     "metadata": {},
     "output_type": "execute_result"
    }
   ],
   "source": [
    "battery_df[battery_df['batteryLabel'] == 'Positive']"
   ]
  },
  {
   "cell_type": "code",
   "execution_count": null,
   "id": "80b2267c-1c2f-464b-9496-5e33a4b402f6",
   "metadata": {},
   "outputs": [],
   "source": []
  }
 ],
 "metadata": {
  "kernelspec": {
   "display_name": "Python 3 (ipykernel)",
   "language": "python",
   "name": "python3"
  },
  "language_info": {
   "codemirror_mode": {
    "name": "ipython",
    "version": 3
   },
   "file_extension": ".py",
   "mimetype": "text/x-python",
   "name": "python",
   "nbconvert_exporter": "python",
   "pygments_lexer": "ipython3",
   "version": "3.9.18"
  }
 },
 "nbformat": 4,
 "nbformat_minor": 5
}
