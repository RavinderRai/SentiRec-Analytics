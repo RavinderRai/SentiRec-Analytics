{
 "cells": [
  {
   "cell_type": "markdown",
   "id": "15b342cc-5836-4848-9e6b-db92ee064099",
   "metadata": {},
   "source": [
    "# Dashboard Scratch pad for quick testing\n",
    "\n",
    "Note: the Airpods 3 headphone doesn't have a product description so either try to get it with the free API later or forget about it."
   ]
  },
  {
   "cell_type": "code",
   "execution_count": 2,
   "id": "035f0a80-54b7-4bc5-8218-9a68935b4f19",
   "metadata": {
    "tags": []
   },
   "outputs": [],
   "source": [
    "import pandas as pd\n",
    "from sqlalchemy import create_engine, inspect\n",
    "import ast"
   ]
  },
  {
   "cell_type": "code",
   "execution_count": 7,
   "id": "29cde72d-5fdc-4120-ac80-d3f048d25496",
   "metadata": {
    "tags": []
   },
   "outputs": [],
   "source": [
    "# Connection parameters\n",
    "server = 'RAVI-DESKTOP\\SQLEXPRESS01'\n",
    "database = 'SentiRec_Analytics'\n",
    "username = 'RAVI-DESKTOP\\RaviB'\n",
    "\n",
    "# Connection parameters\n",
    "driver = 'ODBC+Driver+17+for+SQL+Server'  # Adjust the driver name if needed\n",
    "\n",
    "# Create an SQLAlchemy engine\n",
    "engine = create_engine(f\"mssql+pyodbc://{server}/{database}?driver={driver}\")\n",
    "\n",
    "dataframes_dict = {}\n",
    "\n",
    "try:\n",
    "    # Create an inspector to inspect the database and get the tables names\n",
    "    inspector = inspect(engine)\n",
    "    table_names = inspector.get_table_names()\n",
    "\n",
    "    # Load each table into a Pandas DataFrame\n",
    "    for table_name in table_names:\n",
    "        df = pd.read_sql_table(table_name, con=engine)\n",
    "        # Display or process the DataFrame as needed\n",
    "        dataframes_dict[table_name] = df\n",
    "    \n",
    "\n",
    "\n",
    "except pd.errors.DatabaseError as e:\n",
    "    print(\"Error reading from the database:\", e)\n",
    "\n",
    "finally:\n",
    "    # Dispose of the engine\n",
    "    engine.dispose()"
   ]
  },
  {
   "cell_type": "code",
   "execution_count": 9,
   "id": "0cb03306-23b4-4c14-91d6-e87a0835b763",
   "metadata": {
    "tags": []
   },
   "outputs": [],
   "source": [
    "prod_descriptions = dataframes_dict['amazon_product_descriptions']\n",
    "#prod_descriptions.drop(prod_descriptions[prod_descriptions['headphoneName'] == 'AirPods 3'].index)"
   ]
  },
  {
   "cell_type": "code",
   "execution_count": 16,
   "id": "0866c0f1-4f27-4d09-8582-010b08d3f06b",
   "metadata": {
    "tags": []
   },
   "outputs": [
    {
     "data": {
      "text/plain": [
       "0                                                  None\n",
       "1                                                  None\n",
       "2                                                  None\n",
       "3                                                  None\n",
       "4     Better sound begins with better silence. So Bo...\n",
       "5     Bose QuietComfort Earbuds II are a sleek, vers...\n",
       "6     ACTIVE NOISE CANCELLATION: Reduce unwanted noi...\n",
       "7     Jabra Elite 7 Pro True Wireless EarbudsThe wor...\n",
       "8     The TF8's stay in place during your most inten...\n",
       "9     Meet Google Pixel Buds Pro, the noise-cancelin...\n",
       "10    With best-in-class audio, next generation Adap...\n",
       "11    LINK BUDS, TRUE WIRELESS, OPEN-RING DESIGN, AL...\n",
       "12    Automate your audio experience with ultralight...\n",
       "13    Sony WF-1000XM5 The Best Truly Wireless Blueto...\n",
       "14    TRUE WIRELESS EARBUDS, NOISE-CANCELING, ALEXA ...\n",
       "15                                                 None\n",
       "Name: description, dtype: object"
      ]
     },
     "execution_count": 16,
     "metadata": {},
     "output_type": "execute_result"
    }
   ],
   "source": [
    "prod_descriptions['description']"
   ]
  },
  {
   "cell_type": "code",
   "execution_count": 31,
   "id": "457b0a3f-f558-494f-81b9-01e5915a9238",
   "metadata": {
    "tags": []
   },
   "outputs": [],
   "source": [
    "prod_descriptions = prod_descriptions[prod_descriptions['headphoneName'] != 'AirPods 3']\n",
    "features = prod_descriptions['features'].apply(ast.literal_eval)"
   ]
  },
  {
   "cell_type": "code",
   "execution_count": 32,
   "id": "de9dc735-e669-46a8-9728-3ad30eeb06ab",
   "metadata": {},
   "outputs": [
    {
     "data": {
      "text/plain": [
       "['New Audio Evolution, Ultimate Music Enjoy :With LDAC technology, Consist of 10mm dynamic driver and a balanced armature, 1MORE EVO creates a new evolution in it’s wireless earbuds project. This unique acoustic cavity design can provide pure studio sound with incredible clarity, punchy bass, crispy vocals, unrivaled details and a wide soundstage which are excellent even at low volumes. And the integration of SoundID technology allows you to customize your music style.',\n",
       " 'Multiple ANC Modes and Transparency Modes:While there is different kinds of scenarios when you use earphones, so 1MORE EVO supplies 4 active noise cancelling modes and 2 transparency modes in 1MORE MUSIC APP. To improve immersive enjoyment, 1MORE’s proprietary QuietMax active noise cancellation technology providing up to 42dB noise cancellation depth.',\n",
       " 'Intelligently ANC Mode Adapted to Your Surroundings: When Adaptive ANC is on, the 1MORE EVO recognizes the ambient sounds intelligently, then switches the noise cancellation mode accordingly for a suitable hearing experience. No need for manual adjustment, free your hands.',\n",
       " \"Adjustable EQ Modes: Equilizer and 12 studio-grade EQ presets in 1MORE MUSIC APP can supply a immersive listening. And please update the earbuds' firmware to the latest version before using it at the first time.\",\n",
       " 'Crystal Clear Calls by 6 Built-in Mics ENC Voice System: Triple microphones array with an intelligent deep neural network algorithm detects and removes background noise, making human voices stand out to deliver a unrivaled speech clarity. Bluetooth 5.2 provides you truly wireless enjoyment with seamless connection and lower consumption.']"
      ]
     },
     "execution_count": 32,
     "metadata": {},
     "output_type": "execute_result"
    }
   ],
   "source": [
    "features[0]"
   ]
  },
  {
   "cell_type": "code",
   "execution_count": null,
   "id": "df06fa9c-00da-433d-b01d-2ddbbf971667",
   "metadata": {},
   "outputs": [],
   "source": []
  }
 ],
 "metadata": {
  "kernelspec": {
   "display_name": "Python 3 (ipykernel)",
   "language": "python",
   "name": "python3"
  },
  "language_info": {
   "codemirror_mode": {
    "name": "ipython",
    "version": 3
   },
   "file_extension": ".py",
   "mimetype": "text/x-python",
   "name": "python",
   "nbconvert_exporter": "python",
   "pygments_lexer": "ipython3",
   "version": "3.9.18"
  }
 },
 "nbformat": 4,
 "nbformat_minor": 5
}
