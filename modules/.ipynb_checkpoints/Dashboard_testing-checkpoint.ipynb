{
 "cells": [
  {
   "cell_type": "markdown",
   "id": "15b342cc-5836-4848-9e6b-db92ee064099",
   "metadata": {},
   "source": [
    "# Dashboard Scratch pad for quick testing\n",
    "\n",
    "Note: the Airpods 3 headphone doesn't have a product description so either try to get it with the free API later or forget about it."
   ]
  },
  {
   "cell_type": "code",
   "execution_count": 1,
   "id": "035f0a80-54b7-4bc5-8218-9a68935b4f19",
   "metadata": {
    "tags": []
   },
   "outputs": [],
   "source": [
    "import pandas as pd\n",
    "from sqlalchemy import create_engine, inspect\n",
    "import ast"
   ]
  },
  {
   "cell_type": "code",
   "execution_count": 2,
   "id": "29cde72d-5fdc-4120-ac80-d3f048d25496",
   "metadata": {
    "tags": []
   },
   "outputs": [],
   "source": [
    "# Connection parameters\n",
    "server = 'RAVI-DESKTOP\\SQLEXPRESS01'\n",
    "database = 'SentiRec_Analytics'\n",
    "username = 'RAVI-DESKTOP\\RaviB'\n",
    "\n",
    "# Connection parameters\n",
    "driver = 'ODBC+Driver+17+for+SQL+Server'  # Adjust the driver name if needed\n",
    "\n",
    "# Create an SQLAlchemy engine\n",
    "engine = create_engine(f\"mssql+pyodbc://{server}/{database}?driver={driver}\")\n",
    "\n",
    "dataframes_dict = {}\n",
    "\n",
    "try:\n",
    "    # Create an inspector to inspect the database and get the tables names\n",
    "    inspector = inspect(engine)\n",
    "    table_names = inspector.get_table_names()\n",
    "\n",
    "    # Load each table into a Pandas DataFrame\n",
    "    for table_name in table_names:\n",
    "        df = pd.read_sql_table(table_name, con=engine)\n",
    "        # Display or process the DataFrame as needed\n",
    "        dataframes_dict[table_name] = df\n",
    "    \n",
    "\n",
    "\n",
    "except pd.errors.DatabaseError as e:\n",
    "    print(\"Error reading from the database:\", e)\n",
    "\n",
    "finally:\n",
    "    # Dispose of the engine\n",
    "    engine.dispose()"
   ]
  },
  {
   "cell_type": "code",
   "execution_count": 3,
   "id": "b16e49f9-a774-4e04-b37d-60737c46034d",
   "metadata": {
    "tags": []
   },
   "outputs": [
    {
     "data": {
      "text/plain": [
       "dict_keys(['amazon_product_descriptions', 'amazon_reviews_dim_table', 'averaged_embeddings', 'headphones_fact_table', 'SoundGuys_Data', 'SoundGuys_Summary_Pairs', 'yt_reviews_gen_summaries'])"
      ]
     },
     "execution_count": 3,
     "metadata": {},
     "output_type": "execute_result"
    }
   ],
   "source": [
    "dataframes_dict.keys()"
   ]
  },
  {
   "cell_type": "code",
   "execution_count": 4,
   "id": "0cb03306-23b4-4c14-91d6-e87a0835b763",
   "metadata": {
    "tags": []
   },
   "outputs": [],
   "source": [
    "prod_descriptions = dataframes_dict['amazon_product_descriptions']\n",
    "#prod_descriptions.drop(prod_descriptions[prod_descriptions['headphoneName'] == 'AirPods 3'].index)"
   ]
  },
  {
   "cell_type": "code",
   "execution_count": 5,
   "id": "d612e691-7f4d-4100-a864-bf4ab7b9ab52",
   "metadata": {
    "tags": []
   },
   "outputs": [
    {
     "data": {
      "text/plain": [
       "Index(['headphoneName', 'URLs', 'title', 'url', 'asin', 'inStock',\n",
       "       'inStockText', 'brand', 'price', 'stars', 'starsBreakdown',\n",
       "       'reviewsCount', 'breadCrumbs', 'thumbnailImage', 'galleryThumbnails',\n",
       "       'highResolutionImages', 'description', 'features', 'attributes',\n",
       "       'productOverview', 'variantAsins', 'variantDetails', 'reviewsLink',\n",
       "       'hasReviews', 'delivery', 'variantAttributes', 'manufacturerAttributes',\n",
       "       'seller', 'bestsellerRanks', 'isAmazonChoice', 'amazonChoiceText',\n",
       "       'locationText', 'loadedCountryCode', 'unNormalizedProductUrl'],\n",
       "      dtype='object')"
      ]
     },
     "execution_count": 5,
     "metadata": {},
     "output_type": "execute_result"
    }
   ],
   "source": [
    "prod_descriptions.columns"
   ]
  },
  {
   "cell_type": "code",
   "execution_count": 6,
   "id": "0866c0f1-4f27-4d09-8582-010b08d3f06b",
   "metadata": {
    "tags": []
   },
   "outputs": [
    {
     "data": {
      "text/plain": [
       "0                                                  None\n",
       "1                                                  None\n",
       "2                                                  None\n",
       "3                                                  None\n",
       "4     Better sound begins with better silence. So Bo...\n",
       "5     Bose QuietComfort Earbuds II are a sleek, vers...\n",
       "6     ACTIVE NOISE CANCELLATION: Reduce unwanted noi...\n",
       "7     Jabra Elite 7 Pro True Wireless EarbudsThe wor...\n",
       "8     The TF8's stay in place during your most inten...\n",
       "9     Meet Google Pixel Buds Pro, the noise-cancelin...\n",
       "10    With best-in-class audio, next generation Adap...\n",
       "11    LINK BUDS, TRUE WIRELESS, OPEN-RING DESIGN, AL...\n",
       "12    Automate your audio experience with ultralight...\n",
       "13    Sony WF-1000XM5 The Best Truly Wireless Blueto...\n",
       "14    TRUE WIRELESS EARBUDS, NOISE-CANCELING, ALEXA ...\n",
       "15                                                 None\n",
       "Name: description, dtype: object"
      ]
     },
     "execution_count": 6,
     "metadata": {},
     "output_type": "execute_result"
    }
   ],
   "source": [
    "prod_descriptions['description']"
   ]
  },
  {
   "cell_type": "code",
   "execution_count": 7,
   "id": "457b0a3f-f558-494f-81b9-01e5915a9238",
   "metadata": {
    "tags": []
   },
   "outputs": [],
   "source": [
    "prod_descriptions = prod_descriptions[prod_descriptions['headphoneName'] != 'AirPods 3']\n",
    "features = prod_descriptions['features'].apply(ast.literal_eval)"
   ]
  },
  {
   "cell_type": "code",
   "execution_count": 23,
   "id": "ef37da74",
   "metadata": {},
   "outputs": [
    {
     "data": {
      "text/plain": [
       "['New Audio Evolution, Ultimate Music Enjoy :With LDAC technology, Consist of 10mm dynamic driver and a balanced armature, 1MORE EVO creates a new evolution in it’s wireless earbuds project. This unique acoustic cavity design can provide pure studio sound with incredible clarity, punchy bass, crispy vocals, unrivaled details and a wide soundstage which are excellent even at low volumes. And the integration of SoundID technology allows you to customize your music style.',\n",
       " 'Multiple ANC Modes and Transparency Modes:While there is different kinds of scenarios when you use earphones, so 1MORE EVO supplies 4 active noise cancelling modes and 2 transparency modes in 1MORE MUSIC APP. To improve immersive enjoyment, 1MORE’s proprietary QuietMax active noise cancellation technology providing up to 42dB noise cancellation depth.',\n",
       " 'Intelligently ANC Mode Adapted to Your Surroundings: When Adaptive ANC is on, the 1MORE EVO recognizes the ambient sounds intelligently, then switches the noise cancellation mode accordingly for a suitable hearing experience. No need for manual adjustment, free your hands.',\n",
       " \"Adjustable EQ Modes: Equilizer and 12 studio-grade EQ presets in 1MORE MUSIC APP can supply a immersive listening. And please update the earbuds' firmware to the latest version before using it at the first time.\",\n",
       " 'Crystal Clear Calls by 6 Built-in Mics ENC Voice System: Triple microphones array with an intelligent deep neural network algorithm detects and removes background noise, making human voices stand out to deliver a unrivaled speech clarity. Bluetooth 5.2 provides you truly wireless enjoyment with seamless connection and lower consumption.']"
      ]
     },
     "execution_count": 23,
     "metadata": {},
     "output_type": "execute_result"
    }
   ],
   "source": [
    "features[0]"
   ]
  },
  {
   "cell_type": "code",
   "execution_count": 19,
   "id": "de9dc735-e669-46a8-9728-3ad30eeb06ab",
   "metadata": {},
   "outputs": [
    {
     "data": {
      "text/plain": [
       "Index(['headphoneName', 'URLs', 'title', 'url', 'asin', 'inStock',\n",
       "       'inStockText', 'brand', 'price', 'stars', 'starsBreakdown',\n",
       "       'reviewsCount', 'breadCrumbs', 'thumbnailImage', 'galleryThumbnails',\n",
       "       'highResolutionImages', 'description', 'features', 'attributes',\n",
       "       'productOverview', 'variantAsins', 'variantDetails', 'reviewsLink',\n",
       "       'hasReviews', 'delivery', 'variantAttributes', 'manufacturerAttributes',\n",
       "       'seller', 'bestsellerRanks', 'isAmazonChoice', 'amazonChoiceText',\n",
       "       'locationText', 'loadedCountryCode', 'unNormalizedProductUrl'],\n",
       "      dtype='object')"
      ]
     },
     "execution_count": 19,
     "metadata": {},
     "output_type": "execute_result"
    }
   ],
   "source": [
    "prod_descriptions.columns"
   ]
  },
  {
   "cell_type": "code",
   "execution_count": 21,
   "id": "2fc96559-b116-4b41-bedb-9d3989cf2a0c",
   "metadata": {
    "tags": []
   },
   "outputs": [
    {
     "data": {
      "text/plain": [
       "'1MORE EVO Noise Cancelling Earbuds, Bluetooth 5.2, Audiophile Headphones with Dual Drivers, Adaptive ANC, HiFi Sound, LDAC, Hi-Res Audio Wireless, 6 Mics for Calls, 28H, Wireless Charging, Black'"
      ]
     },
     "execution_count": 21,
     "metadata": {},
     "output_type": "execute_result"
    }
   ],
   "source": [
    "prod_descriptions.iloc[0]['title']"
   ]
  },
  {
   "cell_type": "code",
   "execution_count": 9,
   "id": "df06fa9c-00da-433d-b01d-2ddbbf971667",
   "metadata": {},
   "outputs": [],
   "source": [
    "headphones_fact_table = dataframes_dict['headphones_fact_table']"
   ]
  },
  {
   "cell_type": "code",
   "execution_count": 4,
   "id": "b96cdfad-20a5-409e-a0b0-15c7f04d00af",
   "metadata": {
    "tags": []
   },
   "outputs": [
    {
     "data": {
      "text/html": [
       "<div>\n",
       "<style scoped>\n",
       "    .dataframe tbody tr th:only-of-type {\n",
       "        vertical-align: middle;\n",
       "    }\n",
       "\n",
       "    .dataframe tbody tr th {\n",
       "        vertical-align: top;\n",
       "    }\n",
       "\n",
       "    .dataframe thead th {\n",
       "        text-align: right;\n",
       "    }\n",
       "</style>\n",
       "<table border=\"1\" class=\"dataframe\">\n",
       "  <thead>\n",
       "    <tr style=\"text-align: right;\">\n",
       "      <th></th>\n",
       "      <th>primaryKey</th>\n",
       "      <th>region</th>\n",
       "      <th>ratingScore</th>\n",
       "      <th>priceValue</th>\n",
       "      <th>priceCurrency</th>\n",
       "      <th>listPriceValue</th>\n",
       "      <th>listPriceCurrency</th>\n",
       "      <th>headphoneName</th>\n",
       "      <th>batteryLabel</th>\n",
       "      <th>batteryScore</th>\n",
       "      <th>comfortLabel</th>\n",
       "      <th>comfortScore</th>\n",
       "      <th>noisecancellationLabel</th>\n",
       "      <th>noisecancellationScore</th>\n",
       "      <th>soundqualityLabel</th>\n",
       "      <th>soundqualityScore</th>\n",
       "    </tr>\n",
       "  </thead>\n",
       "  <tbody>\n",
       "    <tr>\n",
       "      <th>0</th>\n",
       "      <td>1</td>\n",
       "      <td>US</td>\n",
       "      <td>1.0</td>\n",
       "      <td>164.970001</td>\n",
       "      <td>USD</td>\n",
       "      <td>NaN</td>\n",
       "      <td>USD</td>\n",
       "      <td>sony xm4 earbuds</td>\n",
       "      <td>Negative</td>\n",
       "      <td>0.894016</td>\n",
       "      <td>Negative</td>\n",
       "      <td>0.886814</td>\n",
       "      <td>None</td>\n",
       "      <td>0.000000</td>\n",
       "      <td>None</td>\n",
       "      <td>0.000000</td>\n",
       "    </tr>\n",
       "    <tr>\n",
       "      <th>1</th>\n",
       "      <td>2</td>\n",
       "      <td>US</td>\n",
       "      <td>1.0</td>\n",
       "      <td>164.970001</td>\n",
       "      <td>USD</td>\n",
       "      <td>NaN</td>\n",
       "      <td>USD</td>\n",
       "      <td>sony xm4 earbuds</td>\n",
       "      <td>Positive</td>\n",
       "      <td>0.908510</td>\n",
       "      <td>Positive</td>\n",
       "      <td>0.916273</td>\n",
       "      <td>None</td>\n",
       "      <td>0.000000</td>\n",
       "      <td>Positive</td>\n",
       "      <td>0.908909</td>\n",
       "    </tr>\n",
       "    <tr>\n",
       "      <th>2</th>\n",
       "      <td>3</td>\n",
       "      <td>US</td>\n",
       "      <td>1.0</td>\n",
       "      <td>164.970001</td>\n",
       "      <td>USD</td>\n",
       "      <td>NaN</td>\n",
       "      <td>USD</td>\n",
       "      <td>sony xm4 earbuds</td>\n",
       "      <td>Negative</td>\n",
       "      <td>0.499079</td>\n",
       "      <td>None</td>\n",
       "      <td>0.000000</td>\n",
       "      <td>Negative</td>\n",
       "      <td>0.517302</td>\n",
       "      <td>None</td>\n",
       "      <td>0.000000</td>\n",
       "    </tr>\n",
       "    <tr>\n",
       "      <th>3</th>\n",
       "      <td>4</td>\n",
       "      <td>US</td>\n",
       "      <td>1.0</td>\n",
       "      <td>164.970001</td>\n",
       "      <td>USD</td>\n",
       "      <td>NaN</td>\n",
       "      <td>USD</td>\n",
       "      <td>sony xm4 earbuds</td>\n",
       "      <td>Negative</td>\n",
       "      <td>0.867483</td>\n",
       "      <td>None</td>\n",
       "      <td>0.000000</td>\n",
       "      <td>Negative</td>\n",
       "      <td>0.843609</td>\n",
       "      <td>None</td>\n",
       "      <td>0.000000</td>\n",
       "    </tr>\n",
       "    <tr>\n",
       "      <th>4</th>\n",
       "      <td>5</td>\n",
       "      <td>US</td>\n",
       "      <td>1.0</td>\n",
       "      <td>164.970001</td>\n",
       "      <td>USD</td>\n",
       "      <td>NaN</td>\n",
       "      <td>USD</td>\n",
       "      <td>sony xm4 earbuds</td>\n",
       "      <td>Negative</td>\n",
       "      <td>0.885287</td>\n",
       "      <td>None</td>\n",
       "      <td>0.000000</td>\n",
       "      <td>Negative</td>\n",
       "      <td>0.832005</td>\n",
       "      <td>Negative</td>\n",
       "      <td>0.846645</td>\n",
       "    </tr>\n",
       "  </tbody>\n",
       "</table>\n",
       "</div>"
      ],
      "text/plain": [
       "   primaryKey region  ratingScore  priceValue priceCurrency  listPriceValue  \\\n",
       "0           1     US          1.0  164.970001           USD             NaN   \n",
       "1           2     US          1.0  164.970001           USD             NaN   \n",
       "2           3     US          1.0  164.970001           USD             NaN   \n",
       "3           4     US          1.0  164.970001           USD             NaN   \n",
       "4           5     US          1.0  164.970001           USD             NaN   \n",
       "\n",
       "  listPriceCurrency     headphoneName batteryLabel  batteryScore comfortLabel  \\\n",
       "0               USD  sony xm4 earbuds     Negative      0.894016     Negative   \n",
       "1               USD  sony xm4 earbuds     Positive      0.908510     Positive   \n",
       "2               USD  sony xm4 earbuds     Negative      0.499079         None   \n",
       "3               USD  sony xm4 earbuds     Negative      0.867483         None   \n",
       "4               USD  sony xm4 earbuds     Negative      0.885287         None   \n",
       "\n",
       "   comfortScore noisecancellationLabel  noisecancellationScore  \\\n",
       "0      0.886814                   None                0.000000   \n",
       "1      0.916273                   None                0.000000   \n",
       "2      0.000000               Negative                0.517302   \n",
       "3      0.000000               Negative                0.843609   \n",
       "4      0.000000               Negative                0.832005   \n",
       "\n",
       "  soundqualityLabel  soundqualityScore  \n",
       "0              None           0.000000  \n",
       "1          Positive           0.908909  \n",
       "2              None           0.000000  \n",
       "3              None           0.000000  \n",
       "4          Negative           0.846645  "
      ]
     },
     "execution_count": 4,
     "metadata": {},
     "output_type": "execute_result"
    }
   ],
   "source": [
    "headphones_fact_table.head()"
   ]
  },
  {
   "cell_type": "code",
   "execution_count": 13,
   "id": "a210818d-b6db-496a-8230-371b8cd3a9c0",
   "metadata": {
    "tags": []
   },
   "outputs": [
    {
     "data": {
      "text/plain": [
       "1010"
      ]
     },
     "execution_count": 13,
     "metadata": {},
     "output_type": "execute_result"
    }
   ],
   "source": [
    "headphones_fact_table.shape\n",
    "(headphones_fact_table['batteryScore'] == 0).sum()"
   ]
  },
  {
   "cell_type": "code",
   "execution_count": 5,
   "id": "6ad61515-cc59-450c-bf32-0b3254812306",
   "metadata": {
    "tags": []
   },
   "outputs": [
    {
     "data": {
      "text/plain": [
       "(476, 3)"
      ]
     },
     "execution_count": 5,
     "metadata": {},
     "output_type": "execute_result"
    }
   ],
   "source": [
    "battery_df = headphones_fact_table[['headphoneName', 'batteryLabel', 'batteryScore']].loc[headphones_fact_table['batteryScore'] != 0]\n",
    "battery_df.shape"
   ]
  },
  {
   "cell_type": "code",
   "execution_count": 21,
   "id": "05d4a9f6-0292-4a67-a42d-f03368eb3450",
   "metadata": {
    "tags": []
   },
   "outputs": [
    {
     "data": {
      "text/plain": [
       "(476, 3)"
      ]
     },
     "execution_count": 21,
     "metadata": {},
     "output_type": "execute_result"
    }
   ],
   "source": [
    "battery_df = headphones_fact_table[['headphoneName', 'batteryLabel', 'batteryScore']]\n",
    "battery_df = battery_df[battery_df['batteryScore'] != 0]\n",
    "assert (battery_df['batteryScore'] == 0).sum() == 0\n",
    "battery_df.shape"
   ]
  },
  {
   "cell_type": "code",
   "execution_count": 19,
   "id": "9014f464-037a-429a-8abe-a6dae077d8e9",
   "metadata": {
    "tags": []
   },
   "outputs": [],
   "source": [
    "assert (battery_df['batteryScore'] == 0).sum() == 0, \"There are zero values in the 'batteryScore' column.\""
   ]
  },
  {
   "cell_type": "code",
   "execution_count": 22,
   "id": "31c5b80b-f4f8-4f8f-bd3c-31286698a614",
   "metadata": {
    "tags": []
   },
   "outputs": [],
   "source": [
    "noisecancellation_df = headphones_fact_table[['headphoneName', \n",
    "                                              'noisecancellationLabel', \n",
    "                                              'noisecancellationScore']\n",
    "                                            ].loc[headphones_fact_table['noisecancellationScore'] != 0]"
   ]
  },
  {
   "cell_type": "code",
   "execution_count": 33,
   "id": "1e3cbc8d-2184-4bb4-9ab0-73ce2ded75c4",
   "metadata": {
    "tags": []
   },
   "outputs": [
    {
     "data": {
      "text/html": [
       "<div>\n",
       "<style scoped>\n",
       "    .dataframe tbody tr th:only-of-type {\n",
       "        vertical-align: middle;\n",
       "    }\n",
       "\n",
       "    .dataframe tbody tr th {\n",
       "        vertical-align: top;\n",
       "    }\n",
       "\n",
       "    .dataframe thead th {\n",
       "        text-align: right;\n",
       "    }\n",
       "</style>\n",
       "<table border=\"1\" class=\"dataframe\">\n",
       "  <thead>\n",
       "    <tr style=\"text-align: right;\">\n",
       "      <th></th>\n",
       "      <th>headphoneName</th>\n",
       "      <th>noisecancellationLabel</th>\n",
       "      <th>noisecancellationScore</th>\n",
       "    </tr>\n",
       "  </thead>\n",
       "  <tbody>\n",
       "    <tr>\n",
       "      <th>1252</th>\n",
       "      <td>Soundcore Liberty 3</td>\n",
       "      <td>Neutral</td>\n",
       "      <td>0.941952</td>\n",
       "    </tr>\n",
       "  </tbody>\n",
       "</table>\n",
       "</div>"
      ],
      "text/plain": [
       "            headphoneName noisecancellationLabel  noisecancellationScore\n",
       "1252  Soundcore Liberty 3                Neutral                0.941952"
      ]
     },
     "execution_count": 33,
     "metadata": {},
     "output_type": "execute_result"
    }
   ],
   "source": [
    "noisecancellation_df[noisecancellation_df['noisecancellationLabel'] == 'Neutral']"
   ]
  },
  {
   "cell_type": "code",
   "execution_count": 9,
   "id": "a81c0fdf-9ada-4469-a4d4-1e8b4dd1c75b",
   "metadata": {},
   "outputs": [
    {
     "data": {
      "text/html": [
       "<div>\n",
       "<style scoped>\n",
       "    .dataframe tbody tr th:only-of-type {\n",
       "        vertical-align: middle;\n",
       "    }\n",
       "\n",
       "    .dataframe tbody tr th {\n",
       "        vertical-align: top;\n",
       "    }\n",
       "\n",
       "    .dataframe thead th {\n",
       "        text-align: right;\n",
       "    }\n",
       "</style>\n",
       "<table border=\"1\" class=\"dataframe\">\n",
       "  <thead>\n",
       "    <tr style=\"text-align: right;\">\n",
       "      <th></th>\n",
       "      <th></th>\n",
       "      <th>batteryScore</th>\n",
       "    </tr>\n",
       "    <tr>\n",
       "      <th>headphoneName</th>\n",
       "      <th>batteryLabel</th>\n",
       "      <th></th>\n",
       "    </tr>\n",
       "  </thead>\n",
       "  <tbody>\n",
       "    <tr>\n",
       "      <th rowspan=\"2\" valign=\"top\">1MORE Evo</th>\n",
       "      <th>Negative</th>\n",
       "      <td>0.769466</td>\n",
       "    </tr>\n",
       "    <tr>\n",
       "      <th>Positive</th>\n",
       "      <td>0.865957</td>\n",
       "    </tr>\n",
       "    <tr>\n",
       "      <th rowspan=\"2\" valign=\"top\">AirPods 3</th>\n",
       "      <th>Negative</th>\n",
       "      <td>0.887797</td>\n",
       "    </tr>\n",
       "    <tr>\n",
       "      <th>Positive</th>\n",
       "      <td>0.840079</td>\n",
       "    </tr>\n",
       "    <tr>\n",
       "      <th rowspan=\"2\" valign=\"top\">AirPods Pro 2 Earbuds</th>\n",
       "      <th>Negative</th>\n",
       "      <td>0.838483</td>\n",
       "    </tr>\n",
       "    <tr>\n",
       "      <th>Positive</th>\n",
       "      <td>0.902657</td>\n",
       "    </tr>\n",
       "    <tr>\n",
       "      <th rowspan=\"3\" valign=\"top\">Beats Fit Pro Earbuds</th>\n",
       "      <th>Negative</th>\n",
       "      <td>0.872616</td>\n",
       "    </tr>\n",
       "    <tr>\n",
       "      <th>Neutral</th>\n",
       "      <td>0.371096</td>\n",
       "    </tr>\n",
       "    <tr>\n",
       "      <th>Positive</th>\n",
       "      <td>0.821054</td>\n",
       "    </tr>\n",
       "    <tr>\n",
       "      <th rowspan=\"2\" valign=\"top\">Bose Quietcomfort Earbuds</th>\n",
       "      <th>Negative</th>\n",
       "      <td>0.809765</td>\n",
       "    </tr>\n",
       "    <tr>\n",
       "      <th>Positive</th>\n",
       "      <td>0.790599</td>\n",
       "    </tr>\n",
       "    <tr>\n",
       "      <th rowspan=\"2\" valign=\"top\">Bose Quietcomfort Earbuds 2</th>\n",
       "      <th>Negative</th>\n",
       "      <td>0.792137</td>\n",
       "    </tr>\n",
       "    <tr>\n",
       "      <th>Positive</th>\n",
       "      <td>0.799833</td>\n",
       "    </tr>\n",
       "    <tr>\n",
       "      <th rowspan=\"2\" valign=\"top\">Galaxy Buds2 Pro</th>\n",
       "      <th>Negative</th>\n",
       "      <td>0.897082</td>\n",
       "    </tr>\n",
       "    <tr>\n",
       "      <th>Positive</th>\n",
       "      <td>0.823262</td>\n",
       "    </tr>\n",
       "    <tr>\n",
       "      <th rowspan=\"2\" valign=\"top\">Jabra Elite 7 Pro</th>\n",
       "      <th>Negative</th>\n",
       "      <td>0.804701</td>\n",
       "    </tr>\n",
       "    <tr>\n",
       "      <th>Positive</th>\n",
       "      <td>0.838446</td>\n",
       "    </tr>\n",
       "    <tr>\n",
       "      <th rowspan=\"3\" valign=\"top\">Pixel Buds Pro</th>\n",
       "      <th>Negative</th>\n",
       "      <td>0.786385</td>\n",
       "    </tr>\n",
       "    <tr>\n",
       "      <th>Neutral</th>\n",
       "      <td>0.456170</td>\n",
       "    </tr>\n",
       "    <tr>\n",
       "      <th>Positive</th>\n",
       "      <td>0.839263</td>\n",
       "    </tr>\n",
       "    <tr>\n",
       "      <th rowspan=\"2\" valign=\"top\">Sennheiser MTW3</th>\n",
       "      <th>Negative</th>\n",
       "      <td>0.830954</td>\n",
       "    </tr>\n",
       "    <tr>\n",
       "      <th>Positive</th>\n",
       "      <td>0.727581</td>\n",
       "    </tr>\n",
       "    <tr>\n",
       "      <th rowspan=\"2\" valign=\"top\">Sony Linkbuds S</th>\n",
       "      <th>Negative</th>\n",
       "      <td>0.828472</td>\n",
       "    </tr>\n",
       "    <tr>\n",
       "      <th>Positive</th>\n",
       "      <td>0.762581</td>\n",
       "    </tr>\n",
       "    <tr>\n",
       "      <th rowspan=\"2\" valign=\"top\">Sony Linkbuds original</th>\n",
       "      <th>Negative</th>\n",
       "      <td>0.791140</td>\n",
       "    </tr>\n",
       "    <tr>\n",
       "      <th>Positive</th>\n",
       "      <td>0.751124</td>\n",
       "    </tr>\n",
       "    <tr>\n",
       "      <th rowspan=\"3\" valign=\"top\">Sony WF-1000XM5</th>\n",
       "      <th>Negative</th>\n",
       "      <td>0.828710</td>\n",
       "    </tr>\n",
       "    <tr>\n",
       "      <th>Neutral</th>\n",
       "      <td>0.768681</td>\n",
       "    </tr>\n",
       "    <tr>\n",
       "      <th>Positive</th>\n",
       "      <td>0.863777</td>\n",
       "    </tr>\n",
       "    <tr>\n",
       "      <th rowspan=\"3\" valign=\"top\">Soundcore Liberty 3</th>\n",
       "      <th>Negative</th>\n",
       "      <td>0.853249</td>\n",
       "    </tr>\n",
       "    <tr>\n",
       "      <th>Neutral</th>\n",
       "      <td>0.553545</td>\n",
       "    </tr>\n",
       "    <tr>\n",
       "      <th>Positive</th>\n",
       "      <td>0.830641</td>\n",
       "    </tr>\n",
       "    <tr>\n",
       "      <th rowspan=\"2\" valign=\"top\">lg tone tf8</th>\n",
       "      <th>Negative</th>\n",
       "      <td>0.574770</td>\n",
       "    </tr>\n",
       "    <tr>\n",
       "      <th>Positive</th>\n",
       "      <td>0.932193</td>\n",
       "    </tr>\n",
       "    <tr>\n",
       "      <th rowspan=\"2\" valign=\"top\">sony xm4 earbuds</th>\n",
       "      <th>Negative</th>\n",
       "      <td>0.835615</td>\n",
       "    </tr>\n",
       "    <tr>\n",
       "      <th>Positive</th>\n",
       "      <td>0.793415</td>\n",
       "    </tr>\n",
       "  </tbody>\n",
       "</table>\n",
       "</div>"
      ],
      "text/plain": [
       "                                          batteryScore\n",
       "headphoneName               batteryLabel              \n",
       "1MORE Evo                   Negative          0.769466\n",
       "                            Positive          0.865957\n",
       "AirPods 3                   Negative          0.887797\n",
       "                            Positive          0.840079\n",
       "AirPods Pro 2 Earbuds       Negative          0.838483\n",
       "                            Positive          0.902657\n",
       "Beats Fit Pro Earbuds       Negative          0.872616\n",
       "                            Neutral           0.371096\n",
       "                            Positive          0.821054\n",
       "Bose Quietcomfort Earbuds   Negative          0.809765\n",
       "                            Positive          0.790599\n",
       "Bose Quietcomfort Earbuds 2 Negative          0.792137\n",
       "                            Positive          0.799833\n",
       "Galaxy Buds2 Pro            Negative          0.897082\n",
       "                            Positive          0.823262\n",
       "Jabra Elite 7 Pro           Negative          0.804701\n",
       "                            Positive          0.838446\n",
       "Pixel Buds Pro              Negative          0.786385\n",
       "                            Neutral           0.456170\n",
       "                            Positive          0.839263\n",
       "Sennheiser MTW3             Negative          0.830954\n",
       "                            Positive          0.727581\n",
       "Sony Linkbuds S             Negative          0.828472\n",
       "                            Positive          0.762581\n",
       "Sony Linkbuds original      Negative          0.791140\n",
       "                            Positive          0.751124\n",
       "Sony WF-1000XM5             Negative          0.828710\n",
       "                            Neutral           0.768681\n",
       "                            Positive          0.863777\n",
       "Soundcore Liberty 3         Negative          0.853249\n",
       "                            Neutral           0.553545\n",
       "                            Positive          0.830641\n",
       "lg tone tf8                 Negative          0.574770\n",
       "                            Positive          0.932193\n",
       "sony xm4 earbuds            Negative          0.835615\n",
       "                            Positive          0.793415"
      ]
     },
     "execution_count": 9,
     "metadata": {},
     "output_type": "execute_result"
    }
   ],
   "source": [
    "battery_df[battery_df['headphoneName'] == 'sony xm4 earbuds']\n",
    "battery_df.groupby(['headphoneName', 'batteryLabel']).mean()"
   ]
  },
  {
   "cell_type": "code",
   "execution_count": 16,
   "id": "55661938-6ca8-4908-b6c7-5ee30bebec01",
   "metadata": {
    "tags": []
   },
   "outputs": [
    {
     "data": {
      "text/html": [
       "<div>\n",
       "<style scoped>\n",
       "    .dataframe tbody tr th:only-of-type {\n",
       "        vertical-align: middle;\n",
       "    }\n",
       "\n",
       "    .dataframe tbody tr th {\n",
       "        vertical-align: top;\n",
       "    }\n",
       "\n",
       "    .dataframe thead th {\n",
       "        text-align: right;\n",
       "    }\n",
       "</style>\n",
       "<table border=\"1\" class=\"dataframe\">\n",
       "  <thead>\n",
       "    <tr style=\"text-align: right;\">\n",
       "      <th></th>\n",
       "      <th>batteryLabel</th>\n",
       "      <th>batteryScore</th>\n",
       "    </tr>\n",
       "  </thead>\n",
       "  <tbody>\n",
       "    <tr>\n",
       "      <th>1</th>\n",
       "      <td>Positive</td>\n",
       "      <td>0.908510</td>\n",
       "    </tr>\n",
       "    <tr>\n",
       "      <th>10</th>\n",
       "      <td>Positive</td>\n",
       "      <td>0.958688</td>\n",
       "    </tr>\n",
       "    <tr>\n",
       "      <th>11</th>\n",
       "      <td>Positive</td>\n",
       "      <td>0.799859</td>\n",
       "    </tr>\n",
       "    <tr>\n",
       "      <th>15</th>\n",
       "      <td>Positive</td>\n",
       "      <td>0.982470</td>\n",
       "    </tr>\n",
       "    <tr>\n",
       "      <th>16</th>\n",
       "      <td>Positive</td>\n",
       "      <td>0.929207</td>\n",
       "    </tr>\n",
       "    <tr>\n",
       "      <th>...</th>\n",
       "      <td>...</td>\n",
       "      <td>...</td>\n",
       "    </tr>\n",
       "    <tr>\n",
       "      <th>1452</th>\n",
       "      <td>Positive</td>\n",
       "      <td>0.996748</td>\n",
       "    </tr>\n",
       "    <tr>\n",
       "      <th>1459</th>\n",
       "      <td>Positive</td>\n",
       "      <td>0.807490</td>\n",
       "    </tr>\n",
       "    <tr>\n",
       "      <th>1460</th>\n",
       "      <td>Positive</td>\n",
       "      <td>0.966179</td>\n",
       "    </tr>\n",
       "    <tr>\n",
       "      <th>1470</th>\n",
       "      <td>Positive</td>\n",
       "      <td>0.526243</td>\n",
       "    </tr>\n",
       "    <tr>\n",
       "      <th>1480</th>\n",
       "      <td>Positive</td>\n",
       "      <td>0.879247</td>\n",
       "    </tr>\n",
       "  </tbody>\n",
       "</table>\n",
       "<p>211 rows × 2 columns</p>\n",
       "</div>"
      ],
      "text/plain": [
       "     batteryLabel  batteryScore\n",
       "1        Positive      0.908510\n",
       "10       Positive      0.958688\n",
       "11       Positive      0.799859\n",
       "15       Positive      0.982470\n",
       "16       Positive      0.929207\n",
       "...           ...           ...\n",
       "1452     Positive      0.996748\n",
       "1459     Positive      0.807490\n",
       "1460     Positive      0.966179\n",
       "1470     Positive      0.526243\n",
       "1480     Positive      0.879247\n",
       "\n",
       "[211 rows x 2 columns]"
      ]
     },
     "execution_count": 16,
     "metadata": {},
     "output_type": "execute_result"
    }
   ],
   "source": [
    "battery_df[battery_df['batteryLabel'] == 'Positive']"
   ]
  },
  {
   "cell_type": "code",
   "execution_count": 41,
   "id": "80b2267c-1c2f-464b-9496-5e33a4b402f6",
   "metadata": {},
   "outputs": [],
   "source": [
    "filtered_df = battery_df[battery_df['headphoneName'] == '1MORE Evo']"
   ]
  },
  {
   "cell_type": "code",
   "execution_count": 46,
   "id": "50d01e0b-d515-4e45-97be-fea0b14bfeab",
   "metadata": {
    "tags": []
   },
   "outputs": [
    {
     "data": {
      "image/png": "[encoded data removed]",
      "text/plain": [
       "<Figure size 640x480 with 1 Axes>"
      ]
     },
     "metadata": {},
     "output_type": "display_data"
    }
   ],
   "source": [
    "import seaborn as sns\n",
    "selected_aspect = 'battery'\n",
    "scatter_data = filtered_df[filtered_df[f'{selected_aspect}Label'] == 'Positive']\n",
    "sns_kde = sns.kdeplot(scatter_data[f'{selected_aspect}Score'], color='blue', fill=True, common_norm=False, legend=False)"
   ]
  },
  {
   "cell_type": "code",
   "execution_count": 36,
   "id": "b3583a3f-2036-45da-bf6a-1bc24e7a106d",
   "metadata": {
    "tags": []
   },
   "outputs": [
    {
     "data": {
      "text/plain": [
       "array([0.32941633, 0.33394577, 0.33847521, 0.34300465, 0.34753409,\n",
       "       0.35206352, 0.35659296, 0.3611224 , 0.36565184, 0.37018128,\n",
       "       0.37471072, 0.37924016, 0.3837696 , 0.38829904, 0.39282848,\n",
       "       0.39735792, 0.40188736, 0.4064168 , 0.41094624, 0.41547568,\n",
       "       0.42000512, 0.42453456, 0.42906399, 0.43359343, 0.43812287,\n",
       "       0.44265231, 0.44718175, 0.45171119, 0.45624063, 0.46077007,\n",
       "       0.46529951, 0.46982895, 0.47435839, 0.47888783, 0.48341727,\n",
       "       0.48794671, 0.49247615, 0.49700559, 0.50153502, 0.50606446,\n",
       "       0.5105939 , 0.51512334, 0.51965278, 0.52418222, 0.52871166,\n",
       "       0.5332411 , 0.53777054, 0.54229998, 0.54682942, 0.55135886,\n",
       "       0.5558883 , 0.56041774, 0.56494718, 0.56947662, 0.57400606,\n",
       "       0.57853549, 0.58306493, 0.58759437, 0.59212381, 0.59665325,\n",
       "       0.60118269, 0.60571213, 0.61024157, 0.61477101, 0.61930045,\n",
       "       0.62382989, 0.62835933, 0.63288877, 0.63741821, 0.64194765,\n",
       "       0.64647709, 0.65100652, 0.65553596, 0.6600654 , 0.66459484,\n",
       "       0.66912428, 0.67365372, 0.67818316, 0.6827126 , 0.68724204,\n",
       "       0.69177148, 0.69630092, 0.70083036, 0.7053598 , 0.70988924,\n",
       "       0.71441868, 0.71894812, 0.72347756, 0.72800699, 0.73253643,\n",
       "       0.73706587, 0.74159531, 0.74612475, 0.75065419, 0.75518363,\n",
       "       0.75971307, 0.76424251, 0.76877195, 0.77330139, 0.77783083,\n",
       "       0.78236027, 0.78688971, 0.79141915, 0.79594859, 0.80047802,\n",
       "       0.80500746, 0.8095369 , 0.81406634, 0.81859578, 0.82312522,\n",
       "       0.82765466, 0.8321841 , 0.83671354, 0.84124298, 0.84577242,\n",
       "       0.85030186, 0.8548313 , 0.85936074, 0.86389018, 0.86841962,\n",
       "       0.87294905, 0.87747849, 0.88200793, 0.88653737, 0.89106681,\n",
       "       0.89559625, 0.90012569, 0.90465513, 0.90918457, 0.91371401,\n",
       "       0.91824345, 0.92277289, 0.92730233, 0.93183177, 0.93636121,\n",
       "       0.94089065, 0.94542009, 0.94994952, 0.95447896, 0.9590084 ,\n",
       "       0.96353784, 0.96806728, 0.97259672, 0.97712616, 0.9816556 ,\n",
       "       0.98618504, 0.99071448, 0.99524392, 0.99977336, 1.0043028 ,\n",
       "       1.00883224, 1.01336168, 1.01789112, 1.02242055, 1.02694999,\n",
       "       1.03147943, 1.03600887, 1.04053831, 1.04506775, 1.04959719,\n",
       "       1.05412663, 1.05865607, 1.06318551, 1.06771495, 1.07224439,\n",
       "       1.07677383, 1.08130327, 1.08583271, 1.09036215, 1.09489159,\n",
       "       1.09942102, 1.10395046, 1.1084799 , 1.11300934, 1.11753878,\n",
       "       1.12206822, 1.12659766, 1.1311271 , 1.13565654, 1.14018598,\n",
       "       1.14471542, 1.14924486, 1.1537743 , 1.15830374, 1.16283318,\n",
       "       1.16736262, 1.17189205, 1.17642149, 1.18095093, 1.18548037,\n",
       "       1.19000981, 1.19453925, 1.19906869, 1.20359813, 1.20812757,\n",
       "       1.21265701, 1.21718645, 1.22171589, 1.22624533, 1.23077477])"
      ]
     },
     "execution_count": 36,
     "metadata": {},
     "output_type": "execute_result"
    },
    {
     "data": {
      "image/png": "[encoded data removed]",
      "text/plain": [
       "<Figure size 640x480 with 1 Axes>"
      ]
     },
     "metadata": {},
     "output_type": "display_data"
    }
   ],
   "source": [
    "my_kde = kdeplot(scatter_data[f'{selected_aspect}Score'], fill=True, common_norm=False, legend=False)\n",
    "my_kde.get_lines()[0].get_xdata()"
   ]
  },
  {
   "cell_type": "code",
   "execution_count": 15,
   "id": "577625d7-8f3c-4ac6-994a-f99e20e7bfde",
   "metadata": {
    "tags": []
   },
   "outputs": [
    {
     "ename": "IndexError",
     "evalue": "list index out of range",
     "output_type": "error",
     "traceback": [
      "\u001b[1;31m---------------------------------------------------------------------------\u001b[0m",
      "\u001b[1;31mIndexError\u001b[0m                                Traceback (most recent call last)",
      "Cell \u001b[1;32mIn[15], line 6\u001b[0m\n\u001b[0;32m      1\u001b[0m \u001b[38;5;28;01mimport\u001b[39;00m \u001b[38;5;21;01mplotly\u001b[39;00m\u001b[38;5;21;01m.\u001b[39;00m\u001b[38;5;21;01mgraph_objects\u001b[39;00m \u001b[38;5;28;01mas\u001b[39;00m \u001b[38;5;21;01mgo\u001b[39;00m\n\u001b[0;32m      3\u001b[0m fig \u001b[38;5;241m=\u001b[39m go\u001b[38;5;241m.\u001b[39mFigure()\n\u001b[0;32m      5\u001b[0m fig\u001b[38;5;241m.\u001b[39madd_trace(go\u001b[38;5;241m.\u001b[39mScatter(\n\u001b[1;32m----> 6\u001b[0m             x\u001b[38;5;241m=\u001b[39m\u001b[43msns_kde\u001b[49m\u001b[38;5;241;43m.\u001b[39;49m\u001b[43mget_lines\u001b[49m\u001b[43m(\u001b[49m\u001b[43m)\u001b[49m\u001b[43m[\u001b[49m\u001b[38;5;241;43m0\u001b[39;49m\u001b[43m]\u001b[49m\u001b[38;5;241m.\u001b[39mget_xdata(),\n\u001b[0;32m      7\u001b[0m             \u001b[38;5;66;03m#x=scatter_data[f'{selected_aspect}Score'],\u001b[39;00m\n\u001b[0;32m      8\u001b[0m             y\u001b[38;5;241m=\u001b[39msns_kde\u001b[38;5;241m.\u001b[39mget_lines()[\u001b[38;5;241m0\u001b[39m]\u001b[38;5;241m.\u001b[39mget_ydata(),\n\u001b[0;32m      9\u001b[0m             mode\u001b[38;5;241m=\u001b[39m\u001b[38;5;124m'\u001b[39m\u001b[38;5;124mlines\u001b[39m\u001b[38;5;124m'\u001b[39m,\n\u001b[0;32m     10\u001b[0m             name\u001b[38;5;241m=\u001b[39msentiment_label,\n\u001b[0;32m     11\u001b[0m             line\u001b[38;5;241m=\u001b[39m\u001b[38;5;28mdict\u001b[39m(color\u001b[38;5;241m=\u001b[39mcolor, width\u001b[38;5;241m=\u001b[39m\u001b[38;5;241m2\u001b[39m),\n\u001b[0;32m     12\u001b[0m             opacity\u001b[38;5;241m=\u001b[39m\u001b[38;5;241m0.7\u001b[39m\n\u001b[0;32m     13\u001b[0m         ))\n",
      "\u001b[1;31mIndexError\u001b[0m: list index out of range"
     ]
    }
   ],
   "source": [
    "import plotly.graph_objects as go\n",
    "\n",
    "fig = go.Figure()\n",
    "\n",
    "fig.add_trace(go.Scatter(\n",
    "            x=sns_kde.get_lines()[0].get_xdata(),\n",
    "            #x=scatter_data[f'{selected_aspect}Score'],\n",
    "            y=sns_kde.get_lines()[0].get_ydata(),\n",
    "            mode='lines',\n",
    "            name=sentiment_label,\n",
    "            line=dict(color=color, width=2),\n",
    "            opacity=0.7\n",
    "        ))"
   ]
  },
  {
   "cell_type": "markdown",
   "id": "eb6e0455-1061-4158-9a85-8d2b72a3b128",
   "metadata": {},
   "source": [
    "### Exploring Headphone Images"
   ]
  },
  {
   "cell_type": "code",
   "execution_count": 22,
   "id": "a3370b44-f276-4841-88b9-d90a428425c5",
   "metadata": {
    "tags": []
   },
   "outputs": [
    {
     "name": "stderr",
     "output_type": "stream",
     "text": [
      "C:\\Users\\RaviB\\anaconda3\\envs\\HeadphoneFinder\\lib\\site-packages\\paramiko\\transport.py:219: CryptographyDeprecationWarning: Blowfish has been deprecated\n",
      "  \"class\": algorithms.Blowfish,\n"
     ]
    }
   ],
   "source": [
    "from PIL import Image\n",
    "import ast\n",
    "import requests\n",
    "from io import BytesIO\n",
    "from IPython.display import Image, display \n",
    "from rembg import remove "
   ]
  },
  {
   "cell_type": "code",
   "execution_count": 44,
   "id": "8687dda7-f756-4d47-ad3e-7f201f5699dd",
   "metadata": {
    "tags": []
   },
   "outputs": [
    {
     "data": {
      "text/html": [
       "<div>\n",
       "<style scoped>\n",
       "    .dataframe tbody tr th:only-of-type {\n",
       "        vertical-align: middle;\n",
       "    }\n",
       "\n",
       "    .dataframe tbody tr th {\n",
       "        vertical-align: top;\n",
       "    }\n",
       "\n",
       "    .dataframe thead th {\n",
       "        text-align: right;\n",
       "    }\n",
       "</style>\n",
       "<table border=\"1\" class=\"dataframe\">\n",
       "  <thead>\n",
       "    <tr style=\"text-align: right;\">\n",
       "      <th></th>\n",
       "      <th>headphoneName</th>\n",
       "      <th>URLs</th>\n",
       "      <th>title</th>\n",
       "      <th>url</th>\n",
       "      <th>asin</th>\n",
       "      <th>inStock</th>\n",
       "      <th>inStockText</th>\n",
       "      <th>brand</th>\n",
       "      <th>price</th>\n",
       "      <th>stars</th>\n",
       "      <th>...</th>\n",
       "      <th>delivery</th>\n",
       "      <th>variantAttributes</th>\n",
       "      <th>manufacturerAttributes</th>\n",
       "      <th>seller</th>\n",
       "      <th>bestsellerRanks</th>\n",
       "      <th>isAmazonChoice</th>\n",
       "      <th>amazonChoiceText</th>\n",
       "      <th>locationText</th>\n",
       "      <th>loadedCountryCode</th>\n",
       "      <th>unNormalizedProductUrl</th>\n",
       "    </tr>\n",
       "  </thead>\n",
       "  <tbody>\n",
       "    <tr>\n",
       "      <th>2</th>\n",
       "      <td>AirPods Pro 2 Earbuds</td>\n",
       "      <td>https://www.amazon.ca/Apple-AirPods-Generation...</td>\n",
       "      <td>Apple AirPods Pro (2nd Generation) with MagSaf...</td>\n",
       "      <td>https://www.amazon.ca/dp/B0CHWRXH8B</td>\n",
       "      <td>B0CHWRXH8B</td>\n",
       "      <td>True</td>\n",
       "      <td>In Stock  Only 5 left in stock.</td>\n",
       "      <td>Apple</td>\n",
       "      <td>{'value': 269.98, 'currency': '$'}</td>\n",
       "      <td>4.6</td>\n",
       "      <td>...</td>\n",
       "      <td>Thursday, January 4</td>\n",
       "      <td>[{'key': 'Style', 'value': 'USB-C Connector'}]</td>\n",
       "      <td>[]</td>\n",
       "      <td>{'name': 'Amazon.ca', 'id': None, 'url': '/b?n...</td>\n",
       "      <td>None</td>\n",
       "      <td>False</td>\n",
       "      <td>None</td>\n",
       "      <td>Update location</td>\n",
       "      <td>None</td>\n",
       "      <td>https://www.amazon.ca/Apple-AirPods-Generation...</td>\n",
       "    </tr>\n",
       "  </tbody>\n",
       "</table>\n",
       "<p>1 rows × 34 columns</p>\n",
       "</div>"
      ],
      "text/plain": [
       "           headphoneName                                               URLs  \\\n",
       "2  AirPods Pro 2 Earbuds  https://www.amazon.ca/Apple-AirPods-Generation...   \n",
       "\n",
       "                                               title  \\\n",
       "2  Apple AirPods Pro (2nd Generation) with MagSaf...   \n",
       "\n",
       "                                   url        asin inStock  \\\n",
       "2  https://www.amazon.ca/dp/B0CHWRXH8B  B0CHWRXH8B    True   \n",
       "\n",
       "                       inStockText  brand                               price  \\\n",
       "2  In Stock  Only 5 left in stock.  Apple  {'value': 269.98, 'currency': '$'}   \n",
       "\n",
       "   stars  ...             delivery  \\\n",
       "2    4.6  ...  Thursday, January 4   \n",
       "\n",
       "                                variantAttributes manufacturerAttributes  \\\n",
       "2  [{'key': 'Style', 'value': 'USB-C Connector'}]                     []   \n",
       "\n",
       "                                              seller bestsellerRanks  \\\n",
       "2  {'name': 'Amazon.ca', 'id': None, 'url': '/b?n...            None   \n",
       "\n",
       "  isAmazonChoice amazonChoiceText     locationText loadedCountryCode  \\\n",
       "2          False             None  Update location              None   \n",
       "\n",
       "                              unNormalizedProductUrl  \n",
       "2  https://www.amazon.ca/Apple-AirPods-Generation...  \n",
       "\n",
       "[1 rows x 34 columns]"
      ]
     },
     "execution_count": 44,
     "metadata": {},
     "output_type": "execute_result"
    }
   ],
   "source": [
    "selected_row = prod_descriptions[prod_descriptions['headphoneName'] == 'AirPods Pro 2 Earbuds']\n",
    "selected_row"
   ]
  },
  {
   "cell_type": "code",
   "execution_count": 45,
   "id": "8a6999dd-bc22-40e9-ba86-3d8fdfae5459",
   "metadata": {
    "tags": []
   },
   "outputs": [
    {
     "data": {
      "text/plain": [
       "2    ['https://m.media-amazon.com/images/I/61SUj2aK...\n",
       "Name: highResolutionImages, dtype: object"
      ]
     },
     "execution_count": 45,
     "metadata": {},
     "output_type": "execute_result"
    }
   ],
   "source": [
    "selected_row['highResolutionImages']"
   ]
  },
  {
   "cell_type": "code",
   "execution_count": 46,
   "id": "987fc9f4-1475-4ad6-8945-d5cd5110d992",
   "metadata": {
    "tags": []
   },
   "outputs": [
    {
     "data": {
      "text/plain": [
       "['https://m.media-amazon.com/images/I/61SUj2aKoEL._AC_SL1500_.jpg',\n",
       " 'https://m.media-amazon.com/images/I/61sRKTAfrhL._AC_SL1500_.jpg',\n",
       " 'https://m.media-amazon.com/images/I/51emillNpWL._AC_SL1500_.jpg',\n",
       " 'https://m.media-amazon.com/images/I/51+vJkbGtJL._AC_SL1500_.jpg',\n",
       " 'https://m.media-amazon.com/images/I/5121OBX4JIL._AC_SL1500_.jpg',\n",
       " 'https://m.media-amazon.com/images/I/51aHwMRyg7L._AC_SL1500_.jpg']"
      ]
     },
     "execution_count": 46,
     "metadata": {},
     "output_type": "execute_result"
    }
   ],
   "source": [
    "urls = ast.literal_eval(selected_row['highResolutionImages'][2])\n",
    "urls"
   ]
  },
  {
   "cell_type": "code",
   "execution_count": 47,
   "id": "18641435-a435-4dd7-90d7-cf1b4a19b706",
   "metadata": {
    "tags": []
   },
   "outputs": [],
   "source": [
    "url=urls[0]"
   ]
  },
  {
   "cell_type": "code",
   "execution_count": 49,
   "id": "6ffae90a-be73-443f-8478-e0d73a6e9631",
   "metadata": {
    "tags": []
   },
   "outputs": [],
   "source": [
    "response = requests.get(url)\n",
    "img = Image.open(BytesIO(response.content))\n",
    "translucent_img = remove(img)\n",
    "#translucent_img\n",
    "#img.save('image.png', format='PNG')"
   ]
  },
  {
   "cell_type": "markdown",
   "id": "d793f150-2669-4fb1-a0ad-3e338205f820",
   "metadata": {},
   "source": [
    "#### Getting Translucent images for headphones"
   ]
  },
  {
   "cell_type": "code",
   "execution_count": 56,
   "id": "9a922f89-31f0-4dc2-a288-1395933ae52f",
   "metadata": {
    "tags": []
   },
   "outputs": [
    {
     "name": "stdout",
     "output_type": "stream",
     "text": [
      "Max Image size: 1500 x 1500\n"
     ]
    }
   ],
   "source": [
    "#get the max width and height out of all these images\n",
    "max_height = 0\n",
    "max_width = 0\n",
    "for index, row in prod_descriptions.iterrows():\n",
    "    urls = ast.literal_eval(row['highResolutionImages'])\n",
    "    url = urls[0]\n",
    "    response = requests.get(url)\n",
    "    img = Image.open(BytesIO(response.content))\n",
    "    width, height = img.size\n",
    "    \n",
    "    if width > max_width:\n",
    "        max_width = width\n",
    "    if height > max_height:\n",
    "        max_height = height\n",
    "    \n",
    "print(f\"Max Image size: {max_width} x {max_height}\")"
   ]
  },
  {
   "cell_type": "code",
   "execution_count": 51,
   "id": "b3d76db1-05c1-4352-9714-fd9fb84b38ff",
   "metadata": {
    "tags": []
   },
   "outputs": [],
   "source": [
    "for index, row in prod_descriptions.iterrows():\n",
    "    file_name = row['headphoneName'] + '.png'\n",
    "    \n",
    "    urls = ast.literal_eval(row['highResolutionImages'])\n",
    "    #the first image is the one with the earbuds and white background\n",
    "    url = urls[0]\n",
    "    \n",
    "    response = requests.get(url)\n",
    "    img = Image.open(BytesIO(response.content))\n",
    "    translucent_img = remove(img)\n",
    "    file_path = '../streamlit_prototype/translucent_images/'\n",
    "    translucent_img.save(file_path+file_name, format='PNG')"
   ]
  },
  {
   "cell_type": "markdown",
   "id": "2b57141b-64c5-4437-9a5f-ebf1563be70a",
   "metadata": {},
   "source": [
    "Below we get each image and pad them to be the same size of 1500x1500, and then remove the white background so they are translucent."
   ]
  },
  {
   "cell_type": "code",
   "execution_count": 58,
   "id": "df02b4e8-5bb9-4b90-9a40-b9077ac3880e",
   "metadata": {
    "tags": []
   },
   "outputs": [],
   "source": [
    "from PIL import ImageOps\n",
    "\n",
    "# Define the desired output size\n",
    "output_size = (1500, 1500)\n",
    "\n",
    "\n",
    "# Iterate through the dataframe and resize/paste each image onto the blank image\n",
    "for index, row in prod_descriptions.iterrows():\n",
    "    file_name = row['headphoneName'] + '.png'\n",
    "    \n",
    "    # Create a blank white image of the desired size\n",
    "    blank_image = Image.new('RGB', output_size, color='white')\n",
    "    \n",
    "    urls = ast.literal_eval(row['highResolutionImages'])\n",
    "    url = urls[0]\n",
    "    response = requests.get(url)\n",
    "    img = Image.open(BytesIO(response.content))\n",
    "    \n",
    "    # Resize the image to fit within the output size while preserving aspect ratio\n",
    "    img.thumbnail(output_size)\n",
    "    \n",
    "    # Calculate the position to paste the image onto the blank image (centered)\n",
    "    position = ((output_size[0] - img.width) // 2, (output_size[1] - img.height) // 2)\n",
    "    \n",
    "    # Paste the image onto the blank image\n",
    "    blank_image.paste(img, position)\n",
    "    \n",
    "    translucent_img = remove(blank_image)\n",
    "    \n",
    "    file_path = '../streamlit_prototype/translucent_images/'\n",
    "    translucent_img.save(file_path+file_name, format='PNG')\n",
    "\n",
    "    # Save or display the resulting image\n",
    "    #file_path = 'headphone_images_padded/'\n",
    "    #blank_image.save(file_path + file_name, format='PNG')"
   ]
  },
  {
   "cell_type": "code",
   "execution_count": null,
   "id": "82c3e8a9-70c1-4085-9fe8-3361c8b27b6e",
   "metadata": {},
   "outputs": [],
   "source": []
  },
  {
   "cell_type": "markdown",
   "id": "6d769eb5-93e2-46f1-a2b7-8e16d8352c16",
   "metadata": {},
   "source": [
    "## Getting Generated Youtube Summaries"
   ]
  },
  {
   "cell_type": "code",
   "execution_count": 10,
   "id": "ea99c87b-fddc-456b-b26e-44b0d678fabb",
   "metadata": {
    "tags": []
   },
   "outputs": [
    {
     "data": {
      "text/html": [
       "<div>\n",
       "<style scoped>\n",
       "    .dataframe tbody tr th:only-of-type {\n",
       "        vertical-align: middle;\n",
       "    }\n",
       "\n",
       "    .dataframe tbody tr th {\n",
       "        vertical-align: top;\n",
       "    }\n",
       "\n",
       "    .dataframe thead th {\n",
       "        text-align: right;\n",
       "    }\n",
       "</style>\n",
       "<table border=\"1\" class=\"dataframe\">\n",
       "  <thead>\n",
       "    <tr style=\"text-align: right;\">\n",
       "      <th></th>\n",
       "      <th>primaryKey</th>\n",
       "      <th>video_id</th>\n",
       "      <th>title</th>\n",
       "      <th>video_link</th>\n",
       "      <th>channel_name</th>\n",
       "      <th>review_text</th>\n",
       "      <th>headphoneName</th>\n",
       "      <th>generated_summaries</th>\n",
       "    </tr>\n",
       "  </thead>\n",
       "  <tbody>\n",
       "    <tr>\n",
       "      <th>0</th>\n",
       "      <td>0</td>\n",
       "      <td>0L4tO4HDjnU</td>\n",
       "      <td>Sony WF-1000XM4 Earbuds Review - 6 Months Later</td>\n",
       "      <td>https://www.youtube.com/watch?v=0L4tO4HDjnU</td>\n",
       "      <td>6 Months Later</td>\n",
       "      <td>The Sony WF-1000XM4 earbuds, which is a mouth...</td>\n",
       "      <td>sony xm4 earbuds</td>\n",
       "      <td>The Sony WF-1000XM4 earbuds are a great value ...</td>\n",
       "    </tr>\n",
       "    <tr>\n",
       "      <th>1</th>\n",
       "      <td>1</td>\n",
       "      <td>hIWn_RjN-Wg</td>\n",
       "      <td>I&amp;#39;m ditching my AirPods Pros - Sony WF-100...</td>\n",
       "      <td>https://www.youtube.com/watch?v=hIWn_RjN-Wg</td>\n",
       "      <td>ShortCircuit</td>\n",
       "      <td>(wind rushing) (slow music) - As much as I lo...</td>\n",
       "      <td>sony xm4 earbuds</td>\n",
       "      <td>Sony's WF-1000XM4s have a new integrated V1 pr...</td>\n",
       "    </tr>\n",
       "    <tr>\n",
       "      <th>2</th>\n",
       "      <td>2</td>\n",
       "      <td>fMw1h4hKT_E</td>\n",
       "      <td>Sony WF-1000XM4 review: silence to my ears</td>\n",
       "      <td>https://www.youtube.com/watch?v=fMw1h4hKT_E</td>\n",
       "      <td>The Verge</td>\n",
       "      <td>so it's been almost two years since sony relea...</td>\n",
       "      <td>sony xm4 earbuds</td>\n",
       "      <td>The wf-1000xm4 earbuds cost 279 dollars.They'r...</td>\n",
       "    </tr>\n",
       "  </tbody>\n",
       "</table>\n",
       "</div>"
      ],
      "text/plain": [
       "   primaryKey     video_id                                              title  \\\n",
       "0           0  0L4tO4HDjnU    Sony WF-1000XM4 Earbuds Review - 6 Months Later   \n",
       "1           1  hIWn_RjN-Wg  I&#39;m ditching my AirPods Pros - Sony WF-100...   \n",
       "2           2  fMw1h4hKT_E         Sony WF-1000XM4 review: silence to my ears   \n",
       "\n",
       "                                    video_link    channel_name  \\\n",
       "0  https://www.youtube.com/watch?v=0L4tO4HDjnU  6 Months Later   \n",
       "1  https://www.youtube.com/watch?v=hIWn_RjN-Wg    ShortCircuit   \n",
       "2  https://www.youtube.com/watch?v=fMw1h4hKT_E       The Verge   \n",
       "\n",
       "                                         review_text     headphoneName  \\\n",
       "0   The Sony WF-1000XM4 earbuds, which is a mouth...  sony xm4 earbuds   \n",
       "1   (wind rushing) (slow music) - As much as I lo...  sony xm4 earbuds   \n",
       "2  so it's been almost two years since sony relea...  sony xm4 earbuds   \n",
       "\n",
       "                                 generated_summaries  \n",
       "0  The Sony WF-1000XM4 earbuds are a great value ...  \n",
       "1  Sony's WF-1000XM4s have a new integrated V1 pr...  \n",
       "2  The wf-1000xm4 earbuds cost 279 dollars.They'r...  "
      ]
     },
     "execution_count": 10,
     "metadata": {},
     "output_type": "execute_result"
    }
   ],
   "source": [
    "yt_df = dataframes_dict['yt_reviews_gen_summaries']\n",
    "yt_df.head(3)"
   ]
  },
  {
   "cell_type": "code",
   "execution_count": 14,
   "id": "330cda04-1c89-4e63-bb93-04b884ec6423",
   "metadata": {
    "tags": []
   },
   "outputs": [],
   "source": [
    "selected_headphone = '1MORE Evo'\n",
    "filtered_yt_df = yt_df[yt_df['headphoneName'] == selected_headphone]\n"
   ]
  },
  {
   "cell_type": "code",
   "execution_count": 20,
   "id": "f6b50199",
   "metadata": {},
   "outputs": [
    {
     "data": {
      "text/plain": [
       "\"The 1MORE Evo earbuds come in white and black.They boast 28 hours of playback time on a single charge.They can also charge via USBC. 10 millimeter dynamic driver, plus a balanced armature driver for punchy bass and smooth mids.Internal mic is for ambient sound rejection. ANC is gonna take that to another level.It is surprising how far we've come for anything other than an Apple or a Bose product. In this test, Jono goes through and dials in a customized EQ.They're priced right up there with what you would expect for a pair of feature rich, wireless in ears.But they also aren't intended to be, they don't have a wire. It would also be really nice if it spat out the EQ.\""
      ]
     },
     "execution_count": 20,
     "metadata": {},
     "output_type": "execute_result"
    }
   ],
   "source": [
    "filtered_yt_df['generated_summaries'].iloc[0]"
   ]
  },
  {
   "cell_type": "code",
   "execution_count": null,
   "id": "a31f4dab",
   "metadata": {},
   "outputs": [],
   "source": [
    "filtered_yt_df['channel_name'][0]"
   ]
  },
  {
   "cell_type": "code",
   "execution_count": 21,
   "id": "e733d59e",
   "metadata": {},
   "outputs": [
    {
     "data": {
      "text/plain": [
       "(6, 8)"
      ]
     },
     "execution_count": 21,
     "metadata": {},
     "output_type": "execute_result"
    }
   ],
   "source": [
    "filtered_yt_df.shape"
   ]
  },
  {
   "cell_type": "code",
   "execution_count": 35,
   "id": "bdcd9a82-b71b-409e-ba8f-d84efdca44bf",
   "metadata": {
    "tags": []
   },
   "outputs": [
    {
     "data": {
      "text/plain": [
       "'https://www.youtube.com/watch?v=0L4tO4HDjnU'"
      ]
     },
     "execution_count": 35,
     "metadata": {},
     "output_type": "execute_result"
    }
   ],
   "source": [
    "filtered_yt_df['video_link'][0]"
   ]
  },
  {
   "cell_type": "code",
   "execution_count": 52,
   "id": "2a80c5a8-f95f-4c9f-b3ba-13744931f3bc",
   "metadata": {
    "tags": []
   },
   "outputs": [
    {
     "data": {
      "text/plain": [
       "\"The Sony WF-1000XM4 earbuds are a great value at $279. They have the best noise cancellation of any buds I've tried. They have one of the best sound profiles of any buds I’ve tried. They also support Sony’s LDAC which gets you higher quality audio over bluetooth. The Sony Pixel Buds have a touch surface that can register a single, double, or triple tap, plus a long press, which is something most other buds I’ve tried just can’t do. You can customize what you want each tap to register as in the Sony app. I’ve never run out of battery while listening to these and they’re rated for 8 hours of battery and the charge in the case will get you up to another 16 hours. The Sony WF-XM4s are the best noise canceling earbuds I've ever used. They've worked great on my Samsung and Pixel phones, plus with Android you get LDAC quality streaming. The only issue I ever ran into is when I had them in and I turned transparency mode on, it just turned off transparency mode without any input from me. I think this is likely due to Sony’s adaptive sound controls feature switching between the walking and still/sit settings, but turning that feature off fixed the issue. \""
      ]
     },
     "execution_count": 52,
     "metadata": {},
     "output_type": "execute_result"
    }
   ],
   "source": [
    "import re\n",
    "input_string = filtered_yt_df['generated_summaries'][0]\n",
    "output_string = re.sub(r'\\s*\\.\\s*', '. ', input_string)\n",
    "output_string"
   ]
  },
  {
   "cell_type": "code",
   "execution_count": 53,
   "id": "4f7992dc-ec2a-49d9-986e-6ee890f19f33",
   "metadata": {
    "tags": []
   },
   "outputs": [],
   "source": [
    "def get_yt_summaries(df, row):\n",
    "    youtuber = df['channel_name'][row]\n",
    "    vid_link = df['video_link'][row]\n",
    "    summary = df['generated_summaries'][row]\n",
    "    cleaned_summary = re.sub(r'\\s*\\.\\s*', '. ', summary)\n",
    "    return youtuber, vid_link, cleaned_summary"
   ]
  },
  {
   "cell_type": "code",
   "execution_count": 54,
   "id": "82004d6d-cacc-4c8d-a9cf-06784bffadb4",
   "metadata": {
    "tags": []
   },
   "outputs": [
    {
     "name": "stdout",
     "output_type": "stream",
     "text": [
      "6 Months Later\n",
      "https://www.youtube.com/watch?v=0L4tO4HDjnU\n",
      "The Sony WF-1000XM4 earbuds are a great value at $279. They have the best noise cancellation of any buds I've tried. They have one of the best sound profiles of any buds I’ve tried. They also support Sony’s LDAC which gets you higher quality audio over bluetooth. The Sony Pixel Buds have a touch surface that can register a single, double, or triple tap, plus a long press, which is something most other buds I’ve tried just can’t do. You can customize what you want each tap to register as in the Sony app. I’ve never run out of battery while listening to these and they’re rated for 8 hours of battery and the charge in the case will get you up to another 16 hours. The Sony WF-XM4s are the best noise canceling earbuds I've ever used. They've worked great on my Samsung and Pixel phones, plus with Android you get LDAC quality streaming. The only issue I ever ran into is when I had them in and I turned transparency mode on, it just turned off transparency mode without any input from me. I think this is likely due to Sony’s adaptive sound controls feature switching between the walking and still/sit settings, but turning that feature off fixed the issue. \n"
     ]
    }
   ],
   "source": [
    "youtuber, vid_link, summary = get_yt_summaries(filtered_yt_df, 0)\n",
    "print(youtuber)\n",
    "print(vid_link)\n",
    "print(summary)"
   ]
  },
  {
   "cell_type": "markdown",
   "id": "70740afe-c44f-4655-99b1-9f122821d59d",
   "metadata": {},
   "source": [
    "#### Exploring Get Recommendations File"
   ]
  },
  {
   "cell_type": "code",
   "execution_count": 17,
   "id": "e65649e7",
   "metadata": {},
   "outputs": [],
   "source": [
    "import numpy as np\n",
    "import pandas as pd\n",
    "import argparse\n",
    "from ast import literal_eval\n",
    "from gensim.models import KeyedVectors\n",
    "from sklearn.metrics.pairwise import cosine_similarity\n",
    "from Get_Recommendations import HeadphoneRecommendations"
   ]
  },
  {
   "cell_type": "code",
   "execution_count": 18,
   "id": "c48f09f9",
   "metadata": {},
   "outputs": [
    {
     "data": {
      "text/html": [
       "<div>\n",
       "<style scoped>\n",
       "    .dataframe tbody tr th:only-of-type {\n",
       "        vertical-align: middle;\n",
       "    }\n",
       "\n",
       "    .dataframe tbody tr th {\n",
       "        vertical-align: top;\n",
       "    }\n",
       "\n",
       "    .dataframe thead th {\n",
       "        text-align: right;\n",
       "    }\n",
       "</style>\n",
       "<table border=\"1\" class=\"dataframe\">\n",
       "  <thead>\n",
       "    <tr style=\"text-align: right;\">\n",
       "      <th></th>\n",
       "      <th>headphoneName</th>\n",
       "      <th>ProductEmbedding</th>\n",
       "    </tr>\n",
       "  </thead>\n",
       "  <tbody>\n",
       "    <tr>\n",
       "      <th>0</th>\n",
       "      <td>1MORE Evo</td>\n",
       "      <td>[-0.06718464195728302, 0.051035076379776, -0.1...</td>\n",
       "    </tr>\n",
       "    <tr>\n",
       "      <th>2</th>\n",
       "      <td>AirPods Pro 2 Earbuds</td>\n",
       "      <td>[-0.07013950496912003, 0.06712871044874191, -0...</td>\n",
       "    </tr>\n",
       "    <tr>\n",
       "      <th>3</th>\n",
       "      <td>Beats Fit Pro Earbuds</td>\n",
       "      <td>[-0.06112515553832054, 0.056722816079854965, -...</td>\n",
       "    </tr>\n",
       "    <tr>\n",
       "      <th>4</th>\n",
       "      <td>Bose Quietcomfort Earbuds</td>\n",
       "      <td>[-0.06966901570558548, 0.05094931274652481, -0...</td>\n",
       "    </tr>\n",
       "    <tr>\n",
       "      <th>5</th>\n",
       "      <td>Bose Quietcomfort Earbuds 2</td>\n",
       "      <td>[-0.06322579085826874, 0.05420923978090286, -0...</td>\n",
       "    </tr>\n",
       "    <tr>\n",
       "      <th>6</th>\n",
       "      <td>Galaxy Buds2 Pro</td>\n",
       "      <td>[-0.07899948209524155, 0.08394227176904678, -0...</td>\n",
       "    </tr>\n",
       "    <tr>\n",
       "      <th>7</th>\n",
       "      <td>Jabra Elite 7 Pro</td>\n",
       "      <td>[-0.0671735405921936, 0.0659547969698906, -0.1...</td>\n",
       "    </tr>\n",
       "    <tr>\n",
       "      <th>8</th>\n",
       "      <td>lg tone tf8</td>\n",
       "      <td>[-0.07814421504735947, 0.05790264585188457, -0...</td>\n",
       "    </tr>\n",
       "    <tr>\n",
       "      <th>9</th>\n",
       "      <td>Pixel Buds Pro</td>\n",
       "      <td>[-0.07331924140453339, 0.09483595192432404, -0...</td>\n",
       "    </tr>\n",
       "    <tr>\n",
       "      <th>10</th>\n",
       "      <td>Sennheiser MTW3</td>\n",
       "      <td>[-0.0849185585975647, 0.04515042155981064, -0....</td>\n",
       "    </tr>\n",
       "    <tr>\n",
       "      <th>11</th>\n",
       "      <td>Sony Linkbuds original</td>\n",
       "      <td>[-0.08826041221618652, 0.035791803151369095, -...</td>\n",
       "    </tr>\n",
       "    <tr>\n",
       "      <th>12</th>\n",
       "      <td>Sony Linkbuds S</td>\n",
       "      <td>[-0.08065040409564972, 0.03903673589229584, -0...</td>\n",
       "    </tr>\n",
       "    <tr>\n",
       "      <th>13</th>\n",
       "      <td>Sony WF-1000XM5</td>\n",
       "      <td>[-0.098472461104393, 0.04349232092499733, -0.1...</td>\n",
       "    </tr>\n",
       "    <tr>\n",
       "      <th>14</th>\n",
       "      <td>sony xm4 earbuds</td>\n",
       "      <td>[-0.08742354810237885, 0.037444520741701126, -...</td>\n",
       "    </tr>\n",
       "    <tr>\n",
       "      <th>15</th>\n",
       "      <td>Soundcore Liberty 3</td>\n",
       "      <td>[-0.06855786591768265, 0.04871182516217232, -0...</td>\n",
       "    </tr>\n",
       "  </tbody>\n",
       "</table>\n",
       "</div>"
      ],
      "text/plain": [
       "                  headphoneName  \\\n",
       "0                     1MORE Evo   \n",
       "2         AirPods Pro 2 Earbuds   \n",
       "3         Beats Fit Pro Earbuds   \n",
       "4     Bose Quietcomfort Earbuds   \n",
       "5   Bose Quietcomfort Earbuds 2   \n",
       "6              Galaxy Buds2 Pro   \n",
       "7             Jabra Elite 7 Pro   \n",
       "8                   lg tone tf8   \n",
       "9                Pixel Buds Pro   \n",
       "10              Sennheiser MTW3   \n",
       "11       Sony Linkbuds original   \n",
       "12              Sony Linkbuds S   \n",
       "13              Sony WF-1000XM5   \n",
       "14             sony xm4 earbuds   \n",
       "15          Soundcore Liberty 3   \n",
       "\n",
       "                                     ProductEmbedding  \n",
       "0   [-0.06718464195728302, 0.051035076379776, -0.1...  \n",
       "2   [-0.07013950496912003, 0.06712871044874191, -0...  \n",
       "3   [-0.06112515553832054, 0.056722816079854965, -...  \n",
       "4   [-0.06966901570558548, 0.05094931274652481, -0...  \n",
       "5   [-0.06322579085826874, 0.05420923978090286, -0...  \n",
       "6   [-0.07899948209524155, 0.08394227176904678, -0...  \n",
       "7   [-0.0671735405921936, 0.0659547969698906, -0.1...  \n",
       "8   [-0.07814421504735947, 0.05790264585188457, -0...  \n",
       "9   [-0.07331924140453339, 0.09483595192432404, -0...  \n",
       "10  [-0.0849185585975647, 0.04515042155981064, -0....  \n",
       "11  [-0.08826041221618652, 0.035791803151369095, -...  \n",
       "12  [-0.08065040409564972, 0.03903673589229584, -0...  \n",
       "13  [-0.098472461104393, 0.04349232092499733, -0.1...  \n",
       "14  [-0.08742354810237885, 0.037444520741701126, -...  \n",
       "15  [-0.06855786591768265, 0.04871182516217232, -0...  "
      ]
     },
     "execution_count": 18,
     "metadata": {},
     "output_type": "execute_result"
    }
   ],
   "source": [
    "reviews_df = dataframes_dict['averaged_embeddings']\n",
    "reviews_df = reviews_df.drop(reviews_df[reviews_df['headphoneName'] == 'AirPods 3'].index)\n",
    "reviews_df"
   ]
  },
  {
   "cell_type": "code",
   "execution_count": 19,
   "id": "c70af156",
   "metadata": {},
   "outputs": [
    {
     "name": "stdout",
     "output_type": "stream",
     "text": [
      "<class 'str'>\n",
      "<class 'list'>\n"
     ]
    }
   ],
   "source": [
    "print(type(reviews_df['ProductEmbedding'][0]))\n",
    "reviews_df['ProductEmbedding'] = reviews_df['ProductEmbedding'].apply(literal_eval)\n",
    "print(type(reviews_df['ProductEmbedding'][0]))"
   ]
  },
  {
   "cell_type": "code",
   "execution_count": 20,
   "id": "7dea413c",
   "metadata": {},
   "outputs": [],
   "source": [
    "#eviews_df = pd.read_csv('averaged_embeddings.csv', converters={'ProductEmbedding': literal_eval})\n",
    "recommendations = HeadphoneRecommendations(model_file='glove_model.gensim', reviews_df=reviews_df)"
   ]
  },
  {
   "cell_type": "code",
   "execution_count": 21,
   "id": "ac69f823",
   "metadata": {},
   "outputs": [
    {
     "ename": "KeyError",
     "evalue": "'Headphone_Name'",
     "output_type": "error",
     "traceback": [
      "\u001b[1;31m---------------------------------------------------------------------------\u001b[0m",
      "\u001b[1;31mKeyError\u001b[0m                                  Traceback (most recent call last)",
      "File \u001b[1;32mc:\\Users\\RaviB\\anaconda3\\envs\\HeadphoneFinder\\lib\\site-packages\\pandas\\core\\indexes\\base.py:3653\u001b[0m, in \u001b[0;36mIndex.get_loc\u001b[1;34m(self, key)\u001b[0m\n\u001b[0;32m   3652\u001b[0m \u001b[38;5;28;01mtry\u001b[39;00m:\n\u001b[1;32m-> 3653\u001b[0m     \u001b[38;5;28;01mreturn\u001b[39;00m \u001b[38;5;28;43mself\u001b[39;49m\u001b[38;5;241;43m.\u001b[39;49m\u001b[43m_engine\u001b[49m\u001b[38;5;241;43m.\u001b[39;49m\u001b[43mget_loc\u001b[49m\u001b[43m(\u001b[49m\u001b[43mcasted_key\u001b[49m\u001b[43m)\u001b[49m\n\u001b[0;32m   3654\u001b[0m \u001b[38;5;28;01mexcept\u001b[39;00m \u001b[38;5;167;01mKeyError\u001b[39;00m \u001b[38;5;28;01mas\u001b[39;00m err:\n",
      "File \u001b[1;32mc:\\Users\\RaviB\\anaconda3\\envs\\HeadphoneFinder\\lib\\site-packages\\pandas\\_libs\\index.pyx:147\u001b[0m, in \u001b[0;36mpandas._libs.index.IndexEngine.get_loc\u001b[1;34m()\u001b[0m\n",
      "File \u001b[1;32mc:\\Users\\RaviB\\anaconda3\\envs\\HeadphoneFinder\\lib\\site-packages\\pandas\\_libs\\index.pyx:176\u001b[0m, in \u001b[0;36mpandas._libs.index.IndexEngine.get_loc\u001b[1;34m()\u001b[0m\n",
      "File \u001b[1;32mpandas\\_libs\\hashtable_class_helper.pxi:7080\u001b[0m, in \u001b[0;36mpandas._libs.hashtable.PyObjectHashTable.get_item\u001b[1;34m()\u001b[0m\n",
      "File \u001b[1;32mpandas\\_libs\\hashtable_class_helper.pxi:7088\u001b[0m, in \u001b[0;36mpandas._libs.hashtable.PyObjectHashTable.get_item\u001b[1;34m()\u001b[0m\n",
      "\u001b[1;31mKeyError\u001b[0m: 'Headphone_Name'",
      "\nThe above exception was the direct cause of the following exception:\n",
      "\u001b[1;31mKeyError\u001b[0m                                  Traceback (most recent call last)",
      "Cell \u001b[1;32mIn[21], line 1\u001b[0m\n\u001b[1;32m----> 1\u001b[0m top_recommendations \u001b[38;5;241m=\u001b[39m \u001b[43mrecommendations\u001b[49m\u001b[38;5;241;43m.\u001b[39;49m\u001b[43mget_recommendation\u001b[49m\u001b[43m(\u001b[49m\u001b[38;5;124;43m'\u001b[39;49m\u001b[38;5;124;43mA headphone with really good battery life\u001b[39;49m\u001b[38;5;124;43m'\u001b[39;49m\u001b[43m)\u001b[49m\n\u001b[0;32m      2\u001b[0m \u001b[38;5;28mprint\u001b[39m(\u001b[38;5;124m\"\u001b[39m\u001b[38;5;124mTop 5 Recommendations:\u001b[39m\u001b[38;5;124m\"\u001b[39m)\n\u001b[0;32m      3\u001b[0m \u001b[38;5;28mprint\u001b[39m(top_recommendations[\u001b[38;5;241m0\u001b[39m])\n",
      "File \u001b[1;32mc:\\Users\\RaviB\\GitHub\\SentiRec-Analytics\\modules\\Get_Recommendations.py:39\u001b[0m, in \u001b[0;36mHeadphoneRecommendations.get_recommendation\u001b[1;34m(self, user_input)\u001b[0m\n\u001b[0;32m     36\u001b[0m top_recommendations \u001b[38;5;241m=\u001b[39m top_recommendations\u001b[38;5;241m.\u001b[39mdrop(columns\u001b[38;5;241m=\u001b[39m[\u001b[38;5;124m'\u001b[39m\u001b[38;5;124mProductEmbedding\u001b[39m\u001b[38;5;124m'\u001b[39m], axis\u001b[38;5;241m=\u001b[39m\u001b[38;5;241m1\u001b[39m)\n\u001b[0;32m     38\u001b[0m \u001b[38;5;66;03m#resetting the index to look nicer and also only showing the headphone name column\u001b[39;00m\n\u001b[1;32m---> 39\u001b[0m top_recommendations \u001b[38;5;241m=\u001b[39m \u001b[43mtop_recommendations\u001b[49m\u001b[38;5;241;43m.\u001b[39;49m\u001b[43mreset_index\u001b[49m\u001b[43m(\u001b[49m\u001b[43mdrop\u001b[49m\u001b[43m \u001b[49m\u001b[38;5;241;43m=\u001b[39;49m\u001b[43m \u001b[49m\u001b[38;5;28;43;01mTrue\u001b[39;49;00m\u001b[43m)\u001b[49m\u001b[43m[\u001b[49m\u001b[38;5;124;43m'\u001b[39;49m\u001b[38;5;124;43mHeadphone_Name\u001b[39;49m\u001b[38;5;124;43m'\u001b[39;49m\u001b[43m]\u001b[49m\n\u001b[0;32m     41\u001b[0m \u001b[38;5;28;01mreturn\u001b[39;00m top_recommendations\n",
      "File \u001b[1;32mc:\\Users\\RaviB\\anaconda3\\envs\\HeadphoneFinder\\lib\\site-packages\\pandas\\core\\frame.py:3761\u001b[0m, in \u001b[0;36mDataFrame.__getitem__\u001b[1;34m(self, key)\u001b[0m\n\u001b[0;32m   3759\u001b[0m \u001b[38;5;28;01mif\u001b[39;00m \u001b[38;5;28mself\u001b[39m\u001b[38;5;241m.\u001b[39mcolumns\u001b[38;5;241m.\u001b[39mnlevels \u001b[38;5;241m>\u001b[39m \u001b[38;5;241m1\u001b[39m:\n\u001b[0;32m   3760\u001b[0m     \u001b[38;5;28;01mreturn\u001b[39;00m \u001b[38;5;28mself\u001b[39m\u001b[38;5;241m.\u001b[39m_getitem_multilevel(key)\n\u001b[1;32m-> 3761\u001b[0m indexer \u001b[38;5;241m=\u001b[39m \u001b[38;5;28;43mself\u001b[39;49m\u001b[38;5;241;43m.\u001b[39;49m\u001b[43mcolumns\u001b[49m\u001b[38;5;241;43m.\u001b[39;49m\u001b[43mget_loc\u001b[49m\u001b[43m(\u001b[49m\u001b[43mkey\u001b[49m\u001b[43m)\u001b[49m\n\u001b[0;32m   3762\u001b[0m \u001b[38;5;28;01mif\u001b[39;00m is_integer(indexer):\n\u001b[0;32m   3763\u001b[0m     indexer \u001b[38;5;241m=\u001b[39m [indexer]\n",
      "File \u001b[1;32mc:\\Users\\RaviB\\anaconda3\\envs\\HeadphoneFinder\\lib\\site-packages\\pandas\\core\\indexes\\base.py:3655\u001b[0m, in \u001b[0;36mIndex.get_loc\u001b[1;34m(self, key)\u001b[0m\n\u001b[0;32m   3653\u001b[0m     \u001b[38;5;28;01mreturn\u001b[39;00m \u001b[38;5;28mself\u001b[39m\u001b[38;5;241m.\u001b[39m_engine\u001b[38;5;241m.\u001b[39mget_loc(casted_key)\n\u001b[0;32m   3654\u001b[0m \u001b[38;5;28;01mexcept\u001b[39;00m \u001b[38;5;167;01mKeyError\u001b[39;00m \u001b[38;5;28;01mas\u001b[39;00m err:\n\u001b[1;32m-> 3655\u001b[0m     \u001b[38;5;28;01mraise\u001b[39;00m \u001b[38;5;167;01mKeyError\u001b[39;00m(key) \u001b[38;5;28;01mfrom\u001b[39;00m \u001b[38;5;21;01merr\u001b[39;00m\n\u001b[0;32m   3656\u001b[0m \u001b[38;5;28;01mexcept\u001b[39;00m \u001b[38;5;167;01mTypeError\u001b[39;00m:\n\u001b[0;32m   3657\u001b[0m     \u001b[38;5;66;03m# If we have a listlike key, _check_indexing_error will raise\u001b[39;00m\n\u001b[0;32m   3658\u001b[0m     \u001b[38;5;66;03m#  InvalidIndexError. Otherwise we fall through and re-raise\u001b[39;00m\n\u001b[0;32m   3659\u001b[0m     \u001b[38;5;66;03m#  the TypeError.\u001b[39;00m\n\u001b[0;32m   3660\u001b[0m     \u001b[38;5;28mself\u001b[39m\u001b[38;5;241m.\u001b[39m_check_indexing_error(key)\n",
      "\u001b[1;31mKeyError\u001b[0m: 'Headphone_Name'"
     ]
    }
   ],
   "source": [
    "top_recommendations = recommendations.get_recommendation('A headphone with really good battery life')\n",
    "print(\"Top 5 Recommendations:\")\n",
    "print(top_recommendations[0])"
   ]
  },
  {
   "cell_type": "code",
   "execution_count": 1,
   "id": "6e2f1d5b",
   "metadata": {},
   "outputs": [],
   "source": [
    "import pandas as pd"
   ]
  },
  {
   "cell_type": "code",
   "execution_count": 3,
   "id": "3bd67f05",
   "metadata": {},
   "outputs": [],
   "source": [
    "df = pd.read_csv('../data/yt_reviews_gen_summaries.csv')"
   ]
  },
  {
   "cell_type": "code",
   "execution_count": 9,
   "id": "457c308f",
   "metadata": {},
   "outputs": [
    {
     "data": {
      "text/html": [
       "<div>\n",
       "<style scoped>\n",
       "    .dataframe tbody tr th:only-of-type {\n",
       "        vertical-align: middle;\n",
       "    }\n",
       "\n",
       "    .dataframe tbody tr th {\n",
       "        vertical-align: top;\n",
       "    }\n",
       "\n",
       "    .dataframe thead th {\n",
       "        text-align: right;\n",
       "    }\n",
       "</style>\n",
       "<table border=\"1\" class=\"dataframe\">\n",
       "  <thead>\n",
       "    <tr style=\"text-align: right;\">\n",
       "      <th></th>\n",
       "      <th>Unnamed: 0</th>\n",
       "      <th>video_id</th>\n",
       "      <th>title</th>\n",
       "      <th>video_link</th>\n",
       "      <th>channel_name</th>\n",
       "      <th>review_text</th>\n",
       "      <th>headphone</th>\n",
       "      <th>generated_summaries</th>\n",
       "    </tr>\n",
       "  </thead>\n",
       "  <tbody>\n",
       "    <tr>\n",
       "      <th>0</th>\n",
       "      <td>0</td>\n",
       "      <td>0L4tO4HDjnU</td>\n",
       "      <td>Sony WF-1000XM4 Earbuds Review - 6 Months Later</td>\n",
       "      <td>https://www.youtube.com/watch?v=0L4tO4HDjnU</td>\n",
       "      <td>6 Months Later</td>\n",
       "      <td>The Sony WF-1000XM4 earbuds, which is a mouth...</td>\n",
       "      <td>sony xm4 earbuds</td>\n",
       "      <td>The Sony WF-1000XM4 earbuds are a great value ...</td>\n",
       "    </tr>\n",
       "    <tr>\n",
       "      <th>1</th>\n",
       "      <td>1</td>\n",
       "      <td>hIWn_RjN-Wg</td>\n",
       "      <td>I&amp;#39;m ditching my AirPods Pros - Sony WF-100...</td>\n",
       "      <td>https://www.youtube.com/watch?v=hIWn_RjN-Wg</td>\n",
       "      <td>ShortCircuit</td>\n",
       "      <td>(wind rushing) (slow music) - As much as I lo...</td>\n",
       "      <td>sony xm4 earbuds</td>\n",
       "      <td>Sony's WF-1000XM4s have a new integrated V1 pr...</td>\n",
       "    </tr>\n",
       "    <tr>\n",
       "      <th>2</th>\n",
       "      <td>2</td>\n",
       "      <td>fMw1h4hKT_E</td>\n",
       "      <td>Sony WF-1000XM4 review: silence to my ears</td>\n",
       "      <td>https://www.youtube.com/watch?v=fMw1h4hKT_E</td>\n",
       "      <td>The Verge</td>\n",
       "      <td>so it's been almost two years since sony rele...</td>\n",
       "      <td>sony xm4 earbuds</td>\n",
       "      <td>The wf-1000xm4 earbuds cost 279 dollars.They'r...</td>\n",
       "    </tr>\n",
       "  </tbody>\n",
       "</table>\n",
       "</div>"
      ],
      "text/plain": [
       "   Unnamed: 0     video_id                                              title  \\\n",
       "0           0  0L4tO4HDjnU    Sony WF-1000XM4 Earbuds Review - 6 Months Later   \n",
       "1           1  hIWn_RjN-Wg  I&#39;m ditching my AirPods Pros - Sony WF-100...   \n",
       "2           2  fMw1h4hKT_E         Sony WF-1000XM4 review: silence to my ears   \n",
       "\n",
       "                                    video_link    channel_name  \\\n",
       "0  https://www.youtube.com/watch?v=0L4tO4HDjnU  6 Months Later   \n",
       "1  https://www.youtube.com/watch?v=hIWn_RjN-Wg    ShortCircuit   \n",
       "2  https://www.youtube.com/watch?v=fMw1h4hKT_E       The Verge   \n",
       "\n",
       "                                         review_text         headphone  \\\n",
       "0   The Sony WF-1000XM4 earbuds, which is a mouth...  sony xm4 earbuds   \n",
       "1   (wind rushing) (slow music) - As much as I lo...  sony xm4 earbuds   \n",
       "2   so it's been almost two years since sony rele...  sony xm4 earbuds   \n",
       "\n",
       "                                 generated_summaries  \n",
       "0  The Sony WF-1000XM4 earbuds are a great value ...  \n",
       "1  Sony's WF-1000XM4s have a new integrated V1 pr...  \n",
       "2  The wf-1000xm4 earbuds cost 279 dollars.They'r...  "
      ]
     },
     "execution_count": 9,
     "metadata": {},
     "output_type": "execute_result"
    }
   ],
   "source": [
    "df.head(3)"
   ]
  },
  {
   "cell_type": "code",
   "execution_count": 1,
   "id": "4da0fdcb",
   "metadata": {
    "tags": []
   },
   "outputs": [],
   "source": [
    "from google.cloud import bigquery\n",
    "import os"
   ]
  },
  {
   "cell_type": "code",
   "execution_count": 2,
   "id": "3ee37213",
   "metadata": {
    "tags": []
   },
   "outputs": [],
   "source": [
    "os.environ[\"GOOGLE_APPLICATION_CREDENTIALS\"] = \"../streamlit_prototype/sentirec-analytics-service-key.json\""
   ]
  },
  {
   "cell_type": "code",
   "execution_count": 3,
   "id": "0eedf288",
   "metadata": {
    "tags": []
   },
   "outputs": [],
   "source": [
    "# Create a client object using the default credentials\n",
    "client = bigquery.Client()"
   ]
  },
  {
   "cell_type": "code",
   "execution_count": 4,
   "id": "4c9a3036",
   "metadata": {
    "tags": []
   },
   "outputs": [],
   "source": [
    "query = \"\"\"\n",
    "SELECT *\n",
    "FROM `sentirec-analytics.reviews_data.averaged_embeddings`\n",
    "\"\"\"\n",
    "\n",
    "# Execute the query\n",
    "query_job = client.query(query)\n",
    "\n",
    "# Fetch the results\n",
    "results = query_job.result()"
   ]
  },
  {
   "cell_type": "code",
   "execution_count": 7,
   "id": "7549b1a4-199c-4a0b-a967-2295a929aa2c",
   "metadata": {
    "tags": []
   },
   "outputs": [],
   "source": [
    "def get_bq_df(client, table, dataset='reviews_data', project_id='sentirec-analytics'):\n",
    "    query = f\"\"\"\n",
    "    SELECT *\n",
    "    FROM `{project_id}.{dataset}.{table}`\n",
    "    \"\"\"\n",
    "    query_job = client.query(query)\n",
    "    return query_job.to_dataframe()"
   ]
  },
  {
   "cell_type": "code",
   "execution_count": 10,
   "id": "a07d774d-519f-498c-8e41-759968fbd4ce",
   "metadata": {
    "tags": []
   },
   "outputs": [
    {
     "data": {
      "text/html": [
       "<div>\n",
       "<style scoped>\n",
       "    .dataframe tbody tr th:only-of-type {\n",
       "        vertical-align: middle;\n",
       "    }\n",
       "\n",
       "    .dataframe tbody tr th {\n",
       "        vertical-align: top;\n",
       "    }\n",
       "\n",
       "    .dataframe thead th {\n",
       "        text-align: right;\n",
       "    }\n",
       "</style>\n",
       "<table border=\"1\" class=\"dataframe\">\n",
       "  <thead>\n",
       "    <tr style=\"text-align: right;\">\n",
       "      <th></th>\n",
       "      <th>headphoneName</th>\n",
       "      <th>batteryLabel</th>\n",
       "      <th>batteryScore</th>\n",
       "      <th>comfortLabel</th>\n",
       "      <th>comfortScore</th>\n",
       "      <th>noisecancellationLabel</th>\n",
       "      <th>noisecancellationScore</th>\n",
       "      <th>soundqualityLabel</th>\n",
       "      <th>soundqualityScore</th>\n",
       "      <th>region</th>\n",
       "      <th>ratingScore</th>\n",
       "      <th>priceValue</th>\n",
       "      <th>priceCurrency</th>\n",
       "      <th>listPriceValue</th>\n",
       "      <th>listPriceCurrency</th>\n",
       "    </tr>\n",
       "  </thead>\n",
       "  <tbody>\n",
       "    <tr>\n",
       "      <th>0</th>\n",
       "      <td>sony xm4 earbuds</td>\n",
       "      <td>Negative</td>\n",
       "      <td>0.894016</td>\n",
       "      <td>Negative</td>\n",
       "      <td>0.886814</td>\n",
       "      <td>None</td>\n",
       "      <td>0.000000</td>\n",
       "      <td>None</td>\n",
       "      <td>0.000000</td>\n",
       "      <td>US</td>\n",
       "      <td>1.0</td>\n",
       "      <td>164.97</td>\n",
       "      <td>USD</td>\n",
       "      <td>NaN</td>\n",
       "      <td>USD</td>\n",
       "    </tr>\n",
       "    <tr>\n",
       "      <th>1</th>\n",
       "      <td>sony xm4 earbuds</td>\n",
       "      <td>None</td>\n",
       "      <td>0.000000</td>\n",
       "      <td>None</td>\n",
       "      <td>0.000000</td>\n",
       "      <td>None</td>\n",
       "      <td>0.000000</td>\n",
       "      <td>None</td>\n",
       "      <td>0.000000</td>\n",
       "      <td>US</td>\n",
       "      <td>1.0</td>\n",
       "      <td>164.97</td>\n",
       "      <td>USD</td>\n",
       "      <td>NaN</td>\n",
       "      <td>USD</td>\n",
       "    </tr>\n",
       "    <tr>\n",
       "      <th>2</th>\n",
       "      <td>sony xm4 earbuds</td>\n",
       "      <td>Negative</td>\n",
       "      <td>0.836177</td>\n",
       "      <td>None</td>\n",
       "      <td>0.000000</td>\n",
       "      <td>None</td>\n",
       "      <td>0.000000</td>\n",
       "      <td>None</td>\n",
       "      <td>0.000000</td>\n",
       "      <td>US</td>\n",
       "      <td>1.0</td>\n",
       "      <td>164.97</td>\n",
       "      <td>USD</td>\n",
       "      <td>NaN</td>\n",
       "      <td>USD</td>\n",
       "    </tr>\n",
       "    <tr>\n",
       "      <th>3</th>\n",
       "      <td>sony xm4 earbuds</td>\n",
       "      <td>None</td>\n",
       "      <td>0.000000</td>\n",
       "      <td>None</td>\n",
       "      <td>0.000000</td>\n",
       "      <td>None</td>\n",
       "      <td>0.000000</td>\n",
       "      <td>None</td>\n",
       "      <td>0.000000</td>\n",
       "      <td>US</td>\n",
       "      <td>1.0</td>\n",
       "      <td>164.97</td>\n",
       "      <td>USD</td>\n",
       "      <td>NaN</td>\n",
       "      <td>USD</td>\n",
       "    </tr>\n",
       "    <tr>\n",
       "      <th>4</th>\n",
       "      <td>sony xm4 earbuds</td>\n",
       "      <td>Negative</td>\n",
       "      <td>0.745369</td>\n",
       "      <td>None</td>\n",
       "      <td>0.000000</td>\n",
       "      <td>None</td>\n",
       "      <td>0.000000</td>\n",
       "      <td>None</td>\n",
       "      <td>0.000000</td>\n",
       "      <td>US</td>\n",
       "      <td>5.0</td>\n",
       "      <td>164.97</td>\n",
       "      <td>USD</td>\n",
       "      <td>NaN</td>\n",
       "      <td>USD</td>\n",
       "    </tr>\n",
       "    <tr>\n",
       "      <th>...</th>\n",
       "      <td>...</td>\n",
       "      <td>...</td>\n",
       "      <td>...</td>\n",
       "      <td>...</td>\n",
       "      <td>...</td>\n",
       "      <td>...</td>\n",
       "      <td>...</td>\n",
       "      <td>...</td>\n",
       "      <td>...</td>\n",
       "      <td>...</td>\n",
       "      <td>...</td>\n",
       "      <td>...</td>\n",
       "      <td>...</td>\n",
       "      <td>...</td>\n",
       "      <td>...</td>\n",
       "    </tr>\n",
       "    <tr>\n",
       "      <th>1481</th>\n",
       "      <td>Sony WF-1000XM5</td>\n",
       "      <td>Positive</td>\n",
       "      <td>0.977330</td>\n",
       "      <td>Negative</td>\n",
       "      <td>0.871431</td>\n",
       "      <td>Positive</td>\n",
       "      <td>0.614684</td>\n",
       "      <td>Positive</td>\n",
       "      <td>0.877473</td>\n",
       "      <td>CAD</td>\n",
       "      <td>4.0</td>\n",
       "      <td>328.00</td>\n",
       "      <td>CAD</td>\n",
       "      <td>NaN</td>\n",
       "      <td>CAD</td>\n",
       "    </tr>\n",
       "    <tr>\n",
       "      <th>1482</th>\n",
       "      <td>Sony WF-1000XM5</td>\n",
       "      <td>Positive</td>\n",
       "      <td>0.778247</td>\n",
       "      <td>None</td>\n",
       "      <td>0.000000</td>\n",
       "      <td>Positive</td>\n",
       "      <td>0.764168</td>\n",
       "      <td>Positive</td>\n",
       "      <td>0.809848</td>\n",
       "      <td>CAD</td>\n",
       "      <td>4.0</td>\n",
       "      <td>328.00</td>\n",
       "      <td>CAD</td>\n",
       "      <td>NaN</td>\n",
       "      <td>CAD</td>\n",
       "    </tr>\n",
       "    <tr>\n",
       "      <th>1483</th>\n",
       "      <td>Sony WF-1000XM5</td>\n",
       "      <td>None</td>\n",
       "      <td>0.000000</td>\n",
       "      <td>Neutral</td>\n",
       "      <td>0.352800</td>\n",
       "      <td>Positive</td>\n",
       "      <td>0.624279</td>\n",
       "      <td>Positive</td>\n",
       "      <td>0.592801</td>\n",
       "      <td>CAD</td>\n",
       "      <td>4.0</td>\n",
       "      <td>328.00</td>\n",
       "      <td>CAD</td>\n",
       "      <td>NaN</td>\n",
       "      <td>CAD</td>\n",
       "    </tr>\n",
       "    <tr>\n",
       "      <th>1484</th>\n",
       "      <td>1MORE Evo</td>\n",
       "      <td>Positive</td>\n",
       "      <td>0.635573</td>\n",
       "      <td>Positive</td>\n",
       "      <td>0.649680</td>\n",
       "      <td>Positive</td>\n",
       "      <td>0.745552</td>\n",
       "      <td>Positive</td>\n",
       "      <td>0.640101</td>\n",
       "      <td>CAD</td>\n",
       "      <td>4.0</td>\n",
       "      <td>124.99</td>\n",
       "      <td>CAD</td>\n",
       "      <td>NaN</td>\n",
       "      <td>CAD</td>\n",
       "    </tr>\n",
       "    <tr>\n",
       "      <th>1485</th>\n",
       "      <td>1MORE Evo</td>\n",
       "      <td>Positive</td>\n",
       "      <td>0.996748</td>\n",
       "      <td>None</td>\n",
       "      <td>0.000000</td>\n",
       "      <td>Positive</td>\n",
       "      <td>0.996659</td>\n",
       "      <td>Positive</td>\n",
       "      <td>0.995885</td>\n",
       "      <td>CAD</td>\n",
       "      <td>4.0</td>\n",
       "      <td>124.99</td>\n",
       "      <td>CAD</td>\n",
       "      <td>NaN</td>\n",
       "      <td>CAD</td>\n",
       "    </tr>\n",
       "  </tbody>\n",
       "</table>\n",
       "<p>1486 rows × 15 columns</p>\n",
       "</div>"
      ],
      "text/plain": [
       "         headphoneName batteryLabel  batteryScore comfortLabel  comfortScore  \\\n",
       "0     sony xm4 earbuds     Negative      0.894016     Negative      0.886814   \n",
       "1     sony xm4 earbuds         None      0.000000         None      0.000000   \n",
       "2     sony xm4 earbuds     Negative      0.836177         None      0.000000   \n",
       "3     sony xm4 earbuds         None      0.000000         None      0.000000   \n",
       "4     sony xm4 earbuds     Negative      0.745369         None      0.000000   \n",
       "...                ...          ...           ...          ...           ...   \n",
       "1481   Sony WF-1000XM5     Positive      0.977330     Negative      0.871431   \n",
       "1482   Sony WF-1000XM5     Positive      0.778247         None      0.000000   \n",
       "1483   Sony WF-1000XM5         None      0.000000      Neutral      0.352800   \n",
       "1484         1MORE Evo     Positive      0.635573     Positive      0.649680   \n",
       "1485         1MORE Evo     Positive      0.996748         None      0.000000   \n",
       "\n",
       "     noisecancellationLabel  noisecancellationScore soundqualityLabel  \\\n",
       "0                      None                0.000000              None   \n",
       "1                      None                0.000000              None   \n",
       "2                      None                0.000000              None   \n",
       "3                      None                0.000000              None   \n",
       "4                      None                0.000000              None   \n",
       "...                     ...                     ...               ...   \n",
       "1481               Positive                0.614684          Positive   \n",
       "1482               Positive                0.764168          Positive   \n",
       "1483               Positive                0.624279          Positive   \n",
       "1484               Positive                0.745552          Positive   \n",
       "1485               Positive                0.996659          Positive   \n",
       "\n",
       "      soundqualityScore region  ratingScore  priceValue priceCurrency  \\\n",
       "0              0.000000     US          1.0      164.97           USD   \n",
       "1              0.000000     US          1.0      164.97           USD   \n",
       "2              0.000000     US          1.0      164.97           USD   \n",
       "3              0.000000     US          1.0      164.97           USD   \n",
       "4              0.000000     US          5.0      164.97           USD   \n",
       "...                 ...    ...          ...         ...           ...   \n",
       "1481           0.877473    CAD          4.0      328.00           CAD   \n",
       "1482           0.809848    CAD          4.0      328.00           CAD   \n",
       "1483           0.592801    CAD          4.0      328.00           CAD   \n",
       "1484           0.640101    CAD          4.0      124.99           CAD   \n",
       "1485           0.995885    CAD          4.0      124.99           CAD   \n",
       "\n",
       "      listPriceValue listPriceCurrency  \n",
       "0                NaN               USD  \n",
       "1                NaN               USD  \n",
       "2                NaN               USD  \n",
       "3                NaN               USD  \n",
       "4                NaN               USD  \n",
       "...              ...               ...  \n",
       "1481             NaN               CAD  \n",
       "1482             NaN               CAD  \n",
       "1483             NaN               CAD  \n",
       "1484             NaN               CAD  \n",
       "1485             NaN               CAD  \n",
       "\n",
       "[1486 rows x 15 columns]"
      ]
     },
     "execution_count": 10,
     "metadata": {},
     "output_type": "execute_result"
    }
   ],
   "source": [
    "get_bq_df(client, 'headphones-fact-table')"
   ]
  },
  {
   "cell_type": "code",
   "execution_count": 11,
   "id": "c03ba010-2b01-4666-b314-76d1b7f6b7e5",
   "metadata": {
    "tags": []
   },
   "outputs": [],
   "source": [
    "prod_descriptions = get_bq_df(client, 'amazon_product_descriptions')"
   ]
  },
  {
   "cell_type": "code",
   "execution_count": 14,
   "id": "4cf67b80-9605-419e-86d6-e466de5eb347",
   "metadata": {
    "tags": []
   },
   "outputs": [],
   "source": [
    "prod_descriptions = prod_descriptions.rename({'Headphones': 'headphoneName'}, axis = 1)"
   ]
  },
  {
   "cell_type": "code",
   "execution_count": 16,
   "id": "95c9d61b-9cbd-4406-a1f3-07060071ab8a",
   "metadata": {
    "tags": []
   },
   "outputs": [
    {
     "data": {
      "text/plain": [
       "Index(['headphoneName', 'URLs', 'title', 'url', 'asin', 'inStock',\n",
       "       'inStockText', 'brand', 'price', 'stars', 'starsBreakdown',\n",
       "       'reviewsCount', 'breadCrumbs', 'thumbnailImage', 'galleryThumbnails',\n",
       "       'highResolutionImages', 'description', 'features', 'attributes',\n",
       "       'productOverview', 'variantAsins', 'variantDetails', 'reviewsLink',\n",
       "       'hasReviews', 'delivery', 'variantAttributes', 'manufacturerAttributes',\n",
       "       'seller', 'bestsellerRanks', 'isAmazonChoice', 'amazonChoiceText',\n",
       "       'locationText', 'loadedCountryCode', 'unNormalizedProductUrl'],\n",
       "      dtype='object')"
      ]
     },
     "execution_count": 16,
     "metadata": {},
     "output_type": "execute_result"
    }
   ],
   "source": [
    "prod_descriptions.columns"
   ]
  },
  {
   "cell_type": "code",
   "execution_count": 17,
   "id": "09a02e02-a679-4640-be36-c7daa1c3f983",
   "metadata": {
    "tags": []
   },
   "outputs": [],
   "source": [
    "from google.cloud import storage\n",
    "\n",
    "# Initialize a client\n",
    "storage_client = storage.Client()\n",
    "\n",
    "# Specify the bucket and file name\n",
    "bucket_name = 'glove_model_sentirec_analytics'\n",
    "blob_name = 'glove_model.gensim'"
   ]
  },
  {
   "cell_type": "code",
   "execution_count": 43,
   "id": "61a0e95c-ed6a-4bcc-8f77-4ee2c8e16327",
   "metadata": {
    "tags": []
   },
   "outputs": [],
   "source": [
    "bucket = storage_client.bucket(bucket_name)"
   ]
  },
  {
   "cell_type": "code",
   "execution_count": 44,
   "id": "a35f9b4e-1791-4cac-90e9-4aca3702495c",
   "metadata": {
    "tags": []
   },
   "outputs": [],
   "source": [
    "glove_model = bucket.blob('glove_model.gensim')\n",
    "glove_model_vectors = bucket.blob('glove_model.gensim.vectors.npy')"
   ]
  },
  {
   "cell_type": "code",
   "execution_count": 45,
   "id": "01cbda4b-3114-44d5-b5d0-a87356eddacf",
   "metadata": {
    "tags": []
   },
   "outputs": [],
   "source": [
    "glove_model.download_to_filename('glove_model.gensim')\n",
    "glove_model_vectors.download_to_filename('glove_model.gensim.vectors.npy')"
   ]
  },
  {
   "cell_type": "code",
   "execution_count": 52,
   "id": "653f8ea6-e338-42fc-9063-005f4833bc64",
   "metadata": {
    "tags": []
   },
   "outputs": [
    {
     "ename": "OSError",
     "evalue": "[Errno 22] Invalid argument: 'gs://glove_model_sentirec_analytics/glove_model.gensim.vectors.npy'",
     "output_type": "error",
     "traceback": [
      "\u001b[1;31m---------------------------------------------------------------------------\u001b[0m",
      "\u001b[1;31mOSError\u001b[0m                                   Traceback (most recent call last)",
      "Cell \u001b[1;32mIn[52], line 2\u001b[0m\n\u001b[0;32m      1\u001b[0m glove_model_url \u001b[38;5;241m=\u001b[39m \u001b[38;5;124mf\u001b[39m\u001b[38;5;124m\"\u001b[39m\u001b[38;5;124mgs://\u001b[39m\u001b[38;5;132;01m{\u001b[39;00mbucket_name\u001b[38;5;132;01m}\u001b[39;00m\u001b[38;5;124m/glove_model.gensim\u001b[39m\u001b[38;5;124m\"\u001b[39m\n\u001b[1;32m----> 2\u001b[0m glove_model \u001b[38;5;241m=\u001b[39m \u001b[43mKeyedVectors\u001b[49m\u001b[38;5;241;43m.\u001b[39;49m\u001b[43mload\u001b[49m\u001b[43m(\u001b[49m\u001b[43mglove_model_url\u001b[49m\u001b[43m)\u001b[49m\n",
      "File \u001b[1;32m~\\anaconda3\\envs\\HeadphoneFinder\\lib\\site-packages\\gensim\\utils.py:487\u001b[0m, in \u001b[0;36mSaveLoad.load\u001b[1;34m(cls, fname, mmap)\u001b[0m\n\u001b[0;32m    484\u001b[0m compress, subname \u001b[38;5;241m=\u001b[39m SaveLoad\u001b[38;5;241m.\u001b[39m_adapt_by_suffix(fname)\n\u001b[0;32m    486\u001b[0m obj \u001b[38;5;241m=\u001b[39m unpickle(fname)\n\u001b[1;32m--> 487\u001b[0m \u001b[43mobj\u001b[49m\u001b[38;5;241;43m.\u001b[39;49m\u001b[43m_load_specials\u001b[49m\u001b[43m(\u001b[49m\u001b[43mfname\u001b[49m\u001b[43m,\u001b[49m\u001b[43m \u001b[49m\u001b[43mmmap\u001b[49m\u001b[43m,\u001b[49m\u001b[43m \u001b[49m\u001b[43mcompress\u001b[49m\u001b[43m,\u001b[49m\u001b[43m \u001b[49m\u001b[43msubname\u001b[49m\u001b[43m)\u001b[49m\n\u001b[0;32m    488\u001b[0m obj\u001b[38;5;241m.\u001b[39madd_lifecycle_event(\u001b[38;5;124m\"\u001b[39m\u001b[38;5;124mloaded\u001b[39m\u001b[38;5;124m\"\u001b[39m, fname\u001b[38;5;241m=\u001b[39mfname)\n\u001b[0;32m    489\u001b[0m \u001b[38;5;28;01mreturn\u001b[39;00m obj\n",
      "File \u001b[1;32m~\\anaconda3\\envs\\HeadphoneFinder\\lib\\site-packages\\gensim\\models\\keyedvectors.py:263\u001b[0m, in \u001b[0;36mKeyedVectors._load_specials\u001b[1;34m(self, *args, **kwargs)\u001b[0m\n\u001b[0;32m    261\u001b[0m \u001b[38;5;28;01mdef\u001b[39;00m \u001b[38;5;21m_load_specials\u001b[39m(\u001b[38;5;28mself\u001b[39m, \u001b[38;5;241m*\u001b[39margs, \u001b[38;5;241m*\u001b[39m\u001b[38;5;241m*\u001b[39mkwargs):\n\u001b[0;32m    262\u001b[0m \u001b[38;5;250m    \u001b[39m\u001b[38;5;124;03m\"\"\"Handle special requirements of `.load()` protocol, usually up-converting older versions.\"\"\"\u001b[39;00m\n\u001b[1;32m--> 263\u001b[0m     \u001b[38;5;28msuper\u001b[39m(KeyedVectors, \u001b[38;5;28mself\u001b[39m)\u001b[38;5;241m.\u001b[39m_load_specials(\u001b[38;5;241m*\u001b[39margs, \u001b[38;5;241m*\u001b[39m\u001b[38;5;241m*\u001b[39mkwargs)\n\u001b[0;32m    264\u001b[0m     \u001b[38;5;28;01mif\u001b[39;00m \u001b[38;5;28mhasattr\u001b[39m(\u001b[38;5;28mself\u001b[39m, \u001b[38;5;124m'\u001b[39m\u001b[38;5;124mdoctags\u001b[39m\u001b[38;5;124m'\u001b[39m):\n\u001b[0;32m    265\u001b[0m         \u001b[38;5;28mself\u001b[39m\u001b[38;5;241m.\u001b[39m_upconvert_old_d2vkv()\n",
      "File \u001b[1;32m~\\anaconda3\\envs\\HeadphoneFinder\\lib\\site-packages\\gensim\\utils.py:529\u001b[0m, in \u001b[0;36mSaveLoad._load_specials\u001b[1;34m(self, fname, mmap, compress, subname)\u001b[0m\n\u001b[0;32m    527\u001b[0m     val \u001b[38;5;241m=\u001b[39m np\u001b[38;5;241m.\u001b[39mload(subname(fname, attrib))[\u001b[38;5;124m'\u001b[39m\u001b[38;5;124mval\u001b[39m\u001b[38;5;124m'\u001b[39m]\n\u001b[0;32m    528\u001b[0m \u001b[38;5;28;01melse\u001b[39;00m:\n\u001b[1;32m--> 529\u001b[0m     val \u001b[38;5;241m=\u001b[39m \u001b[43mnp\u001b[49m\u001b[38;5;241;43m.\u001b[39;49m\u001b[43mload\u001b[49m\u001b[43m(\u001b[49m\u001b[43msubname\u001b[49m\u001b[43m(\u001b[49m\u001b[43mfname\u001b[49m\u001b[43m,\u001b[49m\u001b[43m \u001b[49m\u001b[43mattrib\u001b[49m\u001b[43m)\u001b[49m\u001b[43m,\u001b[49m\u001b[43m \u001b[49m\u001b[43mmmap_mode\u001b[49m\u001b[38;5;241;43m=\u001b[39;49m\u001b[43mmmap\u001b[49m\u001b[43m)\u001b[49m\n\u001b[0;32m    531\u001b[0m \u001b[38;5;28;01mwith\u001b[39;00m ignore_deprecation_warning():\n\u001b[0;32m    532\u001b[0m     \u001b[38;5;28msetattr\u001b[39m(\u001b[38;5;28mself\u001b[39m, attrib, val)\n",
      "File \u001b[1;32m~\\anaconda3\\envs\\HeadphoneFinder\\lib\\site-packages\\numpy\\lib\\npyio.py:405\u001b[0m, in \u001b[0;36mload\u001b[1;34m(file, mmap_mode, allow_pickle, fix_imports, encoding, max_header_size)\u001b[0m\n\u001b[0;32m    403\u001b[0m     own_fid \u001b[38;5;241m=\u001b[39m \u001b[38;5;28;01mFalse\u001b[39;00m\n\u001b[0;32m    404\u001b[0m \u001b[38;5;28;01melse\u001b[39;00m:\n\u001b[1;32m--> 405\u001b[0m     fid \u001b[38;5;241m=\u001b[39m stack\u001b[38;5;241m.\u001b[39menter_context(\u001b[38;5;28;43mopen\u001b[39;49m\u001b[43m(\u001b[49m\u001b[43mos_fspath\u001b[49m\u001b[43m(\u001b[49m\u001b[43mfile\u001b[49m\u001b[43m)\u001b[49m\u001b[43m,\u001b[49m\u001b[43m \u001b[49m\u001b[38;5;124;43m\"\u001b[39;49m\u001b[38;5;124;43mrb\u001b[39;49m\u001b[38;5;124;43m\"\u001b[39;49m\u001b[43m)\u001b[49m)\n\u001b[0;32m    406\u001b[0m     own_fid \u001b[38;5;241m=\u001b[39m \u001b[38;5;28;01mTrue\u001b[39;00m\n\u001b[0;32m    408\u001b[0m \u001b[38;5;66;03m# Code to distinguish from NumPy binary files and pickles.\u001b[39;00m\n",
      "\u001b[1;31mOSError\u001b[0m: [Errno 22] Invalid argument: 'gs://glove_model_sentirec_analytics/glove_model.gensim.vectors.npy'"
     ]
    }
   ],
   "source": [
    "glove_model_url = f\"gs://{bucket_name}/glove_model.gensim\"\n",
    "glove_model = KeyedVectors.load(glove_model_url)"
   ]
  },
  {
   "cell_type": "code",
   "execution_count": 49,
   "id": "d19f13c8-0e1c-4f9f-a39c-397f264d0ce8",
   "metadata": {
    "tags": []
   },
   "outputs": [
    {
     "ename": "FileNotFoundError",
     "evalue": "[Errno 2] No such file or directory: 'glove_model_sentirec_analytics/glove_model.gensim'",
     "output_type": "error",
     "traceback": [
      "\u001b[1;31m---------------------------------------------------------------------------\u001b[0m",
      "\u001b[1;31mFileNotFoundError\u001b[0m                         Traceback (most recent call last)",
      "Cell \u001b[1;32mIn[49], line 9\u001b[0m\n\u001b[0;32m      5\u001b[0m glove_model_vectors_uri \u001b[38;5;241m=\u001b[39m \u001b[38;5;124mf\u001b[39m\u001b[38;5;124m\"\u001b[39m\u001b[38;5;124mgs://\u001b[39m\u001b[38;5;132;01m{\u001b[39;00mbucket_name\u001b[38;5;132;01m}\u001b[39;00m\u001b[38;5;124m/glove_model.gensim.vectors.npy\u001b[39m\u001b[38;5;124m\"\u001b[39m\n\u001b[0;32m      7\u001b[0m \u001b[38;5;66;03m# Use the URIs to access the files in your Streamlit app\u001b[39;00m\n\u001b[0;32m      8\u001b[0m \u001b[38;5;66;03m# For example, load the GloVe model file\u001b[39;00m\n\u001b[1;32m----> 9\u001b[0m \u001b[38;5;28;01mwith\u001b[39;00m \u001b[38;5;28;43mopen\u001b[39;49m\u001b[43m(\u001b[49m\u001b[43mglove_model_uri\u001b[49m\u001b[43m,\u001b[49m\u001b[43m \u001b[49m\u001b[38;5;124;43m'\u001b[39;49m\u001b[38;5;124;43mrb\u001b[39;49m\u001b[38;5;124;43m'\u001b[39;49m\u001b[43m)\u001b[49m \u001b[38;5;28;01mas\u001b[39;00m f:\n\u001b[0;32m     10\u001b[0m     glove_model_data \u001b[38;5;241m=\u001b[39m f\u001b[38;5;241m.\u001b[39mread()\n",
      "File \u001b[1;32m~\\anaconda3\\envs\\HeadphoneFinder\\lib\\site-packages\\IPython\\core\\interactiveshell.py:286\u001b[0m, in \u001b[0;36m_modified_open\u001b[1;34m(file, *args, **kwargs)\u001b[0m\n\u001b[0;32m    279\u001b[0m \u001b[38;5;28;01mif\u001b[39;00m file \u001b[38;5;129;01min\u001b[39;00m {\u001b[38;5;241m0\u001b[39m, \u001b[38;5;241m1\u001b[39m, \u001b[38;5;241m2\u001b[39m}:\n\u001b[0;32m    280\u001b[0m     \u001b[38;5;28;01mraise\u001b[39;00m \u001b[38;5;167;01mValueError\u001b[39;00m(\n\u001b[0;32m    281\u001b[0m         \u001b[38;5;124mf\u001b[39m\u001b[38;5;124m\"\u001b[39m\u001b[38;5;124mIPython won\u001b[39m\u001b[38;5;124m'\u001b[39m\u001b[38;5;124mt let you open fd=\u001b[39m\u001b[38;5;132;01m{\u001b[39;00mfile\u001b[38;5;132;01m}\u001b[39;00m\u001b[38;5;124m by default \u001b[39m\u001b[38;5;124m\"\u001b[39m\n\u001b[0;32m    282\u001b[0m         \u001b[38;5;124m\"\u001b[39m\u001b[38;5;124mas it is likely to crash IPython. If you know what you are doing, \u001b[39m\u001b[38;5;124m\"\u001b[39m\n\u001b[0;32m    283\u001b[0m         \u001b[38;5;124m\"\u001b[39m\u001b[38;5;124myou can use builtins\u001b[39m\u001b[38;5;124m'\u001b[39m\u001b[38;5;124m open.\u001b[39m\u001b[38;5;124m\"\u001b[39m\n\u001b[0;32m    284\u001b[0m     )\n\u001b[1;32m--> 286\u001b[0m \u001b[38;5;28;01mreturn\u001b[39;00m io_open(file, \u001b[38;5;241m*\u001b[39margs, \u001b[38;5;241m*\u001b[39m\u001b[38;5;241m*\u001b[39mkwargs)\n",
      "\u001b[1;31mFileNotFoundError\u001b[0m: [Errno 2] No such file or directory: 'glove_model_sentirec_analytics/glove_model.gensim'"
     ]
    }
   ],
   "source": [
    "file_names = ['glove_model.gensim', 'glove_model.gensim.vectors.npy']\n",
    "\n",
    "# Access the files directly from GCS\n",
    "glove_model_uri = f\"{bucket_name}/glove_model.gensim\"\n",
    "glove_model_vectors_uri = f\"gs://{bucket_name}/glove_model.gensim.vectors.npy\"\n",
    "\n",
    "# Use the URIs to access the files in your Streamlit app\n",
    "# For example, load the GloVe model file\n",
    "with open(glove_model_uri, 'rb') as f:\n",
    "    glove_model_data = f.read()"
   ]
  },
  {
   "cell_type": "code",
   "execution_count": 50,
   "id": "a3a51fbe-1dd5-4d13-9302-a0a1ec021783",
   "metadata": {
    "tags": []
   },
   "outputs": [],
   "source": [
    "glove_model_url = f\"https://console.cloud.google.com/storage/browser/{bucket_name}/glove_model.gensim\""
   ]
  },
  {
   "cell_type": "code",
   "execution_count": 29,
   "id": "8783a2a5-71a6-45b7-821e-4131541b9540",
   "metadata": {
    "tags": []
   },
   "outputs": [],
   "source": [
    "from gensim.models import KeyedVectors"
   ]
  },
  {
   "cell_type": "code",
   "execution_count": 51,
   "id": "aafd7c8a-c1e7-494c-b056-a351d94f2897",
   "metadata": {
    "tags": []
   },
   "outputs": [
    {
     "ename": "UnpicklingError",
     "evalue": "invalid load key, '<'.",
     "output_type": "error",
     "traceback": [
      "\u001b[1;31m---------------------------------------------------------------------------\u001b[0m",
      "\u001b[1;31mUnpicklingError\u001b[0m                           Traceback (most recent call last)",
      "Cell \u001b[1;32mIn[51], line 1\u001b[0m\n\u001b[1;32m----> 1\u001b[0m glove_model \u001b[38;5;241m=\u001b[39m \u001b[43mKeyedVectors\u001b[49m\u001b[38;5;241;43m.\u001b[39;49m\u001b[43mload\u001b[49m\u001b[43m(\u001b[49m\u001b[43mglove_model_url\u001b[49m\u001b[43m)\u001b[49m\n",
      "File \u001b[1;32m~\\anaconda3\\envs\\HeadphoneFinder\\lib\\site-packages\\gensim\\utils.py:486\u001b[0m, in \u001b[0;36mSaveLoad.load\u001b[1;34m(cls, fname, mmap)\u001b[0m\n\u001b[0;32m    482\u001b[0m logger\u001b[38;5;241m.\u001b[39minfo(\u001b[38;5;124m\"\u001b[39m\u001b[38;5;124mloading \u001b[39m\u001b[38;5;132;01m%s\u001b[39;00m\u001b[38;5;124m object from \u001b[39m\u001b[38;5;132;01m%s\u001b[39;00m\u001b[38;5;124m\"\u001b[39m, \u001b[38;5;28mcls\u001b[39m\u001b[38;5;241m.\u001b[39m\u001b[38;5;18m__name__\u001b[39m, fname)\n\u001b[0;32m    484\u001b[0m compress, subname \u001b[38;5;241m=\u001b[39m SaveLoad\u001b[38;5;241m.\u001b[39m_adapt_by_suffix(fname)\n\u001b[1;32m--> 486\u001b[0m obj \u001b[38;5;241m=\u001b[39m \u001b[43munpickle\u001b[49m\u001b[43m(\u001b[49m\u001b[43mfname\u001b[49m\u001b[43m)\u001b[49m\n\u001b[0;32m    487\u001b[0m obj\u001b[38;5;241m.\u001b[39m_load_specials(fname, mmap, compress, subname)\n\u001b[0;32m    488\u001b[0m obj\u001b[38;5;241m.\u001b[39madd_lifecycle_event(\u001b[38;5;124m\"\u001b[39m\u001b[38;5;124mloaded\u001b[39m\u001b[38;5;124m\"\u001b[39m, fname\u001b[38;5;241m=\u001b[39mfname)\n",
      "File \u001b[1;32m~\\anaconda3\\envs\\HeadphoneFinder\\lib\\site-packages\\gensim\\utils.py:1461\u001b[0m, in \u001b[0;36munpickle\u001b[1;34m(fname)\u001b[0m\n\u001b[0;32m   1447\u001b[0m \u001b[38;5;250m\u001b[39m\u001b[38;5;124;03m\"\"\"Load object from `fname`, using smart_open so that `fname` can be on S3, HDFS, compressed etc.\u001b[39;00m\n\u001b[0;32m   1448\u001b[0m \n\u001b[0;32m   1449\u001b[0m \u001b[38;5;124;03mParameters\u001b[39;00m\n\u001b[1;32m   (...)\u001b[0m\n\u001b[0;32m   1458\u001b[0m \n\u001b[0;32m   1459\u001b[0m \u001b[38;5;124;03m\"\"\"\u001b[39;00m\n\u001b[0;32m   1460\u001b[0m \u001b[38;5;28;01mwith\u001b[39;00m \u001b[38;5;28mopen\u001b[39m(fname, \u001b[38;5;124m'\u001b[39m\u001b[38;5;124mrb\u001b[39m\u001b[38;5;124m'\u001b[39m) \u001b[38;5;28;01mas\u001b[39;00m f:\n\u001b[1;32m-> 1461\u001b[0m     \u001b[38;5;28;01mreturn\u001b[39;00m \u001b[43m_pickle\u001b[49m\u001b[38;5;241;43m.\u001b[39;49m\u001b[43mload\u001b[49m\u001b[43m(\u001b[49m\u001b[43mf\u001b[49m\u001b[43m,\u001b[49m\u001b[43m \u001b[49m\u001b[43mencoding\u001b[49m\u001b[38;5;241;43m=\u001b[39;49m\u001b[38;5;124;43m'\u001b[39;49m\u001b[38;5;124;43mlatin1\u001b[39;49m\u001b[38;5;124;43m'\u001b[39;49m\u001b[43m)\u001b[49m\n",
      "\u001b[1;31mUnpicklingError\u001b[0m: invalid load key, '<'."
     ]
    }
   ],
   "source": [
    "glove_model = KeyedVectors.load(glove_model_url)"
   ]
  },
  {
   "cell_type": "code",
   "execution_count": 38,
   "id": "f47fb110-9c6a-427b-b391-514071c799d9",
   "metadata": {
    "tags": []
   },
   "outputs": [],
   "source": [
    "translucent_images = storage_client.list_blobs(bucket_name, prefix='translucent_images')"
   ]
  },
  {
   "cell_type": "code",
   "execution_count": 42,
   "id": "fe7cba0d-e6c1-41fb-8281-00bb23fe3f44",
   "metadata": {
    "tags": []
   },
   "outputs": [],
   "source": [
    "# List objects in the bucket with the specified prefix\n",
    "bucket = storage_client.bucket(bucket_name)\n",
    "blobs = bucket.list_blobs(prefix='translucent_images')\n",
    "\n",
    "# Create a directory to store downloaded files\n",
    "output_dir = 'translucent_images'\n",
    "os.makedirs(output_dir, exist_ok=True)\n",
    "\n",
    "# Download each object in the prefix to the output directory\n",
    "for blob in blobs:\n",
    "    # Extract the file name from the blob name\n",
    "    file_name = os.path.basename(blob.name)\n",
    "    # Download the blob to the output directory\n",
    "    blob.download_to_filename(os.path.join(output_dir, file_name))"
   ]
  },
  {
   "cell_type": "code",
   "execution_count": null,
   "id": "7a31be98-23bd-4188-898d-e047dd51b733",
   "metadata": {},
   "outputs": [],
   "source": []
  }
 ],
 "metadata": {
  "kernelspec": {
   "display_name": "Python 3 (ipykernel)",
   "language": "python",
   "name": "python3"
  },
  "language_info": {
   "codemirror_mode": {
    "name": "ipython",
    "version": 3
   },
   "file_extension": ".py",
   "mimetype": "text/x-python",
   "name": "python",
   "nbconvert_exporter": "python",
   "pygments_lexer": "ipython3",
   "version": "3.9.18"
  }
 },
 "nbformat": 4,
 "nbformat_minor": 5
}
