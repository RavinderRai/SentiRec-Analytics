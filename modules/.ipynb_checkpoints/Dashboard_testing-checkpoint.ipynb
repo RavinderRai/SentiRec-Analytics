{
 "cells": [
  {
   "cell_type": "markdown",
   "id": "15b342cc-5836-4848-9e6b-db92ee064099",
   "metadata": {},
   "source": [
    "# Dashboard Scratch pad for quick testing\n",
    "\n",
    "Note: the Airpods 3 headphone doesn't have a product description so either try to get it with the free API later or forget about it."
   ]
  },
  {
   "cell_type": "code",
   "execution_count": 1,
   "id": "035f0a80-54b7-4bc5-8218-9a68935b4f19",
   "metadata": {
    "tags": []
   },
   "outputs": [],
   "source": [
    "import pandas as pd\n",
    "from sqlalchemy import create_engine, inspect\n",
    "import ast"
   ]
  },
  {
   "cell_type": "code",
   "execution_count": 2,
   "id": "29cde72d-5fdc-4120-ac80-d3f048d25496",
   "metadata": {
    "tags": []
   },
   "outputs": [],
   "source": [
    "# Connection parameters\n",
    "server = 'RAVI-DESKTOP\\SQLEXPRESS01'\n",
    "database = 'SentiRec_Analytics'\n",
    "username = 'RAVI-DESKTOP\\RaviB'\n",
    "\n",
    "# Connection parameters\n",
    "driver = 'ODBC+Driver+17+for+SQL+Server'  # Adjust the driver name if needed\n",
    "\n",
    "# Create an SQLAlchemy engine\n",
    "engine = create_engine(f\"mssql+pyodbc://{server}/{database}?driver={driver}\")\n",
    "\n",
    "dataframes_dict = {}\n",
    "\n",
    "try:\n",
    "    # Create an inspector to inspect the database and get the tables names\n",
    "    inspector = inspect(engine)\n",
    "    table_names = inspector.get_table_names()\n",
    "\n",
    "    # Load each table into a Pandas DataFrame\n",
    "    for table_name in table_names:\n",
    "        df = pd.read_sql_table(table_name, con=engine)\n",
    "        # Display or process the DataFrame as needed\n",
    "        dataframes_dict[table_name] = df\n",
    "    \n",
    "\n",
    "\n",
    "except pd.errors.DatabaseError as e:\n",
    "    print(\"Error reading from the database:\", e)\n",
    "\n",
    "finally:\n",
    "    # Dispose of the engine\n",
    "    engine.dispose()"
   ]
  },
  {
   "cell_type": "code",
   "execution_count": 3,
   "id": "b16e49f9-a774-4e04-b37d-60737c46034d",
   "metadata": {
    "tags": []
   },
   "outputs": [
    {
     "data": {
      "text/plain": [
       "dict_keys(['amazon_product_descriptions', 'amazon_reviews_dim_table', 'averaged_embeddings', 'headphones_fact_table', 'SoundGuys_Data', 'SoundGuys_Summary_Pairs', 'yt_reviews_gen_summaries'])"
      ]
     },
     "execution_count": 3,
     "metadata": {},
     "output_type": "execute_result"
    }
   ],
   "source": [
    "dataframes_dict.keys()"
   ]
  },
  {
   "cell_type": "code",
   "execution_count": 12,
   "id": "0cb03306-23b4-4c14-91d6-e87a0835b763",
   "metadata": {
    "tags": []
   },
   "outputs": [],
   "source": [
    "prod_descriptions = dataframes_dict['amazon_product_descriptions']\n",
    "#prod_descriptions.drop(prod_descriptions[prod_descriptions['headphoneName'] == 'AirPods 3'].index)"
   ]
  },
  {
   "cell_type": "code",
   "execution_count": 13,
   "id": "d612e691-7f4d-4100-a864-bf4ab7b9ab52",
   "metadata": {
    "tags": []
   },
   "outputs": [
    {
     "data": {
      "text/plain": [
       "Index(['headphoneName', 'URLs', 'title', 'url', 'asin', 'inStock',\n",
       "       'inStockText', 'brand', 'price', 'stars', 'starsBreakdown',\n",
       "       'reviewsCount', 'breadCrumbs', 'thumbnailImage', 'galleryThumbnails',\n",
       "       'highResolutionImages', 'description', 'features', 'attributes',\n",
       "       'productOverview', 'variantAsins', 'variantDetails', 'reviewsLink',\n",
       "       'hasReviews', 'delivery', 'variantAttributes', 'manufacturerAttributes',\n",
       "       'seller', 'bestsellerRanks', 'isAmazonChoice', 'amazonChoiceText',\n",
       "       'locationText', 'loadedCountryCode', 'unNormalizedProductUrl'],\n",
       "      dtype='object')"
      ]
     },
     "execution_count": 13,
     "metadata": {},
     "output_type": "execute_result"
    }
   ],
   "source": [
    "prod_descriptions.columns"
   ]
  },
  {
   "cell_type": "code",
   "execution_count": 16,
   "id": "0866c0f1-4f27-4d09-8582-010b08d3f06b",
   "metadata": {
    "tags": []
   },
   "outputs": [
    {
     "data": {
      "text/plain": [
       "0                                                  None\n",
       "1                                                  None\n",
       "2                                                  None\n",
       "3                                                  None\n",
       "4     Better sound begins with better silence. So Bo...\n",
       "5     Bose QuietComfort Earbuds II are a sleek, vers...\n",
       "6     ACTIVE NOISE CANCELLATION: Reduce unwanted noi...\n",
       "7     Jabra Elite 7 Pro True Wireless EarbudsThe wor...\n",
       "8     The TF8's stay in place during your most inten...\n",
       "9     Meet Google Pixel Buds Pro, the noise-cancelin...\n",
       "10    With best-in-class audio, next generation Adap...\n",
       "11    LINK BUDS, TRUE WIRELESS, OPEN-RING DESIGN, AL...\n",
       "12    Automate your audio experience with ultralight...\n",
       "13    Sony WF-1000XM5 The Best Truly Wireless Blueto...\n",
       "14    TRUE WIRELESS EARBUDS, NOISE-CANCELING, ALEXA ...\n",
       "15                                                 None\n",
       "Name: description, dtype: object"
      ]
     },
     "execution_count": 16,
     "metadata": {},
     "output_type": "execute_result"
    }
   ],
   "source": [
    "prod_descriptions['description']"
   ]
  },
  {
   "cell_type": "code",
   "execution_count": 31,
   "id": "457b0a3f-f558-494f-81b9-01e5915a9238",
   "metadata": {
    "tags": []
   },
   "outputs": [],
   "source": [
    "prod_descriptions = prod_descriptions[prod_descriptions['headphoneName'] != 'AirPods 3']\n",
    "features = prod_descriptions['features'].apply(ast.literal_eval)"
   ]
  },
  {
   "cell_type": "code",
   "execution_count": 32,
   "id": "de9dc735-e669-46a8-9728-3ad30eeb06ab",
   "metadata": {},
   "outputs": [
    {
     "data": {
      "text/plain": [
       "['New Audio Evolution, Ultimate Music Enjoy :With LDAC technology, Consist of 10mm dynamic driver and a balanced armature, 1MORE EVO creates a new evolution in it’s wireless earbuds project. This unique acoustic cavity design can provide pure studio sound with incredible clarity, punchy bass, crispy vocals, unrivaled details and a wide soundstage which are excellent even at low volumes. And the integration of SoundID technology allows you to customize your music style.',\n",
       " 'Multiple ANC Modes and Transparency Modes:While there is different kinds of scenarios when you use earphones, so 1MORE EVO supplies 4 active noise cancelling modes and 2 transparency modes in 1MORE MUSIC APP. To improve immersive enjoyment, 1MORE’s proprietary QuietMax active noise cancellation technology providing up to 42dB noise cancellation depth.',\n",
       " 'Intelligently ANC Mode Adapted to Your Surroundings: When Adaptive ANC is on, the 1MORE EVO recognizes the ambient sounds intelligently, then switches the noise cancellation mode accordingly for a suitable hearing experience. No need for manual adjustment, free your hands.',\n",
       " \"Adjustable EQ Modes: Equilizer and 12 studio-grade EQ presets in 1MORE MUSIC APP can supply a immersive listening. And please update the earbuds' firmware to the latest version before using it at the first time.\",\n",
       " 'Crystal Clear Calls by 6 Built-in Mics ENC Voice System: Triple microphones array with an intelligent deep neural network algorithm detects and removes background noise, making human voices stand out to deliver a unrivaled speech clarity. Bluetooth 5.2 provides you truly wireless enjoyment with seamless connection and lower consumption.']"
      ]
     },
     "execution_count": 32,
     "metadata": {},
     "output_type": "execute_result"
    }
   ],
   "source": [
    "features[0]"
   ]
  },
  {
   "cell_type": "code",
   "execution_count": 3,
   "id": "df06fa9c-00da-433d-b01d-2ddbbf971667",
   "metadata": {},
   "outputs": [],
   "source": [
    "headphones_fact_table = dataframes_dict['headphones_fact_table']"
   ]
  },
  {
   "cell_type": "code",
   "execution_count": 4,
   "id": "b96cdfad-20a5-409e-a0b0-15c7f04d00af",
   "metadata": {
    "tags": []
   },
   "outputs": [
    {
     "data": {
      "text/html": [
       "<div>\n",
       "<style scoped>\n",
       "    .dataframe tbody tr th:only-of-type {\n",
       "        vertical-align: middle;\n",
       "    }\n",
       "\n",
       "    .dataframe tbody tr th {\n",
       "        vertical-align: top;\n",
       "    }\n",
       "\n",
       "    .dataframe thead th {\n",
       "        text-align: right;\n",
       "    }\n",
       "</style>\n",
       "<table border=\"1\" class=\"dataframe\">\n",
       "  <thead>\n",
       "    <tr style=\"text-align: right;\">\n",
       "      <th></th>\n",
       "      <th>primaryKey</th>\n",
       "      <th>region</th>\n",
       "      <th>ratingScore</th>\n",
       "      <th>priceValue</th>\n",
       "      <th>priceCurrency</th>\n",
       "      <th>listPriceValue</th>\n",
       "      <th>listPriceCurrency</th>\n",
       "      <th>headphoneName</th>\n",
       "      <th>batteryLabel</th>\n",
       "      <th>batteryScore</th>\n",
       "      <th>comfortLabel</th>\n",
       "      <th>comfortScore</th>\n",
       "      <th>noisecancellationLabel</th>\n",
       "      <th>noisecancellationScore</th>\n",
       "      <th>soundqualityLabel</th>\n",
       "      <th>soundqualityScore</th>\n",
       "    </tr>\n",
       "  </thead>\n",
       "  <tbody>\n",
       "    <tr>\n",
       "      <th>0</th>\n",
       "      <td>1</td>\n",
       "      <td>US</td>\n",
       "      <td>1.0</td>\n",
       "      <td>164.970001</td>\n",
       "      <td>USD</td>\n",
       "      <td>NaN</td>\n",
       "      <td>USD</td>\n",
       "      <td>sony xm4 earbuds</td>\n",
       "      <td>Negative</td>\n",
       "      <td>0.894016</td>\n",
       "      <td>Negative</td>\n",
       "      <td>0.886814</td>\n",
       "      <td>None</td>\n",
       "      <td>0.000000</td>\n",
       "      <td>None</td>\n",
       "      <td>0.000000</td>\n",
       "    </tr>\n",
       "    <tr>\n",
       "      <th>1</th>\n",
       "      <td>2</td>\n",
       "      <td>US</td>\n",
       "      <td>1.0</td>\n",
       "      <td>164.970001</td>\n",
       "      <td>USD</td>\n",
       "      <td>NaN</td>\n",
       "      <td>USD</td>\n",
       "      <td>sony xm4 earbuds</td>\n",
       "      <td>Positive</td>\n",
       "      <td>0.908510</td>\n",
       "      <td>Positive</td>\n",
       "      <td>0.916273</td>\n",
       "      <td>None</td>\n",
       "      <td>0.000000</td>\n",
       "      <td>Positive</td>\n",
       "      <td>0.908909</td>\n",
       "    </tr>\n",
       "    <tr>\n",
       "      <th>2</th>\n",
       "      <td>3</td>\n",
       "      <td>US</td>\n",
       "      <td>1.0</td>\n",
       "      <td>164.970001</td>\n",
       "      <td>USD</td>\n",
       "      <td>NaN</td>\n",
       "      <td>USD</td>\n",
       "      <td>sony xm4 earbuds</td>\n",
       "      <td>Negative</td>\n",
       "      <td>0.499079</td>\n",
       "      <td>None</td>\n",
       "      <td>0.000000</td>\n",
       "      <td>Negative</td>\n",
       "      <td>0.517302</td>\n",
       "      <td>None</td>\n",
       "      <td>0.000000</td>\n",
       "    </tr>\n",
       "    <tr>\n",
       "      <th>3</th>\n",
       "      <td>4</td>\n",
       "      <td>US</td>\n",
       "      <td>1.0</td>\n",
       "      <td>164.970001</td>\n",
       "      <td>USD</td>\n",
       "      <td>NaN</td>\n",
       "      <td>USD</td>\n",
       "      <td>sony xm4 earbuds</td>\n",
       "      <td>Negative</td>\n",
       "      <td>0.867483</td>\n",
       "      <td>None</td>\n",
       "      <td>0.000000</td>\n",
       "      <td>Negative</td>\n",
       "      <td>0.843609</td>\n",
       "      <td>None</td>\n",
       "      <td>0.000000</td>\n",
       "    </tr>\n",
       "    <tr>\n",
       "      <th>4</th>\n",
       "      <td>5</td>\n",
       "      <td>US</td>\n",
       "      <td>1.0</td>\n",
       "      <td>164.970001</td>\n",
       "      <td>USD</td>\n",
       "      <td>NaN</td>\n",
       "      <td>USD</td>\n",
       "      <td>sony xm4 earbuds</td>\n",
       "      <td>Negative</td>\n",
       "      <td>0.885287</td>\n",
       "      <td>None</td>\n",
       "      <td>0.000000</td>\n",
       "      <td>Negative</td>\n",
       "      <td>0.832005</td>\n",
       "      <td>Negative</td>\n",
       "      <td>0.846645</td>\n",
       "    </tr>\n",
       "  </tbody>\n",
       "</table>\n",
       "</div>"
      ],
      "text/plain": [
       "   primaryKey region  ratingScore  priceValue priceCurrency  listPriceValue  \\\n",
       "0           1     US          1.0  164.970001           USD             NaN   \n",
       "1           2     US          1.0  164.970001           USD             NaN   \n",
       "2           3     US          1.0  164.970001           USD             NaN   \n",
       "3           4     US          1.0  164.970001           USD             NaN   \n",
       "4           5     US          1.0  164.970001           USD             NaN   \n",
       "\n",
       "  listPriceCurrency     headphoneName batteryLabel  batteryScore comfortLabel  \\\n",
       "0               USD  sony xm4 earbuds     Negative      0.894016     Negative   \n",
       "1               USD  sony xm4 earbuds     Positive      0.908510     Positive   \n",
       "2               USD  sony xm4 earbuds     Negative      0.499079         None   \n",
       "3               USD  sony xm4 earbuds     Negative      0.867483         None   \n",
       "4               USD  sony xm4 earbuds     Negative      0.885287         None   \n",
       "\n",
       "   comfortScore noisecancellationLabel  noisecancellationScore  \\\n",
       "0      0.886814                   None                0.000000   \n",
       "1      0.916273                   None                0.000000   \n",
       "2      0.000000               Negative                0.517302   \n",
       "3      0.000000               Negative                0.843609   \n",
       "4      0.000000               Negative                0.832005   \n",
       "\n",
       "  soundqualityLabel  soundqualityScore  \n",
       "0              None           0.000000  \n",
       "1          Positive           0.908909  \n",
       "2              None           0.000000  \n",
       "3              None           0.000000  \n",
       "4          Negative           0.846645  "
      ]
     },
     "execution_count": 4,
     "metadata": {},
     "output_type": "execute_result"
    }
   ],
   "source": [
    "headphones_fact_table.head()"
   ]
  },
  {
   "cell_type": "code",
   "execution_count": 13,
   "id": "a210818d-b6db-496a-8230-371b8cd3a9c0",
   "metadata": {
    "tags": []
   },
   "outputs": [
    {
     "data": {
      "text/plain": [
       "1010"
      ]
     },
     "execution_count": 13,
     "metadata": {},
     "output_type": "execute_result"
    }
   ],
   "source": [
    "headphones_fact_table.shape\n",
    "(headphones_fact_table['batteryScore'] == 0).sum()"
   ]
  },
  {
   "cell_type": "code",
   "execution_count": 5,
   "id": "6ad61515-cc59-450c-bf32-0b3254812306",
   "metadata": {
    "tags": []
   },
   "outputs": [
    {
     "data": {
      "text/plain": [
       "(476, 3)"
      ]
     },
     "execution_count": 5,
     "metadata": {},
     "output_type": "execute_result"
    }
   ],
   "source": [
    "battery_df = headphones_fact_table[['headphoneName', 'batteryLabel', 'batteryScore']].loc[headphones_fact_table['batteryScore'] != 0]\n",
    "battery_df.shape"
   ]
  },
  {
   "cell_type": "code",
   "execution_count": 21,
   "id": "05d4a9f6-0292-4a67-a42d-f03368eb3450",
   "metadata": {
    "tags": []
   },
   "outputs": [
    {
     "data": {
      "text/plain": [
       "(476, 3)"
      ]
     },
     "execution_count": 21,
     "metadata": {},
     "output_type": "execute_result"
    }
   ],
   "source": [
    "battery_df = headphones_fact_table[['headphoneName', 'batteryLabel', 'batteryScore']]\n",
    "battery_df = battery_df[battery_df['batteryScore'] != 0]\n",
    "assert (battery_df['batteryScore'] == 0).sum() == 0\n",
    "battery_df.shape"
   ]
  },
  {
   "cell_type": "code",
   "execution_count": 19,
   "id": "9014f464-037a-429a-8abe-a6dae077d8e9",
   "metadata": {
    "tags": []
   },
   "outputs": [],
   "source": [
    "assert (battery_df['batteryScore'] == 0).sum() == 0, \"There are zero values in the 'batteryScore' column.\""
   ]
  },
  {
   "cell_type": "code",
   "execution_count": 22,
   "id": "31c5b80b-f4f8-4f8f-bd3c-31286698a614",
   "metadata": {
    "tags": []
   },
   "outputs": [],
   "source": [
    "noisecancellation_df = headphones_fact_table[['headphoneName', \n",
    "                                              'noisecancellationLabel', \n",
    "                                              'noisecancellationScore']\n",
    "                                            ].loc[headphones_fact_table['noisecancellationScore'] != 0]"
   ]
  },
  {
   "cell_type": "code",
   "execution_count": 33,
   "id": "1e3cbc8d-2184-4bb4-9ab0-73ce2ded75c4",
   "metadata": {
    "tags": []
   },
   "outputs": [
    {
     "data": {
      "text/html": [
       "<div>\n",
       "<style scoped>\n",
       "    .dataframe tbody tr th:only-of-type {\n",
       "        vertical-align: middle;\n",
       "    }\n",
       "\n",
       "    .dataframe tbody tr th {\n",
       "        vertical-align: top;\n",
       "    }\n",
       "\n",
       "    .dataframe thead th {\n",
       "        text-align: right;\n",
       "    }\n",
       "</style>\n",
       "<table border=\"1\" class=\"dataframe\">\n",
       "  <thead>\n",
       "    <tr style=\"text-align: right;\">\n",
       "      <th></th>\n",
       "      <th>headphoneName</th>\n",
       "      <th>noisecancellationLabel</th>\n",
       "      <th>noisecancellationScore</th>\n",
       "    </tr>\n",
       "  </thead>\n",
       "  <tbody>\n",
       "    <tr>\n",
       "      <th>1252</th>\n",
       "      <td>Soundcore Liberty 3</td>\n",
       "      <td>Neutral</td>\n",
       "      <td>0.941952</td>\n",
       "    </tr>\n",
       "  </tbody>\n",
       "</table>\n",
       "</div>"
      ],
      "text/plain": [
       "            headphoneName noisecancellationLabel  noisecancellationScore\n",
       "1252  Soundcore Liberty 3                Neutral                0.941952"
      ]
     },
     "execution_count": 33,
     "metadata": {},
     "output_type": "execute_result"
    }
   ],
   "source": [
    "noisecancellation_df[noisecancellation_df['noisecancellationLabel'] == 'Neutral']"
   ]
  },
  {
   "cell_type": "code",
   "execution_count": 9,
   "id": "a81c0fdf-9ada-4469-a4d4-1e8b4dd1c75b",
   "metadata": {},
   "outputs": [
    {
     "data": {
      "text/html": [
       "<div>\n",
       "<style scoped>\n",
       "    .dataframe tbody tr th:only-of-type {\n",
       "        vertical-align: middle;\n",
       "    }\n",
       "\n",
       "    .dataframe tbody tr th {\n",
       "        vertical-align: top;\n",
       "    }\n",
       "\n",
       "    .dataframe thead th {\n",
       "        text-align: right;\n",
       "    }\n",
       "</style>\n",
       "<table border=\"1\" class=\"dataframe\">\n",
       "  <thead>\n",
       "    <tr style=\"text-align: right;\">\n",
       "      <th></th>\n",
       "      <th></th>\n",
       "      <th>batteryScore</th>\n",
       "    </tr>\n",
       "    <tr>\n",
       "      <th>headphoneName</th>\n",
       "      <th>batteryLabel</th>\n",
       "      <th></th>\n",
       "    </tr>\n",
       "  </thead>\n",
       "  <tbody>\n",
       "    <tr>\n",
       "      <th rowspan=\"2\" valign=\"top\">1MORE Evo</th>\n",
       "      <th>Negative</th>\n",
       "      <td>0.769466</td>\n",
       "    </tr>\n",
       "    <tr>\n",
       "      <th>Positive</th>\n",
       "      <td>0.865957</td>\n",
       "    </tr>\n",
       "    <tr>\n",
       "      <th rowspan=\"2\" valign=\"top\">AirPods 3</th>\n",
       "      <th>Negative</th>\n",
       "      <td>0.887797</td>\n",
       "    </tr>\n",
       "    <tr>\n",
       "      <th>Positive</th>\n",
       "      <td>0.840079</td>\n",
       "    </tr>\n",
       "    <tr>\n",
       "      <th rowspan=\"2\" valign=\"top\">AirPods Pro 2 Earbuds</th>\n",
       "      <th>Negative</th>\n",
       "      <td>0.838483</td>\n",
       "    </tr>\n",
       "    <tr>\n",
       "      <th>Positive</th>\n",
       "      <td>0.902657</td>\n",
       "    </tr>\n",
       "    <tr>\n",
       "      <th rowspan=\"3\" valign=\"top\">Beats Fit Pro Earbuds</th>\n",
       "      <th>Negative</th>\n",
       "      <td>0.872616</td>\n",
       "    </tr>\n",
       "    <tr>\n",
       "      <th>Neutral</th>\n",
       "      <td>0.371096</td>\n",
       "    </tr>\n",
       "    <tr>\n",
       "      <th>Positive</th>\n",
       "      <td>0.821054</td>\n",
       "    </tr>\n",
       "    <tr>\n",
       "      <th rowspan=\"2\" valign=\"top\">Bose Quietcomfort Earbuds</th>\n",
       "      <th>Negative</th>\n",
       "      <td>0.809765</td>\n",
       "    </tr>\n",
       "    <tr>\n",
       "      <th>Positive</th>\n",
       "      <td>0.790599</td>\n",
       "    </tr>\n",
       "    <tr>\n",
       "      <th rowspan=\"2\" valign=\"top\">Bose Quietcomfort Earbuds 2</th>\n",
       "      <th>Negative</th>\n",
       "      <td>0.792137</td>\n",
       "    </tr>\n",
       "    <tr>\n",
       "      <th>Positive</th>\n",
       "      <td>0.799833</td>\n",
       "    </tr>\n",
       "    <tr>\n",
       "      <th rowspan=\"2\" valign=\"top\">Galaxy Buds2 Pro</th>\n",
       "      <th>Negative</th>\n",
       "      <td>0.897082</td>\n",
       "    </tr>\n",
       "    <tr>\n",
       "      <th>Positive</th>\n",
       "      <td>0.823262</td>\n",
       "    </tr>\n",
       "    <tr>\n",
       "      <th rowspan=\"2\" valign=\"top\">Jabra Elite 7 Pro</th>\n",
       "      <th>Negative</th>\n",
       "      <td>0.804701</td>\n",
       "    </tr>\n",
       "    <tr>\n",
       "      <th>Positive</th>\n",
       "      <td>0.838446</td>\n",
       "    </tr>\n",
       "    <tr>\n",
       "      <th rowspan=\"3\" valign=\"top\">Pixel Buds Pro</th>\n",
       "      <th>Negative</th>\n",
       "      <td>0.786385</td>\n",
       "    </tr>\n",
       "    <tr>\n",
       "      <th>Neutral</th>\n",
       "      <td>0.456170</td>\n",
       "    </tr>\n",
       "    <tr>\n",
       "      <th>Positive</th>\n",
       "      <td>0.839263</td>\n",
       "    </tr>\n",
       "    <tr>\n",
       "      <th rowspan=\"2\" valign=\"top\">Sennheiser MTW3</th>\n",
       "      <th>Negative</th>\n",
       "      <td>0.830954</td>\n",
       "    </tr>\n",
       "    <tr>\n",
       "      <th>Positive</th>\n",
       "      <td>0.727581</td>\n",
       "    </tr>\n",
       "    <tr>\n",
       "      <th rowspan=\"2\" valign=\"top\">Sony Linkbuds S</th>\n",
       "      <th>Negative</th>\n",
       "      <td>0.828472</td>\n",
       "    </tr>\n",
       "    <tr>\n",
       "      <th>Positive</th>\n",
       "      <td>0.762581</td>\n",
       "    </tr>\n",
       "    <tr>\n",
       "      <th rowspan=\"2\" valign=\"top\">Sony Linkbuds original</th>\n",
       "      <th>Negative</th>\n",
       "      <td>0.791140</td>\n",
       "    </tr>\n",
       "    <tr>\n",
       "      <th>Positive</th>\n",
       "      <td>0.751124</td>\n",
       "    </tr>\n",
       "    <tr>\n",
       "      <th rowspan=\"3\" valign=\"top\">Sony WF-1000XM5</th>\n",
       "      <th>Negative</th>\n",
       "      <td>0.828710</td>\n",
       "    </tr>\n",
       "    <tr>\n",
       "      <th>Neutral</th>\n",
       "      <td>0.768681</td>\n",
       "    </tr>\n",
       "    <tr>\n",
       "      <th>Positive</th>\n",
       "      <td>0.863777</td>\n",
       "    </tr>\n",
       "    <tr>\n",
       "      <th rowspan=\"3\" valign=\"top\">Soundcore Liberty 3</th>\n",
       "      <th>Negative</th>\n",
       "      <td>0.853249</td>\n",
       "    </tr>\n",
       "    <tr>\n",
       "      <th>Neutral</th>\n",
       "      <td>0.553545</td>\n",
       "    </tr>\n",
       "    <tr>\n",
       "      <th>Positive</th>\n",
       "      <td>0.830641</td>\n",
       "    </tr>\n",
       "    <tr>\n",
       "      <th rowspan=\"2\" valign=\"top\">lg tone tf8</th>\n",
       "      <th>Negative</th>\n",
       "      <td>0.574770</td>\n",
       "    </tr>\n",
       "    <tr>\n",
       "      <th>Positive</th>\n",
       "      <td>0.932193</td>\n",
       "    </tr>\n",
       "    <tr>\n",
       "      <th rowspan=\"2\" valign=\"top\">sony xm4 earbuds</th>\n",
       "      <th>Negative</th>\n",
       "      <td>0.835615</td>\n",
       "    </tr>\n",
       "    <tr>\n",
       "      <th>Positive</th>\n",
       "      <td>0.793415</td>\n",
       "    </tr>\n",
       "  </tbody>\n",
       "</table>\n",
       "</div>"
      ],
      "text/plain": [
       "                                          batteryScore\n",
       "headphoneName               batteryLabel              \n",
       "1MORE Evo                   Negative          0.769466\n",
       "                            Positive          0.865957\n",
       "AirPods 3                   Negative          0.887797\n",
       "                            Positive          0.840079\n",
       "AirPods Pro 2 Earbuds       Negative          0.838483\n",
       "                            Positive          0.902657\n",
       "Beats Fit Pro Earbuds       Negative          0.872616\n",
       "                            Neutral           0.371096\n",
       "                            Positive          0.821054\n",
       "Bose Quietcomfort Earbuds   Negative          0.809765\n",
       "                            Positive          0.790599\n",
       "Bose Quietcomfort Earbuds 2 Negative          0.792137\n",
       "                            Positive          0.799833\n",
       "Galaxy Buds2 Pro            Negative          0.897082\n",
       "                            Positive          0.823262\n",
       "Jabra Elite 7 Pro           Negative          0.804701\n",
       "                            Positive          0.838446\n",
       "Pixel Buds Pro              Negative          0.786385\n",
       "                            Neutral           0.456170\n",
       "                            Positive          0.839263\n",
       "Sennheiser MTW3             Negative          0.830954\n",
       "                            Positive          0.727581\n",
       "Sony Linkbuds S             Negative          0.828472\n",
       "                            Positive          0.762581\n",
       "Sony Linkbuds original      Negative          0.791140\n",
       "                            Positive          0.751124\n",
       "Sony WF-1000XM5             Negative          0.828710\n",
       "                            Neutral           0.768681\n",
       "                            Positive          0.863777\n",
       "Soundcore Liberty 3         Negative          0.853249\n",
       "                            Neutral           0.553545\n",
       "                            Positive          0.830641\n",
       "lg tone tf8                 Negative          0.574770\n",
       "                            Positive          0.932193\n",
       "sony xm4 earbuds            Negative          0.835615\n",
       "                            Positive          0.793415"
      ]
     },
     "execution_count": 9,
     "metadata": {},
     "output_type": "execute_result"
    }
   ],
   "source": [
    "battery_df[battery_df['headphoneName'] == 'sony xm4 earbuds']\n",
    "battery_df.groupby(['headphoneName', 'batteryLabel']).mean()"
   ]
  },
  {
   "cell_type": "code",
   "execution_count": 16,
   "id": "55661938-6ca8-4908-b6c7-5ee30bebec01",
   "metadata": {
    "tags": []
   },
   "outputs": [
    {
     "data": {
      "text/html": [
       "<div>\n",
       "<style scoped>\n",
       "    .dataframe tbody tr th:only-of-type {\n",
       "        vertical-align: middle;\n",
       "    }\n",
       "\n",
       "    .dataframe tbody tr th {\n",
       "        vertical-align: top;\n",
       "    }\n",
       "\n",
       "    .dataframe thead th {\n",
       "        text-align: right;\n",
       "    }\n",
       "</style>\n",
       "<table border=\"1\" class=\"dataframe\">\n",
       "  <thead>\n",
       "    <tr style=\"text-align: right;\">\n",
       "      <th></th>\n",
       "      <th>batteryLabel</th>\n",
       "      <th>batteryScore</th>\n",
       "    </tr>\n",
       "  </thead>\n",
       "  <tbody>\n",
       "    <tr>\n",
       "      <th>1</th>\n",
       "      <td>Positive</td>\n",
       "      <td>0.908510</td>\n",
       "    </tr>\n",
       "    <tr>\n",
       "      <th>10</th>\n",
       "      <td>Positive</td>\n",
       "      <td>0.958688</td>\n",
       "    </tr>\n",
       "    <tr>\n",
       "      <th>11</th>\n",
       "      <td>Positive</td>\n",
       "      <td>0.799859</td>\n",
       "    </tr>\n",
       "    <tr>\n",
       "      <th>15</th>\n",
       "      <td>Positive</td>\n",
       "      <td>0.982470</td>\n",
       "    </tr>\n",
       "    <tr>\n",
       "      <th>16</th>\n",
       "      <td>Positive</td>\n",
       "      <td>0.929207</td>\n",
       "    </tr>\n",
       "    <tr>\n",
       "      <th>...</th>\n",
       "      <td>...</td>\n",
       "      <td>...</td>\n",
       "    </tr>\n",
       "    <tr>\n",
       "      <th>1452</th>\n",
       "      <td>Positive</td>\n",
       "      <td>0.996748</td>\n",
       "    </tr>\n",
       "    <tr>\n",
       "      <th>1459</th>\n",
       "      <td>Positive</td>\n",
       "      <td>0.807490</td>\n",
       "    </tr>\n",
       "    <tr>\n",
       "      <th>1460</th>\n",
       "      <td>Positive</td>\n",
       "      <td>0.966179</td>\n",
       "    </tr>\n",
       "    <tr>\n",
       "      <th>1470</th>\n",
       "      <td>Positive</td>\n",
       "      <td>0.526243</td>\n",
       "    </tr>\n",
       "    <tr>\n",
       "      <th>1480</th>\n",
       "      <td>Positive</td>\n",
       "      <td>0.879247</td>\n",
       "    </tr>\n",
       "  </tbody>\n",
       "</table>\n",
       "<p>211 rows × 2 columns</p>\n",
       "</div>"
      ],
      "text/plain": [
       "     batteryLabel  batteryScore\n",
       "1        Positive      0.908510\n",
       "10       Positive      0.958688\n",
       "11       Positive      0.799859\n",
       "15       Positive      0.982470\n",
       "16       Positive      0.929207\n",
       "...           ...           ...\n",
       "1452     Positive      0.996748\n",
       "1459     Positive      0.807490\n",
       "1460     Positive      0.966179\n",
       "1470     Positive      0.526243\n",
       "1480     Positive      0.879247\n",
       "\n",
       "[211 rows x 2 columns]"
      ]
     },
     "execution_count": 16,
     "metadata": {},
     "output_type": "execute_result"
    }
   ],
   "source": [
    "battery_df[battery_df['batteryLabel'] == 'Positive']"
   ]
  },
  {
   "cell_type": "code",
   "execution_count": 41,
   "id": "80b2267c-1c2f-464b-9496-5e33a4b402f6",
   "metadata": {},
   "outputs": [],
   "source": [
    "filtered_df = battery_df[battery_df['headphoneName'] == '1MORE Evo']"
   ]
  },
  {
   "cell_type": "code",
   "execution_count": 46,
   "id": "50d01e0b-d515-4e45-97be-fea0b14bfeab",
   "metadata": {
    "tags": []
   },
   "outputs": [
    {
     "data": {
      "image/png": "[encoded data removed]",
      "text/plain": [
       "<Figure size 640x480 with 1 Axes>"
      ]
     },
     "metadata": {},
     "output_type": "display_data"
    }
   ],
   "source": [
    "import seaborn as sns\n",
    "selected_aspect = 'battery'\n",
    "scatter_data = filtered_df[filtered_df[f'{selected_aspect}Label'] == 'Positive']\n",
    "sns_kde = sns.kdeplot(scatter_data[f'{selected_aspect}Score'], color='blue', fill=True, common_norm=False, legend=False)"
   ]
  },
  {
   "cell_type": "code",
   "execution_count": 36,
   "id": "b3583a3f-2036-45da-bf6a-1bc24e7a106d",
   "metadata": {
    "tags": []
   },
   "outputs": [
    {
     "data": {
      "text/plain": [
       "array([0.32941633, 0.33394577, 0.33847521, 0.34300465, 0.34753409,\n",
       "       0.35206352, 0.35659296, 0.3611224 , 0.36565184, 0.37018128,\n",
       "       0.37471072, 0.37924016, 0.3837696 , 0.38829904, 0.39282848,\n",
       "       0.39735792, 0.40188736, 0.4064168 , 0.41094624, 0.41547568,\n",
       "       0.42000512, 0.42453456, 0.42906399, 0.43359343, 0.43812287,\n",
       "       0.44265231, 0.44718175, 0.45171119, 0.45624063, 0.46077007,\n",
       "       0.46529951, 0.46982895, 0.47435839, 0.47888783, 0.48341727,\n",
       "       0.48794671, 0.49247615, 0.49700559, 0.50153502, 0.50606446,\n",
       "       0.5105939 , 0.51512334, 0.51965278, 0.52418222, 0.52871166,\n",
       "       0.5332411 , 0.53777054, 0.54229998, 0.54682942, 0.55135886,\n",
       "       0.5558883 , 0.56041774, 0.56494718, 0.56947662, 0.57400606,\n",
       "       0.57853549, 0.58306493, 0.58759437, 0.59212381, 0.59665325,\n",
       "       0.60118269, 0.60571213, 0.61024157, 0.61477101, 0.61930045,\n",
       "       0.62382989, 0.62835933, 0.63288877, 0.63741821, 0.64194765,\n",
       "       0.64647709, 0.65100652, 0.65553596, 0.6600654 , 0.66459484,\n",
       "       0.66912428, 0.67365372, 0.67818316, 0.6827126 , 0.68724204,\n",
       "       0.69177148, 0.69630092, 0.70083036, 0.7053598 , 0.70988924,\n",
       "       0.71441868, 0.71894812, 0.72347756, 0.72800699, 0.73253643,\n",
       "       0.73706587, 0.74159531, 0.74612475, 0.75065419, 0.75518363,\n",
       "       0.75971307, 0.76424251, 0.76877195, 0.77330139, 0.77783083,\n",
       "       0.78236027, 0.78688971, 0.79141915, 0.79594859, 0.80047802,\n",
       "       0.80500746, 0.8095369 , 0.81406634, 0.81859578, 0.82312522,\n",
       "       0.82765466, 0.8321841 , 0.83671354, 0.84124298, 0.84577242,\n",
       "       0.85030186, 0.8548313 , 0.85936074, 0.86389018, 0.86841962,\n",
       "       0.87294905, 0.87747849, 0.88200793, 0.88653737, 0.89106681,\n",
       "       0.89559625, 0.90012569, 0.90465513, 0.90918457, 0.91371401,\n",
       "       0.91824345, 0.92277289, 0.92730233, 0.93183177, 0.93636121,\n",
       "       0.94089065, 0.94542009, 0.94994952, 0.95447896, 0.9590084 ,\n",
       "       0.96353784, 0.96806728, 0.97259672, 0.97712616, 0.9816556 ,\n",
       "       0.98618504, 0.99071448, 0.99524392, 0.99977336, 1.0043028 ,\n",
       "       1.00883224, 1.01336168, 1.01789112, 1.02242055, 1.02694999,\n",
       "       1.03147943, 1.03600887, 1.04053831, 1.04506775, 1.04959719,\n",
       "       1.05412663, 1.05865607, 1.06318551, 1.06771495, 1.07224439,\n",
       "       1.07677383, 1.08130327, 1.08583271, 1.09036215, 1.09489159,\n",
       "       1.09942102, 1.10395046, 1.1084799 , 1.11300934, 1.11753878,\n",
       "       1.12206822, 1.12659766, 1.1311271 , 1.13565654, 1.14018598,\n",
       "       1.14471542, 1.14924486, 1.1537743 , 1.15830374, 1.16283318,\n",
       "       1.16736262, 1.17189205, 1.17642149, 1.18095093, 1.18548037,\n",
       "       1.19000981, 1.19453925, 1.19906869, 1.20359813, 1.20812757,\n",
       "       1.21265701, 1.21718645, 1.22171589, 1.22624533, 1.23077477])"
      ]
     },
     "execution_count": 36,
     "metadata": {},
     "output_type": "execute_result"
    },
    {
     "data": {
      "image/png": "[encoded data removed]",
      "text/plain": [
       "<Figure size 640x480 with 1 Axes>"
      ]
     },
     "metadata": {},
     "output_type": "display_data"
    }
   ],
   "source": [
    "my_kde = kdeplot(scatter_data[f'{selected_aspect}Score'], fill=True, common_norm=False, legend=False)\n",
    "my_kde.get_lines()[0].get_xdata()"
   ]
  },
  {
   "cell_type": "code",
   "execution_count": 15,
   "id": "577625d7-8f3c-4ac6-994a-f99e20e7bfde",
   "metadata": {
    "tags": []
   },
   "outputs": [
    {
     "ename": "IndexError",
     "evalue": "list index out of range",
     "output_type": "error",
     "traceback": [
      "\u001b[1;31m---------------------------------------------------------------------------\u001b[0m",
      "\u001b[1;31mIndexError\u001b[0m                                Traceback (most recent call last)",
      "Cell \u001b[1;32mIn[15], line 6\u001b[0m\n\u001b[0;32m      1\u001b[0m \u001b[38;5;28;01mimport\u001b[39;00m \u001b[38;5;21;01mplotly\u001b[39;00m\u001b[38;5;21;01m.\u001b[39;00m\u001b[38;5;21;01mgraph_objects\u001b[39;00m \u001b[38;5;28;01mas\u001b[39;00m \u001b[38;5;21;01mgo\u001b[39;00m\n\u001b[0;32m      3\u001b[0m fig \u001b[38;5;241m=\u001b[39m go\u001b[38;5;241m.\u001b[39mFigure()\n\u001b[0;32m      5\u001b[0m fig\u001b[38;5;241m.\u001b[39madd_trace(go\u001b[38;5;241m.\u001b[39mScatter(\n\u001b[1;32m----> 6\u001b[0m             x\u001b[38;5;241m=\u001b[39m\u001b[43msns_kde\u001b[49m\u001b[38;5;241;43m.\u001b[39;49m\u001b[43mget_lines\u001b[49m\u001b[43m(\u001b[49m\u001b[43m)\u001b[49m\u001b[43m[\u001b[49m\u001b[38;5;241;43m0\u001b[39;49m\u001b[43m]\u001b[49m\u001b[38;5;241m.\u001b[39mget_xdata(),\n\u001b[0;32m      7\u001b[0m             \u001b[38;5;66;03m#x=scatter_data[f'{selected_aspect}Score'],\u001b[39;00m\n\u001b[0;32m      8\u001b[0m             y\u001b[38;5;241m=\u001b[39msns_kde\u001b[38;5;241m.\u001b[39mget_lines()[\u001b[38;5;241m0\u001b[39m]\u001b[38;5;241m.\u001b[39mget_ydata(),\n\u001b[0;32m      9\u001b[0m             mode\u001b[38;5;241m=\u001b[39m\u001b[38;5;124m'\u001b[39m\u001b[38;5;124mlines\u001b[39m\u001b[38;5;124m'\u001b[39m,\n\u001b[0;32m     10\u001b[0m             name\u001b[38;5;241m=\u001b[39msentiment_label,\n\u001b[0;32m     11\u001b[0m             line\u001b[38;5;241m=\u001b[39m\u001b[38;5;28mdict\u001b[39m(color\u001b[38;5;241m=\u001b[39mcolor, width\u001b[38;5;241m=\u001b[39m\u001b[38;5;241m2\u001b[39m),\n\u001b[0;32m     12\u001b[0m             opacity\u001b[38;5;241m=\u001b[39m\u001b[38;5;241m0.7\u001b[39m\n\u001b[0;32m     13\u001b[0m         ))\n",
      "\u001b[1;31mIndexError\u001b[0m: list index out of range"
     ]
    }
   ],
   "source": [
    "import plotly.graph_objects as go\n",
    "\n",
    "fig = go.Figure()\n",
    "\n",
    "fig.add_trace(go.Scatter(\n",
    "            x=sns_kde.get_lines()[0].get_xdata(),\n",
    "            #x=scatter_data[f'{selected_aspect}Score'],\n",
    "            y=sns_kde.get_lines()[0].get_ydata(),\n",
    "            mode='lines',\n",
    "            name=sentiment_label,\n",
    "            line=dict(color=color, width=2),\n",
    "            opacity=0.7\n",
    "        ))"
   ]
  },
  {
   "cell_type": "markdown",
   "id": "eb6e0455-1061-4158-9a85-8d2b72a3b128",
   "metadata": {},
   "source": [
    "### Exploring Headphone Images"
   ]
  },
  {
   "cell_type": "code",
   "execution_count": 33,
   "id": "a3370b44-f276-4841-88b9-d90a428425c5",
   "metadata": {
    "tags": []
   },
   "outputs": [],
   "source": [
    "from PIL import Image\n",
    "import ast\n",
    "import requests\n",
    "from io import BytesIO\n",
    "from IPython.display import Image, display"
   ]
  },
  {
   "cell_type": "code",
   "execution_count": 31,
   "id": "987fc9f4-1475-4ad6-8945-d5cd5110d992",
   "metadata": {
    "tags": []
   },
   "outputs": [],
   "source": [
    "url = ast.literal_eval(prod_descriptions['highResolutionImages'][0])[0]"
   ]
  },
  {
   "cell_type": "code",
   "execution_count": 36,
   "id": "6ffae90a-be73-443f-8478-e0d73a6e9631",
   "metadata": {
    "tags": []
   },
   "outputs": [
    {
     "data": {
      "image/jpeg": "[encoded data removed]",
      "text/plain": [
       "<IPython.core.display.Image object>"
      ]
     },
     "metadata": {},
     "output_type": "display_data"
    }
   ],
   "source": [
    "response = requests.get(url)\n",
    "display(Image(response.content))"
   ]
  },
  {
   "cell_type": "code",
   "execution_count": null,
   "id": "ad5e3231-4175-46b9-a806-78384ee449dd",
   "metadata": {},
   "outputs": [],
   "source": []
  },
  {
   "cell_type": "code",
   "execution_count": null,
   "id": "94bb01a5-a45e-417e-848a-aed2696ab686",
   "metadata": {},
   "outputs": [],
   "source": []
  }
 ],
 "metadata": {
  "kernelspec": {
   "display_name": "Python 3 (ipykernel)",
   "language": "python",
   "name": "python3"
  },
  "language_info": {
   "codemirror_mode": {
    "name": "ipython",
    "version": 3
   },
   "file_extension": ".py",
   "mimetype": "text/x-python",
   "name": "python",
   "nbconvert_exporter": "python",
   "pygments_lexer": "ipython3",
   "version": "3.9.18"
  }
 },
 "nbformat": 4,
 "nbformat_minor": 5
}
